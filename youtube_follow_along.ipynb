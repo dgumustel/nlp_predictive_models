{
 "cells": [
  {
   "cell_type": "markdown",
   "id": "frequent-softball",
   "metadata": {},
   "source": [
    "### Intro\n",
    "\n",
    "This notebook is where I learned to pull in posts from the boardgames subreddit! "
   ]
  },
  {
   "cell_type": "code",
   "execution_count": 146,
   "id": "destroyed-title",
   "metadata": {},
   "outputs": [],
   "source": [
    "import re\n",
    "import requests\n",
    "import pandas as pd\n",
    "import matplotlib.pyplot as plt\n",
    "\n",
    "from sklearn.pipeline import Pipeline\n",
    "from sklearn.model_selection import train_test_split, cross_val_score, GridSearchCV\n",
    "from sklearn.naive_bayes import MultinomialNB, BernoulliNB\n",
    "from sklearn.linear_model import LogisticRegression\n",
    "from sklearn.metrics import confusion_matrix, ConfusionMatrixDisplay\n",
    "from sklearn.feature_extraction.text import CountVectorizer, TfidfVectorizer"
   ]
  },
  {
   "cell_type": "code",
   "execution_count": 2,
   "id": "front-ladder",
   "metadata": {},
   "outputs": [],
   "source": [
    "url = 'https://api.pushshift.io/reddit/search/submission'"
   ]
  },
  {
   "cell_type": "code",
   "execution_count": 54,
   "id": "sweet-mailing",
   "metadata": {},
   "outputs": [],
   "source": [
    "params = {\n",
    "    'subreddit': 'boardgames',\n",
    "    'size': 50,\n",
    "    'before':1615948173\n",
    "}"
   ]
  },
  {
   "cell_type": "code",
   "execution_count": 55,
   "id": "pacific-questionnaire",
   "metadata": {},
   "outputs": [],
   "source": [
    "res = requests.get(url, params)"
   ]
  },
  {
   "cell_type": "code",
   "execution_count": 56,
   "id": "czech-attempt",
   "metadata": {},
   "outputs": [
    {
     "data": {
      "text/plain": [
       "200"
      ]
     },
     "execution_count": 56,
     "metadata": {},
     "output_type": "execute_result"
    }
   ],
   "source": [
    "# check status code\n",
    "res.status_code"
   ]
  },
  {
   "cell_type": "code",
   "execution_count": 57,
   "id": "italic-third",
   "metadata": {},
   "outputs": [],
   "source": [
    "# get content\n",
    "data = res.json()"
   ]
  },
  {
   "cell_type": "code",
   "execution_count": 58,
   "id": "dressed-tunnel",
   "metadata": {},
   "outputs": [],
   "source": [
    "# data['data'] is a list! \n",
    "posts = data['data']"
   ]
  },
  {
   "cell_type": "code",
   "execution_count": 59,
   "id": "german-thunder",
   "metadata": {
    "tags": []
   },
   "outputs": [],
   "source": [
    "# posts[0]"
   ]
  },
  {
   "cell_type": "code",
   "execution_count": 60,
   "id": "similar-grounds",
   "metadata": {},
   "outputs": [
    {
     "data": {
      "text/plain": [
       "50"
      ]
     },
     "execution_count": 60,
     "metadata": {},
     "output_type": "execute_result"
    }
   ],
   "source": [
    "len(posts)"
   ]
  },
  {
   "cell_type": "code",
   "execution_count": 61,
   "id": "aerial-blond",
   "metadata": {},
   "outputs": [],
   "source": [
    "# if you have a list of dictionaries, you have a pandas dataframe! \n",
    "df = pd.DataFrame(posts)"
   ]
  },
  {
   "cell_type": "code",
   "execution_count": 62,
   "id": "continuing-florence",
   "metadata": {},
   "outputs": [],
   "source": [
    "# master_df = df.copy()"
   ]
  },
  {
   "cell_type": "code",
   "execution_count": 63,
   "id": "vocal-niger",
   "metadata": {},
   "outputs": [],
   "source": [
    "frames = [df, master_df]"
   ]
  },
  {
   "cell_type": "code",
   "execution_count": 64,
   "id": "bottom-inspiration",
   "metadata": {},
   "outputs": [],
   "source": [
    "master_df = pd.concat(frames, axis=0, ignore_index=True)"
   ]
  },
  {
   "cell_type": "code",
   "execution_count": 65,
   "id": "discrete-target",
   "metadata": {},
   "outputs": [
    {
     "data": {
      "text/plain": [
       "array(['boardgames', 'oceanography'], dtype=object)"
      ]
     },
     "execution_count": 65,
     "metadata": {},
     "output_type": "execute_result"
    }
   ],
   "source": [
    "master_df['subreddit'].unique()"
   ]
  },
  {
   "cell_type": "code",
   "execution_count": 66,
   "id": "scheduled-genesis",
   "metadata": {},
   "outputs": [
    {
     "data": {
      "text/plain": [
       "(200, 79)"
      ]
     },
     "execution_count": 66,
     "metadata": {},
     "output_type": "execute_result"
    }
   ],
   "source": [
    "master_df.shape"
   ]
  },
  {
   "cell_type": "code",
   "execution_count": 67,
   "id": "demographic-diana",
   "metadata": {},
   "outputs": [
    {
     "data": {
      "text/plain": [
       "200"
      ]
     },
     "execution_count": 67,
     "metadata": {},
     "output_type": "execute_result"
    }
   ],
   "source": [
    "# see how many unique posts you actually have\n",
    "master_df['full_link'].nunique()"
   ]
  },
  {
   "cell_type": "code",
   "execution_count": 77,
   "id": "lesser-simple",
   "metadata": {},
   "outputs": [
    {
     "data": {
      "text/html": [
       "<div>\n",
       "<style scoped>\n",
       "    .dataframe tbody tr th:only-of-type {\n",
       "        vertical-align: middle;\n",
       "    }\n",
       "\n",
       "    .dataframe tbody tr th {\n",
       "        vertical-align: top;\n",
       "    }\n",
       "\n",
       "    .dataframe thead th {\n",
       "        text-align: right;\n",
       "    }\n",
       "</style>\n",
       "<table border=\"1\" class=\"dataframe\">\n",
       "  <thead>\n",
       "    <tr style=\"text-align: right;\">\n",
       "      <th></th>\n",
       "      <th>subreddit</th>\n",
       "      <th>selftext</th>\n",
       "      <th>title</th>\n",
       "    </tr>\n",
       "  </thead>\n",
       "  <tbody>\n",
       "    <tr>\n",
       "      <th>0</th>\n",
       "      <td>boardgames</td>\n",
       "      <td>Is there a way to filter out the backed projec...</td>\n",
       "      <td>Kickstarter App Help</td>\n",
       "    </tr>\n",
       "    <tr>\n",
       "      <th>1</th>\n",
       "      <td>boardgames</td>\n",
       "      <td>With my reinstated love for **Root**, over the...</td>\n",
       "      <td>Which game causes the most table talk?</td>\n",
       "    </tr>\n",
       "    <tr>\n",
       "      <th>2</th>\n",
       "      <td>boardgames</td>\n",
       "      <td>Does anyone have a good recommendation for pla...</td>\n",
       "      <td>Plastic Boxes for Storing Games</td>\n",
       "    </tr>\n",
       "    <tr>\n",
       "      <th>3</th>\n",
       "      <td>boardgames</td>\n",
       "      <td>We failed March objective two for both attempt...</td>\n",
       "      <td>Pandemic Season 0 - March 2nd attempt</td>\n",
       "    </tr>\n",
       "    <tr>\n",
       "      <th>4</th>\n",
       "      <td>boardgames</td>\n",
       "      <td>I have scoured google, BGG, And beyond and hav...</td>\n",
       "      <td>Board games like Escape From Tarkov?</td>\n",
       "    </tr>\n",
       "  </tbody>\n",
       "</table>\n",
       "</div>"
      ],
      "text/plain": [
       "    subreddit                                           selftext  \\\n",
       "0  boardgames  Is there a way to filter out the backed projec...   \n",
       "1  boardgames  With my reinstated love for **Root**, over the...   \n",
       "2  boardgames  Does anyone have a good recommendation for pla...   \n",
       "3  boardgames  We failed March objective two for both attempt...   \n",
       "4  boardgames  I have scoured google, BGG, And beyond and hav...   \n",
       "\n",
       "                                    title  \n",
       "0                    Kickstarter App Help  \n",
       "1  Which game causes the most table talk?  \n",
       "2         Plastic Boxes for Storing Games  \n",
       "3   Pandemic Season 0 - March 2nd attempt  \n",
       "4    Board games like Escape From Tarkov?  "
      ]
     },
     "execution_count": 77,
     "metadata": {},
     "output_type": "execute_result"
    }
   ],
   "source": [
    "master_df[['subreddit', 'selftext', 'title']].head()"
   ]
  },
  {
   "cell_type": "code",
   "execution_count": 79,
   "id": "prompt-alloy",
   "metadata": {},
   "outputs": [
    {
     "data": {
      "text/html": [
       "<div>\n",
       "<style scoped>\n",
       "    .dataframe tbody tr th:only-of-type {\n",
       "        vertical-align: middle;\n",
       "    }\n",
       "\n",
       "    .dataframe tbody tr th {\n",
       "        vertical-align: top;\n",
       "    }\n",
       "\n",
       "    .dataframe thead th {\n",
       "        text-align: right;\n",
       "    }\n",
       "</style>\n",
       "<table border=\"1\" class=\"dataframe\">\n",
       "  <thead>\n",
       "    <tr style=\"text-align: right;\">\n",
       "      <th></th>\n",
       "      <th>subreddit</th>\n",
       "      <th>selftext</th>\n",
       "      <th>title</th>\n",
       "    </tr>\n",
       "  </thead>\n",
       "  <tbody>\n",
       "    <tr>\n",
       "      <th>195</th>\n",
       "      <td>oceanography</td>\n",
       "      <td>I am a senior this year, and on track to gradu...</td>\n",
       "      <td>I want to know where I should go from a BS in ...</td>\n",
       "    </tr>\n",
       "    <tr>\n",
       "      <th>196</th>\n",
       "      <td>oceanography</td>\n",
       "      <td>How would you end up with a sediment layer OLD...</td>\n",
       "      <td>Unusual Sediment Layering</td>\n",
       "    </tr>\n",
       "    <tr>\n",
       "      <th>197</th>\n",
       "      <td>oceanography</td>\n",
       "      <td>I'm a grade 12 student from Canada and I had a...</td>\n",
       "      <td>I want to know more about this career</td>\n",
       "    </tr>\n",
       "    <tr>\n",
       "      <th>198</th>\n",
       "      <td>oceanography</td>\n",
       "      <td>I'm working in a fictional Earth following a c...</td>\n",
       "      <td>Lowering Sea Levels</td>\n",
       "    </tr>\n",
       "    <tr>\n",
       "      <th>199</th>\n",
       "      <td>oceanography</td>\n",
       "      <td></td>\n",
       "      <td>The main line to the crane slipped before it w...</td>\n",
       "    </tr>\n",
       "  </tbody>\n",
       "</table>\n",
       "</div>"
      ],
      "text/plain": [
       "        subreddit                                           selftext  \\\n",
       "195  oceanography  I am a senior this year, and on track to gradu...   \n",
       "196  oceanography  How would you end up with a sediment layer OLD...   \n",
       "197  oceanography  I'm a grade 12 student from Canada and I had a...   \n",
       "198  oceanography  I'm working in a fictional Earth following a c...   \n",
       "199  oceanography                                                      \n",
       "\n",
       "                                                 title  \n",
       "195  I want to know where I should go from a BS in ...  \n",
       "196                          Unusual Sediment Layering  \n",
       "197              I want to know more about this career  \n",
       "198                                Lowering Sea Levels  \n",
       "199  The main line to the crane slipped before it w...  "
      ]
     },
     "execution_count": 79,
     "metadata": {},
     "output_type": "execute_result"
    }
   ],
   "source": [
    "master_df[['subreddit', 'selftext', 'title']].tail()"
   ]
  },
  {
   "cell_type": "code",
   "execution_count": 82,
   "id": "different-david",
   "metadata": {},
   "outputs": [],
   "source": [
    "df_utc_min = df[['created_utc']].min()\n",
    "df_utc_max = df[['created_utc']].max()"
   ]
  },
  {
   "cell_type": "code",
   "execution_count": 83,
   "id": "green-livestock",
   "metadata": {},
   "outputs": [
    {
     "data": {
      "text/plain": [
       "created_utc    1615913663\n",
       "dtype: int64"
      ]
     },
     "execution_count": 83,
     "metadata": {},
     "output_type": "execute_result"
    }
   ],
   "source": [
    "df_utc_min"
   ]
  },
  {
   "cell_type": "markdown",
   "id": "social-titanium",
   "metadata": {},
   "source": [
    "### Prepare data for modeling\n",
    "\n",
    "Things to do here:\n",
    "* grab just the subreddit, selftext, and title\n",
    "* binarize the subreddit column\n",
    "* train_test_split\n",
    "* countvectorize the title and selftext"
   ]
  },
  {
   "cell_type": "code",
   "execution_count": 84,
   "id": "cordless-assault",
   "metadata": {},
   "outputs": [
    {
     "data": {
      "text/html": [
       "<div>\n",
       "<style scoped>\n",
       "    .dataframe tbody tr th:only-of-type {\n",
       "        vertical-align: middle;\n",
       "    }\n",
       "\n",
       "    .dataframe tbody tr th {\n",
       "        vertical-align: top;\n",
       "    }\n",
       "\n",
       "    .dataframe thead th {\n",
       "        text-align: right;\n",
       "    }\n",
       "</style>\n",
       "<table border=\"1\" class=\"dataframe\">\n",
       "  <thead>\n",
       "    <tr style=\"text-align: right;\">\n",
       "      <th></th>\n",
       "      <th>all_awardings</th>\n",
       "      <th>allow_live_comments</th>\n",
       "      <th>author</th>\n",
       "      <th>author_flair_css_class</th>\n",
       "      <th>author_flair_richtext</th>\n",
       "      <th>author_flair_text</th>\n",
       "      <th>author_flair_type</th>\n",
       "      <th>author_fullname</th>\n",
       "      <th>author_patreon_flair</th>\n",
       "      <th>author_premium</th>\n",
       "      <th>...</th>\n",
       "      <th>link_flair_css_class</th>\n",
       "      <th>media</th>\n",
       "      <th>media_embed</th>\n",
       "      <th>secure_media</th>\n",
       "      <th>secure_media_embed</th>\n",
       "      <th>crosspost_parent</th>\n",
       "      <th>crosspost_parent_list</th>\n",
       "      <th>is_gallery</th>\n",
       "      <th>gallery_data</th>\n",
       "      <th>suggested_sort</th>\n",
       "    </tr>\n",
       "  </thead>\n",
       "  <tbody>\n",
       "    <tr>\n",
       "      <th>0</th>\n",
       "      <td>[]</td>\n",
       "      <td>False</td>\n",
       "      <td>Loganthebard</td>\n",
       "      <td>None</td>\n",
       "      <td>[]</td>\n",
       "      <td>None</td>\n",
       "      <td>text</td>\n",
       "      <td>t2_nmr8i</td>\n",
       "      <td>False</td>\n",
       "      <td>False</td>\n",
       "      <td>...</td>\n",
       "      <td>NaN</td>\n",
       "      <td>NaN</td>\n",
       "      <td>NaN</td>\n",
       "      <td>NaN</td>\n",
       "      <td>NaN</td>\n",
       "      <td>NaN</td>\n",
       "      <td>NaN</td>\n",
       "      <td>NaN</td>\n",
       "      <td>NaN</td>\n",
       "      <td>NaN</td>\n",
       "    </tr>\n",
       "    <tr>\n",
       "      <th>1</th>\n",
       "      <td>[]</td>\n",
       "      <td>False</td>\n",
       "      <td>LittleBlueCubes</td>\n",
       "      <td>hansa-teutonica</td>\n",
       "      <td>[{'e': 'text', 't': '... but it is the goal th...</td>\n",
       "      <td>... but it is the goal that is important, not ...</td>\n",
       "      <td>richtext</td>\n",
       "      <td>t2_14cw5j</td>\n",
       "      <td>False</td>\n",
       "      <td>False</td>\n",
       "      <td>...</td>\n",
       "      <td>NaN</td>\n",
       "      <td>NaN</td>\n",
       "      <td>NaN</td>\n",
       "      <td>NaN</td>\n",
       "      <td>NaN</td>\n",
       "      <td>NaN</td>\n",
       "      <td>NaN</td>\n",
       "      <td>NaN</td>\n",
       "      <td>NaN</td>\n",
       "      <td>NaN</td>\n",
       "    </tr>\n",
       "    <tr>\n",
       "      <th>2</th>\n",
       "      <td>[]</td>\n",
       "      <td>False</td>\n",
       "      <td>FooBard3d</td>\n",
       "      <td>None</td>\n",
       "      <td>[]</td>\n",
       "      <td>None</td>\n",
       "      <td>text</td>\n",
       "      <td>t2_4kiqjqgo</td>\n",
       "      <td>False</td>\n",
       "      <td>False</td>\n",
       "      <td>...</td>\n",
       "      <td>NaN</td>\n",
       "      <td>NaN</td>\n",
       "      <td>NaN</td>\n",
       "      <td>NaN</td>\n",
       "      <td>NaN</td>\n",
       "      <td>NaN</td>\n",
       "      <td>NaN</td>\n",
       "      <td>NaN</td>\n",
       "      <td>NaN</td>\n",
       "      <td>NaN</td>\n",
       "    </tr>\n",
       "    <tr>\n",
       "      <th>3</th>\n",
       "      <td>[]</td>\n",
       "      <td>False</td>\n",
       "      <td>Wahdey2</td>\n",
       "      <td>None</td>\n",
       "      <td>[]</td>\n",
       "      <td>None</td>\n",
       "      <td>text</td>\n",
       "      <td>t2_3u5gszs1</td>\n",
       "      <td>False</td>\n",
       "      <td>False</td>\n",
       "      <td>...</td>\n",
       "      <td>NaN</td>\n",
       "      <td>NaN</td>\n",
       "      <td>NaN</td>\n",
       "      <td>NaN</td>\n",
       "      <td>NaN</td>\n",
       "      <td>NaN</td>\n",
       "      <td>NaN</td>\n",
       "      <td>NaN</td>\n",
       "      <td>NaN</td>\n",
       "      <td>NaN</td>\n",
       "    </tr>\n",
       "    <tr>\n",
       "      <th>4</th>\n",
       "      <td>[]</td>\n",
       "      <td>False</td>\n",
       "      <td>Harryibeamer</td>\n",
       "      <td>None</td>\n",
       "      <td>[]</td>\n",
       "      <td>None</td>\n",
       "      <td>text</td>\n",
       "      <td>t2_9po647v7</td>\n",
       "      <td>False</td>\n",
       "      <td>False</td>\n",
       "      <td>...</td>\n",
       "      <td>NaN</td>\n",
       "      <td>NaN</td>\n",
       "      <td>NaN</td>\n",
       "      <td>NaN</td>\n",
       "      <td>NaN</td>\n",
       "      <td>NaN</td>\n",
       "      <td>NaN</td>\n",
       "      <td>NaN</td>\n",
       "      <td>NaN</td>\n",
       "      <td>NaN</td>\n",
       "    </tr>\n",
       "  </tbody>\n",
       "</table>\n",
       "<p>5 rows × 79 columns</p>\n",
       "</div>"
      ],
      "text/plain": [
       "  all_awardings  allow_live_comments           author author_flair_css_class  \\\n",
       "0            []                False     Loganthebard                   None   \n",
       "1            []                False  LittleBlueCubes        hansa-teutonica   \n",
       "2            []                False        FooBard3d                   None   \n",
       "3            []                False          Wahdey2                   None   \n",
       "4            []                False     Harryibeamer                   None   \n",
       "\n",
       "                               author_flair_richtext  \\\n",
       "0                                                 []   \n",
       "1  [{'e': 'text', 't': '... but it is the goal th...   \n",
       "2                                                 []   \n",
       "3                                                 []   \n",
       "4                                                 []   \n",
       "\n",
       "                                   author_flair_text author_flair_type  \\\n",
       "0                                               None              text   \n",
       "1  ... but it is the goal that is important, not ...          richtext   \n",
       "2                                               None              text   \n",
       "3                                               None              text   \n",
       "4                                               None              text   \n",
       "\n",
       "  author_fullname  author_patreon_flair  author_premium  ...  \\\n",
       "0        t2_nmr8i                 False           False  ...   \n",
       "1       t2_14cw5j                 False           False  ...   \n",
       "2     t2_4kiqjqgo                 False           False  ...   \n",
       "3     t2_3u5gszs1                 False           False  ...   \n",
       "4     t2_9po647v7                 False           False  ...   \n",
       "\n",
       "  link_flair_css_class  media  media_embed  secure_media secure_media_embed  \\\n",
       "0                  NaN    NaN          NaN           NaN                NaN   \n",
       "1                  NaN    NaN          NaN           NaN                NaN   \n",
       "2                  NaN    NaN          NaN           NaN                NaN   \n",
       "3                  NaN    NaN          NaN           NaN                NaN   \n",
       "4                  NaN    NaN          NaN           NaN                NaN   \n",
       "\n",
       "  crosspost_parent crosspost_parent_list is_gallery  gallery_data  \\\n",
       "0              NaN                   NaN        NaN           NaN   \n",
       "1              NaN                   NaN        NaN           NaN   \n",
       "2              NaN                   NaN        NaN           NaN   \n",
       "3              NaN                   NaN        NaN           NaN   \n",
       "4              NaN                   NaN        NaN           NaN   \n",
       "\n",
       "   suggested_sort  \n",
       "0             NaN  \n",
       "1             NaN  \n",
       "2             NaN  \n",
       "3             NaN  \n",
       "4             NaN  \n",
       "\n",
       "[5 rows x 79 columns]"
      ]
     },
     "execution_count": 84,
     "metadata": {},
     "output_type": "execute_result"
    }
   ],
   "source": [
    "master_df.head()"
   ]
  },
  {
   "cell_type": "code",
   "execution_count": 114,
   "id": "other-system",
   "metadata": {},
   "outputs": [],
   "source": [
    "text_df = master_df[['subreddit', 'selftext']].copy()"
   ]
  },
  {
   "cell_type": "code",
   "execution_count": 115,
   "id": "changing-spread",
   "metadata": {},
   "outputs": [
    {
     "data": {
      "text/html": [
       "<div>\n",
       "<style scoped>\n",
       "    .dataframe tbody tr th:only-of-type {\n",
       "        vertical-align: middle;\n",
       "    }\n",
       "\n",
       "    .dataframe tbody tr th {\n",
       "        vertical-align: top;\n",
       "    }\n",
       "\n",
       "    .dataframe thead th {\n",
       "        text-align: right;\n",
       "    }\n",
       "</style>\n",
       "<table border=\"1\" class=\"dataframe\">\n",
       "  <thead>\n",
       "    <tr style=\"text-align: right;\">\n",
       "      <th></th>\n",
       "      <th>subreddit</th>\n",
       "      <th>selftext</th>\n",
       "    </tr>\n",
       "  </thead>\n",
       "  <tbody>\n",
       "    <tr>\n",
       "      <th>0</th>\n",
       "      <td>boardgames</td>\n",
       "      <td>Is there a way to filter out the backed projec...</td>\n",
       "    </tr>\n",
       "    <tr>\n",
       "      <th>1</th>\n",
       "      <td>boardgames</td>\n",
       "      <td>With my reinstated love for **Root**, over the...</td>\n",
       "    </tr>\n",
       "    <tr>\n",
       "      <th>2</th>\n",
       "      <td>boardgames</td>\n",
       "      <td>Does anyone have a good recommendation for pla...</td>\n",
       "    </tr>\n",
       "    <tr>\n",
       "      <th>3</th>\n",
       "      <td>boardgames</td>\n",
       "      <td>We failed March objective two for both attempt...</td>\n",
       "    </tr>\n",
       "    <tr>\n",
       "      <th>4</th>\n",
       "      <td>boardgames</td>\n",
       "      <td>I have scoured google, BGG, And beyond and hav...</td>\n",
       "    </tr>\n",
       "    <tr>\n",
       "      <th>...</th>\n",
       "      <td>...</td>\n",
       "      <td>...</td>\n",
       "    </tr>\n",
       "    <tr>\n",
       "      <th>195</th>\n",
       "      <td>oceanography</td>\n",
       "      <td>I am a senior this year, and on track to gradu...</td>\n",
       "    </tr>\n",
       "    <tr>\n",
       "      <th>196</th>\n",
       "      <td>oceanography</td>\n",
       "      <td>How would you end up with a sediment layer OLD...</td>\n",
       "    </tr>\n",
       "    <tr>\n",
       "      <th>197</th>\n",
       "      <td>oceanography</td>\n",
       "      <td>I'm a grade 12 student from Canada and I had a...</td>\n",
       "    </tr>\n",
       "    <tr>\n",
       "      <th>198</th>\n",
       "      <td>oceanography</td>\n",
       "      <td>I'm working in a fictional Earth following a c...</td>\n",
       "    </tr>\n",
       "    <tr>\n",
       "      <th>199</th>\n",
       "      <td>oceanography</td>\n",
       "      <td></td>\n",
       "    </tr>\n",
       "  </tbody>\n",
       "</table>\n",
       "<p>200 rows × 2 columns</p>\n",
       "</div>"
      ],
      "text/plain": [
       "        subreddit                                           selftext\n",
       "0      boardgames  Is there a way to filter out the backed projec...\n",
       "1      boardgames  With my reinstated love for **Root**, over the...\n",
       "2      boardgames  Does anyone have a good recommendation for pla...\n",
       "3      boardgames  We failed March objective two for both attempt...\n",
       "4      boardgames  I have scoured google, BGG, And beyond and hav...\n",
       "..            ...                                                ...\n",
       "195  oceanography  I am a senior this year, and on track to gradu...\n",
       "196  oceanography  How would you end up with a sediment layer OLD...\n",
       "197  oceanography  I'm a grade 12 student from Canada and I had a...\n",
       "198  oceanography  I'm working in a fictional Earth following a c...\n",
       "199  oceanography                                                   \n",
       "\n",
       "[200 rows x 2 columns]"
      ]
     },
     "execution_count": 115,
     "metadata": {},
     "output_type": "execute_result"
    }
   ],
   "source": [
    "text_df"
   ]
  },
  {
   "cell_type": "code",
   "execution_count": 125,
   "id": "dirty-confidentiality",
   "metadata": {},
   "outputs": [
    {
     "data": {
      "text/plain": [
       "'I own a board game cafe  \\\\\\\\ FLGS and got this email from Asmodee today.  So, I lose even *more* margins on your products (your wholesale \"discount\" is already one of the worst in the industry), or I have the option to go all-in and make my bed with you, further justifying these bullshit business practices?  Fuck you you greedy fucks.       Dear Flagship Account Holder,   Please accept this as notice of the following changes that will apply to all Flagship Accounts.     * Beginning April 1, 2021,       * There will be a flat rate cost for shipping of twenty-five USD  ($25.00). This rate applies regardless of the order size or weight. * Beginning May 1, 2021:       * The discount rate for all Flagship Accounts will decrease by four percent (4%).    * There will be a two-and-one-half percent (2.5%) fee when a credit  card is used to pay invoices (except where prohibited by law). There is  no fee when paid via ACH bank transfer or by check. * Beginning June 1, 2021:       * All accounts will be prohibited from offering ANA products on the  Amazon marketplace. Consequently, any issued Amazon Authorization  letters will be considered void as of June 1, 2021. Sales on other  marketplaces and from retailer owned websites are not affected.  We are excited to announce the rejuvenation of our Best Sellers  program. The Best Sellers program is available to Flagship accounts and  includes the 40 best-selling titles in our portfolio. The program is  designed to let retailers easily identify, stock, and sell the games  that give them the best return on investment and to grow their business.  Features of the program include:      * Complimentary display rack * Point-of-sale materials * Two (2) free games\\\\* each month * Free shipping on all orders * No minimum order amounts * An extra one percent (1%) discount on all orders  \\\\*Some product restrictions may apply.   We appreciate your business and look forward to serving you in the  future. If you have any questions or concerns or would like to join the  Best Sellers Program, please reach out to your Account Representative.        Sincerely,     Asmodee USA'"
      ]
     },
     "execution_count": 125,
     "metadata": {},
     "output_type": "execute_result"
    }
   ],
   "source": [
    "text_df.iloc[10][1]"
   ]
  },
  {
   "cell_type": "code",
   "execution_count": 122,
   "id": "given-pressing",
   "metadata": {},
   "outputs": [
    {
     "data": {
      "text/plain": [
       "\"Hey r/boardgames! Our podcast [Dice Pirates] (https://podcasts.apple.com/us/podcast/the-dice-pirates/id1533877181) is going to be covering the legacy of Fantasy Flight Games, and the issues that seem to be plaguing them in recent years.\\n\\nAsmodee's purchase of Fantasy Flight Games in 2014 in retrospect feels like the beginning of the problems for the company, and the departure in recent years of Christian Peterson and other long-time employees, as well as the reported layoffs are very troubling.\\n\\nFFG has long had a history of publishing fantastic games, and providing support and backing to them for quite some time, regardless of whether the game was widely acclaimed, Runebound being a good example here. Lately however FFG seems to be primarily focused on their licensed products such as Star Wars, Marvel, and Arkham Horror. \\n\\nFor a company that produced and supported so many fantastic and unique board games, and that championed the LCG concept, it is sad to see them moving to a more corporate position.\\n\\nWhile it feels like most of the blame could be focused on Asmodee, we'd love to hear your thoughts on FFG, and where things may have started to change for them. Or if you even think they've declined at all! FFG still produce some fantastic games, and while they may have moved away from some of their more unique games, they still put out good products and continue to support several of their larger products. \\n\\nWe love FFG, and a lot of their games, Twilight Imperium is still a favorite for vacation days, and we keep revisiting their games. How do you guys feel about FFG?\""
      ]
     },
     "execution_count": 122,
     "metadata": {},
     "output_type": "execute_result"
    }
   ],
   "source": [
    "text_df.iloc[5][1]"
   ]
  },
  {
   "cell_type": "code",
   "execution_count": 123,
   "id": "comparable-health",
   "metadata": {},
   "outputs": [],
   "source": [
    "#https://stackoverflow.com/questions/44227748/removing-newlines-from-messy-strings-in-pandas-dataframe-cells\n",
    "text_df.replace(to_replace=[r\"\\\\t|\\\\n|\\\\r\", \"\\t|\\n|\\r\"], value=[\" \",\" \"], regex=True, inplace=True) "
   ]
  },
  {
   "cell_type": "code",
   "execution_count": 124,
   "id": "cardiovascular-newcastle",
   "metadata": {},
   "outputs": [
    {
     "data": {
      "text/plain": [
       "\"Hey r/boardgames! Our podcast [Dice Pirates] (https://podcasts.apple.com/us/podcast/the-dice-pirates/id1533877181) is going to be covering the legacy of Fantasy Flight Games, and the issues that seem to be plaguing them in recent years.  Asmodee's purchase of Fantasy Flight Games in 2014 in retrospect feels like the beginning of the problems for the company, and the departure in recent years of Christian Peterson and other long-time employees, as well as the reported layoffs are very troubling.  FFG has long had a history of publishing fantastic games, and providing support and backing to them for quite some time, regardless of whether the game was widely acclaimed, Runebound being a good example here. Lately however FFG seems to be primarily focused on their licensed products such as Star Wars, Marvel, and Arkham Horror.   For a company that produced and supported so many fantastic and unique board games, and that championed the LCG concept, it is sad to see them moving to a more corporate position.  While it feels like most of the blame could be focused on Asmodee, we'd love to hear your thoughts on FFG, and where things may have started to change for them. Or if you even think they've declined at all! FFG still produce some fantastic games, and while they may have moved away from some of their more unique games, they still put out good products and continue to support several of their larger products.   We love FFG, and a lot of their games, Twilight Imperium is still a favorite for vacation days, and we keep revisiting their games. How do you guys feel about FFG?\""
      ]
     },
     "execution_count": 124,
     "metadata": {},
     "output_type": "execute_result"
    }
   ],
   "source": [
    "text_df.iloc[5][1]"
   ]
  },
  {
   "cell_type": "code",
   "execution_count": 126,
   "id": "accepting-indicator",
   "metadata": {},
   "outputs": [
    {
     "data": {
      "text/html": [
       "<div>\n",
       "<style scoped>\n",
       "    .dataframe tbody tr th:only-of-type {\n",
       "        vertical-align: middle;\n",
       "    }\n",
       "\n",
       "    .dataframe tbody tr th {\n",
       "        vertical-align: top;\n",
       "    }\n",
       "\n",
       "    .dataframe thead th {\n",
       "        text-align: right;\n",
       "    }\n",
       "</style>\n",
       "<table border=\"1\" class=\"dataframe\">\n",
       "  <thead>\n",
       "    <tr style=\"text-align: right;\">\n",
       "      <th></th>\n",
       "      <th>subreddit</th>\n",
       "      <th>selftext</th>\n",
       "    </tr>\n",
       "  </thead>\n",
       "  <tbody>\n",
       "    <tr>\n",
       "      <th>0</th>\n",
       "      <td>0</td>\n",
       "      <td>Is there a way to filter out the backed projec...</td>\n",
       "    </tr>\n",
       "    <tr>\n",
       "      <th>1</th>\n",
       "      <td>0</td>\n",
       "      <td>With my reinstated love for **Root**, over the...</td>\n",
       "    </tr>\n",
       "    <tr>\n",
       "      <th>2</th>\n",
       "      <td>0</td>\n",
       "      <td>Does anyone have a good recommendation for pla...</td>\n",
       "    </tr>\n",
       "    <tr>\n",
       "      <th>3</th>\n",
       "      <td>0</td>\n",
       "      <td>We failed March objective two for both attempt...</td>\n",
       "    </tr>\n",
       "    <tr>\n",
       "      <th>4</th>\n",
       "      <td>0</td>\n",
       "      <td>I have scoured google, BGG, And beyond and hav...</td>\n",
       "    </tr>\n",
       "    <tr>\n",
       "      <th>...</th>\n",
       "      <td>...</td>\n",
       "      <td>...</td>\n",
       "    </tr>\n",
       "    <tr>\n",
       "      <th>195</th>\n",
       "      <td>1</td>\n",
       "      <td>I am a senior this year, and on track to gradu...</td>\n",
       "    </tr>\n",
       "    <tr>\n",
       "      <th>196</th>\n",
       "      <td>1</td>\n",
       "      <td>How would you end up with a sediment layer OLD...</td>\n",
       "    </tr>\n",
       "    <tr>\n",
       "      <th>197</th>\n",
       "      <td>1</td>\n",
       "      <td>I'm a grade 12 student from Canada and I had a...</td>\n",
       "    </tr>\n",
       "    <tr>\n",
       "      <th>198</th>\n",
       "      <td>1</td>\n",
       "      <td>I'm working in a fictional Earth following a c...</td>\n",
       "    </tr>\n",
       "    <tr>\n",
       "      <th>199</th>\n",
       "      <td>1</td>\n",
       "      <td></td>\n",
       "    </tr>\n",
       "  </tbody>\n",
       "</table>\n",
       "<p>200 rows × 2 columns</p>\n",
       "</div>"
      ],
      "text/plain": [
       "     subreddit                                           selftext\n",
       "0            0  Is there a way to filter out the backed projec...\n",
       "1            0  With my reinstated love for **Root**, over the...\n",
       "2            0  Does anyone have a good recommendation for pla...\n",
       "3            0  We failed March objective two for both attempt...\n",
       "4            0  I have scoured google, BGG, And beyond and hav...\n",
       "..         ...                                                ...\n",
       "195          1  I am a senior this year, and on track to gradu...\n",
       "196          1  How would you end up with a sediment layer OLD...\n",
       "197          1  I'm a grade 12 student from Canada and I had a...\n",
       "198          1  I'm working in a fictional Earth following a c...\n",
       "199          1                                                   \n",
       "\n",
       "[200 rows x 2 columns]"
      ]
     },
     "execution_count": 126,
     "metadata": {},
     "output_type": "execute_result"
    }
   ],
   "source": [
    "text_df['subreddit'] = text_df['subreddit'].map({'oceanography':1,'boardgames':0})\n",
    "text_df"
   ]
  },
  {
   "cell_type": "code",
   "execution_count": 127,
   "id": "standing-grammar",
   "metadata": {},
   "outputs": [],
   "source": [
    "#features = [col for col in text_df.columns if col != 'subreddit']\n",
    "X = text_df['selftext']\n",
    "y = text_df['subreddit']"
   ]
  },
  {
   "cell_type": "code",
   "execution_count": 128,
   "id": "missing-nickel",
   "metadata": {},
   "outputs": [
    {
     "data": {
      "text/plain": [
       "0      Is there a way to filter out the backed projec...\n",
       "1      With my reinstated love for **Root**, over the...\n",
       "2      Does anyone have a good recommendation for pla...\n",
       "3      We failed March objective two for both attempt...\n",
       "4      I have scoured google, BGG, And beyond and hav...\n",
       "                             ...                        \n",
       "195    I am a senior this year, and on track to gradu...\n",
       "196    How would you end up with a sediment layer OLD...\n",
       "197    I'm a grade 12 student from Canada and I had a...\n",
       "198    I'm working in a fictional Earth following a c...\n",
       "199                                                     \n",
       "Name: selftext, Length: 200, dtype: object"
      ]
     },
     "execution_count": 128,
     "metadata": {},
     "output_type": "execute_result"
    }
   ],
   "source": [
    "X"
   ]
  },
  {
   "cell_type": "code",
   "execution_count": 129,
   "id": "virtual-coordinator",
   "metadata": {},
   "outputs": [
    {
     "data": {
      "text/plain": [
       "0    0.5\n",
       "1    0.5\n",
       "Name: subreddit, dtype: float64"
      ]
     },
     "execution_count": 129,
     "metadata": {},
     "output_type": "execute_result"
    }
   ],
   "source": [
    "y.value_counts(normalize=True)"
   ]
  },
  {
   "cell_type": "code",
   "execution_count": 130,
   "id": "cooked-henry",
   "metadata": {},
   "outputs": [],
   "source": [
    "X_train, X_test, y_train, y_test = train_test_split(X, y, \n",
    "                                                    random_state = 42, \n",
    "                                                    stratify = y)"
   ]
  },
  {
   "cell_type": "code",
   "execution_count": 131,
   "id": "formal-liver",
   "metadata": {},
   "outputs": [
    {
     "data": {
      "text/plain": [
       "0    75\n",
       "1    75\n",
       "Name: subreddit, dtype: int64"
      ]
     },
     "execution_count": 131,
     "metadata": {},
     "output_type": "execute_result"
    }
   ],
   "source": [
    "y_train.value_counts()"
   ]
  },
  {
   "cell_type": "markdown",
   "id": "adopted-stomach",
   "metadata": {},
   "source": [
    "### CountVectorizer"
   ]
  },
  {
   "cell_type": "code",
   "execution_count": 132,
   "id": "accompanied-brazilian",
   "metadata": {},
   "outputs": [],
   "source": [
    "cvec = CountVectorizer()"
   ]
  },
  {
   "cell_type": "code",
   "execution_count": 133,
   "id": "sensitive-robin",
   "metadata": {},
   "outputs": [
    {
     "data": {
      "text/plain": [
       "CountVectorizer()"
      ]
     },
     "execution_count": 133,
     "metadata": {},
     "output_type": "execute_result"
    }
   ],
   "source": [
    "cvec.fit(X_train)"
   ]
  },
  {
   "cell_type": "code",
   "execution_count": 134,
   "id": "massive-workplace",
   "metadata": {},
   "outputs": [],
   "source": [
    "X_train = cvec.transform(X_train)"
   ]
  },
  {
   "cell_type": "code",
   "execution_count": 136,
   "id": "thick-contamination",
   "metadata": {},
   "outputs": [
    {
     "data": {
      "text/plain": [
       "['heard',\n",
       " 'hearing',\n",
       " 'heat',\n",
       " 'heating',\n",
       " 'heavy',\n",
       " 'height',\n",
       " 'heights',\n",
       " 'hello',\n",
       " 'help',\n",
       " 'helped',\n",
       " 'helpful',\n",
       " 'helps',\n",
       " 'hence',\n",
       " 'her',\n",
       " 'here',\n",
       " 'hesitant',\n",
       " 'hey',\n",
       " 'hi',\n",
       " 'hideout',\n",
       " 'high',\n",
       " 'higher',\n",
       " 'highest',\n",
       " 'highly',\n",
       " 'him',\n",
       " 'hiring',\n",
       " 'his',\n",
       " 'historic',\n",
       " 'history',\n",
       " 'hits',\n",
       " 'hogwarts',\n",
       " 'holder',\n",
       " 'hole',\n",
       " 'home',\n",
       " 'honestly',\n",
       " 'hope',\n",
       " 'hoped',\n",
       " 'hopeful',\n",
       " 'hopefully',\n",
       " 'hoping',\n",
       " 'hor',\n",
       " 'horizontal',\n",
       " 'horror',\n",
       " 'hosting',\n",
       " 'house',\n",
       " 'hov',\n",
       " 'hovs',\n",
       " 'how',\n",
       " 'howdy',\n",
       " 'however',\n",
       " 'hs']"
      ]
     },
     "execution_count": 136,
     "metadata": {},
     "output_type": "execute_result"
    }
   ],
   "source": [
    "cvec.get_feature_names()[1000:1050]"
   ]
  },
  {
   "cell_type": "code",
   "execution_count": 137,
   "id": "danish-coaching",
   "metadata": {},
   "outputs": [],
   "source": [
    "X_test = cvec.transform(X_test)"
   ]
  },
  {
   "cell_type": "code",
   "execution_count": 143,
   "id": "brazilian-method",
   "metadata": {},
   "outputs": [
    {
     "data": {
      "image/png": "[encoded data removed]",
      "text/plain": [
       "<Figure size 432x288 with 1 Axes>"
      ]
     },
     "metadata": {
      "needs_background": "light"
     },
     "output_type": "display_data"
    }
   ],
   "source": [
    "X_train_df = pd.DataFrame(X_train.todense(),\n",
    "                         columns = cvec.get_feature_names())\n",
    "\n",
    "X_train_df.sum().sort_values(ascending=False).head(10).plot(kind='barh');"
   ]
  },
  {
   "cell_type": "code",
   "execution_count": 144,
   "id": "careful-pride",
   "metadata": {},
   "outputs": [
    {
     "data": {
      "image/png": "[encoded data removed]",
      "text/plain": [
       "<Figure size 432x288 with 1 Axes>"
      ]
     },
     "metadata": {
      "needs_background": "light"
     },
     "output_type": "display_data"
    }
   ],
   "source": [
    "X_train_df.sum().sort_values(ascending=True).head(10).plot(kind='barh');"
   ]
  },
  {
   "cell_type": "code",
   "execution_count": 145,
   "id": "distinguished-storage",
   "metadata": {},
   "outputs": [
    {
     "name": "stdout",
     "output_type": "stream",
     "text": [
      "frozenset({'an', 'get', 'per', 'will', 'anything', 'while', 'that', 'behind', 'bill', 'namely', 'them', 'cant', 'sometime', 'front', 'her', 'fill', 'last', 'everything', 'mostly', 'could', 'beside', 'eight', 'noone', 'ie', 'yourself', 'must', 'amongst', 'former', 'everywhere', 'against', 'do', 'next', 'else', 'out', 'because', 'everyone', 'no', 'although', 'either', 'both', 'un', 'afterwards', 'moreover', 'on', 'due', 'upon', 'none', 'first', 'six', 'nevertheless', 'third', 'con', 'any', 'almost', 'was', 'here', 'own', 'whereupon', 'across', 'many', 'keep', 'sometimes', 'nor', 'besides', 'become', 'less', 'after', 'top', 'latterly', 'call', 'what', 'describe', 'please', 'which', 'give', 'though', 'into', 're', 'ltd', 'already', 'something', 'seeming', 'seemed', 'then', 'anyone', 'herself', 'without', 'always', 'above', 'can', 'who', 'once', 'anyway', 'might', 'me', 'yourselves', 'eleven', 'side', 'as', 'thin', 'over', 'however', 'beforehand', 'around', 'themselves', 'its', 'couldnt', 'fire', 'never', 'show', 'find', 'by', 'now', 'amoungst', 'bottom', 'done', 'via', 'for', 'him', 'this', 'even', 'whole', 'alone', 'among', 'beyond', 'detail', 'about', 'most', 'two', 'under', 'empty', 'nobody', 'onto', 'within', 'ours', 'made', 'together', 'since', 'such', 'whither', 'she', 'anyhow', 'often', 'also', 'again', 'ten', 'your', 'thence', 'much', 'throughout', 'how', 'several', 'becomes', 'put', 'thereafter', 'they', 'whereby', 'their', 'otherwise', 'toward', 'cannot', 'between', 'the', 'found', 'mill', 'may', 'myself', 'twelve', 'same', 'hundred', 'whoever', 'whom', 'i', 'every', 'not', 'along', 'wherever', 'move', 'should', 'someone', 'except', 'but', 'back', 'he', 'formerly', 'itself', 'hasnt', 'few', 'there', 'other', 'inc', 'neither', 'been', 'these', 'at', 'hers', 'off', 'etc', 'each', 'mine', 'thereupon', 'why', 'our', 'below', 'seem', 'whence', 'had', 'my', 'ourselves', 'four', 'ever', 'de', 'somehow', 'further', 'it', 'his', 'so', 'fifteen', 'meanwhile', 'in', 'cry', 'system', 'you', 'to', 'go', 'thick', 'latter', 'before', 'least', 'serious', 'be', 'became', 'five', 'whether', 'well', 'hence', 'forty', 'thru', 'rather', 'more', 'were', 'where', 'nothing', 'we', 'down', 'during', 'through', 'some', 'twenty', 'very', 'would', 'only', 'becoming', 'are', 'whereas', 'fifty', 'indeed', 'himself', 'of', 'until', 'than', 'am', 'part', 'still', 'towards', 'others', 'those', 'hereby', 'therein', 'sincere', 'hereupon', 'seems', 'is', 'yet', 'herein', 'a', 'whatever', 'hereafter', 'and', 'perhaps', 'nowhere', 'whenever', 'has', 'take', 'whose', 'whereafter', 'enough', 'thus', 'too', 'us', 'up', 'from', 'co', 'or', 'being', 'another', 'see', 'all', 'one', 'sixty', 'have', 'if', 'three', 'yours', 'with', 'elsewhere', 'name', 'interest', 'full', 'amount', 'anywhere', 'thereby', 'wherein', 'when', 'somewhere', 'therefore', 'eg', 'nine'})\n"
     ]
    }
   ],
   "source": [
    "print(CountVectorizer(stop_words='english').get_stop_words())"
   ]
  },
  {
   "cell_type": "code",
   "execution_count": 169,
   "id": "nutritional-entry",
   "metadata": {},
   "outputs": [],
   "source": [
    "# Redefine training and testing sets.\n",
    "X_train, X_test, y_train, y_test = train_test_split(X,\n",
    "                                                    y,\n",
    "                                                    test_size=0.33,\n",
    "                                                    stratify=y,\n",
    "                                                    random_state=42)"
   ]
  },
  {
   "cell_type": "code",
   "execution_count": 170,
   "id": "sacred-modem",
   "metadata": {},
   "outputs": [
    {
     "data": {
      "text/plain": [
       "125    Hello, I am an aerospace engineer learning abo...\n",
       "40                                                      \n",
       "15                                                      \n",
       "43     Came into some extra cash and looking to add o...\n",
       "0      Is there a way to filter out the backed projec...\n",
       "                             ...                        \n",
       "179    I know it varies from species to species but I...\n",
       "17     I saw a video on [Quackalope's Youtube channel...\n",
       "144    Yesterday I went swimming in a New Jersey beac...\n",
       "135                                                     \n",
       "170    Hi   Lets say a substance has a 5 million year...\n",
       "Name: selftext, Length: 134, dtype: object"
      ]
     },
     "execution_count": 170,
     "metadata": {},
     "output_type": "execute_result"
    }
   ],
   "source": [
    "X_train"
   ]
  },
  {
   "cell_type": "markdown",
   "id": "geological-terrace",
   "metadata": {},
   "source": [
    "### Combine GridSearchCV and Bernoulli Naive Bayes model"
   ]
  },
  {
   "cell_type": "code",
   "execution_count": 171,
   "id": "higher-biotechnology",
   "metadata": {},
   "outputs": [],
   "source": [
    "pipe = Pipeline([\n",
    "    ('cvec', CountVectorizer()),\n",
    "    ('nb', BernoulliNB())\n",
    "])"
   ]
  },
  {
   "cell_type": "code",
   "execution_count": 172,
   "id": "twenty-effort",
   "metadata": {},
   "outputs": [],
   "source": [
    "pipe_params = {\n",
    "    'cvec__max_features':[2000, 3000, 4000, 5000],\n",
    "    'cvec__min_df':[2, 3],\n",
    "    'cvec__max_df':[.9, .95],\n",
    "    'cvec__ngram_range':[(1, 1), (1, 2)]\n",
    "}"
   ]
  },
  {
   "cell_type": "code",
   "execution_count": 173,
   "id": "informative-standard",
   "metadata": {},
   "outputs": [],
   "source": [
    "gs = GridSearchCV(pipe, param_grid = pipe_params, cv = 5)"
   ]
  },
  {
   "cell_type": "code",
   "execution_count": 174,
   "id": "together-rubber",
   "metadata": {
    "tags": []
   },
   "outputs": [
    {
     "data": {
      "text/plain": [
       "GridSearchCV(cv=5,\n",
       "             estimator=Pipeline(steps=[('cvec', CountVectorizer()),\n",
       "                                       ('nb', BernoulliNB())]),\n",
       "             param_grid={'cvec__max_df': [0.9, 0.95],\n",
       "                         'cvec__max_features': [2000, 3000, 4000, 5000],\n",
       "                         'cvec__min_df': [2, 3],\n",
       "                         'cvec__ngram_range': [(1, 1), (1, 2)]})"
      ]
     },
     "execution_count": 174,
     "metadata": {},
     "output_type": "execute_result"
    }
   ],
   "source": [
    "gs.fit(X_train, y_train)"
   ]
  },
  {
   "cell_type": "code",
   "execution_count": 175,
   "id": "reduced-serum",
   "metadata": {},
   "outputs": [
    {
     "name": "stdout",
     "output_type": "stream",
     "text": [
      "0.6871794871794872\n",
      "train accuracy: 0.7835820895522388\n",
      "test accuracy: 0.7575757575757576\n"
     ]
    }
   ],
   "source": [
    "gs.fit(X_train, y_train)\n",
    "\n",
    "print(gs.best_score_)\n",
    "\n",
    "print('train accuracy:', gs.score(X_train, y_train))\n",
    "\n",
    "print('test accuracy:', gs.score(X_test, y_test))"
   ]
  },
  {
   "cell_type": "code",
   "execution_count": 176,
   "id": "electric-movie",
   "metadata": {},
   "outputs": [],
   "source": [
    "preds = gs.predict(X_test)"
   ]
  },
  {
   "cell_type": "code",
   "execution_count": 177,
   "id": "wicked-discharge",
   "metadata": {},
   "outputs": [
    {
     "data": {
      "image/png": "[encoded data removed]",
      "text/plain": [
       "<Figure size 432x288 with 2 Axes>"
      ]
     },
     "metadata": {
      "needs_background": "light"
     },
     "output_type": "display_data"
    }
   ],
   "source": [
    "cm = confusion_matrix(y_test, preds)\n",
    "tn, fp, fn, tp = cm.ravel()\n",
    "\n",
    "ConfusionMatrixDisplay(cm).plot();"
   ]
  },
  {
   "cell_type": "code",
   "execution_count": 178,
   "id": "polar-example",
   "metadata": {},
   "outputs": [
    {
     "data": {
      "text/html": [
       "<div>\n",
       "<style scoped>\n",
       "    .dataframe tbody tr th:only-of-type {\n",
       "        vertical-align: middle;\n",
       "    }\n",
       "\n",
       "    .dataframe tbody tr th {\n",
       "        vertical-align: top;\n",
       "    }\n",
       "\n",
       "    .dataframe thead th {\n",
       "        text-align: right;\n",
       "    }\n",
       "</style>\n",
       "<table border=\"1\" class=\"dataframe\">\n",
       "  <thead>\n",
       "    <tr style=\"text-align: right;\">\n",
       "      <th></th>\n",
       "      <th>subreddit</th>\n",
       "      <th>selftext</th>\n",
       "    </tr>\n",
       "  </thead>\n",
       "  <tbody>\n",
       "    <tr>\n",
       "      <th>0</th>\n",
       "      <td>0</td>\n",
       "      <td>Is there a way to filter out the backed projec...</td>\n",
       "    </tr>\n",
       "    <tr>\n",
       "      <th>1</th>\n",
       "      <td>0</td>\n",
       "      <td>With my reinstated love for **Root**, over the...</td>\n",
       "    </tr>\n",
       "    <tr>\n",
       "      <th>2</th>\n",
       "      <td>0</td>\n",
       "      <td>Does anyone have a good recommendation for pla...</td>\n",
       "    </tr>\n",
       "    <tr>\n",
       "      <th>3</th>\n",
       "      <td>0</td>\n",
       "      <td>We failed March objective two for both attempt...</td>\n",
       "    </tr>\n",
       "    <tr>\n",
       "      <th>4</th>\n",
       "      <td>0</td>\n",
       "      <td>I have scoured google, BGG, And beyond and hav...</td>\n",
       "    </tr>\n",
       "    <tr>\n",
       "      <th>...</th>\n",
       "      <td>...</td>\n",
       "      <td>...</td>\n",
       "    </tr>\n",
       "    <tr>\n",
       "      <th>195</th>\n",
       "      <td>1</td>\n",
       "      <td>I am a senior this year, and on track to gradu...</td>\n",
       "    </tr>\n",
       "    <tr>\n",
       "      <th>196</th>\n",
       "      <td>1</td>\n",
       "      <td>How would you end up with a sediment layer OLD...</td>\n",
       "    </tr>\n",
       "    <tr>\n",
       "      <th>197</th>\n",
       "      <td>1</td>\n",
       "      <td>I'm a grade 12 student from Canada and I had a...</td>\n",
       "    </tr>\n",
       "    <tr>\n",
       "      <th>198</th>\n",
       "      <td>1</td>\n",
       "      <td>I'm working in a fictional Earth following a c...</td>\n",
       "    </tr>\n",
       "    <tr>\n",
       "      <th>199</th>\n",
       "      <td>1</td>\n",
       "      <td></td>\n",
       "    </tr>\n",
       "  </tbody>\n",
       "</table>\n",
       "<p>200 rows × 2 columns</p>\n",
       "</div>"
      ],
      "text/plain": [
       "     subreddit                                           selftext\n",
       "0            0  Is there a way to filter out the backed projec...\n",
       "1            0  With my reinstated love for **Root**, over the...\n",
       "2            0  Does anyone have a good recommendation for pla...\n",
       "3            0  We failed March objective two for both attempt...\n",
       "4            0  I have scoured google, BGG, And beyond and hav...\n",
       "..         ...                                                ...\n",
       "195          1  I am a senior this year, and on track to gradu...\n",
       "196          1  How would you end up with a sediment layer OLD...\n",
       "197          1  I'm a grade 12 student from Canada and I had a...\n",
       "198          1  I'm working in a fictional Earth following a c...\n",
       "199          1                                                   \n",
       "\n",
       "[200 rows x 2 columns]"
      ]
     },
     "execution_count": 178,
     "metadata": {},
     "output_type": "execute_result"
    }
   ],
   "source": [
    "text_df"
   ]
  },
  {
   "cell_type": "code",
   "execution_count": 179,
   "id": "likely-george",
   "metadata": {},
   "outputs": [
    {
     "name": "stdout",
     "output_type": "stream",
     "text": [
      "specificity: 0.5454545454545454\n"
     ]
    }
   ],
   "source": [
    "specificity = tn / (tn + fp)\n",
    "print('specificity:', specificity)"
   ]
  },
  {
   "cell_type": "markdown",
   "id": "agricultural-option",
   "metadata": {},
   "source": [
    "### TFIDF Vectorizer"
   ]
  },
  {
   "cell_type": "code",
   "execution_count": 180,
   "id": "union-stress",
   "metadata": {},
   "outputs": [],
   "source": [
    "tvec = TfidfVectorizer()"
   ]
  },
  {
   "cell_type": "code",
   "execution_count": 181,
   "id": "tender-assault",
   "metadata": {},
   "outputs": [],
   "source": [
    "X_train_df = pd.DataFrame(tvec.fit_transform(X_train).todense(),\n",
    "                         columns = tvec.get_feature_names())"
   ]
  },
  {
   "cell_type": "code",
   "execution_count": 182,
   "id": "stopped-heart",
   "metadata": {},
   "outputs": [
    {
     "data": {
      "text/plain": [
       "<AxesSubplot:>"
      ]
     },
     "execution_count": 182,
     "metadata": {},
     "output_type": "execute_result"
    },
    {
     "data": {
      "image/png": "[encoded data removed]",
      "text/plain": [
       "<Figure size 432x288 with 1 Axes>"
      ]
     },
     "metadata": {
      "needs_background": "light"
     },
     "output_type": "display_data"
    }
   ],
   "source": [
    "X_train_df.sum().sort_values(ascending=False).head(10).plot(kind='barh')"
   ]
  },
  {
   "cell_type": "code",
   "execution_count": 183,
   "id": "metallic-natural",
   "metadata": {},
   "outputs": [
    {
     "data": {
      "text/plain": [
       "<AxesSubplot:>"
      ]
     },
     "execution_count": 183,
     "metadata": {},
     "output_type": "execute_result"
    },
    {
     "data": {
      "image/png": "[encoded data removed]",
      "text/plain": [
       "<Figure size 432x288 with 1 Axes>"
      ]
     },
     "metadata": {
      "needs_background": "light"
     },
     "output_type": "display_data"
    }
   ],
   "source": [
    "X_train_df.sum().sort_values(ascending=True).head(10).plot(kind='barh')"
   ]
  },
  {
   "cell_type": "code",
   "execution_count": 184,
   "id": "champion-breast",
   "metadata": {},
   "outputs": [],
   "source": [
    "pipe_tvec = Pipeline([\n",
    "    ('tvec', TfidfVectorizer()),\n",
    "    ('nb', MultinomialNB())\n",
    "])"
   ]
  },
  {
   "cell_type": "code",
   "execution_count": 185,
   "id": "vertical-poetry",
   "metadata": {},
   "outputs": [],
   "source": [
    "pipe_tvec_params = {\n",
    "    'tvec__max_features': [2000, 3000, 4000, 5000],\n",
    "    'tvec__stop_words': [None, 'english'],\n",
    "    'tvec__ngram_range': [(1, 1), (1, 2)]\n",
    "}"
   ]
  },
  {
   "cell_type": "code",
   "execution_count": 186,
   "id": "absent-italic",
   "metadata": {},
   "outputs": [],
   "source": [
    "gs_tvec = GridSearchCV(pipe_tvec, param_grid = pipe_tvec_params, cv=5)"
   ]
  },
  {
   "cell_type": "code",
   "execution_count": 187,
   "id": "critical-inquiry",
   "metadata": {},
   "outputs": [
    {
     "data": {
      "text/plain": [
       "GridSearchCV(cv=5,\n",
       "             estimator=Pipeline(steps=[('tvec', TfidfVectorizer()),\n",
       "                                       ('nb', MultinomialNB())]),\n",
       "             param_grid={'tvec__max_features': [2000, 3000, 4000, 5000],\n",
       "                         'tvec__ngram_range': [(1, 1), (1, 2)],\n",
       "                         'tvec__stop_words': [None, 'english']})"
      ]
     },
     "execution_count": 187,
     "metadata": {},
     "output_type": "execute_result"
    }
   ],
   "source": [
    "gs_tvec.fit(X_train, y_train)"
   ]
  },
  {
   "cell_type": "code",
   "execution_count": 188,
   "id": "general-architecture",
   "metadata": {},
   "outputs": [
    {
     "data": {
      "text/plain": [
       "0.8134328358208955"
      ]
     },
     "execution_count": 188,
     "metadata": {},
     "output_type": "execute_result"
    }
   ],
   "source": [
    "gs_tvec.score(X_train, y_train)"
   ]
  },
  {
   "cell_type": "code",
   "execution_count": 189,
   "id": "weird-tobago",
   "metadata": {},
   "outputs": [
    {
     "data": {
      "text/plain": [
       "0.7121212121212122"
      ]
     },
     "execution_count": 189,
     "metadata": {},
     "output_type": "execute_result"
    }
   ],
   "source": [
    "gs_tvec.score(X_test, y_test)"
   ]
  },
  {
   "cell_type": "code",
   "execution_count": 190,
   "id": "everyday-democracy",
   "metadata": {},
   "outputs": [
    {
     "data": {
      "text/plain": [
       "0.9393939393939394"
      ]
     },
     "execution_count": 190,
     "metadata": {},
     "output_type": "execute_result"
    }
   ],
   "source": [
    "preds_tvec = gs_tvec.predict(X_test)\n",
    "\n",
    "cm = confusion_matrix(y_test, preds_tvec)\n",
    "tn, fp, fn, tp = cm.ravel()\n",
    "\n",
    "specificity = tn / (tn + fp)\n",
    "specificity"
   ]
  },
  {
   "cell_type": "code",
   "execution_count": 192,
   "id": "liked-conditioning",
   "metadata": {},
   "outputs": [
    {
     "data": {
      "image/png": "[encoded data removed]",
      "text/plain": [
       "<Figure size 432x288 with 2 Axes>"
      ]
     },
     "metadata": {
      "needs_background": "light"
     },
     "output_type": "display_data"
    }
   ],
   "source": [
    "ConfusionMatrixDisplay(cm).plot();"
   ]
  },
  {
   "cell_type": "markdown",
   "id": "emotional-alcohol",
   "metadata": {},
   "source": [
    "This model is better at classifying true negative, but has greater false negatives! Much higher specificity than the bernoulli naive bayes model."
   ]
  },
  {
   "cell_type": "code",
   "execution_count": null,
   "id": "judicial-springer",
   "metadata": {},
   "outputs": [],
   "source": []
  },
  {
   "cell_type": "markdown",
   "id": "balanced-reform",
   "metadata": {},
   "source": [
    "### Pick up here!!!\n",
    "\n",
    "So far we've accomplished:\n",
    "* getting data - 200 subreddit posts so far (not comments)\n",
    "* count vectorizing the subreddit posts\n",
    "* passing data to TWO MODELS\n",
    "    * Bernoulli Naive Bayes model : when we have 0/1 variables.\n",
    "    * TFIDF multinomial naive bayes : when our variables are positive integers\n",
    "\n",
    "To do next:\n",
    "* get MORE DATA - source for pulling data on time delay: https://gist.github.com/tecoholic/1242694\n",
    "* get different types of data - try comments! try using titles alongside selftext! "
   ]
  },
  {
   "cell_type": "code",
   "execution_count": null,
   "id": "narrow-forty",
   "metadata": {},
   "outputs": [],
   "source": []
  }
 ],
 "metadata": {
  "kernelspec": {
   "display_name": "Python 3",
   "language": "python",
   "name": "python3"
  },
  "language_info": {
   "codemirror_mode": {
    "name": "ipython",
    "version": 3
   },
   "file_extension": ".py",
   "mimetype": "text/x-python",
   "name": "python",
   "nbconvert_exporter": "python",
   "pygments_lexer": "ipython3",
   "version": "3.9.2"
  }
 },
 "nbformat": 4,
 "nbformat_minor": 5
}
