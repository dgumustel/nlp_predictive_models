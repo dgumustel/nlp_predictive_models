{
 "cells": [
  {
   "cell_type": "markdown",
   "id": "actual-master",
   "metadata": {},
   "source": [
    "Here we're playing with time!!! "
   ]
  },
  {
   "cell_type": "code",
   "execution_count": 1,
   "id": "lasting-antenna",
   "metadata": {},
   "outputs": [],
   "source": [
    "import numpy as np\n",
    "import time\n",
    "import pandas as pd\n",
    "import nltk\n",
    "\n",
    "from sklearn.pipeline import Pipeline\n",
    "from sklearn.model_selection import train_test_split, GridSearchCV\n",
    "from sklearn.naive_bayes import MultinomialNB, BernoulliNB\n",
    "from sklearn.metrics import confusion_matrix, ConfusionMatrixDisplay\n",
    "from sklearn.feature_extraction.text import CountVectorizer, TfidfVectorizer\n",
    "from nltk.stem import WordNetLemmatizer\n",
    "from nltk.tokenize import sent_tokenize, word_tokenize, RegexpTokenizer\n",
    "from nltk.stem.porter import PorterStemmer"
   ]
  },
  {
   "cell_type": "code",
   "execution_count": 2,
   "id": "opening-depth",
   "metadata": {},
   "outputs": [],
   "source": [
    "poli_2010_df = pd.read_csv('./data/poli_dis_2010.csv')\n",
    "poli_2020_df = pd.read_csv('./data/poli_dis_2020.csv')"
   ]
  },
  {
   "cell_type": "code",
   "execution_count": 3,
   "id": "final-competition",
   "metadata": {},
   "outputs": [
    {
     "data": {
      "text/plain": [
       "Index(['author', 'author_flair_css_class', 'author_flair_text', 'created_utc',\n",
       "       'domain', 'full_link', 'id', 'is_self', 'media_embed', 'num_comments',\n",
       "       'over_18', 'permalink', 'score', 'selftext', 'subreddit',\n",
       "       'subreddit_id', 'thumbnail', 'title', 'url', 'author_created_utc',\n",
       "       'author_fullname', 'edited', 'year'],\n",
       "      dtype='object')"
      ]
     },
     "execution_count": 3,
     "metadata": {},
     "output_type": "execute_result"
    }
   ],
   "source": [
    "poli_2010_df.columns"
   ]
  },
  {
   "cell_type": "code",
   "execution_count": 4,
   "id": "acting-funds",
   "metadata": {},
   "outputs": [
    {
     "data": {
      "text/plain": [
       "1000"
      ]
     },
     "execution_count": 4,
     "metadata": {},
     "output_type": "execute_result"
    }
   ],
   "source": [
    "poli_2010_df['id'].nunique()"
   ]
  },
  {
   "cell_type": "code",
   "execution_count": 5,
   "id": "happy-belle",
   "metadata": {},
   "outputs": [
    {
     "data": {
      "text/plain": [
       "0      Excellent history lesson on the economy for al...\n",
       "1                                                    NaN\n",
       "2       I always hear Communist Muslim Pinko not born...\n",
       "3      The task of this branch is to hold the other 3...\n",
       "4      Hey reddit, why do we care so much about SOPA ...\n",
       "                             ...                        \n",
       "995    What are you thoughts about it? Is it a good t...\n",
       "996    I am not concerned with whether the law is con...\n",
       "997    Does the electoral college work?   \\nIf you ar...\n",
       "998    This is not meant to be divisive or even philo...\n",
       "999    I am not American, but I'm following the news ...\n",
       "Name: selftext, Length: 1000, dtype: object"
      ]
     },
     "execution_count": 5,
     "metadata": {},
     "output_type": "execute_result"
    }
   ],
   "source": [
    "poli_2010_df['selftext']"
   ]
  },
  {
   "cell_type": "code",
   "execution_count": 6,
   "id": "useful-packet",
   "metadata": {},
   "outputs": [
    {
     "data": {
      "text/plain": [
       "1000"
      ]
     },
     "execution_count": 6,
     "metadata": {},
     "output_type": "execute_result"
    }
   ],
   "source": [
    "poli_2020_df['id'].nunique()"
   ]
  },
  {
   "cell_type": "code",
   "execution_count": 7,
   "id": "embedded-continent",
   "metadata": {},
   "outputs": [],
   "source": [
    "frames = [poli_2010_df, poli_2020_df]\n",
    "master_df = pd.concat(frames)"
   ]
  },
  {
   "cell_type": "code",
   "execution_count": 8,
   "id": "offshore-webster",
   "metadata": {},
   "outputs": [
    {
     "data": {
      "text/html": [
       "<div>\n",
       "<style scoped>\n",
       "    .dataframe tbody tr th:only-of-type {\n",
       "        vertical-align: middle;\n",
       "    }\n",
       "\n",
       "    .dataframe tbody tr th {\n",
       "        vertical-align: top;\n",
       "    }\n",
       "\n",
       "    .dataframe thead th {\n",
       "        text-align: right;\n",
       "    }\n",
       "</style>\n",
       "<table border=\"1\" class=\"dataframe\">\n",
       "  <thead>\n",
       "    <tr style=\"text-align: right;\">\n",
       "      <th></th>\n",
       "      <th>author</th>\n",
       "      <th>author_flair_css_class</th>\n",
       "      <th>author_flair_text</th>\n",
       "      <th>created_utc</th>\n",
       "      <th>domain</th>\n",
       "      <th>full_link</th>\n",
       "      <th>id</th>\n",
       "      <th>is_self</th>\n",
       "      <th>media_embed</th>\n",
       "      <th>num_comments</th>\n",
       "      <th>...</th>\n",
       "      <th>suggested_sort</th>\n",
       "      <th>total_awards_received</th>\n",
       "      <th>whitelist_status</th>\n",
       "      <th>wls</th>\n",
       "      <th>author_cakeday</th>\n",
       "      <th>author_flair_template_id</th>\n",
       "      <th>author_flair_text_color</th>\n",
       "      <th>author_flair_background_color</th>\n",
       "      <th>banned_by</th>\n",
       "      <th>distinguished</th>\n",
       "    </tr>\n",
       "  </thead>\n",
       "  <tbody>\n",
       "    <tr>\n",
       "      <th>0</th>\n",
       "      <td>[deleted]</td>\n",
       "      <td>NaN</td>\n",
       "      <td>NaN</td>\n",
       "      <td>1326374124</td>\n",
       "      <td>self.PoliticalDiscussion</td>\n",
       "      <td>https://www.reddit.com/r/PoliticalDiscussion/c...</td>\n",
       "      <td>odv2p</td>\n",
       "      <td>True</td>\n",
       "      <td>{}</td>\n",
       "      <td>5</td>\n",
       "      <td>...</td>\n",
       "      <td>NaN</td>\n",
       "      <td>NaN</td>\n",
       "      <td>NaN</td>\n",
       "      <td>NaN</td>\n",
       "      <td>NaN</td>\n",
       "      <td>NaN</td>\n",
       "      <td>NaN</td>\n",
       "      <td>NaN</td>\n",
       "      <td>NaN</td>\n",
       "      <td>NaN</td>\n",
       "    </tr>\n",
       "    <tr>\n",
       "      <th>1</th>\n",
       "      <td>magister0</td>\n",
       "      <td>NaN</td>\n",
       "      <td>NaN</td>\n",
       "      <td>1326366955</td>\n",
       "      <td>self.PoliticalDiscussion</td>\n",
       "      <td>https://www.reddit.com/r/PoliticalDiscussion/c...</td>\n",
       "      <td>odsmk</td>\n",
       "      <td>True</td>\n",
       "      <td>{}</td>\n",
       "      <td>0</td>\n",
       "      <td>...</td>\n",
       "      <td>NaN</td>\n",
       "      <td>NaN</td>\n",
       "      <td>NaN</td>\n",
       "      <td>NaN</td>\n",
       "      <td>NaN</td>\n",
       "      <td>NaN</td>\n",
       "      <td>NaN</td>\n",
       "      <td>NaN</td>\n",
       "      <td>NaN</td>\n",
       "      <td>NaN</td>\n",
       "    </tr>\n",
       "    <tr>\n",
       "      <th>2</th>\n",
       "      <td>bigdog6286</td>\n",
       "      <td>NaN</td>\n",
       "      <td>NaN</td>\n",
       "      <td>1326344639</td>\n",
       "      <td>self.PoliticalDiscussion</td>\n",
       "      <td>https://www.reddit.com/r/PoliticalDiscussion/c...</td>\n",
       "      <td>odiiu</td>\n",
       "      <td>True</td>\n",
       "      <td>{}</td>\n",
       "      <td>40</td>\n",
       "      <td>...</td>\n",
       "      <td>NaN</td>\n",
       "      <td>NaN</td>\n",
       "      <td>NaN</td>\n",
       "      <td>NaN</td>\n",
       "      <td>NaN</td>\n",
       "      <td>NaN</td>\n",
       "      <td>NaN</td>\n",
       "      <td>NaN</td>\n",
       "      <td>NaN</td>\n",
       "      <td>NaN</td>\n",
       "    </tr>\n",
       "    <tr>\n",
       "      <th>3</th>\n",
       "      <td>anonoman925</td>\n",
       "      <td>NaN</td>\n",
       "      <td>NaN</td>\n",
       "      <td>1326339753</td>\n",
       "      <td>self.PoliticalDiscussion</td>\n",
       "      <td>https://www.reddit.com/r/PoliticalDiscussion/c...</td>\n",
       "      <td>odet1</td>\n",
       "      <td>True</td>\n",
       "      <td>{}</td>\n",
       "      <td>20</td>\n",
       "      <td>...</td>\n",
       "      <td>NaN</td>\n",
       "      <td>NaN</td>\n",
       "      <td>NaN</td>\n",
       "      <td>NaN</td>\n",
       "      <td>NaN</td>\n",
       "      <td>NaN</td>\n",
       "      <td>NaN</td>\n",
       "      <td>NaN</td>\n",
       "      <td>NaN</td>\n",
       "      <td>NaN</td>\n",
       "    </tr>\n",
       "    <tr>\n",
       "      <th>4</th>\n",
       "      <td>CallMeBrimstone</td>\n",
       "      <td>NaN</td>\n",
       "      <td>NaN</td>\n",
       "      <td>1326332063</td>\n",
       "      <td>self.PoliticalDiscussion</td>\n",
       "      <td>https://www.reddit.com/r/PoliticalDiscussion/c...</td>\n",
       "      <td>od8jy</td>\n",
       "      <td>True</td>\n",
       "      <td>{}</td>\n",
       "      <td>2</td>\n",
       "      <td>...</td>\n",
       "      <td>NaN</td>\n",
       "      <td>NaN</td>\n",
       "      <td>NaN</td>\n",
       "      <td>NaN</td>\n",
       "      <td>NaN</td>\n",
       "      <td>NaN</td>\n",
       "      <td>NaN</td>\n",
       "      <td>NaN</td>\n",
       "      <td>NaN</td>\n",
       "      <td>NaN</td>\n",
       "    </tr>\n",
       "    <tr>\n",
       "      <th>...</th>\n",
       "      <td>...</td>\n",
       "      <td>...</td>\n",
       "      <td>...</td>\n",
       "      <td>...</td>\n",
       "      <td>...</td>\n",
       "      <td>...</td>\n",
       "      <td>...</td>\n",
       "      <td>...</td>\n",
       "      <td>...</td>\n",
       "      <td>...</td>\n",
       "      <td>...</td>\n",
       "      <td>...</td>\n",
       "      <td>...</td>\n",
       "      <td>...</td>\n",
       "      <td>...</td>\n",
       "      <td>...</td>\n",
       "      <td>...</td>\n",
       "      <td>...</td>\n",
       "      <td>...</td>\n",
       "      <td>...</td>\n",
       "      <td>...</td>\n",
       "    </tr>\n",
       "    <tr>\n",
       "      <th>995</th>\n",
       "      <td>WaterzGrace</td>\n",
       "      <td>NaN</td>\n",
       "      <td>NaN</td>\n",
       "      <td>1585331139</td>\n",
       "      <td>self.PoliticalDiscussion</td>\n",
       "      <td>https://www.reddit.com/r/PoliticalDiscussion/c...</td>\n",
       "      <td>fq1n07</td>\n",
       "      <td>True</td>\n",
       "      <td>NaN</td>\n",
       "      <td>3</td>\n",
       "      <td>...</td>\n",
       "      <td>confidence</td>\n",
       "      <td>0.0</td>\n",
       "      <td>all_ads</td>\n",
       "      <td>6.0</td>\n",
       "      <td>NaN</td>\n",
       "      <td>NaN</td>\n",
       "      <td>NaN</td>\n",
       "      <td>NaN</td>\n",
       "      <td>NaN</td>\n",
       "      <td>NaN</td>\n",
       "    </tr>\n",
       "    <tr>\n",
       "      <th>996</th>\n",
       "      <td>curious_thoughts_uk</td>\n",
       "      <td>NaN</td>\n",
       "      <td>NaN</td>\n",
       "      <td>1585330878</td>\n",
       "      <td>self.PoliticalDiscussion</td>\n",
       "      <td>https://www.reddit.com/r/PoliticalDiscussion/c...</td>\n",
       "      <td>fq1jqd</td>\n",
       "      <td>True</td>\n",
       "      <td>NaN</td>\n",
       "      <td>3</td>\n",
       "      <td>...</td>\n",
       "      <td>confidence</td>\n",
       "      <td>0.0</td>\n",
       "      <td>all_ads</td>\n",
       "      <td>6.0</td>\n",
       "      <td>NaN</td>\n",
       "      <td>NaN</td>\n",
       "      <td>NaN</td>\n",
       "      <td>NaN</td>\n",
       "      <td>NaN</td>\n",
       "      <td>NaN</td>\n",
       "    </tr>\n",
       "    <tr>\n",
       "      <th>997</th>\n",
       "      <td>patrick-thegamerdad</td>\n",
       "      <td>NaN</td>\n",
       "      <td>NaN</td>\n",
       "      <td>1585330173</td>\n",
       "      <td>self.PoliticalDiscussion</td>\n",
       "      <td>https://www.reddit.com/r/PoliticalDiscussion/c...</td>\n",
       "      <td>fq1azc</td>\n",
       "      <td>True</td>\n",
       "      <td>NaN</td>\n",
       "      <td>0</td>\n",
       "      <td>...</td>\n",
       "      <td>confidence</td>\n",
       "      <td>0.0</td>\n",
       "      <td>all_ads</td>\n",
       "      <td>6.0</td>\n",
       "      <td>NaN</td>\n",
       "      <td>NaN</td>\n",
       "      <td>NaN</td>\n",
       "      <td>NaN</td>\n",
       "      <td>NaN</td>\n",
       "      <td>NaN</td>\n",
       "    </tr>\n",
       "    <tr>\n",
       "      <th>998</th>\n",
       "      <td>steelbaxton</td>\n",
       "      <td>NaN</td>\n",
       "      <td>NaN</td>\n",
       "      <td>1585329457</td>\n",
       "      <td>self.PoliticalDiscussion</td>\n",
       "      <td>https://www.reddit.com/r/PoliticalDiscussion/c...</td>\n",
       "      <td>fq1263</td>\n",
       "      <td>True</td>\n",
       "      <td>NaN</td>\n",
       "      <td>1</td>\n",
       "      <td>...</td>\n",
       "      <td>confidence</td>\n",
       "      <td>0.0</td>\n",
       "      <td>all_ads</td>\n",
       "      <td>6.0</td>\n",
       "      <td>NaN</td>\n",
       "      <td>NaN</td>\n",
       "      <td>NaN</td>\n",
       "      <td>NaN</td>\n",
       "      <td>NaN</td>\n",
       "      <td>NaN</td>\n",
       "    </tr>\n",
       "    <tr>\n",
       "      <th>999</th>\n",
       "      <td>ImmodestPolitician</td>\n",
       "      <td>NaN</td>\n",
       "      <td>NaN</td>\n",
       "      <td>1585329315</td>\n",
       "      <td>self.PoliticalDiscussion</td>\n",
       "      <td>https://www.reddit.com/r/PoliticalDiscussion/c...</td>\n",
       "      <td>fq10h9</td>\n",
       "      <td>True</td>\n",
       "      <td>NaN</td>\n",
       "      <td>2</td>\n",
       "      <td>...</td>\n",
       "      <td>confidence</td>\n",
       "      <td>0.0</td>\n",
       "      <td>all_ads</td>\n",
       "      <td>6.0</td>\n",
       "      <td>NaN</td>\n",
       "      <td>NaN</td>\n",
       "      <td>NaN</td>\n",
       "      <td>NaN</td>\n",
       "      <td>NaN</td>\n",
       "      <td>NaN</td>\n",
       "    </tr>\n",
       "  </tbody>\n",
       "</table>\n",
       "<p>2000 rows × 72 columns</p>\n",
       "</div>"
      ],
      "text/plain": [
       "                  author  author_flair_css_class author_flair_text  \\\n",
       "0              [deleted]                     NaN               NaN   \n",
       "1              magister0                     NaN               NaN   \n",
       "2             bigdog6286                     NaN               NaN   \n",
       "3            anonoman925                     NaN               NaN   \n",
       "4        CallMeBrimstone                     NaN               NaN   \n",
       "..                   ...                     ...               ...   \n",
       "995          WaterzGrace                     NaN               NaN   \n",
       "996  curious_thoughts_uk                     NaN               NaN   \n",
       "997  patrick-thegamerdad                     NaN               NaN   \n",
       "998          steelbaxton                     NaN               NaN   \n",
       "999   ImmodestPolitician                     NaN               NaN   \n",
       "\n",
       "     created_utc                    domain  \\\n",
       "0     1326374124  self.PoliticalDiscussion   \n",
       "1     1326366955  self.PoliticalDiscussion   \n",
       "2     1326344639  self.PoliticalDiscussion   \n",
       "3     1326339753  self.PoliticalDiscussion   \n",
       "4     1326332063  self.PoliticalDiscussion   \n",
       "..           ...                       ...   \n",
       "995   1585331139  self.PoliticalDiscussion   \n",
       "996   1585330878  self.PoliticalDiscussion   \n",
       "997   1585330173  self.PoliticalDiscussion   \n",
       "998   1585329457  self.PoliticalDiscussion   \n",
       "999   1585329315  self.PoliticalDiscussion   \n",
       "\n",
       "                                             full_link      id  is_self  \\\n",
       "0    https://www.reddit.com/r/PoliticalDiscussion/c...   odv2p     True   \n",
       "1    https://www.reddit.com/r/PoliticalDiscussion/c...   odsmk     True   \n",
       "2    https://www.reddit.com/r/PoliticalDiscussion/c...   odiiu     True   \n",
       "3    https://www.reddit.com/r/PoliticalDiscussion/c...   odet1     True   \n",
       "4    https://www.reddit.com/r/PoliticalDiscussion/c...   od8jy     True   \n",
       "..                                                 ...     ...      ...   \n",
       "995  https://www.reddit.com/r/PoliticalDiscussion/c...  fq1n07     True   \n",
       "996  https://www.reddit.com/r/PoliticalDiscussion/c...  fq1jqd     True   \n",
       "997  https://www.reddit.com/r/PoliticalDiscussion/c...  fq1azc     True   \n",
       "998  https://www.reddit.com/r/PoliticalDiscussion/c...  fq1263     True   \n",
       "999  https://www.reddit.com/r/PoliticalDiscussion/c...  fq10h9     True   \n",
       "\n",
       "    media_embed  num_comments  ...  suggested_sort total_awards_received  \\\n",
       "0            {}             5  ...             NaN                   NaN   \n",
       "1            {}             0  ...             NaN                   NaN   \n",
       "2            {}            40  ...             NaN                   NaN   \n",
       "3            {}            20  ...             NaN                   NaN   \n",
       "4            {}             2  ...             NaN                   NaN   \n",
       "..          ...           ...  ...             ...                   ...   \n",
       "995         NaN             3  ...      confidence                   0.0   \n",
       "996         NaN             3  ...      confidence                   0.0   \n",
       "997         NaN             0  ...      confidence                   0.0   \n",
       "998         NaN             1  ...      confidence                   0.0   \n",
       "999         NaN             2  ...      confidence                   0.0   \n",
       "\n",
       "     whitelist_status  wls author_cakeday author_flair_template_id  \\\n",
       "0                 NaN  NaN            NaN                      NaN   \n",
       "1                 NaN  NaN            NaN                      NaN   \n",
       "2                 NaN  NaN            NaN                      NaN   \n",
       "3                 NaN  NaN            NaN                      NaN   \n",
       "4                 NaN  NaN            NaN                      NaN   \n",
       "..                ...  ...            ...                      ...   \n",
       "995           all_ads  6.0            NaN                      NaN   \n",
       "996           all_ads  6.0            NaN                      NaN   \n",
       "997           all_ads  6.0            NaN                      NaN   \n",
       "998           all_ads  6.0            NaN                      NaN   \n",
       "999           all_ads  6.0            NaN                      NaN   \n",
       "\n",
       "    author_flair_text_color author_flair_background_color banned_by  \\\n",
       "0                       NaN                           NaN       NaN   \n",
       "1                       NaN                           NaN       NaN   \n",
       "2                       NaN                           NaN       NaN   \n",
       "3                       NaN                           NaN       NaN   \n",
       "4                       NaN                           NaN       NaN   \n",
       "..                      ...                           ...       ...   \n",
       "995                     NaN                           NaN       NaN   \n",
       "996                     NaN                           NaN       NaN   \n",
       "997                     NaN                           NaN       NaN   \n",
       "998                     NaN                           NaN       NaN   \n",
       "999                     NaN                           NaN       NaN   \n",
       "\n",
       "     distinguished  \n",
       "0              NaN  \n",
       "1              NaN  \n",
       "2              NaN  \n",
       "3              NaN  \n",
       "4              NaN  \n",
       "..             ...  \n",
       "995            NaN  \n",
       "996            NaN  \n",
       "997            NaN  \n",
       "998            NaN  \n",
       "999            NaN  \n",
       "\n",
       "[2000 rows x 72 columns]"
      ]
     },
     "execution_count": 8,
     "metadata": {},
     "output_type": "execute_result"
    }
   ],
   "source": [
    "master_df"
   ]
  },
  {
   "cell_type": "code",
   "execution_count": 9,
   "id": "centered-plastic",
   "metadata": {},
   "outputs": [],
   "source": [
    "text_df = master_df[['year', 'selftext']].copy()"
   ]
  },
  {
   "cell_type": "code",
   "execution_count": 10,
   "id": "individual-carroll",
   "metadata": {},
   "outputs": [
    {
     "data": {
      "text/plain": [
       "842"
      ]
     },
     "execution_count": 10,
     "metadata": {},
     "output_type": "execute_result"
    }
   ],
   "source": [
    "text_df['selftext'].nunique()"
   ]
  },
  {
   "cell_type": "code",
   "execution_count": 11,
   "id": "massive-still",
   "metadata": {},
   "outputs": [
    {
     "data": {
      "text/plain": [
       "year          0\n",
       "selftext    151\n",
       "dtype: int64"
      ]
     },
     "execution_count": 11,
     "metadata": {},
     "output_type": "execute_result"
    }
   ],
   "source": [
    "text_df.isnull().sum()"
   ]
  },
  {
   "cell_type": "code",
   "execution_count": 12,
   "id": "greek-transparency",
   "metadata": {},
   "outputs": [],
   "source": [
    "#https://stackoverflow.com/questions/44227748/removing-newlines-from-messy-strings-in-pandas-dataframe-cells\n",
    "text_df.replace(to_replace=[r\"\\\\t|\\\\n|\\\\r\", \"\\t|\\n|\\r\"], value=[\" \",\" \"], regex=True, inplace=True) "
   ]
  },
  {
   "cell_type": "code",
   "execution_count": 13,
   "id": "rocky-shock",
   "metadata": {},
   "outputs": [
    {
     "data": {
      "text/plain": [
       "0      2010\n",
       "1      2010\n",
       "2      2010\n",
       "3      2010\n",
       "4      2010\n",
       "       ... \n",
       "995    2020\n",
       "996    2020\n",
       "997    2020\n",
       "998    2020\n",
       "999    2020\n",
       "Name: year, Length: 2000, dtype: int64"
      ]
     },
     "execution_count": 13,
     "metadata": {},
     "output_type": "execute_result"
    }
   ],
   "source": [
    "master_df['year']"
   ]
  },
  {
   "cell_type": "code",
   "execution_count": 14,
   "id": "lovely-strength",
   "metadata": {},
   "outputs": [],
   "source": [
    "text_df['year'] = text_df['year'].map({2010:1,2020:0})"
   ]
  },
  {
   "cell_type": "code",
   "execution_count": 15,
   "id": "declared-farming",
   "metadata": {},
   "outputs": [
    {
     "data": {
      "text/plain": [
       "0    0.5\n",
       "1    0.5\n",
       "Name: year, dtype: float64"
      ]
     },
     "execution_count": 15,
     "metadata": {},
     "output_type": "execute_result"
    }
   ],
   "source": [
    "text_df['year'].value_counts(normalize=True)"
   ]
  },
  {
   "cell_type": "code",
   "execution_count": 16,
   "id": "parental-bangladesh",
   "metadata": {},
   "outputs": [
    {
     "data": {
      "text/plain": [
       "0    Excellent history lesson on the economy for al...\n",
       "1                                                  NaN\n",
       "2     I always hear Communist Muslim Pinko not born...\n",
       "3    The task of this branch is to hold the other 3...\n",
       "4    Hey reddit, why do we care so much about SOPA ...\n",
       "Name: selftext, dtype: object"
      ]
     },
     "execution_count": 16,
     "metadata": {},
     "output_type": "execute_result"
    }
   ],
   "source": [
    "text_df['selftext'][:5]"
   ]
  },
  {
   "cell_type": "code",
   "execution_count": 17,
   "id": "numerical-category",
   "metadata": {},
   "outputs": [],
   "source": [
    "lemmatizer = WordNetLemmatizer()\n",
    "stemmer = PorterStemmer()\n",
    "\n",
    "def stem_stuff(line):\n",
    "    tokenizer = RegexpTokenizer(r'\\w+')\n",
    "    line_tokens = tokenizer.tokenize(line.lower())\n",
    "    stemmy = [stemmer.stem(word) for word in line_tokens]\n",
    "    return stemmy"
   ]
  },
  {
   "cell_type": "code",
   "execution_count": 20,
   "id": "indonesian-watson",
   "metadata": {},
   "outputs": [
    {
     "data": {
      "text/plain": [
       "year          0\n",
       "selftext    151\n",
       "dtype: int64"
      ]
     },
     "execution_count": 20,
     "metadata": {},
     "output_type": "execute_result"
    }
   ],
   "source": [
    "text_df.isnull().sum()"
   ]
  },
  {
   "cell_type": "code",
   "execution_count": 22,
   "id": "three-nudist",
   "metadata": {},
   "outputs": [],
   "source": [
    "text_df.replace(np.nan, \"\", regex=True, inplace=True)\n",
    "\n",
    "text_df.isnull().sum()"
   ]
  },
  {
   "cell_type": "code",
   "execution_count": 24,
   "id": "human-hebrew",
   "metadata": {},
   "outputs": [],
   "source": [
    "text_df['selftext'] = text_df['selftext'].map(stem_stuff)\n",
    "text_df['selftext'] = text_df['selftext'].apply(', '.join)"
   ]
  },
  {
   "cell_type": "code",
   "execution_count": 25,
   "id": "special-peninsula",
   "metadata": {},
   "outputs": [
    {
     "data": {
      "text/plain": [
       "0    excel, histori, lesson, on, the, economi, for,...\n",
       "1                                                     \n",
       "2    i, alway, hear, communist, muslim, pinko, not,...\n",
       "3    the, task, of, thi, branch, is, to, hold, the,...\n",
       "4    hey, reddit, whi, do, we, care, so, much, abou...\n",
       "Name: selftext, dtype: object"
      ]
     },
     "execution_count": 25,
     "metadata": {},
     "output_type": "execute_result"
    }
   ],
   "source": [
    "text_df['selftext'][:5]"
   ]
  },
  {
   "cell_type": "code",
   "execution_count": null,
   "id": "dangerous-clinton",
   "metadata": {},
   "outputs": [],
   "source": []
  },
  {
   "cell_type": "code",
   "execution_count": 26,
   "id": "informal-christmas",
   "metadata": {},
   "outputs": [],
   "source": [
    "X = text_df['selftext']\n",
    "y = text_df['year']"
   ]
  },
  {
   "cell_type": "code",
   "execution_count": 27,
   "id": "painted-macedonia",
   "metadata": {},
   "outputs": [],
   "source": [
    "X_train, X_test, y_train, y_test = train_test_split(X, y, \n",
    "                                                    random_state = 42, \n",
    "                                                    stratify = y)"
   ]
  },
  {
   "cell_type": "code",
   "execution_count": 28,
   "id": "invisible-showcase",
   "metadata": {},
   "outputs": [
    {
     "data": {
      "text/plain": [
       "538                                                remov\n",
       "879                                                remov\n",
       "58     the, fda, is, an, enorm, organ, with, enorm, a...\n",
       "9      i, understand, thi, is, a, broad, question, so...\n",
       "268                                                remov\n",
       "                             ...                        \n",
       "836    after, view, thi, thread, http, www, reddit, c...\n",
       "452                                                remov\n",
       "387                                                     \n",
       "266    http, www, reddit, com, r, anarch, comment, oq...\n",
       "537    i, don, t, understand, what, role, the, electo...\n",
       "Name: selftext, Length: 1500, dtype: object"
      ]
     },
     "execution_count": 28,
     "metadata": {},
     "output_type": "execute_result"
    }
   ],
   "source": [
    "X_train"
   ]
  },
  {
   "cell_type": "markdown",
   "id": "surface-stylus",
   "metadata": {},
   "source": [
    "### Combine GridSearchCV and Bernoulli Naive Bayes model"
   ]
  },
  {
   "cell_type": "code",
   "execution_count": 29,
   "id": "adjusted-massachusetts",
   "metadata": {},
   "outputs": [],
   "source": [
    "pipe = Pipeline([\n",
    "    ('cvec', CountVectorizer()),\n",
    "    ('nb', BernoulliNB())\n",
    "])"
   ]
  },
  {
   "cell_type": "code",
   "execution_count": 30,
   "id": "signed-hearts",
   "metadata": {},
   "outputs": [],
   "source": [
    "pipe_params = {\n",
    "    'cvec__max_features':[2000, 3000, 4000, 5000],\n",
    "    'cvec__min_df':[2, 3],\n",
    "    'cvec__max_df':[.9, .95],\n",
    "    'cvec__ngram_range':[(1, 1), (1, 2)]\n",
    "}"
   ]
  },
  {
   "cell_type": "code",
   "execution_count": 31,
   "id": "weird-bangkok",
   "metadata": {},
   "outputs": [],
   "source": [
    "gs = GridSearchCV(pipe, param_grid = pipe_params, cv = 5)"
   ]
  },
  {
   "cell_type": "code",
   "execution_count": 32,
   "id": "static-consent",
   "metadata": {},
   "outputs": [
    {
     "data": {
      "text/plain": [
       "538                                                remov\n",
       "879                                                remov\n",
       "58     the, fda, is, an, enorm, organ, with, enorm, a...\n",
       "9      i, understand, thi, is, a, broad, question, so...\n",
       "268                                                remov\n",
       "                             ...                        \n",
       "836    after, view, thi, thread, http, www, reddit, c...\n",
       "452                                                remov\n",
       "387                                                     \n",
       "266    http, www, reddit, com, r, anarch, comment, oq...\n",
       "537    i, don, t, understand, what, role, the, electo...\n",
       "Name: selftext, Length: 1500, dtype: object"
      ]
     },
     "execution_count": 32,
     "metadata": {},
     "output_type": "execute_result"
    }
   ],
   "source": [
    "X_train"
   ]
  },
  {
   "cell_type": "code",
   "execution_count": 33,
   "id": "suffering-married",
   "metadata": {
    "tags": []
   },
   "outputs": [
    {
     "name": "stdout",
     "output_type": "stream",
     "text": [
      "0.8699999999999999\n",
      "{'cvec__max_df': 0.9, 'cvec__max_features': 2000, 'cvec__min_df': 2, 'cvec__ngram_range': (1, 1)}\n",
      "train accuracy: 0.874\n",
      "test accuracy: 0.872\n"
     ]
    }
   ],
   "source": [
    "gs.fit(X_train, y_train)\n",
    "\n",
    "print(gs.best_score_)\n",
    "print(gs.best_params_)\n",
    "\n",
    "print('train accuracy:', gs.score(X_train, y_train))\n",
    "print('test accuracy:', gs.score(X_test, y_test))"
   ]
  },
  {
   "cell_type": "code",
   "execution_count": 34,
   "id": "monetary-minnesota",
   "metadata": {},
   "outputs": [
    {
     "data": {
      "text/plain": [
       "pandas.core.series.Series"
      ]
     },
     "execution_count": 34,
     "metadata": {},
     "output_type": "execute_result"
    }
   ],
   "source": [
    "type(X_test)"
   ]
  },
  {
   "cell_type": "code",
   "execution_count": 35,
   "id": "premier-creation",
   "metadata": {
    "tags": []
   },
   "outputs": [],
   "source": [
    "preds = gs.predict(X_test)"
   ]
  },
  {
   "cell_type": "code",
   "execution_count": 36,
   "id": "later-master",
   "metadata": {},
   "outputs": [
    {
     "data": {
      "image/png": "[encoded data removed]",
      "text/plain": [
       "<Figure size 432x288 with 2 Axes>"
      ]
     },
     "metadata": {
      "needs_background": "light"
     },
     "output_type": "display_data"
    }
   ],
   "source": [
    "cm = confusion_matrix(y_test, preds)\n",
    "tn, fp, fn, tp = cm.ravel()\n",
    "\n",
    "ConfusionMatrixDisplay(cm).plot();"
   ]
  },
  {
   "cell_type": "code",
   "execution_count": 37,
   "id": "august-trash",
   "metadata": {},
   "outputs": [
    {
     "data": {
      "text/html": [
       "<div>\n",
       "<style scoped>\n",
       "    .dataframe tbody tr th:only-of-type {\n",
       "        vertical-align: middle;\n",
       "    }\n",
       "\n",
       "    .dataframe tbody tr th {\n",
       "        vertical-align: top;\n",
       "    }\n",
       "\n",
       "    .dataframe thead th {\n",
       "        text-align: right;\n",
       "    }\n",
       "</style>\n",
       "<table border=\"1\" class=\"dataframe\">\n",
       "  <thead>\n",
       "    <tr style=\"text-align: right;\">\n",
       "      <th></th>\n",
       "      <th>year</th>\n",
       "      <th>selftext</th>\n",
       "    </tr>\n",
       "  </thead>\n",
       "  <tbody>\n",
       "    <tr>\n",
       "      <th>0</th>\n",
       "      <td>1</td>\n",
       "      <td>excel, histori, lesson, on, the, economi, for,...</td>\n",
       "    </tr>\n",
       "    <tr>\n",
       "      <th>1</th>\n",
       "      <td>1</td>\n",
       "      <td></td>\n",
       "    </tr>\n",
       "    <tr>\n",
       "      <th>2</th>\n",
       "      <td>1</td>\n",
       "      <td>i, alway, hear, communist, muslim, pinko, not,...</td>\n",
       "    </tr>\n",
       "    <tr>\n",
       "      <th>3</th>\n",
       "      <td>1</td>\n",
       "      <td>the, task, of, thi, branch, is, to, hold, the,...</td>\n",
       "    </tr>\n",
       "    <tr>\n",
       "      <th>4</th>\n",
       "      <td>1</td>\n",
       "      <td>hey, reddit, whi, do, we, care, so, much, abou...</td>\n",
       "    </tr>\n",
       "    <tr>\n",
       "      <th>...</th>\n",
       "      <td>...</td>\n",
       "      <td>...</td>\n",
       "    </tr>\n",
       "    <tr>\n",
       "      <th>995</th>\n",
       "      <td>0</td>\n",
       "      <td>remov</td>\n",
       "    </tr>\n",
       "    <tr>\n",
       "      <th>996</th>\n",
       "      <td>0</td>\n",
       "      <td>remov</td>\n",
       "    </tr>\n",
       "    <tr>\n",
       "      <th>997</th>\n",
       "      <td>0</td>\n",
       "      <td>remov</td>\n",
       "    </tr>\n",
       "    <tr>\n",
       "      <th>998</th>\n",
       "      <td>0</td>\n",
       "      <td>remov</td>\n",
       "    </tr>\n",
       "    <tr>\n",
       "      <th>999</th>\n",
       "      <td>0</td>\n",
       "      <td>remov</td>\n",
       "    </tr>\n",
       "  </tbody>\n",
       "</table>\n",
       "<p>2000 rows × 2 columns</p>\n",
       "</div>"
      ],
      "text/plain": [
       "     year                                           selftext\n",
       "0       1  excel, histori, lesson, on, the, economi, for,...\n",
       "1       1                                                   \n",
       "2       1  i, alway, hear, communist, muslim, pinko, not,...\n",
       "3       1  the, task, of, thi, branch, is, to, hold, the,...\n",
       "4       1  hey, reddit, whi, do, we, care, so, much, abou...\n",
       "..    ...                                                ...\n",
       "995     0                                              remov\n",
       "996     0                                              remov\n",
       "997     0                                              remov\n",
       "998     0                                              remov\n",
       "999     0                                              remov\n",
       "\n",
       "[2000 rows x 2 columns]"
      ]
     },
     "execution_count": 37,
     "metadata": {},
     "output_type": "execute_result"
    }
   ],
   "source": [
    "text_df"
   ]
  },
  {
   "cell_type": "code",
   "execution_count": 38,
   "id": "cellular-smile",
   "metadata": {},
   "outputs": [
    {
     "name": "stdout",
     "output_type": "stream",
     "text": [
      "specificity: 1.0\n"
     ]
    }
   ],
   "source": [
    "specificity = tn / (tn + fp)\n",
    "print('specificity:', specificity)"
   ]
  },
  {
   "cell_type": "markdown",
   "id": "unauthorized-logging",
   "metadata": {},
   "source": [
    "### TFIDF Vectorizer"
   ]
  },
  {
   "cell_type": "code",
   "execution_count": 39,
   "id": "united-midnight",
   "metadata": {},
   "outputs": [],
   "source": [
    "tvec = TfidfVectorizer()"
   ]
  },
  {
   "cell_type": "code",
   "execution_count": 40,
   "id": "mediterranean-edgar",
   "metadata": {},
   "outputs": [],
   "source": [
    "X_train_df = pd.DataFrame(tvec.fit_transform(X_train).todense(),\n",
    "                         columns = tvec.get_feature_names())"
   ]
  },
  {
   "cell_type": "code",
   "execution_count": 41,
   "id": "sonic-pharmacy",
   "metadata": {},
   "outputs": [
    {
     "data": {
      "text/plain": [
       "<AxesSubplot:>"
      ]
     },
     "execution_count": 41,
     "metadata": {},
     "output_type": "execute_result"
    },
    {
     "data": {
      "image/png": "[encoded data removed]",
      "text/plain": [
       "<Figure size 432x288 with 1 Axes>"
      ]
     },
     "metadata": {
      "needs_background": "light"
     },
     "output_type": "display_data"
    }
   ],
   "source": [
    "X_train_df.sum().sort_values(ascending=False).head(10).plot(kind='barh')"
   ]
  },
  {
   "cell_type": "code",
   "execution_count": 42,
   "id": "varying-implement",
   "metadata": {},
   "outputs": [
    {
     "data": {
      "text/plain": [
       "<AxesSubplot:>"
      ]
     },
     "execution_count": 42,
     "metadata": {},
     "output_type": "execute_result"
    },
    {
     "data": {
      "image/png": "[encoded data removed]",
      "text/plain": [
       "<Figure size 432x288 with 1 Axes>"
      ]
     },
     "metadata": {
      "needs_background": "light"
     },
     "output_type": "display_data"
    }
   ],
   "source": [
    "X_train_df.sum().sort_values(ascending=True).head(10).plot(kind='barh')"
   ]
  },
  {
   "cell_type": "code",
   "execution_count": 43,
   "id": "collaborative-variation",
   "metadata": {},
   "outputs": [],
   "source": [
    "pipe_tvec = Pipeline([\n",
    "    ('tvec', TfidfVectorizer()),\n",
    "    ('nb', MultinomialNB())\n",
    "])"
   ]
  },
  {
   "cell_type": "code",
   "execution_count": 44,
   "id": "wicked-bryan",
   "metadata": {},
   "outputs": [],
   "source": [
    "pipe_tvec_params = {\n",
    "    'tvec__max_features': [2000, 3000, 4000, 5000],\n",
    "    'tvec__stop_words': [None, 'english'],\n",
    "    'tvec__ngram_range': [(1, 1), (1, 2)]\n",
    "}"
   ]
  },
  {
   "cell_type": "code",
   "execution_count": 45,
   "id": "acute-burden",
   "metadata": {},
   "outputs": [],
   "source": [
    "gs_tvec = GridSearchCV(pipe_tvec, param_grid = pipe_tvec_params, cv=5)"
   ]
  },
  {
   "cell_type": "code",
   "execution_count": 46,
   "id": "indonesian-worth",
   "metadata": {},
   "outputs": [
    {
     "data": {
      "text/plain": [
       "GridSearchCV(cv=5,\n",
       "             estimator=Pipeline(steps=[('tvec', TfidfVectorizer()),\n",
       "                                       ('nb', MultinomialNB())]),\n",
       "             param_grid={'tvec__max_features': [2000, 3000, 4000, 5000],\n",
       "                         'tvec__ngram_range': [(1, 1), (1, 2)],\n",
       "                         'tvec__stop_words': [None, 'english']})"
      ]
     },
     "execution_count": 46,
     "metadata": {},
     "output_type": "execute_result"
    }
   ],
   "source": [
    "gs_tvec.fit(X_train, y_train)"
   ]
  },
  {
   "cell_type": "code",
   "execution_count": 47,
   "id": "addressed-hybrid",
   "metadata": {},
   "outputs": [
    {
     "data": {
      "text/plain": [
       "{'tvec__max_features': 4000,\n",
       " 'tvec__ngram_range': (1, 1),\n",
       " 'tvec__stop_words': 'english'}"
      ]
     },
     "execution_count": 47,
     "metadata": {},
     "output_type": "execute_result"
    }
   ],
   "source": [
    "gs_tvec.best_params_"
   ]
  },
  {
   "cell_type": "code",
   "execution_count": 48,
   "id": "vocational-monitor",
   "metadata": {},
   "outputs": [
    {
     "data": {
      "text/plain": [
       "0.9206666666666666"
      ]
     },
     "execution_count": 48,
     "metadata": {},
     "output_type": "execute_result"
    }
   ],
   "source": [
    "gs_tvec.score(X_train, y_train)"
   ]
  },
  {
   "cell_type": "code",
   "execution_count": 49,
   "id": "hired-karma",
   "metadata": {},
   "outputs": [
    {
     "data": {
      "text/plain": [
       "0.92"
      ]
     },
     "execution_count": 49,
     "metadata": {},
     "output_type": "execute_result"
    }
   ],
   "source": [
    "gs_tvec.score(X_test, y_test)"
   ]
  },
  {
   "cell_type": "code",
   "execution_count": 50,
   "id": "sacred-portal",
   "metadata": {},
   "outputs": [
    {
     "data": {
      "text/plain": [
       "1.0"
      ]
     },
     "execution_count": 50,
     "metadata": {},
     "output_type": "execute_result"
    }
   ],
   "source": [
    "preds_tvec = gs_tvec.predict(X_test)\n",
    "\n",
    "cm = confusion_matrix(y_test, preds_tvec)\n",
    "tn, fp, fn, tp = cm.ravel()\n",
    "\n",
    "specificity = tn / (tn + fp)\n",
    "specificity"
   ]
  },
  {
   "cell_type": "code",
   "execution_count": 51,
   "id": "bound-detector",
   "metadata": {},
   "outputs": [
    {
     "data": {
      "image/png": "[encoded data removed]",
      "text/plain": [
       "<Figure size 432x288 with 2 Axes>"
      ]
     },
     "metadata": {
      "needs_background": "light"
     },
     "output_type": "display_data"
    }
   ],
   "source": [
    "ConfusionMatrixDisplay(cm).plot();"
   ]
  },
  {
   "cell_type": "code",
   "execution_count": null,
   "id": "subsequent-tribute",
   "metadata": {},
   "outputs": [],
   "source": []
  },
  {
   "cell_type": "code",
   "execution_count": null,
   "id": "female-approach",
   "metadata": {},
   "outputs": [],
   "source": []
  }
 ],
 "metadata": {
  "kernelspec": {
   "display_name": "Python 3",
   "language": "python",
   "name": "python3"
  },
  "language_info": {
   "codemirror_mode": {
    "name": "ipython",
    "version": 3
   },
   "file_extension": ".py",
   "mimetype": "text/x-python",
   "name": "python",
   "nbconvert_exporter": "python",
   "pygments_lexer": "ipython3",
   "version": "3.9.2"
  }
 },
 "nbformat": 4,
 "nbformat_minor": 5
}
