{
 "cells": [
  {
   "cell_type": "markdown",
   "metadata": {},
   "source": [
    "# Predicting What Subreddit a Post Came From\n",
    "---"
   ]
  },
  {
   "cell_type": "markdown",
   "metadata": {},
   "source": [
    "### Table of contents\n",
    "\n",
    "1. Binarize target variable\n",
    "2. Establish a baseline accuracy\n",
    "3. Use custom stop words\n",
    "4. Bernoulli Naive Bayes Classifier\n",
    "    * 4.1 With CountVectorizer\n",
    "    * 4.2 With TF-IDF Vectorizer\n",
    "5. SVM Classifier"
   ]
  },
  {
   "cell_type": "code",
   "execution_count": 17,
   "metadata": {},
   "outputs": [],
   "source": [
    "# Imports\n",
    "import pandas as pd\n",
    "import time\n",
    "import numpy as np\n",
    "import matplotlib.pyplot as plt\n",
    "\n",
    "from sklearn.pipeline import Pipeline\n",
    "from sklearn.model_selection import train_test_split, GridSearchCV\n",
    "from sklearn.naive_bayes import MultinomialNB, BernoulliNB\n",
    "from sklearn.metrics import confusion_matrix, ConfusionMatrixDisplay, classification_report\n",
    "from sklearn.feature_extraction.text import CountVectorizer, TfidfVectorizer\n",
    "from sklearn.svm import SVC"
   ]
  },
  {
   "cell_type": "markdown",
   "metadata": {},
   "source": [
    "### Read in the data files"
   ]
  },
  {
   "cell_type": "code",
   "execution_count": 18,
   "metadata": {},
   "outputs": [],
   "source": [
    "df1 = pd.read_csv('../data/clean_dmacademy.csv')\n",
    "df2 = pd.read_csv('../data/clean_truezelda.csv')"
   ]
  },
  {
   "cell_type": "markdown",
   "metadata": {},
   "source": [
    "Let's concatenate our dataframes into a corpus"
   ]
  },
  {
   "cell_type": "code",
   "execution_count": 19,
   "metadata": {},
   "outputs": [],
   "source": [
    "frames = [df1, df2]"
   ]
  },
  {
   "cell_type": "code",
   "execution_count": 20,
   "metadata": {},
   "outputs": [],
   "source": [
    "corpus_df = pd.concat(frames, axis=0, ignore_index=True)"
   ]
  },
  {
   "cell_type": "code",
   "execution_count": 21,
   "metadata": {},
   "outputs": [
    {
     "data": {
      "text/html": [
       "<div>\n",
       "<style scoped>\n",
       "    .dataframe tbody tr th:only-of-type {\n",
       "        vertical-align: middle;\n",
       "    }\n",
       "\n",
       "    .dataframe tbody tr th {\n",
       "        vertical-align: top;\n",
       "    }\n",
       "\n",
       "    .dataframe thead th {\n",
       "        text-align: right;\n",
       "    }\n",
       "</style>\n",
       "<table border=\"1\" class=\"dataframe\">\n",
       "  <thead>\n",
       "    <tr style=\"text-align: right;\">\n",
       "      <th></th>\n",
       "      <th>subreddit</th>\n",
       "      <th>title</th>\n",
       "      <th>text</th>\n",
       "    </tr>\n",
       "  </thead>\n",
       "  <tbody>\n",
       "    <tr>\n",
       "      <th>0</th>\n",
       "      <td>DMAcademy</td>\n",
       "      <td>Seeking seasoned DMs to be guests on interview...</td>\n",
       "      <td>Edit  UPDATE  Thank you for the robust respo...</td>\n",
       "    </tr>\n",
       "    <tr>\n",
       "      <th>1</th>\n",
       "      <td>DMAcademy</td>\n",
       "      <td>TERRAIN and Using it Effectively</td>\n",
       "      <td>TERRAIN and using it Effectively  DM Tips  Usi...</td>\n",
       "    </tr>\n",
       "    <tr>\n",
       "      <th>2</th>\n",
       "      <td>DMAcademy</td>\n",
       "      <td>Know the exact location of something</td>\n",
       "      <td>The players are planning on dropping an evil a...</td>\n",
       "    </tr>\n",
       "    <tr>\n",
       "      <th>3</th>\n",
       "      <td>DMAcademy</td>\n",
       "      <td>How to run military basic as a session</td>\n",
       "      <td>I am running a campaign for all intents and pu...</td>\n",
       "    </tr>\n",
       "    <tr>\n",
       "      <th>4</th>\n",
       "      <td>DMAcademy</td>\n",
       "      <td>Best time to take breaks how long they should be</td>\n",
       "      <td>Hey just a newbie DM  My sessions are usually ...</td>\n",
       "    </tr>\n",
       "    <tr>\n",
       "      <th>...</th>\n",
       "      <td>...</td>\n",
       "      <td>...</td>\n",
       "      <td>...</td>\n",
       "    </tr>\n",
       "    <tr>\n",
       "      <th>8994</th>\n",
       "      <td>truezelda</td>\n",
       "      <td>What happened in the story of the missing link...</td>\n",
       "      <td>I don t really like playing games now but I am...</td>\n",
       "    </tr>\n",
       "    <tr>\n",
       "      <th>8995</th>\n",
       "      <td>truezelda</td>\n",
       "      <td>Do you think Blind The Thief is a Sheikah</td>\n",
       "      <td>We know that he lived in Kakariko Village</td>\n",
       "    </tr>\n",
       "    <tr>\n",
       "      <th>8996</th>\n",
       "      <td>truezelda</td>\n",
       "      <td>Should games such as Tri Force Heroes and Four...</td>\n",
       "      <td>The Zelda timeline is infamous for being convo...</td>\n",
       "    </tr>\n",
       "    <tr>\n",
       "      <th>8997</th>\n",
       "      <td>truezelda</td>\n",
       "      <td>Review score predictions for Skyward HD</td>\n",
       "      <td>Title says it all How will it fare  With the o...</td>\n",
       "    </tr>\n",
       "    <tr>\n",
       "      <th>8998</th>\n",
       "      <td>truezelda</td>\n",
       "      <td>Can anyone help me find a normally priced zeld...</td>\n",
       "      <td>My daughter loves to play super smash bros and...</td>\n",
       "    </tr>\n",
       "  </tbody>\n",
       "</table>\n",
       "<p>8999 rows × 3 columns</p>\n",
       "</div>"
      ],
      "text/plain": [
       "      subreddit                                              title  \\\n",
       "0     DMAcademy  Seeking seasoned DMs to be guests on interview...   \n",
       "1     DMAcademy                   TERRAIN and Using it Effectively   \n",
       "2     DMAcademy               Know the exact location of something   \n",
       "3     DMAcademy             How to run military basic as a session   \n",
       "4     DMAcademy   Best time to take breaks how long they should be   \n",
       "...         ...                                                ...   \n",
       "8994  truezelda  What happened in the story of the missing link...   \n",
       "8995  truezelda         Do you think Blind The Thief is a Sheikah    \n",
       "8996  truezelda  Should games such as Tri Force Heroes and Four...   \n",
       "8997  truezelda           Review score predictions for Skyward HD    \n",
       "8998  truezelda  Can anyone help me find a normally priced zeld...   \n",
       "\n",
       "                                                   text  \n",
       "0       Edit  UPDATE  Thank you for the robust respo...  \n",
       "1     TERRAIN and using it Effectively  DM Tips  Usi...  \n",
       "2     The players are planning on dropping an evil a...  \n",
       "3     I am running a campaign for all intents and pu...  \n",
       "4     Hey just a newbie DM  My sessions are usually ...  \n",
       "...                                                 ...  \n",
       "8994  I don t really like playing games now but I am...  \n",
       "8995         We know that he lived in Kakariko Village   \n",
       "8996  The Zelda timeline is infamous for being convo...  \n",
       "8997  Title says it all How will it fare  With the o...  \n",
       "8998  My daughter loves to play super smash bros and...  \n",
       "\n",
       "[8999 rows x 3 columns]"
      ]
     },
     "execution_count": 21,
     "metadata": {},
     "output_type": "execute_result"
    }
   ],
   "source": [
    "corpus_df"
   ]
  },
  {
   "cell_type": "code",
   "execution_count": 22,
   "metadata": {},
   "outputs": [],
   "source": [
    "corpus_df.to_csv('../data/dmacademy_truezelda_corpus.csv', index=False)"
   ]
  },
  {
   "cell_type": "code",
   "execution_count": 23,
   "metadata": {},
   "outputs": [
    {
     "data": {
      "text/plain": [
       "subreddit    0\n",
       "title        0\n",
       "text         0\n",
       "dtype: int64"
      ]
     },
     "execution_count": 23,
     "metadata": {},
     "output_type": "execute_result"
    }
   ],
   "source": [
    "corpus_df.isnull().sum()"
   ]
  },
  {
   "cell_type": "markdown",
   "metadata": {},
   "source": [
    "Finally, replace those nulls with empty strings."
   ]
  },
  {
   "cell_type": "markdown",
   "metadata": {},
   "source": [
    "---\n",
    "### Map our target variable to integer values"
   ]
  },
  {
   "cell_type": "code",
   "execution_count": 24,
   "metadata": {},
   "outputs": [
    {
     "data": {
      "text/plain": [
       "subreddit    object\n",
       "title        object\n",
       "text         object\n",
       "dtype: object"
      ]
     },
     "execution_count": 24,
     "metadata": {},
     "output_type": "execute_result"
    }
   ],
   "source": [
    "corpus_df.dtypes"
   ]
  },
  {
   "cell_type": "code",
   "execution_count": 25,
   "metadata": {},
   "outputs": [
    {
     "data": {
      "text/plain": [
       "0       DMAcademy\n",
       "1       DMAcademy\n",
       "2       DMAcademy\n",
       "3       DMAcademy\n",
       "4       DMAcademy\n",
       "          ...    \n",
       "8994    truezelda\n",
       "8995    truezelda\n",
       "8996    truezelda\n",
       "8997    truezelda\n",
       "8998    truezelda\n",
       "Name: subreddit, Length: 8999, dtype: object"
      ]
     },
     "execution_count": 25,
     "metadata": {},
     "output_type": "execute_result"
    }
   ],
   "source": [
    "corpus_df['subreddit']"
   ]
  },
  {
   "cell_type": "code",
   "execution_count": 26,
   "metadata": {},
   "outputs": [],
   "source": [
    "# this step is optional\n",
    "corpus_df['subreddit'] = corpus_df['subreddit'].map({'truezelda':1,'DMAcademy':0})"
   ]
  },
  {
   "cell_type": "code",
   "execution_count": 27,
   "metadata": {},
   "outputs": [
    {
     "data": {
      "text/plain": [
       "0       0\n",
       "1       0\n",
       "2       0\n",
       "3       0\n",
       "4       0\n",
       "       ..\n",
       "8994    1\n",
       "8995    1\n",
       "8996    1\n",
       "8997    1\n",
       "8998    1\n",
       "Name: subreddit, Length: 8999, dtype: int64"
      ]
     },
     "execution_count": 27,
     "metadata": {},
     "output_type": "execute_result"
    }
   ],
   "source": [
    "corpus_df['subreddit']"
   ]
  },
  {
   "cell_type": "markdown",
   "metadata": {},
   "source": [
    "---\n",
    "### Create X and y"
   ]
  },
  {
   "cell_type": "code",
   "execution_count": 28,
   "metadata": {},
   "outputs": [],
   "source": [
    "X = corpus_df['title'] + ' ' + corpus_df['text']\n",
    "y = corpus_df['subreddit']"
   ]
  },
  {
   "cell_type": "code",
   "execution_count": 29,
   "metadata": {},
   "outputs": [
    {
     "name": "stdout",
     "output_type": "stream",
     "text": [
      "Seeking seasoned DMs to be guests on interview podcast\n",
      "  Edit  UPDATE  Thank you for the robust response I ve had some great applications so far and I m hy\n",
      "Seeking seasoned DMs to be guests on interview podcast   Edit  UPDATE  Thank you for the robust response I ve had some great applications so far and I\n"
     ]
    }
   ],
   "source": [
    "print(corpus_df['title'][0])\n",
    "print(corpus_df['text'][0][:100])\n",
    "\n",
    "print(X[0][:150])"
   ]
  },
  {
   "cell_type": "markdown",
   "metadata": {},
   "source": [
    "Looks like it has what we want! "
   ]
  },
  {
   "cell_type": "markdown",
   "metadata": {},
   "source": [
    "### Establishing a baseline\n",
    "In order to measure how good our models are doing, we have to compare our model accuracy to a **baseline**. "
   ]
  },
  {
   "cell_type": "code",
   "execution_count": 30,
   "metadata": {},
   "outputs": [
    {
     "data": {
      "text/plain": [
       "0    0.54306\n",
       "1    0.45694\n",
       "Name: subreddit, dtype: float64"
      ]
     },
     "execution_count": 30,
     "metadata": {},
     "output_type": "execute_result"
    }
   ],
   "source": [
    "y.value_counts(normalize=True)"
   ]
  },
  {
   "cell_type": "code",
   "execution_count": 31,
   "metadata": {},
   "outputs": [],
   "source": [
    "X_train, X_test, y_train, y_test = train_test_split(X, y, \n",
    "                                                    random_state = 42, \n",
    "                                                    stratify = y,\n",
    "                                                    shuffle=True)"
   ]
  },
  {
   "cell_type": "code",
   "execution_count": 32,
   "metadata": {},
   "outputs": [
    {
     "data": {
      "text/plain": [
       "852     How do I balance NPC Fights Hey Guys I play Pe...\n",
       "2798    How do I handle starting a campaign adventure ...\n",
       "7450    What  Stal  enemy could ve also provided bone ...\n",
       "8383    Zelda songs you just don t like I really like ...\n",
       "1744    Homebrew Blacksmithing A player in my party is...\n",
       "                              ...                        \n",
       "7361    BoTW sequel information what and when  People ...\n",
       "8212    Skyward Sword Switch port listed on Amazon in ...\n",
       "7452    Why does anyone consider Ocarina of Time to be...\n",
       "4498    Campaign Adventure Ideas Some backstory I m cu...\n",
       "8734    After  years I finally got around to and beati...\n",
       "Length: 6749, dtype: object"
      ]
     },
     "execution_count": 32,
     "metadata": {},
     "output_type": "execute_result"
    }
   ],
   "source": [
    "X_train"
   ]
  },
  {
   "cell_type": "code",
   "execution_count": 33,
   "metadata": {},
   "outputs": [
    {
     "data": {
      "text/plain": [
       "0    0.543043\n",
       "1    0.456957\n",
       "Name: subreddit, dtype: float64"
      ]
     },
     "execution_count": 33,
     "metadata": {},
     "output_type": "execute_result"
    }
   ],
   "source": [
    "y_train.value_counts(normalize=True)"
   ]
  },
  {
   "cell_type": "markdown",
   "metadata": {},
   "source": [
    "Finally, on to the exciting part - the modeling! "
   ]
  },
  {
   "cell_type": "markdown",
   "metadata": {},
   "source": [
    "---\n",
    "### Add custom stop words"
   ]
  },
  {
   "cell_type": "code",
   "execution_count": 34,
   "metadata": {},
   "outputs": [],
   "source": [
    "custom_words = ['like', 'just', 've', 'don', 'll', 'game', 'games', 'a', 'b', 'c', 'd', \n",
    "                'e', 'f', 'g', 'h', 'i', 'j', 'k', 'l', 'm', 'n', 'o', 'p', 'q', 'r', \n",
    "                's', 't', 'u', 'v', 'w', 'x', 'y', 'z', 'know', 'really', 'new', 'think',\n",
    "               'things', 'want', 'make', 'way', 'feel', 'world', 'time']"
   ]
  },
  {
   "cell_type": "code",
   "execution_count": 35,
   "metadata": {},
   "outputs": [],
   "source": [
    "from sklearn.feature_extraction import text\n",
    "stop_words = text.ENGLISH_STOP_WORDS.union(custom_words)"
   ]
  },
  {
   "cell_type": "markdown",
   "metadata": {},
   "source": [
    "### Combine GridSearchCV and Bernoulli Naive Bayes model"
   ]
  },
  {
   "cell_type": "code",
   "execution_count": 36,
   "metadata": {},
   "outputs": [],
   "source": [
    "pipe = Pipeline([\n",
    "    ('cvec', CountVectorizer(stop_words=stop_words)),\n",
    "    ('nb', BernoulliNB())\n",
    "])"
   ]
  },
  {
   "cell_type": "code",
   "execution_count": 37,
   "metadata": {},
   "outputs": [],
   "source": [
    "pipe_params = {\n",
    "    #'cvec__max_features':[2000, 3000, 4000, 5000],\n",
    "    'cvec__min_df':[2, 3],\n",
    "    'cvec__max_df':[.9, .95],\n",
    "    # 'cvec__ngram_range':[(1, 1)], # default is best\n",
    "    'nb__alpha':np.logspace(-3, 1, 20)\n",
    "}"
   ]
  },
  {
   "cell_type": "code",
   "execution_count": 38,
   "metadata": {},
   "outputs": [],
   "source": [
    "gs = GridSearchCV(pipe, param_grid = pipe_params, cv = 5, n_jobs=-1, verbose=2)"
   ]
  },
  {
   "cell_type": "code",
   "execution_count": 39,
   "metadata": {
    "tags": []
   },
   "outputs": [
    {
     "name": "stdout",
     "output_type": "stream",
     "text": [
      "Fitting 5 folds for each of 80 candidates, totalling 400 fits\n",
      "Wall time: 36 s\n",
      "0.9899243884358784\n",
      "{'cvec__max_df': 0.9, 'cvec__min_df': 3, 'nb__alpha': 0.0069519279617756054}\n",
      "train accuracy: 0.9933323455326715\n",
      "test accuracy: 0.9933333333333333\n"
     ]
    }
   ],
   "source": [
    "%time gs.fit(X_train, y_train)\n",
    "\n",
    "print(gs.best_score_)\n",
    "print(gs.best_params_)\n",
    "\n",
    "print('train accuracy:', gs.score(X_train, y_train))\n",
    "\n",
    "print('test accuracy:', gs.score(X_test, y_test))"
   ]
  },
  {
   "cell_type": "code",
   "execution_count": 40,
   "metadata": {
    "tags": []
   },
   "outputs": [],
   "source": [
    "preds_cvec = gs.predict(X_test)"
   ]
  },
  {
   "cell_type": "code",
   "execution_count": 42,
   "metadata": {},
   "outputs": [
    {
     "data": {
      "image/png": "[encoded data removed]",
      "text/plain": [
       "<Figure size 432x288 with 2 Axes>"
      ]
     },
     "metadata": {
      "needs_background": "light"
     },
     "output_type": "display_data"
    }
   ],
   "source": [
    "cm = confusion_matrix(y_test, preds_cvec)\n",
    "tn, fp, fn, tp = cm.ravel()\n",
    "ConfusionMatrixDisplay(cm, display_labels=['r/DMAcademy','r/truezelda']).plot();\n",
    "plt.title('CVec and Bernoulli Naive Bayes Confusion Matrix')\n",
    "plt.savefig('../visualizations/bnb_cvec_confusion_matrix.png')"
   ]
  },
  {
   "cell_type": "code",
   "execution_count": 44,
   "metadata": {},
   "outputs": [
    {
     "name": "stdout",
     "output_type": "stream",
     "text": [
      "              precision    recall  f1-score   support\n",
      "\n",
      "           0       0.99      1.00      0.99      1222\n",
      "           1       1.00      0.99      0.99      1028\n",
      "\n",
      "    accuracy                           0.99      2250\n",
      "   macro avg       0.99      0.99      0.99      2250\n",
      "weighted avg       0.99      0.99      0.99      2250\n",
      "\n"
     ]
    }
   ],
   "source": [
    "print(classification_report(y_test, preds_cvec))"
   ]
  },
  {
   "cell_type": "code",
   "execution_count": 45,
   "metadata": {},
   "outputs": [
    {
     "name": "stdout",
     "output_type": "stream",
     "text": [
      "specificity: 1.0\n"
     ]
    }
   ],
   "source": [
    "specificity = tn / (tn + fp)\n",
    "print('specificity:', specificity)"
   ]
  },
  {
   "cell_type": "code",
   "execution_count": 46,
   "metadata": {},
   "outputs": [
    {
     "name": "stdout",
     "output_type": "stream",
     "text": [
      "CVec and Bernoulli NB Classification Report\n"
     ]
    },
    {
     "data": {
      "text/html": [
       "<div>\n",
       "<style scoped>\n",
       "    .dataframe tbody tr th:only-of-type {\n",
       "        vertical-align: middle;\n",
       "    }\n",
       "\n",
       "    .dataframe tbody tr th {\n",
       "        vertical-align: top;\n",
       "    }\n",
       "\n",
       "    .dataframe thead th {\n",
       "        text-align: right;\n",
       "    }\n",
       "</style>\n",
       "<table border=\"1\" class=\"dataframe\">\n",
       "  <thead>\n",
       "    <tr style=\"text-align: right;\">\n",
       "      <th></th>\n",
       "      <th>precision</th>\n",
       "      <th>recall</th>\n",
       "      <th>f1-score</th>\n",
       "    </tr>\n",
       "  </thead>\n",
       "  <tbody>\n",
       "    <tr>\n",
       "      <th>r/DMAcademy</th>\n",
       "      <td>0.987874</td>\n",
       "      <td>1.000000</td>\n",
       "      <td>0.993900</td>\n",
       "    </tr>\n",
       "    <tr>\n",
       "      <th>r/truezelda</th>\n",
       "      <td>1.000000</td>\n",
       "      <td>0.985409</td>\n",
       "      <td>0.992651</td>\n",
       "    </tr>\n",
       "    <tr>\n",
       "      <th>accuracy</th>\n",
       "      <td>0.993333</td>\n",
       "      <td>0.993333</td>\n",
       "      <td>0.993333</td>\n",
       "    </tr>\n",
       "  </tbody>\n",
       "</table>\n",
       "</div>"
      ],
      "text/plain": [
       "             precision    recall  f1-score\n",
       "r/DMAcademy   0.987874  1.000000  0.993900\n",
       "r/truezelda   1.000000  0.985409  0.992651\n",
       "accuracy      0.993333  0.993333  0.993333"
      ]
     },
     "execution_count": 46,
     "metadata": {},
     "output_type": "execute_result"
    }
   ],
   "source": [
    "class_report_1 = pd.DataFrame(classification_report(y_test, preds_cvec, output_dict=True)).transpose()\n",
    "class_report_1.drop(index=['macro avg', 'weighted avg'], columns=['support'], inplace=True)\n",
    "# https://stackoverflow.com/questions/40427943/how-do-i-change-a-single-index-value-in-pandas-dataframe\n",
    "class_report_1.rename(index={'0':'r/DMAcademy', '1':'r/truezelda'}, inplace=True)\n",
    "\n",
    "print('CVec and Bernoulli NB Classification Report')\n",
    "class_report_1"
   ]
  },
  {
   "cell_type": "markdown",
   "metadata": {},
   "source": [
    "### TF-IDF Vectorizer"
   ]
  },
  {
   "cell_type": "code",
   "execution_count": 51,
   "metadata": {},
   "outputs": [],
   "source": [
    "pipe_tvec = Pipeline([\n",
    "    ('tvec', TfidfVectorizer()),\n",
    "    ('nb', BernoulliNB())\n",
    "])"
   ]
  },
  {
   "cell_type": "code",
   "execution_count": 52,
   "metadata": {},
   "outputs": [],
   "source": [
    "pipe_tvec_params = {\n",
    "    #'tvec__max_features': [2000, 3000, 4000, 5000],\n",
    "    #'tvec__stop_words': [None, 'english'],\n",
    "    'nb__alpha':np.logspace(-3, 1, 100)\n",
    "}"
   ]
  },
  {
   "cell_type": "code",
   "execution_count": 53,
   "metadata": {},
   "outputs": [],
   "source": [
    "gs_tvec = GridSearchCV(pipe_tvec, param_grid = pipe_tvec_params, cv=5, n_jobs=-1, verbose=2)"
   ]
  },
  {
   "cell_type": "code",
   "execution_count": 54,
   "metadata": {},
   "outputs": [
    {
     "name": "stdout",
     "output_type": "stream",
     "text": [
      "Fitting 5 folds for each of 100 candidates, totalling 500 fits\n",
      "Wall time: 50.8 s\n"
     ]
    },
    {
     "data": {
      "text/plain": [
       "GridSearchCV(cv=5,\n",
       "             estimator=Pipeline(steps=[('tvec', TfidfVectorizer()),\n",
       "                                       ('nb', BernoulliNB())]),\n",
       "             n_jobs=-1,\n",
       "             param_grid={'nb__alpha': array([1.00000000e-03, 1.09749877e-03, 1.20450354e-03, 1.32194115e-03,\n",
       "       1.45082878e-03, 1.59228279e-03, 1.74752840e-03, 1.91791026e-03,\n",
       "       2.10490414e-03, 2.31012970e-03, 2.53536449e-03, 2.78255940e-03,\n",
       "       3.05385551e-03, 3.35160265e-03, 3.678...\n",
       "       1.17681195e+00, 1.29154967e+00, 1.41747416e+00, 1.55567614e+00,\n",
       "       1.70735265e+00, 1.87381742e+00, 2.05651231e+00, 2.25701972e+00,\n",
       "       2.47707636e+00, 2.71858824e+00, 2.98364724e+00, 3.27454916e+00,\n",
       "       3.59381366e+00, 3.94420606e+00, 4.32876128e+00, 4.75081016e+00,\n",
       "       5.21400829e+00, 5.72236766e+00, 6.28029144e+00, 6.89261210e+00,\n",
       "       7.56463328e+00, 8.30217568e+00, 9.11162756e+00, 1.00000000e+01])},\n",
       "             verbose=2)"
      ]
     },
     "execution_count": 54,
     "metadata": {},
     "output_type": "execute_result"
    }
   ],
   "source": [
    "%time gs_tvec.fit(X_train, y_train)"
   ]
  },
  {
   "cell_type": "code",
   "execution_count": 55,
   "metadata": {},
   "outputs": [
    {
     "name": "stdout",
     "output_type": "stream",
     "text": [
      "0.9899243884358784\n",
      "{'cvec__max_df': 0.9, 'cvec__min_df': 3, 'nb__alpha': 0.0069519279617756054}\n"
     ]
    }
   ],
   "source": [
    "print(gs.best_score_)\n",
    "print(gs.best_params_)"
   ]
  },
  {
   "cell_type": "code",
   "execution_count": 56,
   "metadata": {},
   "outputs": [
    {
     "data": {
      "text/plain": [
       "0.9961475774188768"
      ]
     },
     "execution_count": 56,
     "metadata": {},
     "output_type": "execute_result"
    }
   ],
   "source": [
    "gs_tvec.score(X_train, y_train)"
   ]
  },
  {
   "cell_type": "code",
   "execution_count": 57,
   "metadata": {},
   "outputs": [
    {
     "data": {
      "text/plain": [
       "0.996"
      ]
     },
     "execution_count": 57,
     "metadata": {},
     "output_type": "execute_result"
    }
   ],
   "source": [
    "gs_tvec.score(X_test, y_test)"
   ]
  },
  {
   "cell_type": "code",
   "execution_count": 58,
   "metadata": {},
   "outputs": [
    {
     "data": {
      "text/plain": [
       "0.9983633387888707"
      ]
     },
     "execution_count": 58,
     "metadata": {},
     "output_type": "execute_result"
    }
   ],
   "source": [
    "preds_tvec = gs_tvec.predict(X_test)\n",
    "\n",
    "cm = confusion_matrix(y_test, preds_tvec)\n",
    "tn, fp, fn, tp = cm.ravel()\n",
    "\n",
    "specificity = tn / (tn + fp)\n",
    "specificity"
   ]
  },
  {
   "cell_type": "code",
   "execution_count": 59,
   "metadata": {},
   "outputs": [
    {
     "data": {
      "image/png": "[encoded data removed]",
      "text/plain": [
       "<Figure size 432x288 with 2 Axes>"
      ]
     },
     "metadata": {
      "needs_background": "light"
     },
     "output_type": "display_data"
    }
   ],
   "source": [
    "ConfusionMatrixDisplay(cm, display_labels=['r/DMAcademy','r/truezelda']).plot();\n",
    "plt.title('TF-IDF and Bernoulli NB Confusion Matrix')\n",
    "plt.savefig('../visualizations/bnb_tfidf_confusion_matrix.png')"
   ]
  },
  {
   "cell_type": "code",
   "execution_count": 60,
   "metadata": {},
   "outputs": [
    {
     "name": "stdout",
     "output_type": "stream",
     "text": [
      "TF-IDF and Bernoulli NB Classification Report\n"
     ]
    },
    {
     "data": {
      "text/html": [
       "<div>\n",
       "<style scoped>\n",
       "    .dataframe tbody tr th:only-of-type {\n",
       "        vertical-align: middle;\n",
       "    }\n",
       "\n",
       "    .dataframe tbody tr th {\n",
       "        vertical-align: top;\n",
       "    }\n",
       "\n",
       "    .dataframe thead th {\n",
       "        text-align: right;\n",
       "    }\n",
       "</style>\n",
       "<table border=\"1\" class=\"dataframe\">\n",
       "  <thead>\n",
       "    <tr style=\"text-align: right;\">\n",
       "      <th></th>\n",
       "      <th>precision</th>\n",
       "      <th>recall</th>\n",
       "      <th>f1-score</th>\n",
       "    </tr>\n",
       "  </thead>\n",
       "  <tbody>\n",
       "    <tr>\n",
       "      <th>r/DMAcademy</th>\n",
       "      <td>0.994295</td>\n",
       "      <td>0.998363</td>\n",
       "      <td>0.996325</td>\n",
       "    </tr>\n",
       "    <tr>\n",
       "      <th>r/truezelda</th>\n",
       "      <td>0.998045</td>\n",
       "      <td>0.993191</td>\n",
       "      <td>0.995612</td>\n",
       "    </tr>\n",
       "    <tr>\n",
       "      <th>accuracy</th>\n",
       "      <td>0.996000</td>\n",
       "      <td>0.996000</td>\n",
       "      <td>0.996000</td>\n",
       "    </tr>\n",
       "  </tbody>\n",
       "</table>\n",
       "</div>"
      ],
      "text/plain": [
       "             precision    recall  f1-score\n",
       "r/DMAcademy   0.994295  0.998363  0.996325\n",
       "r/truezelda   0.998045  0.993191  0.995612\n",
       "accuracy      0.996000  0.996000  0.996000"
      ]
     },
     "execution_count": 60,
     "metadata": {},
     "output_type": "execute_result"
    }
   ],
   "source": [
    "class_report_1 = pd.DataFrame(classification_report(y_test, preds_tvec, output_dict=True)).transpose()\n",
    "class_report_1.drop(index=['macro avg', 'weighted avg'], columns=['support'], inplace=True)\n",
    "class_report_1.rename(index={'0':'r/DMAcademy', '1':'r/truezelda'}, inplace=True)\n",
    "print('TF-IDF and Bernoulli NB Classification Report')\n",
    "class_report_1"
   ]
  },
  {
   "cell_type": "code",
   "execution_count": 40,
   "metadata": {},
   "outputs": [
    {
     "name": "stdout",
     "output_type": "stream",
     "text": [
      "              precision    recall  f1-score   support\n",
      "\n",
      "           0       0.99      1.00      1.00      1222\n",
      "           1       1.00      0.99      1.00      1028\n",
      "\n",
      "    accuracy                           1.00      2250\n",
      "   macro avg       1.00      1.00      1.00      2250\n",
      "weighted avg       1.00      1.00      1.00      2250\n",
      "\n"
     ]
    }
   ],
   "source": [
    "print(classification_report(y_test, preds_tvec))"
   ]
  },
  {
   "cell_type": "markdown",
   "metadata": {},
   "source": [
    "This model is better at classifying true negative, but has greater false negatives! Much higher specificity than the bernoulli naive bayes model."
   ]
  },
  {
   "cell_type": "code",
   "execution_count": null,
   "metadata": {},
   "outputs": [],
   "source": []
  },
  {
   "cell_type": "markdown",
   "metadata": {},
   "source": [
    "### Create a Support Vector Machine (SVM) model"
   ]
  },
  {
   "cell_type": "code",
   "execution_count": 41,
   "metadata": {},
   "outputs": [],
   "source": []
  },
  {
   "cell_type": "code",
   "execution_count": 61,
   "metadata": {},
   "outputs": [],
   "source": [
    "pipe = Pipeline([\n",
    "    #('cvec', CountVectorizer()),\n",
    "    ('tvec', TfidfVectorizer()),\n",
    "    ('svc', SVC())\n",
    "])"
   ]
  },
  {
   "cell_type": "code",
   "execution_count": 67,
   "metadata": {},
   "outputs": [],
   "source": [
    "svc=SVC()\n",
    "pipe_params = {\n",
    "    #'cvec__max_features':[2000, 3000, 4000, 5000],\n",
    "    #'cvec__min_df':[2, 3],\n",
    "    #'cvec__max_df':[.9, .95],\n",
    "    #'cvec__ngram_range':[(1, 1), (1, 2)],\n",
    "    'svc__C': np.linspace(1, 100, 20),\n",
    "    #'kernel':['linear', 'poly', 'rbf', 'sigmoid'],\n",
    "    #'degree':range(2,6),\n",
    "    #'gamma':['scale', 'auto']\n",
    "}"
   ]
  },
  {
   "cell_type": "code",
   "execution_count": 68,
   "metadata": {},
   "outputs": [],
   "source": [
    "svc_gs = GridSearchCV(pipe, param_grid = pipe_params, cv = 5, n_jobs=-1, verbose=2)"
   ]
  },
  {
   "cell_type": "code",
   "execution_count": 69,
   "metadata": {},
   "outputs": [
    {
     "data": {
      "text/plain": [
       "dict_keys(['C', 'break_ties', 'cache_size', 'class_weight', 'coef0', 'decision_function_shape', 'degree', 'gamma', 'kernel', 'max_iter', 'probability', 'random_state', 'shrinking', 'tol', 'verbose'])"
      ]
     },
     "execution_count": 69,
     "metadata": {},
     "output_type": "execute_result"
    }
   ],
   "source": [
    "SVC().get_params().keys()"
   ]
  },
  {
   "cell_type": "code",
   "execution_count": 73,
   "metadata": {
    "tags": []
   },
   "outputs": [
    {
     "name": "stdout",
     "output_type": "stream",
     "text": [
      "Fitting 5 folds for each of 20 candidates, totalling 100 fits\n",
      "Wall time: 2min 58s\n"
     ]
    },
    {
     "data": {
      "text/plain": [
       "GridSearchCV(cv=5,\n",
       "             estimator=Pipeline(steps=[('tvec', TfidfVectorizer()),\n",
       "                                       ('svc', SVC())]),\n",
       "             n_jobs=-1,\n",
       "             param_grid={'svc__C': array([  1.        ,   6.21052632,  11.42105263,  16.63157895,\n",
       "        21.84210526,  27.05263158,  32.26315789,  37.47368421,\n",
       "        42.68421053,  47.89473684,  53.10526316,  58.31578947,\n",
       "        63.52631579,  68.73684211,  73.94736842,  79.15789474,\n",
       "        84.36842105,  89.57894737,  94.78947368, 100.        ])},\n",
       "             verbose=2)"
      ]
     },
     "execution_count": 73,
     "metadata": {},
     "output_type": "execute_result"
    }
   ],
   "source": [
    "# Fit the model on training data\n",
    "\n",
    "# This takes a few minutes to run so be sure about it! \n",
    "%time svc_gs.fit(X_train, y_train)"
   ]
  },
  {
   "cell_type": "code",
   "execution_count": 74,
   "metadata": {},
   "outputs": [
    {
     "name": "stdout",
     "output_type": "stream",
     "text": [
      "0.9902214534771986\n",
      "{'svc__C': 6.2105263157894735}\n",
      "train accuracy: 1.0\n",
      "test accuracy: 0.9933333333333333\n"
     ]
    }
   ],
   "source": [
    "print(svc_gs.best_score_)\n",
    "print(svc_gs.best_params_)\n",
    "print('train accuracy:', svc_gs.score(X_train, y_train))\n",
    "print('test accuracy:', svc_gs.score(X_test, y_test))"
   ]
  },
  {
   "cell_type": "code",
   "execution_count": 75,
   "metadata": {},
   "outputs": [],
   "source": [
    "preds_svc = svc_gs.predict(X_test)"
   ]
  },
  {
   "cell_type": "code",
   "execution_count": 77,
   "metadata": {},
   "outputs": [],
   "source": [
    "cm = confusion_matrix(y_test, preds_svc)\n",
    "tn, fp, fn, tp = cm.ravel()"
   ]
  },
  {
   "cell_type": "code",
   "execution_count": 78,
   "metadata": {},
   "outputs": [
    {
     "data": {
      "image/png": "[encoded data removed]",
      "text/plain": [
       "<Figure size 432x288 with 2 Axes>"
      ]
     },
     "metadata": {
      "needs_background": "light"
     },
     "output_type": "display_data"
    }
   ],
   "source": [
    "ConfusionMatrixDisplay(cm, display_labels=['r/DMAcademy','r/truezelda']).plot();\n",
    "plt.title('SVM Confusion Matrix')\n",
    "plt.savefig('../visualizations/svm_confusion_matrix.png')"
   ]
  },
  {
   "cell_type": "code",
   "execution_count": 79,
   "metadata": {},
   "outputs": [
    {
     "name": "stdout",
     "output_type": "stream",
     "text": [
      "CVec and SVM Classification Report\n"
     ]
    },
    {
     "data": {
      "text/html": [
       "<div>\n",
       "<style scoped>\n",
       "    .dataframe tbody tr th:only-of-type {\n",
       "        vertical-align: middle;\n",
       "    }\n",
       "\n",
       "    .dataframe tbody tr th {\n",
       "        vertical-align: top;\n",
       "    }\n",
       "\n",
       "    .dataframe thead th {\n",
       "        text-align: right;\n",
       "    }\n",
       "</style>\n",
       "<table border=\"1\" class=\"dataframe\">\n",
       "  <thead>\n",
       "    <tr style=\"text-align: right;\">\n",
       "      <th></th>\n",
       "      <th>precision</th>\n",
       "      <th>recall</th>\n",
       "      <th>f1-score</th>\n",
       "    </tr>\n",
       "  </thead>\n",
       "  <tbody>\n",
       "    <tr>\n",
       "      <th>r/DMAcademy</th>\n",
       "      <td>0.991050</td>\n",
       "      <td>0.996727</td>\n",
       "      <td>0.993880</td>\n",
       "    </tr>\n",
       "    <tr>\n",
       "      <th>r/truezelda</th>\n",
       "      <td>0.996082</td>\n",
       "      <td>0.989300</td>\n",
       "      <td>0.992679</td>\n",
       "    </tr>\n",
       "    <tr>\n",
       "      <th>accuracy</th>\n",
       "      <td>0.993333</td>\n",
       "      <td>0.993333</td>\n",
       "      <td>0.993333</td>\n",
       "    </tr>\n",
       "  </tbody>\n",
       "</table>\n",
       "</div>"
      ],
      "text/plain": [
       "             precision    recall  f1-score\n",
       "r/DMAcademy   0.991050  0.996727  0.993880\n",
       "r/truezelda   0.996082  0.989300  0.992679\n",
       "accuracy      0.993333  0.993333  0.993333"
      ]
     },
     "execution_count": 79,
     "metadata": {},
     "output_type": "execute_result"
    }
   ],
   "source": [
    "class_report_1 = pd.DataFrame(classification_report(y_test, preds_svc, output_dict=True)).transpose()\n",
    "class_report_1.drop(index=['macro avg', 'weighted avg'], columns=['support'], inplace=True)\n",
    "class_report_1.rename(index={'0':'r/DMAcademy', '1':'r/truezelda'}, inplace=True)\n",
    "print('CVec and SVM Classification Report')\n",
    "class_report_1"
   ]
  },
  {
   "cell_type": "code",
   "execution_count": null,
   "metadata": {},
   "outputs": [],
   "source": []
  },
  {
   "cell_type": "code",
   "execution_count": null,
   "metadata": {},
   "outputs": [],
   "source": [
    "#X = cvec.transform(X)"
   ]
  },
  {
   "cell_type": "code",
   "execution_count": null,
   "metadata": {},
   "outputs": [],
   "source": [
    "X"
   ]
  },
  {
   "cell_type": "code",
   "execution_count": null,
   "metadata": {},
   "outputs": [],
   "source": [
    "corpus_df['subreddit']"
   ]
  },
  {
   "cell_type": "code",
   "execution_count": null,
   "metadata": {},
   "outputs": [],
   "source": [
    "results = pd.DataFrame(corpus_df['subreddit'])"
   ]
  },
  {
   "cell_type": "code",
   "execution_count": null,
   "metadata": {},
   "outputs": [],
   "source": [
    "results.head()"
   ]
  },
  {
   "cell_type": "code",
   "execution_count": null,
   "metadata": {},
   "outputs": [],
   "source": [
    "results['predicted'] = svc_gs.predict(X)"
   ]
  },
  {
   "cell_type": "code",
   "execution_count": null,
   "metadata": {},
   "outputs": [],
   "source": [
    "results.head()"
   ]
  },
  {
   "cell_type": "code",
   "execution_count": null,
   "metadata": {},
   "outputs": [],
   "source": [
    "mask = results['predicted']!=results['subreddit']\n",
    "row_ids = results[mask].index"
   ]
  },
  {
   "cell_type": "code",
   "execution_count": null,
   "metadata": {},
   "outputs": [],
   "source": [
    "results[mask].index"
   ]
  },
  {
   "cell_type": "code",
   "execution_count": null,
   "metadata": {},
   "outputs": [],
   "source": [
    "print(f'The model guessed this was: {results[\"predicted\"].iloc[38]}.')\n",
    "print(f'This actually is: {results[\"subreddit\"].iloc[38]}.')"
   ]
  },
  {
   "cell_type": "code",
   "execution_count": null,
   "metadata": {},
   "outputs": [],
   "source": [
    "for index in row_ids[:5]:\n",
    "    print(corpus_df['title'].iloc[index])\n",
    "    print(corpus_df['selftext'].iloc[index])\n",
    "    print(f'The model guessed this was: {results[\"predicted\"].iloc[index]}.')\n",
    "    print(f'This actually is: {results[\"subreddit\"].iloc[index]}.')\n",
    "    print('\\n')\n",
    "    "
   ]
  },
  {
   "cell_type": "code",
   "execution_count": null,
   "metadata": {},
   "outputs": [],
   "source": []
  }
 ],
 "metadata": {
  "kernelspec": {
   "display_name": "Python 3",
   "language": "python",
   "name": "python3"
  },
  "language_info": {
   "codemirror_mode": {
    "name": "ipython",
    "version": 3
   },
   "file_extension": ".py",
   "mimetype": "text/x-python",
   "name": "python",
   "nbconvert_exporter": "python",
   "pygments_lexer": "ipython3",
   "version": "3.8.5"
  }
 },
 "nbformat": 4,
 "nbformat_minor": 5
}
