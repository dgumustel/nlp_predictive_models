{
 "cells": [
  {
   "cell_type": "markdown",
   "id": "polar-metro",
   "metadata": {},
   "source": [
    "# Predicting What Subreddit a Post Came From\n",
    "---"
   ]
  },
  {
   "cell_type": "markdown",
   "id": "swiss-elizabeth",
   "metadata": {},
   "source": [
    "### This notebook accomplishes the following:\n",
    "\n",
    "\n",
    "---"
   ]
  },
  {
   "cell_type": "markdown",
   "id": "detailed-nomination",
   "metadata": {},
   "source": [
    "### Prepare data for modeling\n",
    "\n",
    "Things to do here:\n",
    "* grab just the subreddit, selftext, and title\n",
    "* binarize the subreddit column\n",
    "* train_test_split\n",
    "* countvectorize the title and selftext"
   ]
  },
  {
   "cell_type": "code",
   "execution_count": 1,
   "id": "casual-peninsula",
   "metadata": {},
   "outputs": [],
   "source": [
    "# Imports\n",
    "import pandas as pd\n",
    "import time\n",
    "import numpy as np\n",
    "\n",
    "from sklearn.pipeline import Pipeline\n",
    "from sklearn.model_selection import train_test_split, GridSearchCV\n",
    "from sklearn.naive_bayes import MultinomialNB, BernoulliNB\n",
    "from sklearn.metrics import confusion_matrix, ConfusionMatrixDisplay\n",
    "from sklearn.feature_extraction.text import CountVectorizer, TfidfVectorizer"
   ]
  },
  {
   "cell_type": "markdown",
   "id": "short-collapse",
   "metadata": {},
   "source": [
    "### Read in the data files"
   ]
  },
  {
   "cell_type": "code",
   "execution_count": 4,
   "id": "prime-appointment",
   "metadata": {},
   "outputs": [],
   "source": [
    "df1 = pd.read_csv('../data/clean_dmacademy.csv')\n",
    "df2 = pd.read_csv('../data/clean_truezelda.csv')"
   ]
  },
  {
   "cell_type": "code",
   "execution_count": 5,
   "id": "forward-organizer",
   "metadata": {},
   "outputs": [],
   "source": [
    "frames = [df1, df2]"
   ]
  },
  {
   "cell_type": "code",
   "execution_count": 6,
   "id": "polyphonic-questionnaire",
   "metadata": {},
   "outputs": [],
   "source": [
    "text_df = pd.concat(frames, axis=0, ignore_index=True)"
   ]
  },
  {
   "cell_type": "code",
   "execution_count": 7,
   "id": "increasing-copyright",
   "metadata": {},
   "outputs": [
    {
     "data": {
      "text/html": [
       "<div>\n",
       "<style scoped>\n",
       "    .dataframe tbody tr th:only-of-type {\n",
       "        vertical-align: middle;\n",
       "    }\n",
       "\n",
       "    .dataframe tbody tr th {\n",
       "        vertical-align: top;\n",
       "    }\n",
       "\n",
       "    .dataframe thead th {\n",
       "        text-align: right;\n",
       "    }\n",
       "</style>\n",
       "<table border=\"1\" class=\"dataframe\">\n",
       "  <thead>\n",
       "    <tr style=\"text-align: right;\">\n",
       "      <th></th>\n",
       "      <th>subreddit</th>\n",
       "      <th>title</th>\n",
       "      <th>text</th>\n",
       "    </tr>\n",
       "  </thead>\n",
       "  <tbody>\n",
       "    <tr>\n",
       "      <th>0</th>\n",
       "      <td>DMAcademy</td>\n",
       "      <td>Seeking seasoned DMs to be guests on interview...</td>\n",
       "      <td>Edit  UPDATE  Thank you for the robust respo...</td>\n",
       "    </tr>\n",
       "    <tr>\n",
       "      <th>1</th>\n",
       "      <td>DMAcademy</td>\n",
       "      <td>TERRAIN and Using it Effectively</td>\n",
       "      <td>TERRAIN and using it Effectively  DM Tips  Usi...</td>\n",
       "    </tr>\n",
       "    <tr>\n",
       "      <th>2</th>\n",
       "      <td>DMAcademy</td>\n",
       "      <td>Know the exact location of something</td>\n",
       "      <td>The players are planning on dropping an evil a...</td>\n",
       "    </tr>\n",
       "    <tr>\n",
       "      <th>3</th>\n",
       "      <td>DMAcademy</td>\n",
       "      <td>How to run military basic as a session</td>\n",
       "      <td>I am running a campaign for all intents and pu...</td>\n",
       "    </tr>\n",
       "    <tr>\n",
       "      <th>4</th>\n",
       "      <td>DMAcademy</td>\n",
       "      <td>Best time to take breaks how long they should be</td>\n",
       "      <td>Hey just a newbie DM  My sessions are usually ...</td>\n",
       "    </tr>\n",
       "    <tr>\n",
       "      <th>...</th>\n",
       "      <td>...</td>\n",
       "      <td>...</td>\n",
       "      <td>...</td>\n",
       "    </tr>\n",
       "    <tr>\n",
       "      <th>8994</th>\n",
       "      <td>truezelda</td>\n",
       "      <td>What happened in the story of the missing link...</td>\n",
       "      <td>I don t really like playing games now but I am...</td>\n",
       "    </tr>\n",
       "    <tr>\n",
       "      <th>8995</th>\n",
       "      <td>truezelda</td>\n",
       "      <td>Do you think Blind The Thief is a Sheikah</td>\n",
       "      <td>We know that he lived in Kakariko Village</td>\n",
       "    </tr>\n",
       "    <tr>\n",
       "      <th>8996</th>\n",
       "      <td>truezelda</td>\n",
       "      <td>Should games such as Tri Force Heroes and Four...</td>\n",
       "      <td>The Zelda timeline is infamous for being convo...</td>\n",
       "    </tr>\n",
       "    <tr>\n",
       "      <th>8997</th>\n",
       "      <td>truezelda</td>\n",
       "      <td>Review score predictions for Skyward HD</td>\n",
       "      <td>Title says it all How will it fare  With the o...</td>\n",
       "    </tr>\n",
       "    <tr>\n",
       "      <th>8998</th>\n",
       "      <td>truezelda</td>\n",
       "      <td>Can anyone help me find a normally priced zeld...</td>\n",
       "      <td>My daughter loves to play super smash bros and...</td>\n",
       "    </tr>\n",
       "  </tbody>\n",
       "</table>\n",
       "<p>8999 rows × 3 columns</p>\n",
       "</div>"
      ],
      "text/plain": [
       "      subreddit                                              title  \\\n",
       "0     DMAcademy  Seeking seasoned DMs to be guests on interview...   \n",
       "1     DMAcademy                   TERRAIN and Using it Effectively   \n",
       "2     DMAcademy               Know the exact location of something   \n",
       "3     DMAcademy             How to run military basic as a session   \n",
       "4     DMAcademy   Best time to take breaks how long they should be   \n",
       "...         ...                                                ...   \n",
       "8994  truezelda  What happened in the story of the missing link...   \n",
       "8995  truezelda         Do you think Blind The Thief is a Sheikah    \n",
       "8996  truezelda  Should games such as Tri Force Heroes and Four...   \n",
       "8997  truezelda           Review score predictions for Skyward HD    \n",
       "8998  truezelda  Can anyone help me find a normally priced zeld...   \n",
       "\n",
       "                                                   text  \n",
       "0       Edit  UPDATE  Thank you for the robust respo...  \n",
       "1     TERRAIN and using it Effectively  DM Tips  Usi...  \n",
       "2     The players are planning on dropping an evil a...  \n",
       "3     I am running a campaign for all intents and pu...  \n",
       "4     Hey just a newbie DM  My sessions are usually ...  \n",
       "...                                                 ...  \n",
       "8994  I don t really like playing games now but I am...  \n",
       "8995         We know that he lived in Kakariko Village   \n",
       "8996  The Zelda timeline is infamous for being convo...  \n",
       "8997  Title says it all How will it fare  With the o...  \n",
       "8998  My daughter loves to play super smash bros and...  \n",
       "\n",
       "[8999 rows x 3 columns]"
      ]
     },
     "execution_count": 7,
     "metadata": {},
     "output_type": "execute_result"
    }
   ],
   "source": [
    "text_df"
   ]
  },
  {
   "cell_type": "code",
   "execution_count": 8,
   "id": "continuous-diamond",
   "metadata": {},
   "outputs": [
    {
     "data": {
      "text/plain": [
       "subreddit    0\n",
       "title        0\n",
       "text         0\n",
       "dtype: int64"
      ]
     },
     "execution_count": 8,
     "metadata": {},
     "output_type": "execute_result"
    }
   ],
   "source": [
    "text_df.isnull().sum()"
   ]
  },
  {
   "cell_type": "markdown",
   "id": "sought-membrane",
   "metadata": {},
   "source": [
    "Finally, replace those nulls with empty strings."
   ]
  },
  {
   "cell_type": "code",
   "execution_count": 9,
   "id": "instant-trauma",
   "metadata": {},
   "outputs": [],
   "source": [
    "X = text_df['title'] + ' ' + text_df['text']\n",
    "y = text_df['subreddit']"
   ]
  },
  {
   "cell_type": "markdown",
   "id": "accredited-alliance",
   "metadata": {},
   "source": [
    "### Double check that X has the titles and selftext"
   ]
  },
  {
   "cell_type": "code",
   "execution_count": 10,
   "id": "eight-spanking",
   "metadata": {},
   "outputs": [
    {
     "name": "stdout",
     "output_type": "stream",
     "text": [
      "Seeking seasoned DMs to be guests on interview podcast\n",
      "  Edit  UPDATE  Thank you for the robust response I ve had some great applications so far and I m hy\n",
      "Seeking seasoned DMs to be guests on interview podcast   Edit  UPDATE  Thank you for the robust response I ve had some great applications so far and I\n"
     ]
    }
   ],
   "source": [
    "print(text_df['title'][0])\n",
    "print(text_df['text'][0][:100])\n",
    "\n",
    "print(X[0][:150])"
   ]
  },
  {
   "cell_type": "markdown",
   "id": "tamil-tuition",
   "metadata": {},
   "source": [
    "Looks like it has what we want! "
   ]
  },
  {
   "cell_type": "markdown",
   "id": "fabulous-supervision",
   "metadata": {},
   "source": [
    "### Establishing a baseline\n",
    "In order to measure how good our models are doing, we have to compare our model accuracy to a **baseline**. "
   ]
  },
  {
   "cell_type": "code",
   "execution_count": 11,
   "id": "polar-sailing",
   "metadata": {},
   "outputs": [
    {
     "data": {
      "text/plain": [
       "DMAcademy    0.54306\n",
       "truezelda    0.45694\n",
       "Name: subreddit, dtype: float64"
      ]
     },
     "execution_count": 11,
     "metadata": {},
     "output_type": "execute_result"
    }
   ],
   "source": [
    "y.value_counts(normalize=True)"
   ]
  },
  {
   "cell_type": "code",
   "execution_count": 16,
   "id": "greatest-poland",
   "metadata": {},
   "outputs": [],
   "source": [
    "X_train, X_test, y_train, y_test = train_test_split(X, y, \n",
    "                                                    random_state = 42, \n",
    "                                                    stratify = y,\n",
    "                                                    shuffle=True)"
   ]
  },
  {
   "cell_type": "code",
   "execution_count": 17,
   "id": "unknown-shoulder",
   "metadata": {},
   "outputs": [
    {
     "data": {
      "text/plain": [
       "852     How do I balance NPC Fights Hey Guys I play Pe...\n",
       "2798    How do I handle starting a campaign adventure ...\n",
       "7450    What  Stal  enemy could ve also provided bone ...\n",
       "8383    Zelda songs you just don t like I really like ...\n",
       "1744    Homebrew Blacksmithing A player in my party is...\n",
       "                              ...                        \n",
       "7361    BoTW sequel information what and when  People ...\n",
       "8212    Skyward Sword Switch port listed on Amazon in ...\n",
       "7452    Why does anyone consider Ocarina of Time to be...\n",
       "4498    Campaign Adventure Ideas Some backstory I m cu...\n",
       "8734    After  years I finally got around to and beati...\n",
       "Length: 6749, dtype: object"
      ]
     },
     "execution_count": 17,
     "metadata": {},
     "output_type": "execute_result"
    }
   ],
   "source": [
    "X_train"
   ]
  },
  {
   "cell_type": "code",
   "execution_count": 18,
   "id": "african-creation",
   "metadata": {},
   "outputs": [
    {
     "data": {
      "text/plain": [
       "DMAcademy    0.543043\n",
       "truezelda    0.456957\n",
       "Name: subreddit, dtype: float64"
      ]
     },
     "execution_count": 18,
     "metadata": {},
     "output_type": "execute_result"
    }
   ],
   "source": [
    "y_train.value_counts(normalize=True)"
   ]
  },
  {
   "cell_type": "code",
   "execution_count": null,
   "id": "quarterly-printing",
   "metadata": {},
   "outputs": [],
   "source": []
  },
  {
   "cell_type": "code",
   "execution_count": null,
   "id": "proved-chambers",
   "metadata": {},
   "outputs": [],
   "source": []
  },
  {
   "cell_type": "markdown",
   "id": "fancy-studio",
   "metadata": {},
   "source": [
    "### Combine GridSearchCV and Bernoulli Naive Bayes model"
   ]
  },
  {
   "cell_type": "code",
   "execution_count": 21,
   "id": "dense-benefit",
   "metadata": {},
   "outputs": [],
   "source": [
    "cvec = CountVectorizer()"
   ]
  },
  {
   "cell_type": "code",
   "execution_count": 22,
   "id": "super-wallet",
   "metadata": {},
   "outputs": [
    {
     "data": {
      "text/plain": [
       "Pipeline(steps=[('cvec', CountVectorizer()), ('nb', BernoulliNB())])"
      ]
     },
     "execution_count": 22,
     "metadata": {},
     "output_type": "execute_result"
    }
   ],
   "source": [
    "pipe = Pipeline([\n",
    "    ('cvec', CountVectorizer()),\n",
    "    ('nb', BernoulliNB())\n",
    "])\n",
    "pipe.fit(X_train, y_train)"
   ]
  },
  {
   "cell_type": "code",
   "execution_count": 23,
   "id": "invalid-nebraska",
   "metadata": {},
   "outputs": [],
   "source": [
    "pipe_params = {\n",
    "    'cvec__max_features':[2000, 3000, 4000, 5000],\n",
    "    'cvec__min_df':[2, 3],\n",
    "    'cvec__max_df':[.9, .95],\n",
    "    'cvec__ngram_range':[(1, 1), (1, 2)]\n",
    "}"
   ]
  },
  {
   "cell_type": "code",
   "execution_count": 24,
   "id": "eleven-share",
   "metadata": {},
   "outputs": [],
   "source": [
    "gs = GridSearchCV(pipe, param_grid = pipe_params, cv = 5)"
   ]
  },
  {
   "cell_type": "code",
   "execution_count": 26,
   "id": "frequent-wages",
   "metadata": {
    "tags": []
   },
   "outputs": [
    {
     "name": "stdout",
     "output_type": "stream",
     "text": [
      "Wall time: 5min 11s\n",
      "0.9905172006699063\n",
      "train accuracy: 0.9917024744406578\n",
      "test accuracy: 0.9955555555555555\n"
     ]
    }
   ],
   "source": [
    "%time gs.fit(X_train, y_train)\n",
    "\n",
    "print(gs.best_score_)\n",
    "\n",
    "print('train accuracy:', gs.score(X_train, y_train))\n",
    "\n",
    "print('test accuracy:', gs.score(X_test, y_test))"
   ]
  },
  {
   "cell_type": "code",
   "execution_count": 27,
   "id": "polished-addition",
   "metadata": {
    "tags": []
   },
   "outputs": [],
   "source": [
    "preds = gs.predict(X_test)"
   ]
  },
  {
   "cell_type": "code",
   "execution_count": 28,
   "id": "documentary-astrology",
   "metadata": {},
   "outputs": [
    {
     "data": {
      "image/png": "[encoded data removed]",
      "text/plain": [
       "<Figure size 432x288 with 2 Axes>"
      ]
     },
     "metadata": {
      "needs_background": "light"
     },
     "output_type": "display_data"
    }
   ],
   "source": [
    "cm = confusion_matrix(y_test, preds)\n",
    "tn, fp, fn, tp = cm.ravel()\n",
    "\n",
    "ConfusionMatrixDisplay(cm).plot();"
   ]
  },
  {
   "cell_type": "code",
   "execution_count": 29,
   "id": "strong-brook",
   "metadata": {},
   "outputs": [
    {
     "name": "stdout",
     "output_type": "stream",
     "text": [
      "specificity: 0.9967266775777414\n"
     ]
    }
   ],
   "source": [
    "specificity = tn / (tn + fp)\n",
    "print('specificity:', specificity)"
   ]
  },
  {
   "cell_type": "markdown",
   "id": "egyptian-playlist",
   "metadata": {},
   "source": [
    "### TFIDF Vectorizer"
   ]
  },
  {
   "cell_type": "code",
   "execution_count": null,
   "id": "western-principle",
   "metadata": {},
   "outputs": [],
   "source": [
    "tvec = TfidfVectorizer()"
   ]
  },
  {
   "cell_type": "code",
   "execution_count": null,
   "id": "defined-inclusion",
   "metadata": {},
   "outputs": [],
   "source": [
    "X_train_df = pd.DataFrame(tvec.fit_transform(X_train).todense(),\n",
    "                         columns = tvec.get_feature_names())"
   ]
  },
  {
   "cell_type": "code",
   "execution_count": null,
   "id": "exotic-fighter",
   "metadata": {},
   "outputs": [],
   "source": [
    "X_train_df.sum().sort_values(ascending=False).head(10).plot(kind='barh');"
   ]
  },
  {
   "cell_type": "code",
   "execution_count": null,
   "id": "voluntary-optimum",
   "metadata": {},
   "outputs": [],
   "source": [
    "import matplotlib.pyplot as plt"
   ]
  },
  {
   "cell_type": "code",
   "execution_count": null,
   "id": "purple-democracy",
   "metadata": {},
   "outputs": [],
   "source": [
    "plt.figure(figsize=(16,25))\n",
    "X_train_df.sum().sort_values(ascending=True).head(150).plot(kind='barh');"
   ]
  },
  {
   "cell_type": "code",
   "execution_count": null,
   "id": "worthy-stopping",
   "metadata": {},
   "outputs": [],
   "source": [
    "pipe_tvec = Pipeline([\n",
    "    ('tvec', TfidfVectorizer()),\n",
    "    ('nb', MultinomialNB())\n",
    "])"
   ]
  },
  {
   "cell_type": "code",
   "execution_count": null,
   "id": "massive-cutting",
   "metadata": {},
   "outputs": [],
   "source": [
    "pipe_tvec_params = {\n",
    "    'tvec__max_features': [2000, 3000, 4000, 5000],\n",
    "    'tvec__stop_words': [None, 'english'],\n",
    "    'tvec__ngram_range': [(1, 1), (1, 2)]\n",
    "}"
   ]
  },
  {
   "cell_type": "code",
   "execution_count": null,
   "id": "opening-isaac",
   "metadata": {},
   "outputs": [],
   "source": [
    "gs_tvec = GridSearchCV(pipe_tvec, param_grid = pipe_tvec_params, cv=5)"
   ]
  },
  {
   "cell_type": "code",
   "execution_count": null,
   "id": "aggressive-roots",
   "metadata": {},
   "outputs": [],
   "source": [
    "%time gs_tvec.fit(X_train, y_train)"
   ]
  },
  {
   "cell_type": "code",
   "execution_count": null,
   "id": "boolean-packaging",
   "metadata": {},
   "outputs": [],
   "source": [
    "gs_tvec.score(X_train, y_train)"
   ]
  },
  {
   "cell_type": "code",
   "execution_count": null,
   "id": "dying-musical",
   "metadata": {},
   "outputs": [],
   "source": [
    "gs_tvec.score(X_test, y_test)"
   ]
  },
  {
   "cell_type": "code",
   "execution_count": null,
   "id": "personal-garlic",
   "metadata": {},
   "outputs": [],
   "source": [
    "preds_tvec = gs_tvec.predict(X_test)\n",
    "\n",
    "cm = confusion_matrix(y_test, preds_tvec)\n",
    "tn, fp, fn, tp = cm.ravel()\n",
    "\n",
    "specificity = tn / (tn + fp)\n",
    "specificity"
   ]
  },
  {
   "cell_type": "code",
   "execution_count": null,
   "id": "viral-smoke",
   "metadata": {},
   "outputs": [],
   "source": [
    "ConfusionMatrixDisplay(cm).plot();"
   ]
  },
  {
   "cell_type": "markdown",
   "id": "fatty-endorsement",
   "metadata": {},
   "source": [
    "This model is better at classifying true negative, but has greater false negatives! Much higher specificity than the bernoulli naive bayes model."
   ]
  },
  {
   "cell_type": "code",
   "execution_count": null,
   "id": "brave-elimination",
   "metadata": {},
   "outputs": [],
   "source": []
  },
  {
   "cell_type": "markdown",
   "id": "healthy-trainer",
   "metadata": {},
   "source": [
    "### Create a Support Vector Machine (SVM) model"
   ]
  },
  {
   "cell_type": "code",
   "execution_count": 153,
   "id": "practical-reservoir",
   "metadata": {},
   "outputs": [],
   "source": [
    "from sklearn.svm import SVC"
   ]
  },
  {
   "cell_type": "code",
   "execution_count": 84,
   "id": "complimentary-conducting",
   "metadata": {},
   "outputs": [],
   "source": [
    "# for some reason I can't get SVC to work in a pipeline with cvec\n",
    "# so I broke it up into two steps"
   ]
  },
  {
   "cell_type": "code",
   "execution_count": 149,
   "id": "dramatic-envelope",
   "metadata": {},
   "outputs": [],
   "source": [
    "# cvec = CountVectorizer(stop_words='english')\n",
    "# X_train = cvec.fit_transform(X_train)\n",
    "# X_test = cvec.transform(X_test)"
   ]
  },
  {
   "cell_type": "code",
   "execution_count": 154,
   "id": "younger-fiction",
   "metadata": {},
   "outputs": [],
   "source": [
    "pipe = Pipeline([\n",
    "    ('cvec', CountVectorizer()),\n",
    "    ('svc', SVC())\n",
    "])"
   ]
  },
  {
   "cell_type": "code",
   "execution_count": 158,
   "id": "fabulous-vector",
   "metadata": {},
   "outputs": [],
   "source": [
    "svc=SVC()\n",
    "pipe_params = {\n",
    "    #'cvec__max_features':[2000, 3000, 4000, 5000],\n",
    "    #'cvec__min_df':[2, 3],\n",
    "    #'cvec__max_df':[.9, .95],\n",
    "    #'cvec__ngram_range':[(1, 1), (1, 2)],\n",
    "    #'svc__C': np.linspace(0.0001, 1, 20),\n",
    "    #'kernel':['linear', 'poly', 'rbf', 'sigmoid'],\n",
    "    #'degree':range(2,6),\n",
    "    #'gamma':['scale', 'auto']\n",
    "}"
   ]
  },
  {
   "cell_type": "code",
   "execution_count": 159,
   "id": "vocal-confusion",
   "metadata": {},
   "outputs": [],
   "source": [
    "svc_gs = GridSearchCV(pipe, param_grid = pipe_params, cv = 5)"
   ]
  },
  {
   "cell_type": "code",
   "execution_count": 160,
   "id": "devoted-judge",
   "metadata": {},
   "outputs": [
    {
     "data": {
      "text/plain": [
       "dict_keys(['C', 'break_ties', 'cache_size', 'class_weight', 'coef0', 'decision_function_shape', 'degree', 'gamma', 'kernel', 'max_iter', 'probability', 'random_state', 'shrinking', 'tol', 'verbose'])"
      ]
     },
     "execution_count": 160,
     "metadata": {},
     "output_type": "execute_result"
    }
   ],
   "source": [
    "SVC().get_params().keys()"
   ]
  },
  {
   "cell_type": "code",
   "execution_count": 161,
   "id": "bridal-finder",
   "metadata": {
    "tags": []
   },
   "outputs": [
    {
     "name": "stdout",
     "output_type": "stream",
     "text": [
      "Wall time: 1min 7s\n"
     ]
    },
    {
     "data": {
      "text/plain": [
       "GridSearchCV(cv=5,\n",
       "             estimator=Pipeline(steps=[('cvec', CountVectorizer()),\n",
       "                                       ('svc', SVC())]),\n",
       "             param_grid={})"
      ]
     },
     "execution_count": 161,
     "metadata": {},
     "output_type": "execute_result"
    }
   ],
   "source": [
    "# Fit the model on training data\n",
    "\n",
    "# This takes a few minutes to run so be sure about it! \n",
    "%time svc_gs.fit(X_train, y_train)"
   ]
  },
  {
   "cell_type": "code",
   "execution_count": 162,
   "id": "spoken-treatment",
   "metadata": {},
   "outputs": [
    {
     "name": "stdout",
     "output_type": "stream",
     "text": [
      "0.9473123415610407\n",
      "train accuracy: 0.9626517273576097\n",
      "test accuracy: 0.9499799919967987\n"
     ]
    }
   ],
   "source": [
    "print(svc_gs.best_score_)\n",
    "print('train accuracy:', svc_gs.score(X_train, y_train))\n",
    "print('test accuracy:', svc_gs.score(X_test, y_test))"
   ]
  },
  {
   "cell_type": "code",
   "execution_count": 163,
   "id": "dimensional-president",
   "metadata": {},
   "outputs": [],
   "source": [
    "preds = svc_gs.predict(X_test)"
   ]
  },
  {
   "cell_type": "code",
   "execution_count": 164,
   "id": "spatial-florist",
   "metadata": {},
   "outputs": [],
   "source": [
    "cm = confusion_matrix(y_test, preds)\n",
    "tn, fp, fn, tp = cm.ravel()"
   ]
  },
  {
   "cell_type": "code",
   "execution_count": 165,
   "id": "concerned-enterprise",
   "metadata": {},
   "outputs": [
    {
     "data": {
      "image/png": "[encoded data removed]",
      "text/plain": [
       "<Figure size 432x288 with 2 Axes>"
      ]
     },
     "metadata": {
      "needs_background": "light"
     },
     "output_type": "display_data"
    }
   ],
   "source": [
    "ConfusionMatrixDisplay(cm).plot();"
   ]
  },
  {
   "cell_type": "code",
   "execution_count": 167,
   "id": "pleased-moderator",
   "metadata": {
    "tags": []
   },
   "outputs": [
    {
     "name": "stdout",
     "output_type": "stream",
     "text": [
      "0.9626517273576097\n",
      "0.9499799919967987\n"
     ]
    }
   ],
   "source": [
    "print(svc_gs.score(X_train, y_train))\n",
    "print(svc_gs.score(X_test, y_test))"
   ]
  },
  {
   "cell_type": "code",
   "execution_count": 168,
   "id": "traditional-emphasis",
   "metadata": {},
   "outputs": [
    {
     "data": {
      "text/plain": [
       "0.9473123415610407"
      ]
     },
     "execution_count": 168,
     "metadata": {},
     "output_type": "execute_result"
    }
   ],
   "source": [
    "svc_gs.best_score_"
   ]
  },
  {
   "cell_type": "code",
   "execution_count": 1,
   "id": "cellular-elite",
   "metadata": {},
   "outputs": [
    {
     "ename": "NameError",
     "evalue": "name 'svc_gs' is not defined",
     "output_type": "error",
     "traceback": [
      "\u001b[1;31m---------------------------------------------------------------------------\u001b[0m",
      "\u001b[1;31mNameError\u001b[0m                                 Traceback (most recent call last)",
      "\u001b[1;32m<ipython-input-1-bc52a0de2590>\u001b[0m in \u001b[0;36m<module>\u001b[1;34m\u001b[0m\n\u001b[1;32m----> 1\u001b[1;33m \u001b[0msvc_gs\u001b[0m\u001b[1;33m.\u001b[0m\u001b[0mbest_params_\u001b[0m\u001b[1;33m\u001b[0m\u001b[1;33m\u001b[0m\u001b[0m\n\u001b[0m",
      "\u001b[1;31mNameError\u001b[0m: name 'svc_gs' is not defined"
     ]
    }
   ],
   "source": [
    "svc_gs.best_params_"
   ]
  },
  {
   "cell_type": "code",
   "execution_count": 170,
   "id": "seventh-minute",
   "metadata": {},
   "outputs": [],
   "source": [
    "#X = cvec.transform(X)"
   ]
  },
  {
   "cell_type": "code",
   "execution_count": 171,
   "id": "formed-congo",
   "metadata": {},
   "outputs": [
    {
     "data": {
      "text/plain": [
       "0       Seeking seasoned DMs to be guests on interview...\n",
       "1       TERRAIN, and Using it Effectively TERRAIN, and...\n",
       "2       Know the exact location of something The playe...\n",
       "3       How to run military basic as a session I am ru...\n",
       "4       Best time to take breaks/how long they should ...\n",
       "                              ...                        \n",
       "9991    Should games such as Tri Force Heroes and Four...\n",
       "9992    Review score predictions for Skyward HD? Title...\n",
       "9993      Should I watch or play Majora’s Mask? [deleted]\n",
       "9994    Can anyone help me find a normally priced zeld...\n",
       "9995        So, SSHD is only what we got on anniversary? \n",
       "Length: 9996, dtype: object"
      ]
     },
     "execution_count": 171,
     "metadata": {},
     "output_type": "execute_result"
    }
   ],
   "source": [
    "X"
   ]
  },
  {
   "cell_type": "code",
   "execution_count": 112,
   "id": "seasonal-syndicate",
   "metadata": {},
   "outputs": [
    {
     "data": {
      "text/plain": [
       "0       DMAcademy\n",
       "1       DMAcademy\n",
       "2       DMAcademy\n",
       "3       DMAcademy\n",
       "4       DMAcademy\n",
       "          ...    \n",
       "9991    truezelda\n",
       "9992    truezelda\n",
       "9993    truezelda\n",
       "9994    truezelda\n",
       "9995    truezelda\n",
       "Name: subreddit, Length: 9996, dtype: object"
      ]
     },
     "execution_count": 112,
     "metadata": {},
     "output_type": "execute_result"
    }
   ],
   "source": [
    "text_df['subreddit']"
   ]
  },
  {
   "cell_type": "code",
   "execution_count": 113,
   "id": "dedicated-fields",
   "metadata": {},
   "outputs": [],
   "source": [
    "results = pd.DataFrame(text_df['subreddit'])"
   ]
  },
  {
   "cell_type": "code",
   "execution_count": 114,
   "id": "floating-underwear",
   "metadata": {},
   "outputs": [
    {
     "data": {
      "text/html": [
       "<div>\n",
       "<style scoped>\n",
       "    .dataframe tbody tr th:only-of-type {\n",
       "        vertical-align: middle;\n",
       "    }\n",
       "\n",
       "    .dataframe tbody tr th {\n",
       "        vertical-align: top;\n",
       "    }\n",
       "\n",
       "    .dataframe thead th {\n",
       "        text-align: right;\n",
       "    }\n",
       "</style>\n",
       "<table border=\"1\" class=\"dataframe\">\n",
       "  <thead>\n",
       "    <tr style=\"text-align: right;\">\n",
       "      <th></th>\n",
       "      <th>subreddit</th>\n",
       "    </tr>\n",
       "  </thead>\n",
       "  <tbody>\n",
       "    <tr>\n",
       "      <th>0</th>\n",
       "      <td>DMAcademy</td>\n",
       "    </tr>\n",
       "    <tr>\n",
       "      <th>1</th>\n",
       "      <td>DMAcademy</td>\n",
       "    </tr>\n",
       "    <tr>\n",
       "      <th>2</th>\n",
       "      <td>DMAcademy</td>\n",
       "    </tr>\n",
       "    <tr>\n",
       "      <th>3</th>\n",
       "      <td>DMAcademy</td>\n",
       "    </tr>\n",
       "    <tr>\n",
       "      <th>4</th>\n",
       "      <td>DMAcademy</td>\n",
       "    </tr>\n",
       "  </tbody>\n",
       "</table>\n",
       "</div>"
      ],
      "text/plain": [
       "   subreddit\n",
       "0  DMAcademy\n",
       "1  DMAcademy\n",
       "2  DMAcademy\n",
       "3  DMAcademy\n",
       "4  DMAcademy"
      ]
     },
     "execution_count": 114,
     "metadata": {},
     "output_type": "execute_result"
    }
   ],
   "source": [
    "results.head()"
   ]
  },
  {
   "cell_type": "code",
   "execution_count": 115,
   "id": "honest-softball",
   "metadata": {},
   "outputs": [],
   "source": [
    "results['predicted'] = svc_gs.predict(X)"
   ]
  },
  {
   "cell_type": "code",
   "execution_count": 116,
   "id": "still-personal",
   "metadata": {},
   "outputs": [
    {
     "data": {
      "text/html": [
       "<div>\n",
       "<style scoped>\n",
       "    .dataframe tbody tr th:only-of-type {\n",
       "        vertical-align: middle;\n",
       "    }\n",
       "\n",
       "    .dataframe tbody tr th {\n",
       "        vertical-align: top;\n",
       "    }\n",
       "\n",
       "    .dataframe thead th {\n",
       "        text-align: right;\n",
       "    }\n",
       "</style>\n",
       "<table border=\"1\" class=\"dataframe\">\n",
       "  <thead>\n",
       "    <tr style=\"text-align: right;\">\n",
       "      <th></th>\n",
       "      <th>subreddit</th>\n",
       "      <th>predicted</th>\n",
       "    </tr>\n",
       "  </thead>\n",
       "  <tbody>\n",
       "    <tr>\n",
       "      <th>0</th>\n",
       "      <td>DMAcademy</td>\n",
       "      <td>DMAcademy</td>\n",
       "    </tr>\n",
       "    <tr>\n",
       "      <th>1</th>\n",
       "      <td>DMAcademy</td>\n",
       "      <td>DMAcademy</td>\n",
       "    </tr>\n",
       "    <tr>\n",
       "      <th>2</th>\n",
       "      <td>DMAcademy</td>\n",
       "      <td>DMAcademy</td>\n",
       "    </tr>\n",
       "    <tr>\n",
       "      <th>3</th>\n",
       "      <td>DMAcademy</td>\n",
       "      <td>DMAcademy</td>\n",
       "    </tr>\n",
       "    <tr>\n",
       "      <th>4</th>\n",
       "      <td>DMAcademy</td>\n",
       "      <td>DMAcademy</td>\n",
       "    </tr>\n",
       "  </tbody>\n",
       "</table>\n",
       "</div>"
      ],
      "text/plain": [
       "   subreddit  predicted\n",
       "0  DMAcademy  DMAcademy\n",
       "1  DMAcademy  DMAcademy\n",
       "2  DMAcademy  DMAcademy\n",
       "3  DMAcademy  DMAcademy\n",
       "4  DMAcademy  DMAcademy"
      ]
     },
     "execution_count": 116,
     "metadata": {},
     "output_type": "execute_result"
    }
   ],
   "source": [
    "results.head()"
   ]
  },
  {
   "cell_type": "code",
   "execution_count": 122,
   "id": "restricted-donna",
   "metadata": {},
   "outputs": [],
   "source": [
    "mask = results['predicted']!=results['subreddit']\n",
    "row_ids = results[mask].index"
   ]
  },
  {
   "cell_type": "code",
   "execution_count": 125,
   "id": "statewide-socket",
   "metadata": {},
   "outputs": [
    {
     "data": {
      "text/plain": [
       "Int64Index([  38,   39,   43,   47,   81,   89,  108,  117,  148,  150,\n",
       "            ...\n",
       "            6091, 6382, 6652, 7186, 7893, 8038, 8261, 8378, 8986, 9682],\n",
       "           dtype='int64', length=213)"
      ]
     },
     "execution_count": 125,
     "metadata": {},
     "output_type": "execute_result"
    }
   ],
   "source": [
    "results[mask].index"
   ]
  },
  {
   "cell_type": "code",
   "execution_count": 128,
   "id": "swedish-struggle",
   "metadata": {},
   "outputs": [
    {
     "name": "stdout",
     "output_type": "stream",
     "text": [
      "The model guessed this was: truezelda.\n",
      "This actually is: DMAcademy.\n"
     ]
    }
   ],
   "source": [
    "print(f'The model guessed this was: {results[\"predicted\"].iloc[38]}.')\n",
    "print(f'This actually is: {results[\"subreddit\"].iloc[38]}.')"
   ]
  },
  {
   "cell_type": "code",
   "execution_count": 131,
   "id": "above-customer",
   "metadata": {},
   "outputs": [
    {
     "name": "stdout",
     "output_type": "stream",
     "text": [
      "What to do with an unhelpful player.\n",
      "[deleted]\n",
      "The model guessed this was: truezelda.\n",
      "This actually is: DMAcademy.\n",
      "\n",
      "\n",
      "I create content on demand\n",
      "Ask away i can create from maps to mods and more\n",
      "The model guessed this was: truezelda.\n",
      "This actually is: DMAcademy.\n",
      "\n",
      "\n",
      "How to Design a Plane of Existence?\n",
      "I want to design a dreamscape and accompanying nightmare realm, but I'm not sure how to design planes. Any tips?\n",
      "The model guessed this was: truezelda.\n",
      "This actually is: DMAcademy.\n",
      "\n",
      "\n",
      "Who is the Queen of Air and Darkness? What happened to her and what does it have to do with Auril, Faerun's goddess of winter's wrath?\n",
      "[removed]\n",
      "The model guessed this was: truezelda.\n",
      "This actually is: DMAcademy.\n",
      "\n",
      "\n",
      "Menacing music for Villains?\n",
      "[deleted]\n",
      "The model guessed this was: truezelda.\n",
      "This actually is: DMAcademy.\n",
      "\n",
      "\n"
     ]
    }
   ],
   "source": [
    "for index in row_ids[:5]:\n",
    "    print(text_df['title'].iloc[index])\n",
    "    print(text_df['selftext'].iloc[index])\n",
    "    print(f'The model guessed this was: {results[\"predicted\"].iloc[index]}.')\n",
    "    print(f'This actually is: {results[\"subreddit\"].iloc[index]}.')\n",
    "    print('\\n')\n",
    "    "
   ]
  },
  {
   "cell_type": "code",
   "execution_count": null,
   "id": "selective-signal",
   "metadata": {},
   "outputs": [],
   "source": []
  }
 ],
 "metadata": {
  "kernelspec": {
   "display_name": "Python 3",
   "language": "python",
   "name": "python3"
  },
  "language_info": {
   "codemirror_mode": {
    "name": "ipython",
    "version": 3
   },
   "file_extension": ".py",
   "mimetype": "text/x-python",
   "name": "python",
   "nbconvert_exporter": "python",
   "pygments_lexer": "ipython3",
   "version": "3.9.2"
  }
 },
 "nbformat": 4,
 "nbformat_minor": 5
}
