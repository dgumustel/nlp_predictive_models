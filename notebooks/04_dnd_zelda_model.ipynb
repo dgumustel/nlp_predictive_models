{
 "cells": [
  {
   "cell_type": "markdown",
   "id": "institutional-intermediate",
   "metadata": {},
   "source": [
    "# Predicting What Subreddit a Post Came From\n",
    "---"
   ]
  },
  {
   "cell_type": "markdown",
   "id": "judicial-shareware",
   "metadata": {},
   "source": [
    "### This notebook accomplishes the following:\n",
    "\n",
    "\n",
    "---"
   ]
  },
  {
   "cell_type": "markdown",
   "id": "previous-career",
   "metadata": {},
   "source": [
    "### Prepare data for modeling\n",
    "\n",
    "Things to do here:\n",
    "* grab just the subreddit, selftext, and title\n",
    "* binarize the subreddit column\n",
    "* train_test_split\n",
    "* countvectorize the title and selftext"
   ]
  },
  {
   "cell_type": "code",
   "execution_count": 136,
   "id": "tribal-short",
   "metadata": {},
   "outputs": [],
   "source": [
    "# Imports\n",
    "import pandas as pd\n",
    "import time\n",
    "import numpy as np\n",
    "\n",
    "from sklearn.pipeline import Pipeline\n",
    "from sklearn.model_selection import train_test_split, GridSearchCV\n",
    "from sklearn.naive_bayes import MultinomialNB, BernoulliNB\n",
    "from sklearn.metrics import confusion_matrix, ConfusionMatrixDisplay\n",
    "from sklearn.feature_extraction.text import CountVectorizer, TfidfVectorizer"
   ]
  },
  {
   "cell_type": "markdown",
   "id": "skilled-validity",
   "metadata": {},
   "source": [
    "### Read in the data files"
   ]
  },
  {
   "cell_type": "code",
   "execution_count": 137,
   "id": "blocked-titanium",
   "metadata": {},
   "outputs": [],
   "source": [
    "text_df = pd.read_csv('../data/clean_dnd_zelda.csv')"
   ]
  },
  {
   "cell_type": "code",
   "execution_count": 138,
   "id": "southwest-paraguay",
   "metadata": {},
   "outputs": [
    {
     "data": {
      "text/plain": [
       "subreddit      0\n",
       "title          0\n",
       "selftext     211\n",
       "dtype: int64"
      ]
     },
     "execution_count": 138,
     "metadata": {},
     "output_type": "execute_result"
    }
   ],
   "source": [
    "text_df.isnull().sum()"
   ]
  },
  {
   "cell_type": "markdown",
   "id": "voluntary-equilibrium",
   "metadata": {},
   "source": [
    "Finally, replace those nulls with empty strings."
   ]
  },
  {
   "cell_type": "code",
   "execution_count": 139,
   "id": "sunset-memphis",
   "metadata": {},
   "outputs": [],
   "source": [
    "text_df.replace(np.nan, \"\", regex=True, inplace=True)"
   ]
  },
  {
   "cell_type": "code",
   "execution_count": 140,
   "id": "integrated-execution",
   "metadata": {},
   "outputs": [
    {
     "data": {
      "text/plain": [
       "subreddit    0\n",
       "title        0\n",
       "selftext     0\n",
       "dtype: int64"
      ]
     },
     "execution_count": 140,
     "metadata": {},
     "output_type": "execute_result"
    }
   ],
   "source": [
    "text_df.isnull().sum()"
   ]
  },
  {
   "cell_type": "code",
   "execution_count": 141,
   "id": "featured-frank",
   "metadata": {},
   "outputs": [],
   "source": [
    "X = text_df['title'] + ' ' + text_df['selftext']\n",
    "y = text_df['subreddit']"
   ]
  },
  {
   "cell_type": "markdown",
   "id": "compressed-standing",
   "metadata": {},
   "source": [
    "### Double check that X has the titles and selftext"
   ]
  },
  {
   "cell_type": "code",
   "execution_count": 142,
   "id": "variable-miniature",
   "metadata": {},
   "outputs": [
    {
     "name": "stdout",
     "output_type": "stream",
     "text": [
      "Seeking seasoned DMs to be guests on interview podcast\n",
      "**Edit (UPDATE): Thank you for the robust response! I've had some great applications so far and I'm \n",
      "Seeking seasoned DMs to be guests on interview podcast **Edit (UPDATE): Thank you for the robust response! I've had some great applications so far and\n"
     ]
    }
   ],
   "source": [
    "print(text_df['title'][0])\n",
    "print(text_df['selftext'][0][:100])\n",
    "\n",
    "print(X[0][:150])"
   ]
  },
  {
   "cell_type": "markdown",
   "id": "dated-community",
   "metadata": {},
   "source": [
    "Looks like it has what we want! "
   ]
  },
  {
   "cell_type": "markdown",
   "id": "beginning-elevation",
   "metadata": {},
   "source": [
    "### Establishing a baseline\n",
    "In order to measure how good our models are doing, we have to compare our model accuracy to a **baseline**. "
   ]
  },
  {
   "cell_type": "code",
   "execution_count": 143,
   "id": "finnish-listening",
   "metadata": {},
   "outputs": [
    {
     "data": {
      "text/plain": [
       "DMAcademy    0.5002\n",
       "truezelda    0.4998\n",
       "Name: subreddit, dtype: float64"
      ]
     },
     "execution_count": 143,
     "metadata": {},
     "output_type": "execute_result"
    }
   ],
   "source": [
    "y.value_counts(normalize=True)"
   ]
  },
  {
   "cell_type": "code",
   "execution_count": 144,
   "id": "civic-league",
   "metadata": {},
   "outputs": [
    {
     "data": {
      "text/plain": [
       "0"
      ]
     },
     "execution_count": 144,
     "metadata": {},
     "output_type": "execute_result"
    }
   ],
   "source": [
    "X.isnull().sum()"
   ]
  },
  {
   "cell_type": "code",
   "execution_count": 145,
   "id": "controversial-groove",
   "metadata": {},
   "outputs": [
    {
     "data": {
      "text/plain": [
       "0"
      ]
     },
     "execution_count": 145,
     "metadata": {},
     "output_type": "execute_result"
    }
   ],
   "source": [
    "y.isnull().sum()"
   ]
  },
  {
   "cell_type": "code",
   "execution_count": 150,
   "id": "domestic-vitamin",
   "metadata": {},
   "outputs": [],
   "source": [
    "X_train, X_test, y_train, y_test = train_test_split(X, y, \n",
    "                                                    random_state = 42, \n",
    "                                                    stratify = y)"
   ]
  },
  {
   "cell_type": "code",
   "execution_count": 151,
   "id": "rural-study",
   "metadata": {},
   "outputs": [
    {
     "data": {
      "text/plain": [
       "2284    Encounter w/ predetermined outcome: how do you...\n",
       "5493    How did Link become an engineer? (Spirit Track...\n",
       "5389    What became of ALTTP Link after LA? LA ends wi...\n",
       "8768    Is top-down Zelda dead? If not, how long would...\n",
       "2821    Reverse dnd dungeon. I want to make a dungeon ...\n",
       "                              ...                        \n",
       "4698    Tier 4 One Shot? Hey all, I am seeking advice ...\n",
       "948     Oath ideas for a CG Redemption Paladin interes...\n",
       "334     How can i make passing of time more interestin...\n",
       "6037    Besides the OoT Water Temple, which dungeon wa...\n",
       "677     Cruse of Strahd 5e: Campaign Setting or an Adv...\n",
       "Length: 7497, dtype: object"
      ]
     },
     "execution_count": 151,
     "metadata": {},
     "output_type": "execute_result"
    }
   ],
   "source": [
    "X_train"
   ]
  },
  {
   "cell_type": "code",
   "execution_count": 152,
   "id": "restricted-handbook",
   "metadata": {},
   "outputs": [
    {
     "data": {
      "text/plain": [
       "DMAcademy    0.5002\n",
       "truezelda    0.4998\n",
       "Name: subreddit, dtype: float64"
      ]
     },
     "execution_count": 152,
     "metadata": {},
     "output_type": "execute_result"
    }
   ],
   "source": [
    "y_train.value_counts(normalize=True)"
   ]
  },
  {
   "cell_type": "code",
   "execution_count": null,
   "id": "transparent-champion",
   "metadata": {},
   "outputs": [],
   "source": []
  },
  {
   "cell_type": "code",
   "execution_count": null,
   "id": "ambient-drinking",
   "metadata": {},
   "outputs": [],
   "source": []
  },
  {
   "cell_type": "markdown",
   "id": "freelance-sarah",
   "metadata": {},
   "source": [
    "### Combine GridSearchCV and Bernoulli Naive Bayes model"
   ]
  },
  {
   "cell_type": "code",
   "execution_count": 172,
   "id": "threatened-security",
   "metadata": {},
   "outputs": [],
   "source": [
    "cvec = CountVectorizer()\n",
    "cvec.train()"
   ]
  },
  {
   "cell_type": "code",
   "execution_count": 173,
   "id": "spectacular-privacy",
   "metadata": {},
   "outputs": [
    {
     "data": {
      "text/plain": [
       "Pipeline(steps=[('cvec', CountVectorizer()), ('nb', BernoulliNB())])"
      ]
     },
     "execution_count": 173,
     "metadata": {},
     "output_type": "execute_result"
    }
   ],
   "source": [
    "pipe = Pipeline([\n",
    "    ('cvec', CountVectorizer()),\n",
    "    ('nb', BernoulliNB())\n",
    "])\n",
    "pipe.fit(X_train, y_train)"
   ]
  },
  {
   "cell_type": "code",
   "execution_count": 174,
   "id": "toxic-jacksonville",
   "metadata": {},
   "outputs": [],
   "source": [
    "pipe_params = {\n",
    "    'cvec__max_features':[2000, 3000, 4000, 5000],\n",
    "    'cvec__min_df':[2, 3],\n",
    "    'cvec__max_df':[.9, .95],\n",
    "    'cvec__ngram_range':[(1, 1), (1, 2)]\n",
    "}"
   ]
  },
  {
   "cell_type": "code",
   "execution_count": 175,
   "id": "completed-encyclopedia",
   "metadata": {},
   "outputs": [],
   "source": [
    "gs = GridSearchCV(pipe, param_grid = pipe_params, cv = 5)"
   ]
  },
  {
   "cell_type": "code",
   "execution_count": 176,
   "id": "violent-corpus",
   "metadata": {
    "tags": []
   },
   "outputs": [
    {
     "name": "stdout",
     "output_type": "stream",
     "text": [
      "0.9689213253279965\n",
      "train accuracy: 0.970921702014139\n",
      "test accuracy: 0.9647859143657463\n"
     ]
    }
   ],
   "source": [
    "gs.fit(X_train, y_train)\n",
    "\n",
    "print(gs.best_score_)\n",
    "\n",
    "print('train accuracy:', gs.score(X_train, y_train))\n",
    "\n",
    "print('test accuracy:', gs.score(X_test, y_test))"
   ]
  },
  {
   "cell_type": "code",
   "execution_count": 177,
   "id": "circular-graduate",
   "metadata": {},
   "outputs": [
    {
     "data": {
      "text/plain": [
       "pandas.core.series.Series"
      ]
     },
     "execution_count": 177,
     "metadata": {},
     "output_type": "execute_result"
    }
   ],
   "source": [
    "type(X_test)"
   ]
  },
  {
   "cell_type": "code",
   "execution_count": 178,
   "id": "intellectual-porcelain",
   "metadata": {
    "tags": []
   },
   "outputs": [],
   "source": [
    "preds = gs.predict(X_test)"
   ]
  },
  {
   "cell_type": "code",
   "execution_count": 179,
   "id": "ambient-subsection",
   "metadata": {},
   "outputs": [
    {
     "data": {
      "image/png": "[encoded data removed]",
      "text/plain": [
       "<Figure size 432x288 with 2 Axes>"
      ]
     },
     "metadata": {
      "needs_background": "light"
     },
     "output_type": "display_data"
    }
   ],
   "source": [
    "cm = confusion_matrix(y_test, preds)\n",
    "tn, fp, fn, tp = cm.ravel()\n",
    "\n",
    "ConfusionMatrixDisplay(cm).plot();"
   ]
  },
  {
   "cell_type": "code",
   "execution_count": 180,
   "id": "weird-cambridge",
   "metadata": {},
   "outputs": [
    {
     "data": {
      "text/html": [
       "<div>\n",
       "<style scoped>\n",
       "    .dataframe tbody tr th:only-of-type {\n",
       "        vertical-align: middle;\n",
       "    }\n",
       "\n",
       "    .dataframe tbody tr th {\n",
       "        vertical-align: top;\n",
       "    }\n",
       "\n",
       "    .dataframe thead th {\n",
       "        text-align: right;\n",
       "    }\n",
       "</style>\n",
       "<table border=\"1\" class=\"dataframe\">\n",
       "  <thead>\n",
       "    <tr style=\"text-align: right;\">\n",
       "      <th></th>\n",
       "      <th>subreddit</th>\n",
       "      <th>title</th>\n",
       "      <th>selftext</th>\n",
       "    </tr>\n",
       "  </thead>\n",
       "  <tbody>\n",
       "    <tr>\n",
       "      <th>0</th>\n",
       "      <td>DMAcademy</td>\n",
       "      <td>Seeking seasoned DMs to be guests on interview...</td>\n",
       "      <td>**Edit (UPDATE): Thank you for the robust resp...</td>\n",
       "    </tr>\n",
       "    <tr>\n",
       "      <th>1</th>\n",
       "      <td>DMAcademy</td>\n",
       "      <td>TERRAIN, and Using it Effectively</td>\n",
       "      <td>TERRAIN, and using it Effectively – DM Tips  U...</td>\n",
       "    </tr>\n",
       "    <tr>\n",
       "      <th>2</th>\n",
       "      <td>DMAcademy</td>\n",
       "      <td>Know the exact location of something</td>\n",
       "      <td>The players are planning on dropping an evil a...</td>\n",
       "    </tr>\n",
       "    <tr>\n",
       "      <th>3</th>\n",
       "      <td>DMAcademy</td>\n",
       "      <td>How to run military basic as a session</td>\n",
       "      <td>I am running a campaign for all intents and pu...</td>\n",
       "    </tr>\n",
       "    <tr>\n",
       "      <th>4</th>\n",
       "      <td>DMAcademy</td>\n",
       "      <td>Best time to take breaks/how long they should be</td>\n",
       "      <td>Hey just a newbie DM .My sessions are usually ...</td>\n",
       "    </tr>\n",
       "    <tr>\n",
       "      <th>...</th>\n",
       "      <td>...</td>\n",
       "      <td>...</td>\n",
       "      <td>...</td>\n",
       "    </tr>\n",
       "    <tr>\n",
       "      <th>9991</th>\n",
       "      <td>truezelda</td>\n",
       "      <td>Should games such as Tri Force Heroes and Four...</td>\n",
       "      <td>The Zelda timeline is infamous for being convo...</td>\n",
       "    </tr>\n",
       "    <tr>\n",
       "      <th>9992</th>\n",
       "      <td>truezelda</td>\n",
       "      <td>Review score predictions for Skyward HD?</td>\n",
       "      <td>Title says it all. How will it fare?  With the...</td>\n",
       "    </tr>\n",
       "    <tr>\n",
       "      <th>9993</th>\n",
       "      <td>truezelda</td>\n",
       "      <td>Should I watch or play Majora’s Mask?</td>\n",
       "      <td>[deleted]</td>\n",
       "    </tr>\n",
       "    <tr>\n",
       "      <th>9994</th>\n",
       "      <td>truezelda</td>\n",
       "      <td>Can anyone help me find a normally priced zeld...</td>\n",
       "      <td>My daughter loves to play super smash bros and...</td>\n",
       "    </tr>\n",
       "    <tr>\n",
       "      <th>9995</th>\n",
       "      <td>truezelda</td>\n",
       "      <td>So, SSHD is only what we got on anniversary?</td>\n",
       "      <td></td>\n",
       "    </tr>\n",
       "  </tbody>\n",
       "</table>\n",
       "<p>9996 rows × 3 columns</p>\n",
       "</div>"
      ],
      "text/plain": [
       "      subreddit                                              title  \\\n",
       "0     DMAcademy  Seeking seasoned DMs to be guests on interview...   \n",
       "1     DMAcademy                  TERRAIN, and Using it Effectively   \n",
       "2     DMAcademy               Know the exact location of something   \n",
       "3     DMAcademy             How to run military basic as a session   \n",
       "4     DMAcademy   Best time to take breaks/how long they should be   \n",
       "...         ...                                                ...   \n",
       "9991  truezelda  Should games such as Tri Force Heroes and Four...   \n",
       "9992  truezelda           Review score predictions for Skyward HD?   \n",
       "9993  truezelda              Should I watch or play Majora’s Mask?   \n",
       "9994  truezelda  Can anyone help me find a normally priced zeld...   \n",
       "9995  truezelda       So, SSHD is only what we got on anniversary?   \n",
       "\n",
       "                                               selftext  \n",
       "0     **Edit (UPDATE): Thank you for the robust resp...  \n",
       "1     TERRAIN, and using it Effectively – DM Tips  U...  \n",
       "2     The players are planning on dropping an evil a...  \n",
       "3     I am running a campaign for all intents and pu...  \n",
       "4     Hey just a newbie DM .My sessions are usually ...  \n",
       "...                                                 ...  \n",
       "9991  The Zelda timeline is infamous for being convo...  \n",
       "9992  Title says it all. How will it fare?  With the...  \n",
       "9993                                          [deleted]  \n",
       "9994  My daughter loves to play super smash bros and...  \n",
       "9995                                                     \n",
       "\n",
       "[9996 rows x 3 columns]"
      ]
     },
     "execution_count": 180,
     "metadata": {},
     "output_type": "execute_result"
    }
   ],
   "source": [
    "text_df"
   ]
  },
  {
   "cell_type": "code",
   "execution_count": 181,
   "id": "psychological-think",
   "metadata": {},
   "outputs": [
    {
     "name": "stdout",
     "output_type": "stream",
     "text": [
      "specificity: 0.9344\n"
     ]
    }
   ],
   "source": [
    "specificity = tn / (tn + fp)\n",
    "print('specificity:', specificity)"
   ]
  },
  {
   "cell_type": "markdown",
   "id": "disabled-possibility",
   "metadata": {},
   "source": [
    "### TFIDF Vectorizer"
   ]
  },
  {
   "cell_type": "code",
   "execution_count": null,
   "id": "attempted-behalf",
   "metadata": {},
   "outputs": [],
   "source": [
    "tvec = TfidfVectorizer()"
   ]
  },
  {
   "cell_type": "code",
   "execution_count": null,
   "id": "martial-worse",
   "metadata": {},
   "outputs": [],
   "source": [
    "X_train_df = pd.DataFrame(tvec.fit_transform(X_train).todense(),\n",
    "                         columns = tvec.get_feature_names())"
   ]
  },
  {
   "cell_type": "code",
   "execution_count": null,
   "id": "qualified-latter",
   "metadata": {},
   "outputs": [],
   "source": [
    "X_train_df.sum().sort_values(ascending=False).head(10).plot(kind='barh');"
   ]
  },
  {
   "cell_type": "code",
   "execution_count": null,
   "id": "peripheral-acoustic",
   "metadata": {},
   "outputs": [],
   "source": [
    "import matplotlib.pyplot as plt"
   ]
  },
  {
   "cell_type": "code",
   "execution_count": null,
   "id": "colonial-client",
   "metadata": {},
   "outputs": [],
   "source": [
    "plt.figure(figsize=(16,25))\n",
    "X_train_df.sum().sort_values(ascending=True).head(150).plot(kind='barh');"
   ]
  },
  {
   "cell_type": "code",
   "execution_count": null,
   "id": "million-confirmation",
   "metadata": {},
   "outputs": [],
   "source": [
    "pipe_tvec = Pipeline([\n",
    "    ('tvec', TfidfVectorizer()),\n",
    "    ('nb', MultinomialNB())\n",
    "])"
   ]
  },
  {
   "cell_type": "code",
   "execution_count": null,
   "id": "dying-adolescent",
   "metadata": {},
   "outputs": [],
   "source": [
    "pipe_tvec_params = {\n",
    "    'tvec__max_features': [2000, 3000, 4000, 5000],\n",
    "    'tvec__stop_words': [None, 'english'],\n",
    "    'tvec__ngram_range': [(1, 1), (1, 2)]\n",
    "}"
   ]
  },
  {
   "cell_type": "code",
   "execution_count": null,
   "id": "initial-perry",
   "metadata": {},
   "outputs": [],
   "source": [
    "gs_tvec = GridSearchCV(pipe_tvec, param_grid = pipe_tvec_params, cv=5)"
   ]
  },
  {
   "cell_type": "code",
   "execution_count": null,
   "id": "previous-platform",
   "metadata": {},
   "outputs": [],
   "source": [
    "gs_tvec.fit(X_train, y_train)"
   ]
  },
  {
   "cell_type": "code",
   "execution_count": null,
   "id": "everyday-clinic",
   "metadata": {},
   "outputs": [],
   "source": [
    "gs_tvec.score(X_train, y_train)"
   ]
  },
  {
   "cell_type": "code",
   "execution_count": null,
   "id": "stuck-startup",
   "metadata": {},
   "outputs": [],
   "source": [
    "gs_tvec.score(X_test, y_test)"
   ]
  },
  {
   "cell_type": "code",
   "execution_count": null,
   "id": "neither-crime",
   "metadata": {},
   "outputs": [],
   "source": [
    "preds_tvec = gs_tvec.predict(X_test)\n",
    "\n",
    "cm = confusion_matrix(y_test, preds_tvec)\n",
    "tn, fp, fn, tp = cm.ravel()\n",
    "\n",
    "specificity = tn / (tn + fp)\n",
    "specificity"
   ]
  },
  {
   "cell_type": "code",
   "execution_count": null,
   "id": "hidden-shield",
   "metadata": {},
   "outputs": [],
   "source": [
    "ConfusionMatrixDisplay(cm).plot();"
   ]
  },
  {
   "cell_type": "markdown",
   "id": "experienced-russell",
   "metadata": {},
   "source": [
    "This model is better at classifying true negative, but has greater false negatives! Much higher specificity than the bernoulli naive bayes model."
   ]
  },
  {
   "cell_type": "code",
   "execution_count": null,
   "id": "front-management",
   "metadata": {},
   "outputs": [],
   "source": []
  },
  {
   "cell_type": "markdown",
   "id": "recreational-overhead",
   "metadata": {},
   "source": [
    "### Create a Support Vector Machine (SVM) model"
   ]
  },
  {
   "cell_type": "code",
   "execution_count": 153,
   "id": "serial-cooling",
   "metadata": {},
   "outputs": [],
   "source": [
    "from sklearn.svm import SVC"
   ]
  },
  {
   "cell_type": "code",
   "execution_count": 84,
   "id": "illegal-gospel",
   "metadata": {},
   "outputs": [],
   "source": [
    "# for some reason I can't get SVC to work in a pipeline with cvec\n",
    "# so I broke it up into two steps"
   ]
  },
  {
   "cell_type": "code",
   "execution_count": 149,
   "id": "artistic-hygiene",
   "metadata": {},
   "outputs": [],
   "source": [
    "# cvec = CountVectorizer(stop_words='english')\n",
    "# X_train = cvec.fit_transform(X_train)\n",
    "# X_test = cvec.transform(X_test)"
   ]
  },
  {
   "cell_type": "code",
   "execution_count": 154,
   "id": "affected-weather",
   "metadata": {},
   "outputs": [],
   "source": [
    "pipe = Pipeline([\n",
    "    ('cvec', CountVectorizer()),\n",
    "    ('svc', SVC())\n",
    "])"
   ]
  },
  {
   "cell_type": "code",
   "execution_count": 158,
   "id": "removed-prince",
   "metadata": {},
   "outputs": [],
   "source": [
    "svc=SVC()\n",
    "pipe_params = {\n",
    "    #'cvec__max_features':[2000, 3000, 4000, 5000],\n",
    "    #'cvec__min_df':[2, 3],\n",
    "    #'cvec__max_df':[.9, .95],\n",
    "    #'cvec__ngram_range':[(1, 1), (1, 2)],\n",
    "    #'svc__C': np.linspace(0.0001, 1, 20),\n",
    "    #'kernel':['linear', 'poly', 'rbf', 'sigmoid'],\n",
    "    #'degree':range(2,6),\n",
    "    #'gamma':['scale', 'auto']\n",
    "}"
   ]
  },
  {
   "cell_type": "code",
   "execution_count": 159,
   "id": "wrong-thirty",
   "metadata": {},
   "outputs": [],
   "source": [
    "svc_gs = GridSearchCV(pipe, param_grid = pipe_params, cv = 5)"
   ]
  },
  {
   "cell_type": "code",
   "execution_count": 160,
   "id": "ranging-bolivia",
   "metadata": {},
   "outputs": [
    {
     "data": {
      "text/plain": [
       "dict_keys(['C', 'break_ties', 'cache_size', 'class_weight', 'coef0', 'decision_function_shape', 'degree', 'gamma', 'kernel', 'max_iter', 'probability', 'random_state', 'shrinking', 'tol', 'verbose'])"
      ]
     },
     "execution_count": 160,
     "metadata": {},
     "output_type": "execute_result"
    }
   ],
   "source": [
    "SVC().get_params().keys()"
   ]
  },
  {
   "cell_type": "code",
   "execution_count": 161,
   "id": "phantom-choice",
   "metadata": {
    "tags": []
   },
   "outputs": [
    {
     "name": "stdout",
     "output_type": "stream",
     "text": [
      "Wall time: 1min 7s\n"
     ]
    },
    {
     "data": {
      "text/plain": [
       "GridSearchCV(cv=5,\n",
       "             estimator=Pipeline(steps=[('cvec', CountVectorizer()),\n",
       "                                       ('svc', SVC())]),\n",
       "             param_grid={})"
      ]
     },
     "execution_count": 161,
     "metadata": {},
     "output_type": "execute_result"
    }
   ],
   "source": [
    "# Fit the model on training data\n",
    "\n",
    "# This takes a few minutes to run so be sure about it! \n",
    "%time svc_gs.fit(X_train, y_train)"
   ]
  },
  {
   "cell_type": "code",
   "execution_count": 162,
   "id": "statewide-front",
   "metadata": {},
   "outputs": [
    {
     "name": "stdout",
     "output_type": "stream",
     "text": [
      "0.9473123415610407\n",
      "train accuracy: 0.9626517273576097\n",
      "test accuracy: 0.9499799919967987\n"
     ]
    }
   ],
   "source": [
    "print(svc_gs.best_score_)\n",
    "print('train accuracy:', svc_gs.score(X_train, y_train))\n",
    "print('test accuracy:', svc_gs.score(X_test, y_test))"
   ]
  },
  {
   "cell_type": "code",
   "execution_count": 163,
   "id": "coral-baseline",
   "metadata": {},
   "outputs": [],
   "source": [
    "preds = svc_gs.predict(X_test)"
   ]
  },
  {
   "cell_type": "code",
   "execution_count": 164,
   "id": "developing-pipeline",
   "metadata": {},
   "outputs": [],
   "source": [
    "cm = confusion_matrix(y_test, preds)\n",
    "tn, fp, fn, tp = cm.ravel()"
   ]
  },
  {
   "cell_type": "code",
   "execution_count": 165,
   "id": "severe-bandwidth",
   "metadata": {},
   "outputs": [
    {
     "data": {
      "image/png": "[encoded data removed]",
      "text/plain": [
       "<Figure size 432x288 with 2 Axes>"
      ]
     },
     "metadata": {
      "needs_background": "light"
     },
     "output_type": "display_data"
    }
   ],
   "source": [
    "ConfusionMatrixDisplay(cm).plot();"
   ]
  },
  {
   "cell_type": "code",
   "execution_count": 167,
   "id": "continued-poker",
   "metadata": {
    "tags": []
   },
   "outputs": [
    {
     "name": "stdout",
     "output_type": "stream",
     "text": [
      "0.9626517273576097\n",
      "0.9499799919967987\n"
     ]
    }
   ],
   "source": [
    "print(svc_gs.score(X_train, y_train))\n",
    "print(svc_gs.score(X_test, y_test))"
   ]
  },
  {
   "cell_type": "code",
   "execution_count": 168,
   "id": "marine-speech",
   "metadata": {},
   "outputs": [
    {
     "data": {
      "text/plain": [
       "0.9473123415610407"
      ]
     },
     "execution_count": 168,
     "metadata": {},
     "output_type": "execute_result"
    }
   ],
   "source": [
    "svc_gs.best_score_"
   ]
  },
  {
   "cell_type": "code",
   "execution_count": 169,
   "id": "conscious-tyler",
   "metadata": {},
   "outputs": [
    {
     "data": {
      "text/plain": [
       "{}"
      ]
     },
     "execution_count": 169,
     "metadata": {},
     "output_type": "execute_result"
    }
   ],
   "source": [
    "svc_gs.best_params_"
   ]
  },
  {
   "cell_type": "code",
   "execution_count": 170,
   "id": "structural-screw",
   "metadata": {},
   "outputs": [],
   "source": [
    "#X = cvec.transform(X)"
   ]
  },
  {
   "cell_type": "code",
   "execution_count": 171,
   "id": "adjustable-subscriber",
   "metadata": {},
   "outputs": [
    {
     "data": {
      "text/plain": [
       "0       Seeking seasoned DMs to be guests on interview...\n",
       "1       TERRAIN, and Using it Effectively TERRAIN, and...\n",
       "2       Know the exact location of something The playe...\n",
       "3       How to run military basic as a session I am ru...\n",
       "4       Best time to take breaks/how long they should ...\n",
       "                              ...                        \n",
       "9991    Should games such as Tri Force Heroes and Four...\n",
       "9992    Review score predictions for Skyward HD? Title...\n",
       "9993      Should I watch or play Majora’s Mask? [deleted]\n",
       "9994    Can anyone help me find a normally priced zeld...\n",
       "9995        So, SSHD is only what we got on anniversary? \n",
       "Length: 9996, dtype: object"
      ]
     },
     "execution_count": 171,
     "metadata": {},
     "output_type": "execute_result"
    }
   ],
   "source": [
    "X"
   ]
  },
  {
   "cell_type": "code",
   "execution_count": 112,
   "id": "legitimate-edmonton",
   "metadata": {},
   "outputs": [
    {
     "data": {
      "text/plain": [
       "0       DMAcademy\n",
       "1       DMAcademy\n",
       "2       DMAcademy\n",
       "3       DMAcademy\n",
       "4       DMAcademy\n",
       "          ...    \n",
       "9991    truezelda\n",
       "9992    truezelda\n",
       "9993    truezelda\n",
       "9994    truezelda\n",
       "9995    truezelda\n",
       "Name: subreddit, Length: 9996, dtype: object"
      ]
     },
     "execution_count": 112,
     "metadata": {},
     "output_type": "execute_result"
    }
   ],
   "source": [
    "text_df['subreddit']"
   ]
  },
  {
   "cell_type": "code",
   "execution_count": 113,
   "id": "ordinary-marina",
   "metadata": {},
   "outputs": [],
   "source": [
    "results = pd.DataFrame(text_df['subreddit'])"
   ]
  },
  {
   "cell_type": "code",
   "execution_count": 114,
   "id": "creative-birth",
   "metadata": {},
   "outputs": [
    {
     "data": {
      "text/html": [
       "<div>\n",
       "<style scoped>\n",
       "    .dataframe tbody tr th:only-of-type {\n",
       "        vertical-align: middle;\n",
       "    }\n",
       "\n",
       "    .dataframe tbody tr th {\n",
       "        vertical-align: top;\n",
       "    }\n",
       "\n",
       "    .dataframe thead th {\n",
       "        text-align: right;\n",
       "    }\n",
       "</style>\n",
       "<table border=\"1\" class=\"dataframe\">\n",
       "  <thead>\n",
       "    <tr style=\"text-align: right;\">\n",
       "      <th></th>\n",
       "      <th>subreddit</th>\n",
       "    </tr>\n",
       "  </thead>\n",
       "  <tbody>\n",
       "    <tr>\n",
       "      <th>0</th>\n",
       "      <td>DMAcademy</td>\n",
       "    </tr>\n",
       "    <tr>\n",
       "      <th>1</th>\n",
       "      <td>DMAcademy</td>\n",
       "    </tr>\n",
       "    <tr>\n",
       "      <th>2</th>\n",
       "      <td>DMAcademy</td>\n",
       "    </tr>\n",
       "    <tr>\n",
       "      <th>3</th>\n",
       "      <td>DMAcademy</td>\n",
       "    </tr>\n",
       "    <tr>\n",
       "      <th>4</th>\n",
       "      <td>DMAcademy</td>\n",
       "    </tr>\n",
       "  </tbody>\n",
       "</table>\n",
       "</div>"
      ],
      "text/plain": [
       "   subreddit\n",
       "0  DMAcademy\n",
       "1  DMAcademy\n",
       "2  DMAcademy\n",
       "3  DMAcademy\n",
       "4  DMAcademy"
      ]
     },
     "execution_count": 114,
     "metadata": {},
     "output_type": "execute_result"
    }
   ],
   "source": [
    "results.head()"
   ]
  },
  {
   "cell_type": "code",
   "execution_count": 115,
   "id": "second-collar",
   "metadata": {},
   "outputs": [],
   "source": [
    "results['predicted'] = svc_gs.predict(X)"
   ]
  },
  {
   "cell_type": "code",
   "execution_count": 116,
   "id": "directed-roller",
   "metadata": {},
   "outputs": [
    {
     "data": {
      "text/html": [
       "<div>\n",
       "<style scoped>\n",
       "    .dataframe tbody tr th:only-of-type {\n",
       "        vertical-align: middle;\n",
       "    }\n",
       "\n",
       "    .dataframe tbody tr th {\n",
       "        vertical-align: top;\n",
       "    }\n",
       "\n",
       "    .dataframe thead th {\n",
       "        text-align: right;\n",
       "    }\n",
       "</style>\n",
       "<table border=\"1\" class=\"dataframe\">\n",
       "  <thead>\n",
       "    <tr style=\"text-align: right;\">\n",
       "      <th></th>\n",
       "      <th>subreddit</th>\n",
       "      <th>predicted</th>\n",
       "    </tr>\n",
       "  </thead>\n",
       "  <tbody>\n",
       "    <tr>\n",
       "      <th>0</th>\n",
       "      <td>DMAcademy</td>\n",
       "      <td>DMAcademy</td>\n",
       "    </tr>\n",
       "    <tr>\n",
       "      <th>1</th>\n",
       "      <td>DMAcademy</td>\n",
       "      <td>DMAcademy</td>\n",
       "    </tr>\n",
       "    <tr>\n",
       "      <th>2</th>\n",
       "      <td>DMAcademy</td>\n",
       "      <td>DMAcademy</td>\n",
       "    </tr>\n",
       "    <tr>\n",
       "      <th>3</th>\n",
       "      <td>DMAcademy</td>\n",
       "      <td>DMAcademy</td>\n",
       "    </tr>\n",
       "    <tr>\n",
       "      <th>4</th>\n",
       "      <td>DMAcademy</td>\n",
       "      <td>DMAcademy</td>\n",
       "    </tr>\n",
       "  </tbody>\n",
       "</table>\n",
       "</div>"
      ],
      "text/plain": [
       "   subreddit  predicted\n",
       "0  DMAcademy  DMAcademy\n",
       "1  DMAcademy  DMAcademy\n",
       "2  DMAcademy  DMAcademy\n",
       "3  DMAcademy  DMAcademy\n",
       "4  DMAcademy  DMAcademy"
      ]
     },
     "execution_count": 116,
     "metadata": {},
     "output_type": "execute_result"
    }
   ],
   "source": [
    "results.head()"
   ]
  },
  {
   "cell_type": "code",
   "execution_count": 122,
   "id": "yellow-champion",
   "metadata": {},
   "outputs": [],
   "source": [
    "mask = results['predicted']!=results['subreddit']\n",
    "row_ids = results[mask].index"
   ]
  },
  {
   "cell_type": "code",
   "execution_count": 125,
   "id": "vertical-elder",
   "metadata": {},
   "outputs": [
    {
     "data": {
      "text/plain": [
       "Int64Index([  38,   39,   43,   47,   81,   89,  108,  117,  148,  150,\n",
       "            ...\n",
       "            6091, 6382, 6652, 7186, 7893, 8038, 8261, 8378, 8986, 9682],\n",
       "           dtype='int64', length=213)"
      ]
     },
     "execution_count": 125,
     "metadata": {},
     "output_type": "execute_result"
    }
   ],
   "source": [
    "results[mask].index"
   ]
  },
  {
   "cell_type": "code",
   "execution_count": 128,
   "id": "negative-essay",
   "metadata": {},
   "outputs": [
    {
     "name": "stdout",
     "output_type": "stream",
     "text": [
      "The model guessed this was: truezelda.\n",
      "This actually is: DMAcademy.\n"
     ]
    }
   ],
   "source": [
    "print(f'The model guessed this was: {results[\"predicted\"].iloc[38]}.')\n",
    "print(f'This actually is: {results[\"subreddit\"].iloc[38]}.')"
   ]
  },
  {
   "cell_type": "code",
   "execution_count": 131,
   "id": "coral-calibration",
   "metadata": {},
   "outputs": [
    {
     "name": "stdout",
     "output_type": "stream",
     "text": [
      "What to do with an unhelpful player.\n",
      "[deleted]\n",
      "The model guessed this was: truezelda.\n",
      "This actually is: DMAcademy.\n",
      "\n",
      "\n",
      "I create content on demand\n",
      "Ask away i can create from maps to mods and more\n",
      "The model guessed this was: truezelda.\n",
      "This actually is: DMAcademy.\n",
      "\n",
      "\n",
      "How to Design a Plane of Existence?\n",
      "I want to design a dreamscape and accompanying nightmare realm, but I'm not sure how to design planes. Any tips?\n",
      "The model guessed this was: truezelda.\n",
      "This actually is: DMAcademy.\n",
      "\n",
      "\n",
      "Who is the Queen of Air and Darkness? What happened to her and what does it have to do with Auril, Faerun's goddess of winter's wrath?\n",
      "[removed]\n",
      "The model guessed this was: truezelda.\n",
      "This actually is: DMAcademy.\n",
      "\n",
      "\n",
      "Menacing music for Villains?\n",
      "[deleted]\n",
      "The model guessed this was: truezelda.\n",
      "This actually is: DMAcademy.\n",
      "\n",
      "\n"
     ]
    }
   ],
   "source": [
    "for index in row_ids[:5]:\n",
    "    print(text_df['title'].iloc[index])\n",
    "    print(text_df['selftext'].iloc[index])\n",
    "    print(f'The model guessed this was: {results[\"predicted\"].iloc[index]}.')\n",
    "    print(f'This actually is: {results[\"subreddit\"].iloc[index]}.')\n",
    "    print('\\n')\n",
    "    "
   ]
  },
  {
   "cell_type": "code",
   "execution_count": null,
   "id": "violent-indicator",
   "metadata": {},
   "outputs": [],
   "source": []
  }
 ],
 "metadata": {
  "kernelspec": {
   "display_name": "Python 3",
   "language": "python",
   "name": "python3"
  },
  "language_info": {
   "codemirror_mode": {
    "name": "ipython",
    "version": 3
   },
   "file_extension": ".py",
   "mimetype": "text/x-python",
   "name": "python",
   "nbconvert_exporter": "python",
   "pygments_lexer": "ipython3",
   "version": "3.9.2"
  }
 },
 "nbformat": 4,
 "nbformat_minor": 5
}
