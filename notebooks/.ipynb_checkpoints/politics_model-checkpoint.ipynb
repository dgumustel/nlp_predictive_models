{
 "cells": [
  {
   "cell_type": "markdown",
   "id": "ignored-surface",
   "metadata": {},
   "source": [
    "Here we're playing with time!!! "
   ]
  },
  {
   "cell_type": "code",
   "execution_count": 1,
   "id": "tribal-minimum",
   "metadata": {},
   "outputs": [],
   "source": [
    "import numpy as np\n",
    "import time\n",
    "import pandas as pd\n",
    "import nltk\n",
    "\n",
    "from sklearn.pipeline import Pipeline\n",
    "from sklearn.model_selection import train_test_split, GridSearchCV\n",
    "from sklearn.naive_bayes import MultinomialNB, BernoulliNB\n",
    "from sklearn.metrics import confusion_matrix, ConfusionMatrixDisplay\n",
    "from sklearn.feature_extraction.text import CountVectorizer, TfidfVectorizer\n",
    "from nltk.stem import WordNetLemmatizer\n",
    "from nltk.tokenize import sent_tokenize, word_tokenize, RegexpTokenizer\n",
    "from nltk.stem.porter import PorterStemmer"
   ]
  },
  {
   "cell_type": "code",
   "execution_count": 2,
   "id": "taken-senate",
   "metadata": {},
   "outputs": [],
   "source": [
    "poli_2010_df = pd.read_csv('./data/poli_2010.csv')\n",
    "poli_2020_df = pd.read_csv('./data/poli_2020.csv')"
   ]
  },
  {
   "cell_type": "code",
   "execution_count": 3,
   "id": "surgical-jersey",
   "metadata": {},
   "outputs": [
    {
     "data": {
      "text/plain": [
       "Index(['author', 'author_created_utc', 'author_flair_css_class',\n",
       "       'author_flair_text', 'author_fullname', 'body', 'controversiality',\n",
       "       'created_utc', 'distinguished', 'gilded', 'id', 'link_id', 'nest_level',\n",
       "       'parent_id', 'reply_delay', 'retrieved_on', 'score', 'score_hidden',\n",
       "       'subreddit', 'subreddit_id', 'user_removed', 'edited', 'year'],\n",
       "      dtype='object')"
      ]
     },
     "execution_count": 3,
     "metadata": {},
     "output_type": "execute_result"
    }
   ],
   "source": [
    "poli_2010_df.columns"
   ]
  },
  {
   "cell_type": "code",
   "execution_count": 4,
   "id": "behavioral-celebrity",
   "metadata": {},
   "outputs": [
    {
     "data": {
      "text/plain": [
       "1000"
      ]
     },
     "execution_count": 4,
     "metadata": {},
     "output_type": "execute_result"
    }
   ],
   "source": [
    "poli_2010_df['id'].nunique()"
   ]
  },
  {
   "cell_type": "code",
   "execution_count": 5,
   "id": "fresh-tooth",
   "metadata": {},
   "outputs": [
    {
     "data": {
      "text/plain": [
       "0           It depends on how Fox News takes this story.\n",
       "1      Can we just start calling it the \"White Tea\" p...\n",
       "2      sarah palin.\\n\\ndonkey punch, donkey punch, do...\n",
       "3      &gt; The extreme right is truly about feelings...\n",
       "4      &gt;I'd much rather have a less radical, stron...\n",
       "                             ...                        \n",
       "995    This \"Christian group\"?\\r\\n\\r\\nhttp://www.huta...\n",
       "996            Global Research does very good research. \n",
       "997    The people that were bombed/assassinated in th...\n",
       "998    It's not just about race.  It's about being on...\n",
       "999                             Are you an American Jew?\n",
       "Name: body, Length: 1000, dtype: object"
      ]
     },
     "execution_count": 5,
     "metadata": {},
     "output_type": "execute_result"
    }
   ],
   "source": [
    "poli_2010_df['body']"
   ]
  },
  {
   "cell_type": "code",
   "execution_count": 6,
   "id": "dirty-thanksgiving",
   "metadata": {},
   "outputs": [
    {
     "data": {
      "text/plain": [
       "1000"
      ]
     },
     "execution_count": 6,
     "metadata": {},
     "output_type": "execute_result"
    }
   ],
   "source": [
    "poli_2020_df['id'].nunique()"
   ]
  },
  {
   "cell_type": "code",
   "execution_count": 7,
   "id": "split-facial",
   "metadata": {},
   "outputs": [],
   "source": [
    "frames = [poli_2010_df, poli_2020_df]\n",
    "master_df = pd.concat(frames)"
   ]
  },
  {
   "cell_type": "code",
   "execution_count": 8,
   "id": "perceived-registration",
   "metadata": {},
   "outputs": [
    {
     "data": {
      "text/html": [
       "<div>\n",
       "<style scoped>\n",
       "    .dataframe tbody tr th:only-of-type {\n",
       "        vertical-align: middle;\n",
       "    }\n",
       "\n",
       "    .dataframe tbody tr th {\n",
       "        vertical-align: top;\n",
       "    }\n",
       "\n",
       "    .dataframe thead th {\n",
       "        text-align: right;\n",
       "    }\n",
       "</style>\n",
       "<table border=\"1\" class=\"dataframe\">\n",
       "  <thead>\n",
       "    <tr style=\"text-align: right;\">\n",
       "      <th></th>\n",
       "      <th>author</th>\n",
       "      <th>author_created_utc</th>\n",
       "      <th>author_flair_css_class</th>\n",
       "      <th>author_flair_text</th>\n",
       "      <th>author_fullname</th>\n",
       "      <th>body</th>\n",
       "      <th>controversiality</th>\n",
       "      <th>created_utc</th>\n",
       "      <th>distinguished</th>\n",
       "      <th>gilded</th>\n",
       "      <th>...</th>\n",
       "      <th>collapsed_because_crowd_control</th>\n",
       "      <th>gildings</th>\n",
       "      <th>is_submitter</th>\n",
       "      <th>locked</th>\n",
       "      <th>no_follow</th>\n",
       "      <th>permalink</th>\n",
       "      <th>send_replies</th>\n",
       "      <th>stickied</th>\n",
       "      <th>total_awards_received</th>\n",
       "      <th>author_cakeday</th>\n",
       "    </tr>\n",
       "  </thead>\n",
       "  <tbody>\n",
       "    <tr>\n",
       "      <th>0</th>\n",
       "      <td>Powerfury</td>\n",
       "      <td>1.258768e+09</td>\n",
       "      <td>NaN</td>\n",
       "      <td>NaN</td>\n",
       "      <td>t2_3qers</td>\n",
       "      <td>It depends on how Fox News takes this story.</td>\n",
       "      <td>0.0</td>\n",
       "      <td>1269804789</td>\n",
       "      <td>NaN</td>\n",
       "      <td>0.0</td>\n",
       "      <td>...</td>\n",
       "      <td>NaN</td>\n",
       "      <td>NaN</td>\n",
       "      <td>NaN</td>\n",
       "      <td>NaN</td>\n",
       "      <td>NaN</td>\n",
       "      <td>NaN</td>\n",
       "      <td>NaN</td>\n",
       "      <td>NaN</td>\n",
       "      <td>NaN</td>\n",
       "      <td>NaN</td>\n",
       "    </tr>\n",
       "    <tr>\n",
       "      <th>1</th>\n",
       "      <td>[deleted]</td>\n",
       "      <td>NaN</td>\n",
       "      <td>NaN</td>\n",
       "      <td>NaN</td>\n",
       "      <td>NaN</td>\n",
       "      <td>Can we just start calling it the \"White Tea\" p...</td>\n",
       "      <td>0.0</td>\n",
       "      <td>1269804786</td>\n",
       "      <td>NaN</td>\n",
       "      <td>0.0</td>\n",
       "      <td>...</td>\n",
       "      <td>NaN</td>\n",
       "      <td>NaN</td>\n",
       "      <td>NaN</td>\n",
       "      <td>NaN</td>\n",
       "      <td>NaN</td>\n",
       "      <td>NaN</td>\n",
       "      <td>NaN</td>\n",
       "      <td>NaN</td>\n",
       "      <td>NaN</td>\n",
       "      <td>NaN</td>\n",
       "    </tr>\n",
       "    <tr>\n",
       "      <th>2</th>\n",
       "      <td>cinnamonandgravy</td>\n",
       "      <td>1.253603e+09</td>\n",
       "      <td>NaN</td>\n",
       "      <td>NaN</td>\n",
       "      <td>t2_3n496</td>\n",
       "      <td>sarah palin.\\n\\ndonkey punch, donkey punch, do...</td>\n",
       "      <td>0.0</td>\n",
       "      <td>1269804780</td>\n",
       "      <td>NaN</td>\n",
       "      <td>0.0</td>\n",
       "      <td>...</td>\n",
       "      <td>NaN</td>\n",
       "      <td>NaN</td>\n",
       "      <td>NaN</td>\n",
       "      <td>NaN</td>\n",
       "      <td>NaN</td>\n",
       "      <td>NaN</td>\n",
       "      <td>NaN</td>\n",
       "      <td>NaN</td>\n",
       "      <td>NaN</td>\n",
       "      <td>NaN</td>\n",
       "    </tr>\n",
       "    <tr>\n",
       "      <th>3</th>\n",
       "      <td>Grokkin_it</td>\n",
       "      <td>1.255903e+09</td>\n",
       "      <td>NaN</td>\n",
       "      <td>NaN</td>\n",
       "      <td>t2_3oklb</td>\n",
       "      <td>&amp;gt; The extreme right is truly about feelings...</td>\n",
       "      <td>0.0</td>\n",
       "      <td>1269804748</td>\n",
       "      <td>NaN</td>\n",
       "      <td>0.0</td>\n",
       "      <td>...</td>\n",
       "      <td>NaN</td>\n",
       "      <td>NaN</td>\n",
       "      <td>NaN</td>\n",
       "      <td>NaN</td>\n",
       "      <td>NaN</td>\n",
       "      <td>NaN</td>\n",
       "      <td>NaN</td>\n",
       "      <td>NaN</td>\n",
       "      <td>NaN</td>\n",
       "      <td>NaN</td>\n",
       "    </tr>\n",
       "    <tr>\n",
       "      <th>4</th>\n",
       "      <td>APeacefulWarrior</td>\n",
       "      <td>1.255231e+09</td>\n",
       "      <td>NaN</td>\n",
       "      <td>NaN</td>\n",
       "      <td>t2_3o5g9</td>\n",
       "      <td>&amp;gt;I'd much rather have a less radical, stron...</td>\n",
       "      <td>0.0</td>\n",
       "      <td>1269804718</td>\n",
       "      <td>NaN</td>\n",
       "      <td>0.0</td>\n",
       "      <td>...</td>\n",
       "      <td>NaN</td>\n",
       "      <td>NaN</td>\n",
       "      <td>NaN</td>\n",
       "      <td>NaN</td>\n",
       "      <td>NaN</td>\n",
       "      <td>NaN</td>\n",
       "      <td>NaN</td>\n",
       "      <td>NaN</td>\n",
       "      <td>NaN</td>\n",
       "      <td>NaN</td>\n",
       "    </tr>\n",
       "    <tr>\n",
       "      <th>...</th>\n",
       "      <td>...</td>\n",
       "      <td>...</td>\n",
       "      <td>...</td>\n",
       "      <td>...</td>\n",
       "      <td>...</td>\n",
       "      <td>...</td>\n",
       "      <td>...</td>\n",
       "      <td>...</td>\n",
       "      <td>...</td>\n",
       "      <td>...</td>\n",
       "      <td>...</td>\n",
       "      <td>...</td>\n",
       "      <td>...</td>\n",
       "      <td>...</td>\n",
       "      <td>...</td>\n",
       "      <td>...</td>\n",
       "      <td>...</td>\n",
       "      <td>...</td>\n",
       "      <td>...</td>\n",
       "      <td>...</td>\n",
       "      <td>...</td>\n",
       "    </tr>\n",
       "    <tr>\n",
       "      <th>995</th>\n",
       "      <td>LavenderTed</td>\n",
       "      <td>NaN</td>\n",
       "      <td>NaN</td>\n",
       "      <td>NaN</td>\n",
       "      <td>t2_g8896</td>\n",
       "      <td>I haven’t left my house in a week.</td>\n",
       "      <td>NaN</td>\n",
       "      <td>1585433840</td>\n",
       "      <td>NaN</td>\n",
       "      <td>NaN</td>\n",
       "      <td>...</td>\n",
       "      <td>NaN</td>\n",
       "      <td>{}</td>\n",
       "      <td>False</td>\n",
       "      <td>False</td>\n",
       "      <td>True</td>\n",
       "      <td>/r/politics/comments/fqkwoy/gov_gretchen_whitm...</td>\n",
       "      <td>True</td>\n",
       "      <td>False</td>\n",
       "      <td>0.0</td>\n",
       "      <td>NaN</td>\n",
       "    </tr>\n",
       "    <tr>\n",
       "      <th>996</th>\n",
       "      <td>SuzieQ4624</td>\n",
       "      <td>NaN</td>\n",
       "      <td>ohio-flag</td>\n",
       "      <td>:flag-oh: Ohio</td>\n",
       "      <td>t2_2vfpw0q7</td>\n",
       "      <td>Ari is hands down the best</td>\n",
       "      <td>NaN</td>\n",
       "      <td>1585433840</td>\n",
       "      <td>NaN</td>\n",
       "      <td>NaN</td>\n",
       "      <td>...</td>\n",
       "      <td>NaN</td>\n",
       "      <td>{}</td>\n",
       "      <td>False</td>\n",
       "      <td>False</td>\n",
       "      <td>True</td>\n",
       "      <td>/r/politics/comments/fql7ae/msnbcs_rachel_madd...</td>\n",
       "      <td>True</td>\n",
       "      <td>False</td>\n",
       "      <td>0.0</td>\n",
       "      <td>NaN</td>\n",
       "    </tr>\n",
       "    <tr>\n",
       "      <th>997</th>\n",
       "      <td>byte_alchemist</td>\n",
       "      <td>NaN</td>\n",
       "      <td>NaN</td>\n",
       "      <td>NaN</td>\n",
       "      <td>t2_lvykc</td>\n",
       "      <td>Please provide evidence.</td>\n",
       "      <td>NaN</td>\n",
       "      <td>1585433839</td>\n",
       "      <td>NaN</td>\n",
       "      <td>NaN</td>\n",
       "      <td>...</td>\n",
       "      <td>NaN</td>\n",
       "      <td>{}</td>\n",
       "      <td>False</td>\n",
       "      <td>False</td>\n",
       "      <td>True</td>\n",
       "      <td>/r/politics/comments/fqn42e/unacceptable_dems_...</td>\n",
       "      <td>True</td>\n",
       "      <td>False</td>\n",
       "      <td>0.0</td>\n",
       "      <td>NaN</td>\n",
       "    </tr>\n",
       "    <tr>\n",
       "      <th>998</th>\n",
       "      <td>MadaMadaDesu</td>\n",
       "      <td>NaN</td>\n",
       "      <td>NaN</td>\n",
       "      <td>NaN</td>\n",
       "      <td>t2_12lvjz</td>\n",
       "      <td>Lmao. Come back when you have an actual come b...</td>\n",
       "      <td>NaN</td>\n",
       "      <td>1585433839</td>\n",
       "      <td>NaN</td>\n",
       "      <td>NaN</td>\n",
       "      <td>...</td>\n",
       "      <td>NaN</td>\n",
       "      <td>{}</td>\n",
       "      <td>False</td>\n",
       "      <td>False</td>\n",
       "      <td>True</td>\n",
       "      <td>/r/politics/comments/fqks11/public_health_expe...</td>\n",
       "      <td>True</td>\n",
       "      <td>False</td>\n",
       "      <td>0.0</td>\n",
       "      <td>NaN</td>\n",
       "    </tr>\n",
       "    <tr>\n",
       "      <th>999</th>\n",
       "      <td>TrexTacoma</td>\n",
       "      <td>NaN</td>\n",
       "      <td>NaN</td>\n",
       "      <td>NaN</td>\n",
       "      <td>t2_el3xcf5</td>\n",
       "      <td>It should but unfortunately people refuse to b...</td>\n",
       "      <td>NaN</td>\n",
       "      <td>1585433838</td>\n",
       "      <td>NaN</td>\n",
       "      <td>NaN</td>\n",
       "      <td>...</td>\n",
       "      <td>NaN</td>\n",
       "      <td>{}</td>\n",
       "      <td>False</td>\n",
       "      <td>False</td>\n",
       "      <td>True</td>\n",
       "      <td>/r/politics/comments/fq83b2/trump_says_hes_dir...</td>\n",
       "      <td>True</td>\n",
       "      <td>False</td>\n",
       "      <td>0.0</td>\n",
       "      <td>NaN</td>\n",
       "    </tr>\n",
       "  </tbody>\n",
       "</table>\n",
       "<p>2000 rows × 43 columns</p>\n",
       "</div>"
      ],
      "text/plain": [
       "               author  author_created_utc author_flair_css_class  \\\n",
       "0           Powerfury        1.258768e+09                    NaN   \n",
       "1           [deleted]                 NaN                    NaN   \n",
       "2    cinnamonandgravy        1.253603e+09                    NaN   \n",
       "3          Grokkin_it        1.255903e+09                    NaN   \n",
       "4    APeacefulWarrior        1.255231e+09                    NaN   \n",
       "..                ...                 ...                    ...   \n",
       "995       LavenderTed                 NaN                    NaN   \n",
       "996        SuzieQ4624                 NaN              ohio-flag   \n",
       "997    byte_alchemist                 NaN                    NaN   \n",
       "998      MadaMadaDesu                 NaN                    NaN   \n",
       "999        TrexTacoma                 NaN                    NaN   \n",
       "\n",
       "    author_flair_text author_fullname  \\\n",
       "0                 NaN        t2_3qers   \n",
       "1                 NaN             NaN   \n",
       "2                 NaN        t2_3n496   \n",
       "3                 NaN        t2_3oklb   \n",
       "4                 NaN        t2_3o5g9   \n",
       "..                ...             ...   \n",
       "995               NaN        t2_g8896   \n",
       "996    :flag-oh: Ohio     t2_2vfpw0q7   \n",
       "997               NaN        t2_lvykc   \n",
       "998               NaN       t2_12lvjz   \n",
       "999               NaN      t2_el3xcf5   \n",
       "\n",
       "                                                  body  controversiality  \\\n",
       "0         It depends on how Fox News takes this story.               0.0   \n",
       "1    Can we just start calling it the \"White Tea\" p...               0.0   \n",
       "2    sarah palin.\\n\\ndonkey punch, donkey punch, do...               0.0   \n",
       "3    &gt; The extreme right is truly about feelings...               0.0   \n",
       "4    &gt;I'd much rather have a less radical, stron...               0.0   \n",
       "..                                                 ...               ...   \n",
       "995                 I haven’t left my house in a week.               NaN   \n",
       "996                         Ari is hands down the best               NaN   \n",
       "997                           Please provide evidence.               NaN   \n",
       "998  Lmao. Come back when you have an actual come b...               NaN   \n",
       "999  It should but unfortunately people refuse to b...               NaN   \n",
       "\n",
       "     created_utc distinguished  gilded  ... collapsed_because_crowd_control  \\\n",
       "0     1269804789           NaN     0.0  ...                             NaN   \n",
       "1     1269804786           NaN     0.0  ...                             NaN   \n",
       "2     1269804780           NaN     0.0  ...                             NaN   \n",
       "3     1269804748           NaN     0.0  ...                             NaN   \n",
       "4     1269804718           NaN     0.0  ...                             NaN   \n",
       "..           ...           ...     ...  ...                             ...   \n",
       "995   1585433840           NaN     NaN  ...                             NaN   \n",
       "996   1585433840           NaN     NaN  ...                             NaN   \n",
       "997   1585433839           NaN     NaN  ...                             NaN   \n",
       "998   1585433839           NaN     NaN  ...                             NaN   \n",
       "999   1585433838           NaN     NaN  ...                             NaN   \n",
       "\n",
       "    gildings  is_submitter locked  no_follow  \\\n",
       "0        NaN           NaN    NaN        NaN   \n",
       "1        NaN           NaN    NaN        NaN   \n",
       "2        NaN           NaN    NaN        NaN   \n",
       "3        NaN           NaN    NaN        NaN   \n",
       "4        NaN           NaN    NaN        NaN   \n",
       "..       ...           ...    ...        ...   \n",
       "995       {}         False  False       True   \n",
       "996       {}         False  False       True   \n",
       "997       {}         False  False       True   \n",
       "998       {}         False  False       True   \n",
       "999       {}         False  False       True   \n",
       "\n",
       "                                             permalink  send_replies stickied  \\\n",
       "0                                                  NaN           NaN      NaN   \n",
       "1                                                  NaN           NaN      NaN   \n",
       "2                                                  NaN           NaN      NaN   \n",
       "3                                                  NaN           NaN      NaN   \n",
       "4                                                  NaN           NaN      NaN   \n",
       "..                                                 ...           ...      ...   \n",
       "995  /r/politics/comments/fqkwoy/gov_gretchen_whitm...          True    False   \n",
       "996  /r/politics/comments/fql7ae/msnbcs_rachel_madd...          True    False   \n",
       "997  /r/politics/comments/fqn42e/unacceptable_dems_...          True    False   \n",
       "998  /r/politics/comments/fqks11/public_health_expe...          True    False   \n",
       "999  /r/politics/comments/fq83b2/trump_says_hes_dir...          True    False   \n",
       "\n",
       "    total_awards_received author_cakeday  \n",
       "0                     NaN            NaN  \n",
       "1                     NaN            NaN  \n",
       "2                     NaN            NaN  \n",
       "3                     NaN            NaN  \n",
       "4                     NaN            NaN  \n",
       "..                    ...            ...  \n",
       "995                   0.0            NaN  \n",
       "996                   0.0            NaN  \n",
       "997                   0.0            NaN  \n",
       "998                   0.0            NaN  \n",
       "999                   0.0            NaN  \n",
       "\n",
       "[2000 rows x 43 columns]"
      ]
     },
     "execution_count": 8,
     "metadata": {},
     "output_type": "execute_result"
    }
   ],
   "source": [
    "master_df"
   ]
  },
  {
   "cell_type": "code",
   "execution_count": 9,
   "id": "opened-breast",
   "metadata": {},
   "outputs": [],
   "source": [
    "text_df = master_df[['year', 'body']].copy()"
   ]
  },
  {
   "cell_type": "code",
   "execution_count": 10,
   "id": "varied-registrar",
   "metadata": {},
   "outputs": [
    {
     "data": {
      "text/plain": [
       "1828"
      ]
     },
     "execution_count": 10,
     "metadata": {},
     "output_type": "execute_result"
    }
   ],
   "source": [
    "text_df['body'].nunique()"
   ]
  },
  {
   "cell_type": "code",
   "execution_count": 11,
   "id": "interpreted-conflict",
   "metadata": {},
   "outputs": [
    {
     "data": {
      "text/plain": [
       "year    0\n",
       "body    0\n",
       "dtype: int64"
      ]
     },
     "execution_count": 11,
     "metadata": {},
     "output_type": "execute_result"
    }
   ],
   "source": [
    "text_df.isnull().sum()"
   ]
  },
  {
   "cell_type": "code",
   "execution_count": 12,
   "id": "organizational-protest",
   "metadata": {},
   "outputs": [],
   "source": [
    "#https://stackoverflow.com/questions/44227748/removing-newlines-from-messy-strings-in-pandas-dataframe-cells\n",
    "text_df.replace(to_replace=[r\"\\\\t|\\\\n|\\\\r\", \"\\t|\\n|\\r\"], value=[\" \",\" \"], regex=True, inplace=True) "
   ]
  },
  {
   "cell_type": "code",
   "execution_count": 13,
   "id": "stock-forty",
   "metadata": {},
   "outputs": [
    {
     "data": {
      "text/plain": [
       "0      2010\n",
       "1      2010\n",
       "2      2010\n",
       "3      2010\n",
       "4      2010\n",
       "       ... \n",
       "995    2020\n",
       "996    2020\n",
       "997    2020\n",
       "998    2020\n",
       "999    2020\n",
       "Name: year, Length: 2000, dtype: int64"
      ]
     },
     "execution_count": 13,
     "metadata": {},
     "output_type": "execute_result"
    }
   ],
   "source": [
    "master_df['year']"
   ]
  },
  {
   "cell_type": "code",
   "execution_count": 14,
   "id": "agricultural-bahrain",
   "metadata": {},
   "outputs": [],
   "source": [
    "text_df['year'] = text_df['year'].map({2010:1,2020:0})"
   ]
  },
  {
   "cell_type": "code",
   "execution_count": 15,
   "id": "systematic-optimum",
   "metadata": {},
   "outputs": [
    {
     "data": {
      "text/plain": [
       "0    0.5\n",
       "1    0.5\n",
       "Name: year, dtype: float64"
      ]
     },
     "execution_count": 15,
     "metadata": {},
     "output_type": "execute_result"
    }
   ],
   "source": [
    "text_df['year'].value_counts(normalize=True)"
   ]
  },
  {
   "cell_type": "code",
   "execution_count": 16,
   "id": "several-latest",
   "metadata": {},
   "outputs": [
    {
     "data": {
      "text/plain": [
       "0         It depends on how Fox News takes this story.\n",
       "1    Can we just start calling it the \"White Tea\" p...\n",
       "2    sarah palin.  donkey punch, donkey punch, donk...\n",
       "3    &gt; The extreme right is truly about feelings...\n",
       "4    &gt;I'd much rather have a less radical, stron...\n",
       "Name: body, dtype: object"
      ]
     },
     "execution_count": 16,
     "metadata": {},
     "output_type": "execute_result"
    }
   ],
   "source": [
    "text_df['body'][:5]"
   ]
  },
  {
   "cell_type": "code",
   "execution_count": 17,
   "id": "general-diamond",
   "metadata": {},
   "outputs": [],
   "source": [
    "lemmatizer = WordNetLemmatizer()\n"
   ]
  },
  {
   "cell_type": "code",
   "execution_count": 18,
   "id": "productive-myrtle",
   "metadata": {},
   "outputs": [],
   "source": [
    "stemmer = PorterStemmer()\n",
    "\n",
    "def stem_stuff(line):\n",
    "    tokenizer = RegexpTokenizer(r'\\w+')\n",
    "    line_tokens = tokenizer.tokenize(line.lower())\n",
    "    stemmy = [stemmer.stem(word) for word in line_tokens]\n",
    "    return stemmy\n",
    "\n",
    "text_df['body'] = text_df['body'].map(stem_stuff)\n",
    "\n",
    "text_df['body'] = text_df['body'].apply(', '.join)"
   ]
  },
  {
   "cell_type": "code",
   "execution_count": 21,
   "id": "dress-sally",
   "metadata": {},
   "outputs": [
    {
     "data": {
      "text/plain": [
       "0     it, depend, on, how, fox, news, take, thi, stori\n",
       "1    can, we, just, start, call, it, the, white, te...\n",
       "2    sarah, palin, donkey, punch, donkey, punch, do...\n",
       "3    gt, the, extrem, right, is, truli, about, feel...\n",
       "4    gt, i, d, much, rather, have, a, less, radic, ...\n",
       "Name: body, dtype: object"
      ]
     },
     "execution_count": 21,
     "metadata": {},
     "output_type": "execute_result"
    }
   ],
   "source": [
    "text_df['body'][:5]"
   ]
  },
  {
   "cell_type": "code",
   "execution_count": null,
   "id": "surface-circuit",
   "metadata": {},
   "outputs": [],
   "source": []
  },
  {
   "cell_type": "code",
   "execution_count": 22,
   "id": "typical-accessory",
   "metadata": {},
   "outputs": [],
   "source": [
    "X = text_df['body']\n",
    "y = text_df['year']"
   ]
  },
  {
   "cell_type": "code",
   "execution_count": 23,
   "id": "annoying-ivory",
   "metadata": {},
   "outputs": [],
   "source": [
    "X_train, X_test, y_train, y_test = train_test_split(X, y, \n",
    "                                                    random_state = 42, \n",
    "                                                    stratify = y)"
   ]
  },
  {
   "cell_type": "code",
   "execution_count": 24,
   "id": "mechanical-cross",
   "metadata": {},
   "outputs": [
    {
     "data": {
      "text/plain": [
       "538    i, sens, the, establish, of, anoth, famili, ch...\n",
       "879    oh, i, get, it, you, don, t, understand, polit...\n",
       "58     gt, oppress, minor, lash, out, at, rule, parti...\n",
       "9      i, think, it, would, sound, like, thi, http, w...\n",
       "268                                                remov\n",
       "                             ...                        \n",
       "836    michel, bachmann, spokesman, for, 75, of, the,...\n",
       "452    i, feel, like, i, ve, adequ, cover, that, in, ...\n",
       "387                                                delet\n",
       "266    yea, fuck, them, but, you, got, to, understand...\n",
       "537    my, 9yo, daughter, is, an, interest, ethnic, m...\n",
       "Name: body, Length: 1500, dtype: object"
      ]
     },
     "execution_count": 24,
     "metadata": {},
     "output_type": "execute_result"
    }
   ],
   "source": [
    "X_train"
   ]
  },
  {
   "cell_type": "markdown",
   "id": "little-envelope",
   "metadata": {},
   "source": [
    "### Combine GridSearchCV and Bernoulli Naive Bayes model"
   ]
  },
  {
   "cell_type": "code",
   "execution_count": 25,
   "id": "continent-right",
   "metadata": {},
   "outputs": [],
   "source": [
    "pipe = Pipeline([\n",
    "    ('cvec', CountVectorizer()),\n",
    "    ('nb', BernoulliNB())\n",
    "])"
   ]
  },
  {
   "cell_type": "code",
   "execution_count": 26,
   "id": "attached-county",
   "metadata": {},
   "outputs": [],
   "source": [
    "pipe_params = {\n",
    "    'cvec__max_features':[2000, 3000, 4000, 5000],\n",
    "    'cvec__min_df':[2, 3],\n",
    "    'cvec__max_df':[.9, .95],\n",
    "    'cvec__ngram_range':[(1, 1), (1, 2)]\n",
    "}"
   ]
  },
  {
   "cell_type": "code",
   "execution_count": 27,
   "id": "naughty-collapse",
   "metadata": {},
   "outputs": [],
   "source": [
    "gs = GridSearchCV(pipe, param_grid = pipe_params, cv = 5)"
   ]
  },
  {
   "cell_type": "code",
   "execution_count": 47,
   "id": "canadian-pharmaceutical",
   "metadata": {},
   "outputs": [
    {
     "data": {
      "text/plain": [
       "538    i, sens, the, establish, of, anoth, famili, ch...\n",
       "879    oh, i, get, it, you, don, t, understand, polit...\n",
       "58     gt, oppress, minor, lash, out, at, rule, parti...\n",
       "9      i, think, it, would, sound, like, thi, http, w...\n",
       "268                                                remov\n",
       "                             ...                        \n",
       "836    michel, bachmann, spokesman, for, 75, of, the,...\n",
       "452    i, feel, like, i, ve, adequ, cover, that, in, ...\n",
       "387                                                delet\n",
       "266    yea, fuck, them, but, you, got, to, understand...\n",
       "537    my, 9yo, daughter, is, an, interest, ethnic, m...\n",
       "Name: body, Length: 1500, dtype: object"
      ]
     },
     "execution_count": 47,
     "metadata": {},
     "output_type": "execute_result"
    }
   ],
   "source": [
    "X_train"
   ]
  },
  {
   "cell_type": "code",
   "execution_count": 48,
   "id": "fifty-boston",
   "metadata": {
    "tags": []
   },
   "outputs": [
    {
     "name": "stdout",
     "output_type": "stream",
     "text": [
      "0.75\n",
      "{'cvec__max_df': 0.9, 'cvec__max_features': 2000, 'cvec__min_df': 2, 'cvec__ngram_range': (1, 1)}\n",
      "train accuracy: 0.8653333333333333\n",
      "test accuracy: 0.73\n"
     ]
    }
   ],
   "source": [
    "gs.fit(X_train, y_train)\n",
    "\n",
    "print(gs.best_score_)\n",
    "print(gs.best_params_)\n",
    "\n",
    "print('train accuracy:', gs.score(X_train, y_train))\n",
    "\n",
    "print('test accuracy:', gs.score(X_test, y_test))"
   ]
  },
  {
   "cell_type": "code",
   "execution_count": 49,
   "id": "hawaiian-banana",
   "metadata": {},
   "outputs": [
    {
     "data": {
      "text/plain": [
       "pandas.core.series.Series"
      ]
     },
     "execution_count": 49,
     "metadata": {},
     "output_type": "execute_result"
    }
   ],
   "source": [
    "type(X_test)"
   ]
  },
  {
   "cell_type": "code",
   "execution_count": 30,
   "id": "transparent-writing",
   "metadata": {
    "tags": []
   },
   "outputs": [],
   "source": [
    "preds = gs.predict(X_test)"
   ]
  },
  {
   "cell_type": "code",
   "execution_count": 31,
   "id": "improving-agreement",
   "metadata": {},
   "outputs": [
    {
     "data": {
      "image/png": "[encoded data removed]",
      "text/plain": [
       "<Figure size 432x288 with 2 Axes>"
      ]
     },
     "metadata": {
      "needs_background": "light"
     },
     "output_type": "display_data"
    }
   ],
   "source": [
    "cm = confusion_matrix(y_test, preds)\n",
    "tn, fp, fn, tp = cm.ravel()\n",
    "\n",
    "ConfusionMatrixDisplay(cm).plot();"
   ]
  },
  {
   "cell_type": "code",
   "execution_count": 32,
   "id": "smart-voice",
   "metadata": {},
   "outputs": [
    {
     "data": {
      "text/html": [
       "<div>\n",
       "<style scoped>\n",
       "    .dataframe tbody tr th:only-of-type {\n",
       "        vertical-align: middle;\n",
       "    }\n",
       "\n",
       "    .dataframe tbody tr th {\n",
       "        vertical-align: top;\n",
       "    }\n",
       "\n",
       "    .dataframe thead th {\n",
       "        text-align: right;\n",
       "    }\n",
       "</style>\n",
       "<table border=\"1\" class=\"dataframe\">\n",
       "  <thead>\n",
       "    <tr style=\"text-align: right;\">\n",
       "      <th></th>\n",
       "      <th>year</th>\n",
       "      <th>body</th>\n",
       "    </tr>\n",
       "  </thead>\n",
       "  <tbody>\n",
       "    <tr>\n",
       "      <th>0</th>\n",
       "      <td>1</td>\n",
       "      <td>it, depend, on, how, fox, news, take, thi, stori</td>\n",
       "    </tr>\n",
       "    <tr>\n",
       "      <th>1</th>\n",
       "      <td>1</td>\n",
       "      <td>can, we, just, start, call, it, the, white, te...</td>\n",
       "    </tr>\n",
       "    <tr>\n",
       "      <th>2</th>\n",
       "      <td>1</td>\n",
       "      <td>sarah, palin, donkey, punch, donkey, punch, do...</td>\n",
       "    </tr>\n",
       "    <tr>\n",
       "      <th>3</th>\n",
       "      <td>1</td>\n",
       "      <td>gt, the, extrem, right, is, truli, about, feel...</td>\n",
       "    </tr>\n",
       "    <tr>\n",
       "      <th>4</th>\n",
       "      <td>1</td>\n",
       "      <td>gt, i, d, much, rather, have, a, less, radic, ...</td>\n",
       "    </tr>\n",
       "    <tr>\n",
       "      <th>...</th>\n",
       "      <td>...</td>\n",
       "      <td>...</td>\n",
       "    </tr>\n",
       "    <tr>\n",
       "      <th>995</th>\n",
       "      <td>0</td>\n",
       "      <td>i, haven, t, left, my, hous, in, a, week</td>\n",
       "    </tr>\n",
       "    <tr>\n",
       "      <th>996</th>\n",
       "      <td>0</td>\n",
       "      <td>ari, is, hand, down, the, best</td>\n",
       "    </tr>\n",
       "    <tr>\n",
       "      <th>997</th>\n",
       "      <td>0</td>\n",
       "      <td>pleas, provid, evid</td>\n",
       "    </tr>\n",
       "    <tr>\n",
       "      <th>998</th>\n",
       "      <td>0</td>\n",
       "      <td>lmao, come, back, when, you, have, an, actual,...</td>\n",
       "    </tr>\n",
       "    <tr>\n",
       "      <th>999</th>\n",
       "      <td>0</td>\n",
       "      <td>it, should, but, unfortun, peopl, refus, to, b...</td>\n",
       "    </tr>\n",
       "  </tbody>\n",
       "</table>\n",
       "<p>2000 rows × 2 columns</p>\n",
       "</div>"
      ],
      "text/plain": [
       "     year                                               body\n",
       "0       1   it, depend, on, how, fox, news, take, thi, stori\n",
       "1       1  can, we, just, start, call, it, the, white, te...\n",
       "2       1  sarah, palin, donkey, punch, donkey, punch, do...\n",
       "3       1  gt, the, extrem, right, is, truli, about, feel...\n",
       "4       1  gt, i, d, much, rather, have, a, less, radic, ...\n",
       "..    ...                                                ...\n",
       "995     0           i, haven, t, left, my, hous, in, a, week\n",
       "996     0                     ari, is, hand, down, the, best\n",
       "997     0                                pleas, provid, evid\n",
       "998     0  lmao, come, back, when, you, have, an, actual,...\n",
       "999     0  it, should, but, unfortun, peopl, refus, to, b...\n",
       "\n",
       "[2000 rows x 2 columns]"
      ]
     },
     "execution_count": 32,
     "metadata": {},
     "output_type": "execute_result"
    }
   ],
   "source": [
    "text_df"
   ]
  },
  {
   "cell_type": "code",
   "execution_count": 33,
   "id": "executive-flashing",
   "metadata": {},
   "outputs": [
    {
     "name": "stdout",
     "output_type": "stream",
     "text": [
      "specificity: 0.836\n"
     ]
    }
   ],
   "source": [
    "specificity = tn / (tn + fp)\n",
    "print('specificity:', specificity)"
   ]
  },
  {
   "cell_type": "markdown",
   "id": "stretch-riverside",
   "metadata": {},
   "source": [
    "### TFIDF Vectorizer"
   ]
  },
  {
   "cell_type": "code",
   "execution_count": 34,
   "id": "acoustic-experience",
   "metadata": {},
   "outputs": [],
   "source": [
    "tvec = TfidfVectorizer()"
   ]
  },
  {
   "cell_type": "code",
   "execution_count": 35,
   "id": "tired-marshall",
   "metadata": {},
   "outputs": [],
   "source": [
    "X_train_df = pd.DataFrame(tvec.fit_transform(X_train).todense(),\n",
    "                         columns = tvec.get_feature_names())"
   ]
  },
  {
   "cell_type": "code",
   "execution_count": 36,
   "id": "charming-hollywood",
   "metadata": {},
   "outputs": [
    {
     "data": {
      "text/plain": [
       "<AxesSubplot:>"
      ]
     },
     "execution_count": 36,
     "metadata": {},
     "output_type": "execute_result"
    },
    {
     "data": {
      "image/png": "[encoded data removed]",
      "text/plain": [
       "<Figure size 432x288 with 1 Axes>"
      ]
     },
     "metadata": {
      "needs_background": "light"
     },
     "output_type": "display_data"
    }
   ],
   "source": [
    "X_train_df.sum().sort_values(ascending=False).head(10).plot(kind='barh')"
   ]
  },
  {
   "cell_type": "code",
   "execution_count": 37,
   "id": "essential-graham",
   "metadata": {},
   "outputs": [
    {
     "data": {
      "text/plain": [
       "<AxesSubplot:>"
      ]
     },
     "execution_count": 37,
     "metadata": {},
     "output_type": "execute_result"
    },
    {
     "data": {
      "image/png": "[encoded data removed]",
      "text/plain": [
       "<Figure size 432x288 with 1 Axes>"
      ]
     },
     "metadata": {
      "needs_background": "light"
     },
     "output_type": "display_data"
    }
   ],
   "source": [
    "X_train_df.sum().sort_values(ascending=True).head(10).plot(kind='barh')"
   ]
  },
  {
   "cell_type": "code",
   "execution_count": 38,
   "id": "owned-checkout",
   "metadata": {},
   "outputs": [],
   "source": [
    "pipe_tvec = Pipeline([\n",
    "    ('tvec', TfidfVectorizer()),\n",
    "    ('nb', MultinomialNB())\n",
    "])"
   ]
  },
  {
   "cell_type": "code",
   "execution_count": 39,
   "id": "secondary-ordinary",
   "metadata": {},
   "outputs": [],
   "source": [
    "pipe_tvec_params = {\n",
    "    'tvec__max_features': [2000, 3000, 4000, 5000],\n",
    "    'tvec__stop_words': [None, 'english'],\n",
    "    'tvec__ngram_range': [(1, 1), (1, 2)]\n",
    "}"
   ]
  },
  {
   "cell_type": "code",
   "execution_count": 40,
   "id": "positive-lawsuit",
   "metadata": {},
   "outputs": [],
   "source": [
    "gs_tvec = GridSearchCV(pipe_tvec, param_grid = pipe_tvec_params, cv=5)"
   ]
  },
  {
   "cell_type": "code",
   "execution_count": 41,
   "id": "least-trinidad",
   "metadata": {},
   "outputs": [
    {
     "data": {
      "text/plain": [
       "GridSearchCV(cv=5,\n",
       "             estimator=Pipeline(steps=[('tvec', TfidfVectorizer()),\n",
       "                                       ('nb', MultinomialNB())]),\n",
       "             param_grid={'tvec__max_features': [2000, 3000, 4000, 5000],\n",
       "                         'tvec__ngram_range': [(1, 1), (1, 2)],\n",
       "                         'tvec__stop_words': [None, 'english']})"
      ]
     },
     "execution_count": 41,
     "metadata": {},
     "output_type": "execute_result"
    }
   ],
   "source": [
    "gs_tvec.fit(X_train, y_train)"
   ]
  },
  {
   "cell_type": "code",
   "execution_count": 42,
   "id": "relative-laptop",
   "metadata": {},
   "outputs": [
    {
     "data": {
      "text/plain": [
       "{'tvec__max_features': 4000,\n",
       " 'tvec__ngram_range': (1, 2),\n",
       " 'tvec__stop_words': 'english'}"
      ]
     },
     "execution_count": 42,
     "metadata": {},
     "output_type": "execute_result"
    }
   ],
   "source": [
    "gs_tvec.best_params_"
   ]
  },
  {
   "cell_type": "code",
   "execution_count": 43,
   "id": "furnished-curtis",
   "metadata": {},
   "outputs": [
    {
     "data": {
      "text/plain": [
       "0.956"
      ]
     },
     "execution_count": 43,
     "metadata": {},
     "output_type": "execute_result"
    }
   ],
   "source": [
    "gs_tvec.score(X_train, y_train)"
   ]
  },
  {
   "cell_type": "code",
   "execution_count": 44,
   "id": "smart-dakota",
   "metadata": {},
   "outputs": [
    {
     "data": {
      "text/plain": [
       "0.734"
      ]
     },
     "execution_count": 44,
     "metadata": {},
     "output_type": "execute_result"
    }
   ],
   "source": [
    "gs_tvec.score(X_test, y_test)"
   ]
  },
  {
   "cell_type": "code",
   "execution_count": 45,
   "id": "according-installation",
   "metadata": {},
   "outputs": [
    {
     "data": {
      "text/plain": [
       "0.728"
      ]
     },
     "execution_count": 45,
     "metadata": {},
     "output_type": "execute_result"
    }
   ],
   "source": [
    "preds_tvec = gs_tvec.predict(X_test)\n",
    "\n",
    "cm = confusion_matrix(y_test, preds_tvec)\n",
    "tn, fp, fn, tp = cm.ravel()\n",
    "\n",
    "specificity = tn / (tn + fp)\n",
    "specificity"
   ]
  },
  {
   "cell_type": "code",
   "execution_count": 46,
   "id": "invisible-mongolia",
   "metadata": {},
   "outputs": [
    {
     "data": {
      "image/png": "[encoded data removed]",
      "text/plain": [
       "<Figure size 432x288 with 2 Axes>"
      ]
     },
     "metadata": {
      "needs_background": "light"
     },
     "output_type": "display_data"
    }
   ],
   "source": [
    "ConfusionMatrixDisplay(cm).plot();"
   ]
  },
  {
   "cell_type": "code",
   "execution_count": null,
   "id": "consistent-disabled",
   "metadata": {},
   "outputs": [],
   "source": []
  },
  {
   "cell_type": "code",
   "execution_count": null,
   "id": "prostate-spank",
   "metadata": {},
   "outputs": [],
   "source": []
  }
 ],
 "metadata": {
  "kernelspec": {
   "display_name": "Python 3",
   "language": "python",
   "name": "python3"
  },
  "language_info": {
   "codemirror_mode": {
    "name": "ipython",
    "version": 3
   },
   "file_extension": ".py",
   "mimetype": "text/x-python",
   "name": "python",
   "nbconvert_exporter": "python",
   "pygments_lexer": "ipython3",
   "version": "3.9.2"
  }
 },
 "nbformat": 4,
 "nbformat_minor": 5
}
