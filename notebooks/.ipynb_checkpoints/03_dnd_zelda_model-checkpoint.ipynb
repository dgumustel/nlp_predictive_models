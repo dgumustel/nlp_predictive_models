{
 "cells": [
  {
   "cell_type": "code",
   "execution_count": 1,
   "id": "listed-antigua",
   "metadata": {},
   "outputs": [],
   "source": [
    "import pandas as pd\n",
    "import time\n",
    "import numpy as np\n",
    "\n",
    "from sklearn.pipeline import Pipeline\n",
    "from sklearn.model_selection import train_test_split, GridSearchCV\n",
    "from sklearn.naive_bayes import MultinomialNB, BernoulliNB\n",
    "from sklearn.metrics import confusion_matrix, ConfusionMatrixDisplay\n",
    "from sklearn.feature_extraction.text import CountVectorizer, TfidfVectorizer"
   ]
  },
  {
   "cell_type": "markdown",
   "id": "pacific-criterion",
   "metadata": {},
   "source": [
    "### Prepare data for modeling\n",
    "\n",
    "Things to do here:\n",
    "* grab just the subreddit, selftext, and title\n",
    "* binarize the subreddit column\n",
    "* train_test_split\n",
    "* countvectorize the title and selftext"
   ]
  },
  {
   "cell_type": "code",
   "execution_count": 80,
   "id": "forty-perth",
   "metadata": {},
   "outputs": [],
   "source": [
    "dmacademy_df = pd.read_csv('./data/dmacademy.csv')\n",
    "truezelda_df = pd.read_csv('./data/truezelda.csv')"
   ]
  },
  {
   "cell_type": "code",
   "execution_count": 81,
   "id": "standing-tutorial",
   "metadata": {},
   "outputs": [
    {
     "data": {
      "text/plain": [
       "5000"
      ]
     },
     "execution_count": 81,
     "metadata": {},
     "output_type": "execute_result"
    }
   ],
   "source": [
    "dmacademy_df['full_link'].nunique()"
   ]
  },
  {
   "cell_type": "code",
   "execution_count": 82,
   "id": "former-africa",
   "metadata": {},
   "outputs": [
    {
     "data": {
      "text/plain": [
       "4996"
      ]
     },
     "execution_count": 82,
     "metadata": {},
     "output_type": "execute_result"
    }
   ],
   "source": [
    "truezelda_df['full_link'].nunique()"
   ]
  },
  {
   "cell_type": "code",
   "execution_count": 83,
   "id": "defensive-volleyball",
   "metadata": {},
   "outputs": [],
   "source": [
    "frames = [dmacademy_df, truezelda_df]\n",
    "master_df = pd.concat(frames)"
   ]
  },
  {
   "cell_type": "code",
   "execution_count": 84,
   "id": "cutting-jesus",
   "metadata": {},
   "outputs": [
    {
     "data": {
      "text/html": [
       "<div>\n",
       "<style scoped>\n",
       "    .dataframe tbody tr th:only-of-type {\n",
       "        vertical-align: middle;\n",
       "    }\n",
       "\n",
       "    .dataframe tbody tr th {\n",
       "        vertical-align: top;\n",
       "    }\n",
       "\n",
       "    .dataframe thead th {\n",
       "        text-align: right;\n",
       "    }\n",
       "</style>\n",
       "<table border=\"1\" class=\"dataframe\">\n",
       "  <thead>\n",
       "    <tr style=\"text-align: right;\">\n",
       "      <th></th>\n",
       "      <th>all_awardings</th>\n",
       "      <th>allow_live_comments</th>\n",
       "      <th>author</th>\n",
       "      <th>author_flair_css_class</th>\n",
       "      <th>author_flair_richtext</th>\n",
       "      <th>author_flair_text</th>\n",
       "      <th>author_flair_type</th>\n",
       "      <th>author_fullname</th>\n",
       "      <th>author_patreon_flair</th>\n",
       "      <th>author_premium</th>\n",
       "      <th>...</th>\n",
       "      <th>crosspost_parent_list</th>\n",
       "      <th>previous_visits</th>\n",
       "      <th>author_id</th>\n",
       "      <th>updated_utc</th>\n",
       "      <th>steward_reports</th>\n",
       "      <th>og_description</th>\n",
       "      <th>og_title</th>\n",
       "      <th>removed_by</th>\n",
       "      <th>url_overridden_by_dest</th>\n",
       "      <th>poll_data</th>\n",
       "    </tr>\n",
       "  </thead>\n",
       "  <tbody>\n",
       "    <tr>\n",
       "      <th>0</th>\n",
       "      <td>[]</td>\n",
       "      <td>False</td>\n",
       "      <td>Vashael</td>\n",
       "      <td>NaN</td>\n",
       "      <td>[]</td>\n",
       "      <td>NaN</td>\n",
       "      <td>text</td>\n",
       "      <td>t2_7p5eovfe</td>\n",
       "      <td>False</td>\n",
       "      <td>False</td>\n",
       "      <td>...</td>\n",
       "      <td>NaN</td>\n",
       "      <td>NaN</td>\n",
       "      <td>NaN</td>\n",
       "      <td>NaN</td>\n",
       "      <td>NaN</td>\n",
       "      <td>NaN</td>\n",
       "      <td>NaN</td>\n",
       "      <td>NaN</td>\n",
       "      <td>NaN</td>\n",
       "      <td>NaN</td>\n",
       "    </tr>\n",
       "    <tr>\n",
       "      <th>1</th>\n",
       "      <td>[]</td>\n",
       "      <td>False</td>\n",
       "      <td>Atarihero76</td>\n",
       "      <td>NaN</td>\n",
       "      <td>[]</td>\n",
       "      <td>NaN</td>\n",
       "      <td>text</td>\n",
       "      <td>t2_48oeurxu</td>\n",
       "      <td>False</td>\n",
       "      <td>False</td>\n",
       "      <td>...</td>\n",
       "      <td>NaN</td>\n",
       "      <td>NaN</td>\n",
       "      <td>NaN</td>\n",
       "      <td>NaN</td>\n",
       "      <td>NaN</td>\n",
       "      <td>NaN</td>\n",
       "      <td>NaN</td>\n",
       "      <td>NaN</td>\n",
       "      <td>NaN</td>\n",
       "      <td>NaN</td>\n",
       "    </tr>\n",
       "    <tr>\n",
       "      <th>2</th>\n",
       "      <td>[]</td>\n",
       "      <td>False</td>\n",
       "      <td>JethroBuldean</td>\n",
       "      <td>NaN</td>\n",
       "      <td>[]</td>\n",
       "      <td>NaN</td>\n",
       "      <td>text</td>\n",
       "      <td>t2_1plx2r4z</td>\n",
       "      <td>False</td>\n",
       "      <td>False</td>\n",
       "      <td>...</td>\n",
       "      <td>NaN</td>\n",
       "      <td>NaN</td>\n",
       "      <td>NaN</td>\n",
       "      <td>NaN</td>\n",
       "      <td>NaN</td>\n",
       "      <td>NaN</td>\n",
       "      <td>NaN</td>\n",
       "      <td>NaN</td>\n",
       "      <td>NaN</td>\n",
       "      <td>NaN</td>\n",
       "    </tr>\n",
       "    <tr>\n",
       "      <th>3</th>\n",
       "      <td>[]</td>\n",
       "      <td>False</td>\n",
       "      <td>Mechaaniac</td>\n",
       "      <td>NaN</td>\n",
       "      <td>[]</td>\n",
       "      <td>NaN</td>\n",
       "      <td>text</td>\n",
       "      <td>t2_a04c8tpe</td>\n",
       "      <td>False</td>\n",
       "      <td>False</td>\n",
       "      <td>...</td>\n",
       "      <td>NaN</td>\n",
       "      <td>NaN</td>\n",
       "      <td>NaN</td>\n",
       "      <td>NaN</td>\n",
       "      <td>NaN</td>\n",
       "      <td>NaN</td>\n",
       "      <td>NaN</td>\n",
       "      <td>NaN</td>\n",
       "      <td>NaN</td>\n",
       "      <td>NaN</td>\n",
       "    </tr>\n",
       "    <tr>\n",
       "      <th>4</th>\n",
       "      <td>[]</td>\n",
       "      <td>False</td>\n",
       "      <td>Hungerforhuman</td>\n",
       "      <td>NaN</td>\n",
       "      <td>[]</td>\n",
       "      <td>NaN</td>\n",
       "      <td>text</td>\n",
       "      <td>t2_a2ouksrx</td>\n",
       "      <td>False</td>\n",
       "      <td>False</td>\n",
       "      <td>...</td>\n",
       "      <td>NaN</td>\n",
       "      <td>NaN</td>\n",
       "      <td>NaN</td>\n",
       "      <td>NaN</td>\n",
       "      <td>NaN</td>\n",
       "      <td>NaN</td>\n",
       "      <td>NaN</td>\n",
       "      <td>NaN</td>\n",
       "      <td>NaN</td>\n",
       "      <td>NaN</td>\n",
       "    </tr>\n",
       "    <tr>\n",
       "      <th>...</th>\n",
       "      <td>...</td>\n",
       "      <td>...</td>\n",
       "      <td>...</td>\n",
       "      <td>...</td>\n",
       "      <td>...</td>\n",
       "      <td>...</td>\n",
       "      <td>...</td>\n",
       "      <td>...</td>\n",
       "      <td>...</td>\n",
       "      <td>...</td>\n",
       "      <td>...</td>\n",
       "      <td>...</td>\n",
       "      <td>...</td>\n",
       "      <td>...</td>\n",
       "      <td>...</td>\n",
       "      <td>...</td>\n",
       "      <td>...</td>\n",
       "      <td>...</td>\n",
       "      <td>...</td>\n",
       "      <td>...</td>\n",
       "      <td>...</td>\n",
       "    </tr>\n",
       "    <tr>\n",
       "      <th>4991</th>\n",
       "      <td>[]</td>\n",
       "      <td>False</td>\n",
       "      <td>lutyrannus</td>\n",
       "      <td>NaN</td>\n",
       "      <td>[]</td>\n",
       "      <td>NaN</td>\n",
       "      <td>text</td>\n",
       "      <td>t2_89rcoije</td>\n",
       "      <td>False</td>\n",
       "      <td>False</td>\n",
       "      <td>...</td>\n",
       "      <td>NaN</td>\n",
       "      <td>NaN</td>\n",
       "      <td>NaN</td>\n",
       "      <td>NaN</td>\n",
       "      <td>NaN</td>\n",
       "      <td>NaN</td>\n",
       "      <td>NaN</td>\n",
       "      <td>NaN</td>\n",
       "      <td>NaN</td>\n",
       "      <td>NaN</td>\n",
       "    </tr>\n",
       "    <tr>\n",
       "      <th>4992</th>\n",
       "      <td>[]</td>\n",
       "      <td>False</td>\n",
       "      <td>novacav</td>\n",
       "      <td>NaN</td>\n",
       "      <td>[]</td>\n",
       "      <td>NaN</td>\n",
       "      <td>text</td>\n",
       "      <td>t2_4cagn</td>\n",
       "      <td>False</td>\n",
       "      <td>False</td>\n",
       "      <td>...</td>\n",
       "      <td>NaN</td>\n",
       "      <td>NaN</td>\n",
       "      <td>NaN</td>\n",
       "      <td>NaN</td>\n",
       "      <td>NaN</td>\n",
       "      <td>NaN</td>\n",
       "      <td>NaN</td>\n",
       "      <td>NaN</td>\n",
       "      <td>NaN</td>\n",
       "      <td>NaN</td>\n",
       "    </tr>\n",
       "    <tr>\n",
       "      <th>4993</th>\n",
       "      <td>[]</td>\n",
       "      <td>False</td>\n",
       "      <td>[deleted]</td>\n",
       "      <td>NaN</td>\n",
       "      <td>NaN</td>\n",
       "      <td>NaN</td>\n",
       "      <td>NaN</td>\n",
       "      <td>NaN</td>\n",
       "      <td>NaN</td>\n",
       "      <td>NaN</td>\n",
       "      <td>...</td>\n",
       "      <td>NaN</td>\n",
       "      <td>NaN</td>\n",
       "      <td>NaN</td>\n",
       "      <td>NaN</td>\n",
       "      <td>NaN</td>\n",
       "      <td>NaN</td>\n",
       "      <td>NaN</td>\n",
       "      <td>NaN</td>\n",
       "      <td>NaN</td>\n",
       "      <td>NaN</td>\n",
       "    </tr>\n",
       "    <tr>\n",
       "      <th>4994</th>\n",
       "      <td>[]</td>\n",
       "      <td>False</td>\n",
       "      <td>yuckygross</td>\n",
       "      <td>NaN</td>\n",
       "      <td>[]</td>\n",
       "      <td>NaN</td>\n",
       "      <td>text</td>\n",
       "      <td>t2_w87ax</td>\n",
       "      <td>False</td>\n",
       "      <td>False</td>\n",
       "      <td>...</td>\n",
       "      <td>NaN</td>\n",
       "      <td>NaN</td>\n",
       "      <td>NaN</td>\n",
       "      <td>NaN</td>\n",
       "      <td>NaN</td>\n",
       "      <td>NaN</td>\n",
       "      <td>NaN</td>\n",
       "      <td>NaN</td>\n",
       "      <td>NaN</td>\n",
       "      <td>NaN</td>\n",
       "    </tr>\n",
       "    <tr>\n",
       "      <th>4995</th>\n",
       "      <td>[]</td>\n",
       "      <td>False</td>\n",
       "      <td>[deleted]</td>\n",
       "      <td>NaN</td>\n",
       "      <td>NaN</td>\n",
       "      <td>NaN</td>\n",
       "      <td>NaN</td>\n",
       "      <td>NaN</td>\n",
       "      <td>NaN</td>\n",
       "      <td>NaN</td>\n",
       "      <td>...</td>\n",
       "      <td>NaN</td>\n",
       "      <td>NaN</td>\n",
       "      <td>NaN</td>\n",
       "      <td>NaN</td>\n",
       "      <td>NaN</td>\n",
       "      <td>NaN</td>\n",
       "      <td>NaN</td>\n",
       "      <td>NaN</td>\n",
       "      <td>NaN</td>\n",
       "      <td>NaN</td>\n",
       "    </tr>\n",
       "  </tbody>\n",
       "</table>\n",
       "<p>9996 rows × 86 columns</p>\n",
       "</div>"
      ],
      "text/plain": [
       "     all_awardings allow_live_comments          author author_flair_css_class  \\\n",
       "0               []               False         Vashael                    NaN   \n",
       "1               []               False     Atarihero76                    NaN   \n",
       "2               []               False   JethroBuldean                    NaN   \n",
       "3               []               False      Mechaaniac                    NaN   \n",
       "4               []               False  Hungerforhuman                    NaN   \n",
       "...            ...                 ...             ...                    ...   \n",
       "4991            []               False      lutyrannus                    NaN   \n",
       "4992            []               False         novacav                    NaN   \n",
       "4993            []               False       [deleted]                    NaN   \n",
       "4994            []               False      yuckygross                    NaN   \n",
       "4995            []               False       [deleted]                    NaN   \n",
       "\n",
       "     author_flair_richtext author_flair_text author_flair_type  \\\n",
       "0                       []               NaN              text   \n",
       "1                       []               NaN              text   \n",
       "2                       []               NaN              text   \n",
       "3                       []               NaN              text   \n",
       "4                       []               NaN              text   \n",
       "...                    ...               ...               ...   \n",
       "4991                    []               NaN              text   \n",
       "4992                    []               NaN              text   \n",
       "4993                   NaN               NaN               NaN   \n",
       "4994                    []               NaN              text   \n",
       "4995                   NaN               NaN               NaN   \n",
       "\n",
       "     author_fullname author_patreon_flair author_premium  ...  \\\n",
       "0        t2_7p5eovfe                False          False  ...   \n",
       "1        t2_48oeurxu                False          False  ...   \n",
       "2        t2_1plx2r4z                False          False  ...   \n",
       "3        t2_a04c8tpe                False          False  ...   \n",
       "4        t2_a2ouksrx                False          False  ...   \n",
       "...              ...                  ...            ...  ...   \n",
       "4991     t2_89rcoije                False          False  ...   \n",
       "4992        t2_4cagn                False          False  ...   \n",
       "4993             NaN                  NaN            NaN  ...   \n",
       "4994        t2_w87ax                False          False  ...   \n",
       "4995             NaN                  NaN            NaN  ...   \n",
       "\n",
       "     crosspost_parent_list previous_visits  author_id  updated_utc  \\\n",
       "0                      NaN             NaN        NaN          NaN   \n",
       "1                      NaN             NaN        NaN          NaN   \n",
       "2                      NaN             NaN        NaN          NaN   \n",
       "3                      NaN             NaN        NaN          NaN   \n",
       "4                      NaN             NaN        NaN          NaN   \n",
       "...                    ...             ...        ...          ...   \n",
       "4991                   NaN             NaN        NaN          NaN   \n",
       "4992                   NaN             NaN        NaN          NaN   \n",
       "4993                   NaN             NaN        NaN          NaN   \n",
       "4994                   NaN             NaN        NaN          NaN   \n",
       "4995                   NaN             NaN        NaN          NaN   \n",
       "\n",
       "     steward_reports  og_description og_title removed_by  \\\n",
       "0                NaN             NaN      NaN        NaN   \n",
       "1                NaN             NaN      NaN        NaN   \n",
       "2                NaN             NaN      NaN        NaN   \n",
       "3                NaN             NaN      NaN        NaN   \n",
       "4                NaN             NaN      NaN        NaN   \n",
       "...              ...             ...      ...        ...   \n",
       "4991             NaN             NaN      NaN        NaN   \n",
       "4992             NaN             NaN      NaN        NaN   \n",
       "4993             NaN             NaN      NaN        NaN   \n",
       "4994             NaN             NaN      NaN        NaN   \n",
       "4995             NaN             NaN      NaN        NaN   \n",
       "\n",
       "     url_overridden_by_dest  poll_data  \n",
       "0                       NaN        NaN  \n",
       "1                       NaN        NaN  \n",
       "2                       NaN        NaN  \n",
       "3                       NaN        NaN  \n",
       "4                       NaN        NaN  \n",
       "...                     ...        ...  \n",
       "4991                    NaN        NaN  \n",
       "4992                    NaN        NaN  \n",
       "4993                    NaN        NaN  \n",
       "4994                    NaN        NaN  \n",
       "4995                    NaN        NaN  \n",
       "\n",
       "[9996 rows x 86 columns]"
      ]
     },
     "execution_count": 84,
     "metadata": {},
     "output_type": "execute_result"
    }
   ],
   "source": [
    "master_df"
   ]
  },
  {
   "cell_type": "code",
   "execution_count": 85,
   "id": "limited-jamaica",
   "metadata": {},
   "outputs": [],
   "source": [
    "text_df = master_df[['subreddit', 'title', 'selftext']].copy()"
   ]
  },
  {
   "cell_type": "code",
   "execution_count": 86,
   "id": "administrative-rendering",
   "metadata": {},
   "outputs": [
    {
     "name": "stdout",
     "output_type": "stream",
     "text": [
      "**Edit (UPDATE): Thank you for the robust response! I've had some great applications so far and I'm hyped for the conversations we will have. I am currently going through interview applications and preparing to send out follow-ups. Thanks for your patience.**\n",
      "\n",
      "Hello, seasoned dungeon masters!\n",
      "\n",
      "I'm Nick, the host of an upcoming GM interview podcast, and I want to talk with you on my show! Isn't it about time your epic campaign gets shared with the TTRPG community?\n",
      "\n",
      "I want you, the non-celebrity GM (or hidden GM, if you will), to share your stories and wisdom with the community. I think we, as a community, have something to learn from your experience behind the GM screen.\n",
      "\n",
      "What makes this podcast really fun is that we'll be getting your wisdom out there to other GMs just like you. This is the outlet you've been waiting for to talk about the campaign you poured your heart and soul into. I know how painful it is to keep all the cool secrets of your campaign and hidden lore from your PCs. My heart is always telling me to spill the beans, even when my mind knows better. So, instead of bottling up all your cool secrets for months or years, let's share them with our listeners!\n",
      "\n",
      "Before you apply, please make sure you have:\n",
      "\n",
      "a successful and interesting campaign you want to talk about\n",
      "\n",
      "a decent mic or headset\n",
      "\n",
      "a desire to share your creation with our community\n",
      "\n",
      "Please message me if you want to book an interview. You can also submit an interview app on the subreddit /r/HiddenGMsPodcast or click the \"Apply for an interview\" button on the website: HiddenGMsPodcast.com\n",
      "\n",
      "Thanks for your time, Nick\n",
      "TERRAIN, and using it Effectively – DM Tips\n",
      "\n",
      "Using terrain Effectively Video:\n",
      "\n",
      "[https://youtu.be/AnpNtWTIX2Q](https://youtu.be/AnpNtWTIX2Q)\n",
      "\n",
      "Hey folks, I’d like to share with you some advice, in video and written form, on the use of Terrain in your Tabletop RPGs.\n",
      "\n",
      "I see a lot of questions and suggestions on adding terrain to your combats and skill challenges, but just plopping down some environment features is not the end of the technique, it is the beginning. Here I will spell out definitions and techniques for how to actually go about making terrain that is effective and will add drama to your encounters/scenes.\n",
      "\n",
      "The official dictionary definition of TERRAIN is: a stretch of land, especially with regard to its physical features\n",
      "\n",
      "How that relates to DnD (and other RPG settings) in my mind, is to redefine Terrain as: Anything in a scene or setting that is not a creature, (but also sometimes a creature can be a terrain feature...).\n",
      "\n",
      "So Terrain in an RPG is not only the swamps, treetops, bushes, boulders, weather, it is anything and every physical thing in a scene, Think of it all connected. \n",
      "\n",
      "HAVE A PLAN! Don’t just make the terrain a backdrop, make it an active force in the encounter.\n",
      "\n",
      "There are 4 categories of Terrain, and some of them can overlap, but this gives you a good breakdown of options when creating Terrain and designing encounters: \n",
      "\n",
      "**Set Pieces**, like scenes from Indiana Jones, \n",
      "\n",
      "**Monster tactics and/or habitats they can exploit**, \n",
      "\n",
      "**Terrain that moves** (rivers, landslides, lava, wind), \n",
      "\n",
      "or even \n",
      "\n",
      "**Monsters that cause terrain changes**, throwing trees, carving swaths out of the ground, etc…\n",
      "\n",
      "A Set-piece is a pre-planned situation, scenario, and/or set-up, that will drastically change the landscape and danger once it triggers. Indiana Jones boulder, Fast and the Furious car scenes, falling bridges, explosions, pretty much all the action scenes in movies are based off set-pieces. Something will change the world in a way that makes the protagonist have to act quickly to avoid certain disaster, while trying to do something else.\n",
      "\n",
      "Examples of Set-pieces: [Shark vs Rowboat](https://www.youtube.com/watch?v=c-xQej68BfI), [Goblin Bridge](https://www.youtube.com/watch?v=r9rhPAS3r1U),  [Zombie Shark and Drow Escape](https://www.youtube.com/watch?v=goyXZOPW1qI)\n",
      "\n",
      "Monster Tactics that use terrain and their natural habitat/defenses. This is where you plan your environment and the creatures/enemies in it to their own advantage. Goblins know to attack then retreat behind walls for full cover, a chameleon stays in the trees to avoid detection, luring players into traps, or other pitfalls/kill-zones, or terrain the monster knows it can move better or fight better in.\n",
      "\n",
      "Examples of Monster Tactics using terrain: [Moose and Dryads,](https://www.youtube.com/watch?v=cCKulrLta8k) [Scorpion Pitfall](https://www.youtube.com/watch?v=GctMlSSwMlw), [MegOctopuss Cavern](https://www.youtube.com/watch?v=N40RIslV5vY)\n",
      "\n",
      "Moving Terrain can be classified as rivers/oceans, landslides, floods, earthquakes, basically anything that keeps the actual ground/water under them in constant motion. This type of terrain tends to work itself out, since it is organic and dangerous by its very nature. But it is still a good idea to have a plan and think of ways to use this environment. The river is moving quickly, so a simple skill challenge to cross, add in some swimming creatures and now you have a very dangerous situation that requires players to plan and really work out.\n",
      "\n",
      "Examples of Moving Terrain: [KoboGnolls at Sea](https://www.youtube.com/watch?v=JTAf58OYoUo), \n",
      "\n",
      "Sometimes it’s Monsters that create Terrain changes. Giants ripping up trees and throwing them, causing damage, and eventually cover/concealment. An Ankheg digging holes/tunnels under player’s feet, a massive leviathan causing a tidal wave. Etc… In these instances you can make the monster’s abilities/tactics tie into the environment to basically create an organic set-piece, caused by the actions of the creature. Fight a Red Dragon in a thick forest? One fire breath now makes a forest an inferno of danger.\n",
      "\n",
      "Some examples of Monsters that cause Terrain changes: [Troll Bridge](https://www.youtube.com/watch?v=cITJbEOqXXM), [Sandworm Plateau](https://www.youtube.com/watch?v=s9IHObatL2U), [Goblin Donkey Kong](https://www.youtube.com/watch?v=_zMte08VlQc)\n",
      "\n",
      "&amp;#x200B;\n",
      "\n",
      "I hope this helps some DMs with not only adding terrain but using it effectively in your own games. it doesn't take much to make a flat combat dynamic, you can use just 1 or multiple techniques from above, the simplest tweak to otherwise mundane combat can make a HUGE difference in fun and drama.\n",
      "The players are planning on dropping an evil artefact contained in a lead box into the middle of the ocean, but one player is still wanting it as it provides information in exchange for information.\n",
      "If the player took Keen Mind feat, would they know exactly where is was dumped, RAW?\n",
      "Or would another feat or help them know where it was?\n",
      "I am running a campaign for all intents and purposes is fantasy ww1 and want to run basic training as the first session as an intro and a way to get to know the party and others they'll be fighting along side.\n",
      "I have a few ideas of how to do but need some inspiration.\n",
      "Hey just a newbie DM .My sessions are usually 3-4 hours long .When would be the time to take breaks and how long should they be ?\n"
     ]
    }
   ],
   "source": [
    "for row in text_df['selftext'][:5]:\n",
    "    print(row)"
   ]
  },
  {
   "cell_type": "code",
   "execution_count": 95,
   "id": "surprised-barbados",
   "metadata": {},
   "outputs": [
    {
     "name": "stderr",
     "output_type": "stream",
     "text": [
      "<ipython-input-95-c88cfe3cc374>:3: FutureWarning: The default value of regex will change from True to False in a future version.\n",
      "  text_df['selftext'] = text_df['selftext'].str.replace('\\d+', '') # help from Amir!\n",
      "<ipython-input-95-c88cfe3cc374>:5: FutureWarning: The default value of regex will change from True to False in a future version.\n",
      "  text_df['selftext'] = text_df['selftext'].str.replace('\\(https:\\/\\/www.youtube.com\\/watch\\?v=...........\\)', '')\n"
     ]
    }
   ],
   "source": [
    "# https://stackoverflow.com/questions/41719259/how-to-remove-numbers-from-string-terms-in-a-pandas-dataframe\n",
    "\n",
    "text_df['selftext'] = text_df['selftext'].str.replace('\\d+', '') # help from Amir! \n",
    "text_df['selftext'] = text_df['selftext'].str.replace('&amp;', '') # could replace with 'and'\n",
    "text_df['selftext'] = text_df['selftext'].str.replace('\\(https:\\/\\/www.youtube.com\\/watch\\?v=...........\\)', '')\n",
    "\n",
    "\n",
    "#text_df['selftext'] = text_df['selftext'].str.replace(r'^https?:\\/\\/.*[\\r\\n]*', '')\n",
    "\n",
    "# String alphaOnly = input.replaceAll(\"[^a-zA-Z]+\",\"\");\n",
    "# String alphaAndDigits = input.replaceAll(\"[^a-zA-Z0-9]+\",\"\");\n",
    "\n",
    "# https://stackoverflow.com/questions/11331982/how-to-remove-any-url-within-a-string-in-python/11332580\n",
    "import re\n",
    "#text = re.sub(r'^https?:\\/\\/.*[\\r\\n]*', '', text, flags=re.MULTILINE)"
   ]
  },
  {
   "cell_type": "code",
   "execution_count": 96,
   "id": "radical-country",
   "metadata": {},
   "outputs": [
    {
     "name": "stdout",
     "output_type": "stream",
     "text": [
      "**Edit (UPDATE): Thank you for the robust response! I've had some great applications so far and I'm hyped for the conversations we will have. I am currently going through interview applications and preparing to send out follow-ups. Thanks for your patience.**\n",
      "\n",
      "Hello, seasoned dungeon masters!\n",
      "\n",
      "I'm Nick, the host of an upcoming GM interview podcast, and I want to talk with you on my show! Isn't it about time your epic campaign gets shared with the TTRPG community?\n",
      "\n",
      "I want you, the non-celebrity GM (or hidden GM, if you will), to share your stories and wisdom with the community. I think we, as a community, have something to learn from your experience behind the GM screen.\n",
      "\n",
      "What makes this podcast really fun is that we'll be getting your wisdom out there to other GMs just like you. This is the outlet you've been waiting for to talk about the campaign you poured your heart and soul into. I know how painful it is to keep all the cool secrets of your campaign and hidden lore from your PCs. My heart is always telling me to spill the beans, even when my mind knows better. So, instead of bottling up all your cool secrets for months or years, let's share them with our listeners!\n",
      "\n",
      "Before you apply, please make sure you have:\n",
      "\n",
      "a successful and interesting campaign you want to talk about\n",
      "\n",
      "a decent mic or headset\n",
      "\n",
      "a desire to share your creation with our community\n",
      "\n",
      "Please message me if you want to book an interview. You can also submit an interview app on the subreddit /r/HiddenGMsPodcast or click the \"Apply for an interview\" button on the website: HiddenGMsPodcast.com\n",
      "\n",
      "Thanks for your time, Nick\n",
      "TERRAIN, and using it Effectively – DM Tips\n",
      "\n",
      "Using terrain Effectively Video:\n",
      "\n",
      "[https://youtu.be/AnpNtWTIXQ](https://youtu.be/AnpNtWTIXQ)\n",
      "\n",
      "Hey folks, I’d like to share with you some advice, in video and written form, on the use of Terrain in your Tabletop RPGs.\n",
      "\n",
      "I see a lot of questions and suggestions on adding terrain to your combats and skill challenges, but just plopping down some environment features is not the end of the technique, it is the beginning. Here I will spell out definitions and techniques for how to actually go about making terrain that is effective and will add drama to your encounters/scenes.\n",
      "\n",
      "The official dictionary definition of TERRAIN is: a stretch of land, especially with regard to its physical features\n",
      "\n",
      "How that relates to DnD (and other RPG settings) in my mind, is to redefine Terrain as: Anything in a scene or setting that is not a creature, (but also sometimes a creature can be a terrain feature...).\n",
      "\n",
      "So Terrain in an RPG is not only the swamps, treetops, bushes, boulders, weather, it is anything and every physical thing in a scene, Think of it all connected. \n",
      "\n",
      "HAVE A PLAN! Don’t just make the terrain a backdrop, make it an active force in the encounter.\n",
      "\n",
      "There are  categories of Terrain, and some of them can overlap, but this gives you a good breakdown of options when creating Terrain and designing encounters: \n",
      "\n",
      "**Set Pieces**, like scenes from Indiana Jones, \n",
      "\n",
      "**Monster tactics and/or habitats they can exploit**, \n",
      "\n",
      "**Terrain that moves** (rivers, landslides, lava, wind), \n",
      "\n",
      "or even \n",
      "\n",
      "**Monsters that cause terrain changes**, throwing trees, carving swaths out of the ground, etc…\n",
      "\n",
      "A Set-piece is a pre-planned situation, scenario, and/or set-up, that will drastically change the landscape and danger once it triggers. Indiana Jones boulder, Fast and the Furious car scenes, falling bridges, explosions, pretty much all the action scenes in movies are based off set-pieces. Something will change the world in a way that makes the protagonist have to act quickly to avoid certain disaster, while trying to do something else.\n",
      "\n",
      "Examples of Set-pieces: [Shark vs Rowboat](https://www.youtube.com/watch?v=c-xQejBfI), [Goblin Bridge](https://www.youtube.com/watch?v=rrhPASrU),  [Zombie Shark and Drow Escape](https://www.youtube.com/watch?v=goyXZOPWqI)\n",
      "\n",
      "Monster Tactics that use terrain and their natural habitat/defenses. This is where you plan your environment and the creatures/enemies in it to their own advantage. Goblins know to attack then retreat behind walls for full cover, a chameleon stays in the trees to avoid detection, luring players into traps, or other pitfalls/kill-zones, or terrain the monster knows it can move better or fight better in.\n",
      "\n",
      "Examples of Monster Tactics using terrain: [Moose and Dryads,](https://www.youtube.com/watch?v=cCKulrLtak) [Scorpion Pitfall], [MegOctopuss Cavern](https://www.youtube.com/watch?v=NRIslVvY)\n",
      "\n",
      "Moving Terrain can be classified as rivers/oceans, landslides, floods, earthquakes, basically anything that keeps the actual ground/water under them in constant motion. This type of terrain tends to work itself out, since it is organic and dangerous by its very nature. But it is still a good idea to have a plan and think of ways to use this environment. The river is moving quickly, so a simple skill challenge to cross, add in some swimming creatures and now you have a very dangerous situation that requires players to plan and really work out.\n",
      "\n",
      "Examples of Moving Terrain: [KoboGnolls at Sea](https://www.youtube.com/watch?v=JTAfOYoUo), \n",
      "\n",
      "Sometimes it’s Monsters that create Terrain changes. Giants ripping up trees and throwing them, causing damage, and eventually cover/concealment. An Ankheg digging holes/tunnels under player’s feet, a massive leviathan causing a tidal wave. Etc… In these instances you can make the monster’s abilities/tactics tie into the environment to basically create an organic set-piece, caused by the actions of the creature. Fight a Red Dragon in a thick forest? One fire breath now makes a forest an inferno of danger.\n",
      "\n",
      "Some examples of Monsters that cause Terrain changes: [Troll Bridge], [Sandworm Plateau](https://www.youtube.com/watch?v=sIHObatLU), [Goblin Donkey Kong](https://www.youtube.com/watch?v=_zMteVlQc)\n",
      "\n",
      "#xB;\n",
      "\n",
      "I hope this helps some DMs with not only adding terrain but using it effectively in your own games. it doesn't take much to make a flat combat dynamic, you can use just  or multiple techniques from above, the simplest tweak to otherwise mundane combat can make a HUGE difference in fun and drama.\n",
      "The players are planning on dropping an evil artefact contained in a lead box into the middle of the ocean, but one player is still wanting it as it provides information in exchange for information.\n",
      "If the player took Keen Mind feat, would they know exactly where is was dumped, RAW?\n",
      "Or would another feat or help them know where it was?\n",
      "I am running a campaign for all intents and purposes is fantasy ww and want to run basic training as the first session as an intro and a way to get to know the party and others they'll be fighting along side.\n",
      "I have a few ideas of how to do but need some inspiration.\n",
      "Hey just a newbie DM .My sessions are usually - hours long .When would be the time to take breaks and how long should they be ?\n"
     ]
    }
   ],
   "source": [
    "for row in text_df['selftext'][:5]:\n",
    "    print(row)"
   ]
  },
  {
   "cell_type": "code",
   "execution_count": 23,
   "id": "fabulous-walter",
   "metadata": {},
   "outputs": [
    {
     "data": {
      "text/plain": [
       "9899"
      ]
     },
     "execution_count": 23,
     "metadata": {},
     "output_type": "execute_result"
    }
   ],
   "source": [
    "text_df['title'].nunique()"
   ]
  },
  {
   "cell_type": "code",
   "execution_count": 24,
   "id": "persistent-spencer",
   "metadata": {},
   "outputs": [
    {
     "data": {
      "text/plain": [
       "8943"
      ]
     },
     "execution_count": 24,
     "metadata": {},
     "output_type": "execute_result"
    }
   ],
   "source": [
    "text_df['selftext'].nunique()"
   ]
  },
  {
   "cell_type": "code",
   "execution_count": 25,
   "id": "undefined-turner",
   "metadata": {},
   "outputs": [
    {
     "data": {
      "text/plain": [
       "subreddit      0\n",
       "title          0\n",
       "selftext     211\n",
       "dtype: int64"
      ]
     },
     "execution_count": 25,
     "metadata": {},
     "output_type": "execute_result"
    }
   ],
   "source": [
    "text_df.isnull().sum()"
   ]
  },
  {
   "cell_type": "code",
   "execution_count": 26,
   "id": "damaged-michael",
   "metadata": {},
   "outputs": [
    {
     "data": {
      "text/plain": [
       "4"
      ]
     },
     "execution_count": 26,
     "metadata": {},
     "output_type": "execute_result"
    }
   ],
   "source": [
    "# see how many nulls were from which subreddits\n",
    "dmacademy_df['selftext'].isnull().sum()"
   ]
  },
  {
   "cell_type": "code",
   "execution_count": 27,
   "id": "transsexual-approach",
   "metadata": {},
   "outputs": [
    {
     "data": {
      "text/plain": [
       "207"
      ]
     },
     "execution_count": 27,
     "metadata": {},
     "output_type": "execute_result"
    }
   ],
   "source": [
    "truezelda_df['selftext'].isnull().sum()"
   ]
  },
  {
   "cell_type": "markdown",
   "id": "creative-aruba",
   "metadata": {},
   "source": [
    "Our classes will be slightly imbalanced if we drop these nulls, but it's only a few percent difference so I'm willing to accept it."
   ]
  },
  {
   "cell_type": "code",
   "execution_count": 28,
   "id": "known-feelings",
   "metadata": {},
   "outputs": [],
   "source": [
    "text_df.replace(np.nan, \"\", regex=True, inplace=True)"
   ]
  },
  {
   "cell_type": "code",
   "execution_count": 29,
   "id": "historical-premiere",
   "metadata": {},
   "outputs": [
    {
     "data": {
      "text/plain": [
       "subreddit    0\n",
       "title        0\n",
       "selftext     0\n",
       "dtype: int64"
      ]
     },
     "execution_count": 29,
     "metadata": {},
     "output_type": "execute_result"
    }
   ],
   "source": [
    "text_df.isnull().sum()"
   ]
  },
  {
   "cell_type": "code",
   "execution_count": 30,
   "id": "exciting-pottery",
   "metadata": {},
   "outputs": [],
   "source": [
    "#https://stackoverflow.com/questions/44227748/removing-newlines-from-messy-strings-in-pandas-dataframe-cells\n",
    "text_df.replace(to_replace=[r\"\\\\t|\\\\n|\\\\r\", \"\\t|\\n|\\r\"], value=[\" \",\" \"], regex=True, inplace=True) "
   ]
  },
  {
   "cell_type": "code",
   "execution_count": 31,
   "id": "valid-controversy",
   "metadata": {},
   "outputs": [
    {
     "data": {
      "text/plain": [
       "subreddit    object\n",
       "title        object\n",
       "selftext     object\n",
       "dtype: object"
      ]
     },
     "execution_count": 31,
     "metadata": {},
     "output_type": "execute_result"
    }
   ],
   "source": [
    "text_df.dtypes"
   ]
  },
  {
   "cell_type": "code",
   "execution_count": 32,
   "id": "individual-transparency",
   "metadata": {},
   "outputs": [
    {
     "data": {
      "text/plain": [
       "0       DMAcademy\n",
       "1       DMAcademy\n",
       "2       DMAcademy\n",
       "3       DMAcademy\n",
       "4       DMAcademy\n",
       "          ...    \n",
       "4991    truezelda\n",
       "4992    truezelda\n",
       "4993    truezelda\n",
       "4994    truezelda\n",
       "4995    truezelda\n",
       "Name: subreddit, Length: 9996, dtype: object"
      ]
     },
     "execution_count": 32,
     "metadata": {},
     "output_type": "execute_result"
    }
   ],
   "source": [
    "text_df['subreddit']"
   ]
  },
  {
   "cell_type": "code",
   "execution_count": 33,
   "id": "cooperative-april",
   "metadata": {},
   "outputs": [],
   "source": [
    "text_df['subreddit'] = text_df['subreddit'].map({'truezelda':1,'DMAcademy':0})"
   ]
  },
  {
   "cell_type": "code",
   "execution_count": 34,
   "id": "municipal-prague",
   "metadata": {},
   "outputs": [
    {
     "data": {
      "text/plain": [
       "0       0\n",
       "1       0\n",
       "2       0\n",
       "3       0\n",
       "4       0\n",
       "       ..\n",
       "4991    1\n",
       "4992    1\n",
       "4993    1\n",
       "4994    1\n",
       "4995    1\n",
       "Name: subreddit, Length: 9996, dtype: int64"
      ]
     },
     "execution_count": 34,
     "metadata": {},
     "output_type": "execute_result"
    }
   ],
   "source": [
    "text_df['subreddit']"
   ]
  },
  {
   "cell_type": "code",
   "execution_count": 35,
   "id": "current-round",
   "metadata": {},
   "outputs": [
    {
     "data": {
      "text/plain": [
       "0    https://www.reddit.com/r/DMAcademy/comments/la...\n",
       "0    https://www.reddit.com/r/truezelda/comments/7c...\n",
       "Name: full_link, dtype: object"
      ]
     },
     "execution_count": 35,
     "metadata": {},
     "output_type": "execute_result"
    }
   ],
   "source": [
    "master_df['full_link'][0]"
   ]
  },
  {
   "cell_type": "code",
   "execution_count": 36,
   "id": "italic-alexandria",
   "metadata": {},
   "outputs": [],
   "source": [
    "X = text_df['selftext'] + ' ' + text_df['title']\n",
    "y = text_df['subreddit']"
   ]
  },
  {
   "cell_type": "code",
   "execution_count": 37,
   "id": "useful-optics",
   "metadata": {},
   "outputs": [
    {
     "data": {
      "text/plain": [
       "0"
      ]
     },
     "execution_count": 37,
     "metadata": {},
     "output_type": "execute_result"
    }
   ],
   "source": [
    "y.isnull().sum()"
   ]
  },
  {
   "cell_type": "code",
   "execution_count": 38,
   "id": "seeing-carolina",
   "metadata": {},
   "outputs": [
    {
     "name": "stdout",
     "output_type": "stream",
     "text": [
      "0    **Edit (UPDATE): Thank you for the robust resp...\n",
      "0    There is a VERY small chance that someone in t...\n",
      "Name: selftext, dtype: object\n",
      "0    Seeking seasoned DMs to be guests on interview...\n",
      "0    With the release of the Xenoblade Chronicles 2...\n",
      "Name: title, dtype: object\n"
     ]
    }
   ],
   "source": [
    "for row in text_df:\n",
    "    print(text_df['selftext'][0])\n",
    "    print(text_df['title'][0])\n",
    "    break"
   ]
  },
  {
   "cell_type": "code",
   "execution_count": 39,
   "id": "hollow-philippines",
   "metadata": {},
   "outputs": [
    {
     "name": "stdout",
     "output_type": "stream",
     "text": [
      "**Edit (UPDATE): Thank you for the robust response! I've had some great applications so far and I'm hyped for the conversations we will have. I am currently going through interview applications and preparing to send out follow-ups. Thanks for your patience.**  Hello, seasoned dungeon masters!  I'm Nick, the host of an upcoming GM interview podcast, and I want to talk with you on my show! Isn't it about time your epic campaign gets shared with the TTRPG community?  I want you, the non-celebrity GM (or hidden GM, if you will), to share your stories and wisdom with the community. I think we, as a community, have something to learn from your experience behind the GM screen.  What makes this podcast really fun is that we'll be getting your wisdom out there to other GMs just like you. This is the outlet you've been waiting for to talk about the campaign you poured your heart and soul into. I know how painful it is to keep all the cool secrets of your campaign and hidden lore from your PCs. My heart is always telling me to spill the beans, even when my mind knows better. So, instead of bottling up all your cool secrets for months or years, let's share them with our listeners!  Before you apply, please make sure you have:  a successful and interesting campaign you want to talk about  a decent mic or headset  a desire to share your creation with our community  Please message me if you want to book an interview. You can also submit an interview app on the subreddit /r/HiddenGMsPodcast or click the \"Apply for an interview\" button on the website: HiddenGMsPodcast.com  Thanks for your time, Nick Seeking seasoned DMs to be guests on interview podcast\n",
      "There is a VERY small chance that someone in the Xenoblade universe took all three parts of Rex's outfit and put them into three separate treasure chests and somehow put the chests into space in the Zelda universe and made it so that they'll only crash into Hyrule at night if someone stands at specific parts of hyrule and looks at specific parts of the sky. It's a safe bet that the other outfits aren't canon either. No Midna helm as evidence for the CT and RIP Switch shirt. The Tingle outfit is still canon in my heart :(  (also the salvager trousers make Link look THICC dayum) With the release of the Xenoblade Chronicles 2 DLC, can we all agree that the DLC outfits aren't canon?\n"
     ]
    }
   ],
   "source": [
    "for row in X[0]:\n",
    "    print(row)"
   ]
  },
  {
   "cell_type": "code",
   "execution_count": 40,
   "id": "consolidated-crystal",
   "metadata": {},
   "outputs": [
    {
     "data": {
      "text/plain": [
       "0    0.5002\n",
       "1    0.4998\n",
       "Name: subreddit, dtype: float64"
      ]
     },
     "execution_count": 40,
     "metadata": {},
     "output_type": "execute_result"
    }
   ],
   "source": [
    "y.value_counts(normalize=True)"
   ]
  },
  {
   "cell_type": "code",
   "execution_count": 41,
   "id": "alternate-stereo",
   "metadata": {},
   "outputs": [
    {
     "data": {
      "text/plain": [
       "0"
      ]
     },
     "execution_count": 41,
     "metadata": {},
     "output_type": "execute_result"
    }
   ],
   "source": [
    "X.isnull().sum()"
   ]
  },
  {
   "cell_type": "code",
   "execution_count": 42,
   "id": "direct-remove",
   "metadata": {},
   "outputs": [
    {
     "data": {
      "text/plain": [
       "0"
      ]
     },
     "execution_count": 42,
     "metadata": {},
     "output_type": "execute_result"
    }
   ],
   "source": [
    "y.isnull().sum()"
   ]
  },
  {
   "cell_type": "code",
   "execution_count": 43,
   "id": "smoking-christianity",
   "metadata": {},
   "outputs": [],
   "source": [
    "X_train, X_test, y_train, y_test = train_test_split(X, y, \n",
    "                                                    random_state = 42, \n",
    "                                                    stratify = y)"
   ]
  },
  {
   "cell_type": "code",
   "execution_count": 44,
   "id": "variable-parliament",
   "metadata": {},
   "outputs": [
    {
     "data": {
      "text/plain": [
       "2284    **TLDR:** for the story to unfold, the prince ...\n",
       "493     So, following the events of Wind Waker and Pha...\n",
       "389     LA ends with him grabbing on to a log while th...\n",
       "3768    I've never been a *huge* fan of top-down Zelda...\n",
       "2821    I want to make a dungeon where the party have ...\n",
       "                              ...                        \n",
       "4698    Hey all, I am seeking advice for a one shot I’...\n",
       "948     Hello! I am planning to RP the moment in which...\n",
       "334     I am a first  time DM and i started running Gr...\n",
       "1037    My answer is Turtle Rock or Ganon's Tower from...\n",
       "677     Is the 5e Curse of Strahd considered more of a...\n",
       "Length: 7497, dtype: object"
      ]
     },
     "execution_count": 44,
     "metadata": {},
     "output_type": "execute_result"
    }
   ],
   "source": [
    "X_train"
   ]
  },
  {
   "cell_type": "code",
   "execution_count": 45,
   "id": "subsequent-obligation",
   "metadata": {},
   "outputs": [
    {
     "data": {
      "text/plain": [
       "0    0.5002\n",
       "1    0.4998\n",
       "Name: subreddit, dtype: float64"
      ]
     },
     "execution_count": 45,
     "metadata": {},
     "output_type": "execute_result"
    }
   ],
   "source": [
    "y_train.value_counts(normalize=True)"
   ]
  },
  {
   "cell_type": "markdown",
   "id": "assured-jewelry",
   "metadata": {},
   "source": [
    "### Combine GridSearchCV and Bernoulli Naive Bayes model"
   ]
  },
  {
   "cell_type": "code",
   "execution_count": 46,
   "id": "organizational-strength",
   "metadata": {},
   "outputs": [],
   "source": [
    "pipe = Pipeline([\n",
    "    ('cvec', CountVectorizer()),\n",
    "    ('nb', BernoulliNB())\n",
    "])"
   ]
  },
  {
   "cell_type": "code",
   "execution_count": 47,
   "id": "devoted-fifty",
   "metadata": {},
   "outputs": [],
   "source": [
    "pipe_params = {\n",
    "    'cvec__max_features':[2000, 3000, 4000, 5000],\n",
    "    'cvec__min_df':[2, 3],\n",
    "    'cvec__max_df':[.9, .95],\n",
    "    'cvec__ngram_range':[(1, 1), (1, 2)]\n",
    "}"
   ]
  },
  {
   "cell_type": "code",
   "execution_count": 48,
   "id": "completed-services",
   "metadata": {},
   "outputs": [],
   "source": [
    "gs = GridSearchCV(pipe, param_grid = pipe_params, cv = 5)"
   ]
  },
  {
   "cell_type": "code",
   "execution_count": 49,
   "id": "furnished-delicious",
   "metadata": {
    "tags": []
   },
   "outputs": [
    {
     "name": "stdout",
     "output_type": "stream",
     "text": [
      "0.9693213253279966\n",
      "train accuracy: 0.970921702014139\n",
      "test accuracy: 0.9647859143657463\n"
     ]
    }
   ],
   "source": [
    "gs.fit(X_train, y_train)\n",
    "\n",
    "print(gs.best_score_)\n",
    "\n",
    "print('train accuracy:', gs.score(X_train, y_train))\n",
    "\n",
    "print('test accuracy:', gs.score(X_test, y_test))"
   ]
  },
  {
   "cell_type": "code",
   "execution_count": 50,
   "id": "typical-surface",
   "metadata": {},
   "outputs": [
    {
     "data": {
      "text/plain": [
       "pandas.core.series.Series"
      ]
     },
     "execution_count": 50,
     "metadata": {},
     "output_type": "execute_result"
    }
   ],
   "source": [
    "type(X_test)"
   ]
  },
  {
   "cell_type": "code",
   "execution_count": 51,
   "id": "blond-legislature",
   "metadata": {
    "tags": []
   },
   "outputs": [],
   "source": [
    "preds = gs.predict(X_test)"
   ]
  },
  {
   "cell_type": "code",
   "execution_count": 52,
   "id": "designing-cardiff",
   "metadata": {},
   "outputs": [
    {
     "data": {
      "image/png": "[encoded data removed]",
      "text/plain": [
       "<Figure size 432x288 with 2 Axes>"
      ]
     },
     "metadata": {
      "needs_background": "light"
     },
     "output_type": "display_data"
    }
   ],
   "source": [
    "cm = confusion_matrix(y_test, preds)\n",
    "tn, fp, fn, tp = cm.ravel()\n",
    "\n",
    "ConfusionMatrixDisplay(cm).plot();"
   ]
  },
  {
   "cell_type": "code",
   "execution_count": 53,
   "id": "broken-tablet",
   "metadata": {},
   "outputs": [
    {
     "data": {
      "text/html": [
       "<div>\n",
       "<style scoped>\n",
       "    .dataframe tbody tr th:only-of-type {\n",
       "        vertical-align: middle;\n",
       "    }\n",
       "\n",
       "    .dataframe tbody tr th {\n",
       "        vertical-align: top;\n",
       "    }\n",
       "\n",
       "    .dataframe thead th {\n",
       "        text-align: right;\n",
       "    }\n",
       "</style>\n",
       "<table border=\"1\" class=\"dataframe\">\n",
       "  <thead>\n",
       "    <tr style=\"text-align: right;\">\n",
       "      <th></th>\n",
       "      <th>subreddit</th>\n",
       "      <th>title</th>\n",
       "      <th>selftext</th>\n",
       "    </tr>\n",
       "  </thead>\n",
       "  <tbody>\n",
       "    <tr>\n",
       "      <th>0</th>\n",
       "      <td>0</td>\n",
       "      <td>Seeking seasoned DMs to be guests on interview...</td>\n",
       "      <td>**Edit (UPDATE): Thank you for the robust resp...</td>\n",
       "    </tr>\n",
       "    <tr>\n",
       "      <th>1</th>\n",
       "      <td>0</td>\n",
       "      <td>TERRAIN, and Using it Effectively</td>\n",
       "      <td>TERRAIN, and using it Effectively – DM Tips  U...</td>\n",
       "    </tr>\n",
       "    <tr>\n",
       "      <th>2</th>\n",
       "      <td>0</td>\n",
       "      <td>Know the exact location of something</td>\n",
       "      <td>The players are planning on dropping an evil a...</td>\n",
       "    </tr>\n",
       "    <tr>\n",
       "      <th>3</th>\n",
       "      <td>0</td>\n",
       "      <td>How to run military basic as a session</td>\n",
       "      <td>I am running a campaign for all intents and pu...</td>\n",
       "    </tr>\n",
       "    <tr>\n",
       "      <th>4</th>\n",
       "      <td>0</td>\n",
       "      <td>Best time to take breaks/how long they should be</td>\n",
       "      <td>Hey just a newbie DM .My sessions are usually ...</td>\n",
       "    </tr>\n",
       "    <tr>\n",
       "      <th>...</th>\n",
       "      <td>...</td>\n",
       "      <td>...</td>\n",
       "      <td>...</td>\n",
       "    </tr>\n",
       "    <tr>\n",
       "      <th>4991</th>\n",
       "      <td>1</td>\n",
       "      <td>Should games such as Tri Force Heroes and Four...</td>\n",
       "      <td>The Zelda timeline is infamous for being convo...</td>\n",
       "    </tr>\n",
       "    <tr>\n",
       "      <th>4992</th>\n",
       "      <td>1</td>\n",
       "      <td>Review score predictions for Skyward HD?</td>\n",
       "      <td>Title says it all. How will it fare?  With the...</td>\n",
       "    </tr>\n",
       "    <tr>\n",
       "      <th>4993</th>\n",
       "      <td>1</td>\n",
       "      <td>Should I watch or play Majora’s Mask?</td>\n",
       "      <td>[deleted]</td>\n",
       "    </tr>\n",
       "    <tr>\n",
       "      <th>4994</th>\n",
       "      <td>1</td>\n",
       "      <td>Can anyone help me find a normally priced zeld...</td>\n",
       "      <td>My daughter loves to play super smash bros and...</td>\n",
       "    </tr>\n",
       "    <tr>\n",
       "      <th>4995</th>\n",
       "      <td>1</td>\n",
       "      <td>So, SSHD is only what we got on anniversary?</td>\n",
       "      <td></td>\n",
       "    </tr>\n",
       "  </tbody>\n",
       "</table>\n",
       "<p>9996 rows × 3 columns</p>\n",
       "</div>"
      ],
      "text/plain": [
       "      subreddit                                              title  \\\n",
       "0             0  Seeking seasoned DMs to be guests on interview...   \n",
       "1             0                  TERRAIN, and Using it Effectively   \n",
       "2             0               Know the exact location of something   \n",
       "3             0             How to run military basic as a session   \n",
       "4             0   Best time to take breaks/how long they should be   \n",
       "...         ...                                                ...   \n",
       "4991          1  Should games such as Tri Force Heroes and Four...   \n",
       "4992          1           Review score predictions for Skyward HD?   \n",
       "4993          1              Should I watch or play Majora’s Mask?   \n",
       "4994          1  Can anyone help me find a normally priced zeld...   \n",
       "4995          1       So, SSHD is only what we got on anniversary?   \n",
       "\n",
       "                                               selftext  \n",
       "0     **Edit (UPDATE): Thank you for the robust resp...  \n",
       "1     TERRAIN, and using it Effectively – DM Tips  U...  \n",
       "2     The players are planning on dropping an evil a...  \n",
       "3     I am running a campaign for all intents and pu...  \n",
       "4     Hey just a newbie DM .My sessions are usually ...  \n",
       "...                                                 ...  \n",
       "4991  The Zelda timeline is infamous for being convo...  \n",
       "4992  Title says it all. How will it fare?  With the...  \n",
       "4993                                          [deleted]  \n",
       "4994  My daughter loves to play super smash bros and...  \n",
       "4995                                                     \n",
       "\n",
       "[9996 rows x 3 columns]"
      ]
     },
     "execution_count": 53,
     "metadata": {},
     "output_type": "execute_result"
    }
   ],
   "source": [
    "text_df"
   ]
  },
  {
   "cell_type": "code",
   "execution_count": 54,
   "id": "professional-swimming",
   "metadata": {},
   "outputs": [
    {
     "name": "stdout",
     "output_type": "stream",
     "text": [
      "specificity: 0.9344\n"
     ]
    }
   ],
   "source": [
    "specificity = tn / (tn + fp)\n",
    "print('specificity:', specificity)"
   ]
  },
  {
   "cell_type": "markdown",
   "id": "derived-arbor",
   "metadata": {},
   "source": [
    "### TFIDF Vectorizer"
   ]
  },
  {
   "cell_type": "code",
   "execution_count": 55,
   "id": "dimensional-authentication",
   "metadata": {},
   "outputs": [],
   "source": [
    "tvec = TfidfVectorizer()"
   ]
  },
  {
   "cell_type": "code",
   "execution_count": 56,
   "id": "muslim-berkeley",
   "metadata": {},
   "outputs": [],
   "source": [
    "X_train_df = pd.DataFrame(tvec.fit_transform(X_train).todense(),\n",
    "                         columns = tvec.get_feature_names())"
   ]
  },
  {
   "cell_type": "code",
   "execution_count": 57,
   "id": "paperback-nowhere",
   "metadata": {},
   "outputs": [
    {
     "data": {
      "text/plain": [
       "<AxesSubplot:>"
      ]
     },
     "execution_count": 57,
     "metadata": {},
     "output_type": "execute_result"
    },
    {
     "data": {
      "image/png": "[encoded data removed]",
      "text/plain": [
       "<Figure size 432x288 with 1 Axes>"
      ]
     },
     "metadata": {
      "needs_background": "light"
     },
     "output_type": "display_data"
    }
   ],
   "source": [
    "X_train_df.sum().sort_values(ascending=False).head(10).plot(kind='barh');"
   ]
  },
  {
   "cell_type": "code",
   "execution_count": 70,
   "id": "polyphonic-tumor",
   "metadata": {},
   "outputs": [],
   "source": [
    "import matplotlib.pyplot as plt"
   ]
  },
  {
   "cell_type": "code",
   "execution_count": 72,
   "id": "circular-genre",
   "metadata": {},
   "outputs": [
    {
     "data": {
      "image/png": "[encoded data removed]",
      "text/plain": [
       "<Figure size 1152x1800 with 1 Axes>"
      ]
     },
     "metadata": {
      "needs_background": "light"
     },
     "output_type": "display_data"
    }
   ],
   "source": [
    "plt.figure(figsize=(16,25))\n",
    "X_train_df.sum().sort_values(ascending=True).head(150).plot(kind='barh');"
   ]
  },
  {
   "cell_type": "code",
   "execution_count": 59,
   "id": "leading-elephant",
   "metadata": {},
   "outputs": [],
   "source": [
    "pipe_tvec = Pipeline([\n",
    "    ('tvec', TfidfVectorizer()),\n",
    "    ('nb', MultinomialNB())\n",
    "])"
   ]
  },
  {
   "cell_type": "code",
   "execution_count": 60,
   "id": "curious-review",
   "metadata": {},
   "outputs": [],
   "source": [
    "pipe_tvec_params = {\n",
    "    'tvec__max_features': [2000, 3000, 4000, 5000],\n",
    "    'tvec__stop_words': [None, 'english'],\n",
    "    'tvec__ngram_range': [(1, 1), (1, 2)]\n",
    "}"
   ]
  },
  {
   "cell_type": "code",
   "execution_count": 61,
   "id": "perceived-directory",
   "metadata": {},
   "outputs": [],
   "source": [
    "gs_tvec = GridSearchCV(pipe_tvec, param_grid = pipe_tvec_params, cv=5)"
   ]
  },
  {
   "cell_type": "code",
   "execution_count": 62,
   "id": "lyric-independence",
   "metadata": {},
   "outputs": [
    {
     "data": {
      "text/plain": [
       "GridSearchCV(cv=5,\n",
       "             estimator=Pipeline(steps=[('tvec', TfidfVectorizer()),\n",
       "                                       ('nb', MultinomialNB())]),\n",
       "             param_grid={'tvec__max_features': [2000, 3000, 4000, 5000],\n",
       "                         'tvec__ngram_range': [(1, 1), (1, 2)],\n",
       "                         'tvec__stop_words': [None, 'english']})"
      ]
     },
     "execution_count": 62,
     "metadata": {},
     "output_type": "execute_result"
    }
   ],
   "source": [
    "gs_tvec.fit(X_train, y_train)"
   ]
  },
  {
   "cell_type": "code",
   "execution_count": 63,
   "id": "responsible-drama",
   "metadata": {},
   "outputs": [
    {
     "data": {
      "text/plain": [
       "0.9922635720955049"
      ]
     },
     "execution_count": 63,
     "metadata": {},
     "output_type": "execute_result"
    }
   ],
   "source": [
    "gs_tvec.score(X_train, y_train)"
   ]
  },
  {
   "cell_type": "code",
   "execution_count": 64,
   "id": "polished-boating",
   "metadata": {},
   "outputs": [
    {
     "data": {
      "text/plain": [
       "0.9879951980792316"
      ]
     },
     "execution_count": 64,
     "metadata": {},
     "output_type": "execute_result"
    }
   ],
   "source": [
    "gs_tvec.score(X_test, y_test)"
   ]
  },
  {
   "cell_type": "code",
   "execution_count": 65,
   "id": "cutting-shipping",
   "metadata": {},
   "outputs": [
    {
     "data": {
      "text/plain": [
       "0.9872"
      ]
     },
     "execution_count": 65,
     "metadata": {},
     "output_type": "execute_result"
    }
   ],
   "source": [
    "preds_tvec = gs_tvec.predict(X_test)\n",
    "\n",
    "cm = confusion_matrix(y_test, preds_tvec)\n",
    "tn, fp, fn, tp = cm.ravel()\n",
    "\n",
    "specificity = tn / (tn + fp)\n",
    "specificity"
   ]
  },
  {
   "cell_type": "code",
   "execution_count": 66,
   "id": "visible-opportunity",
   "metadata": {},
   "outputs": [
    {
     "data": {
      "image/png": "[encoded data removed]",
      "text/plain": [
       "<Figure size 432x288 with 2 Axes>"
      ]
     },
     "metadata": {
      "needs_background": "light"
     },
     "output_type": "display_data"
    }
   ],
   "source": [
    "ConfusionMatrixDisplay(cm).plot();"
   ]
  },
  {
   "cell_type": "markdown",
   "id": "apart-helping",
   "metadata": {},
   "source": [
    "This model is better at classifying true negative, but has greater false negatives! Much higher specificity than the bernoulli naive bayes model."
   ]
  },
  {
   "cell_type": "code",
   "execution_count": null,
   "id": "checked-priest",
   "metadata": {},
   "outputs": [],
   "source": []
  },
  {
   "cell_type": "code",
   "execution_count": null,
   "id": "excited-pressure",
   "metadata": {},
   "outputs": [],
   "source": []
  },
  {
   "cell_type": "code",
   "execution_count": null,
   "id": "killing-filter",
   "metadata": {},
   "outputs": [],
   "source": []
  },
  {
   "cell_type": "code",
   "execution_count": null,
   "id": "private-childhood",
   "metadata": {},
   "outputs": [],
   "source": []
  }
 ],
 "metadata": {
  "kernelspec": {
   "display_name": "Python 3",
   "language": "python",
   "name": "python3"
  },
  "language_info": {
   "codemirror_mode": {
    "name": "ipython",
    "version": 3
   },
   "file_extension": ".py",
   "mimetype": "text/x-python",
   "name": "python",
   "nbconvert_exporter": "python",
   "pygments_lexer": "ipython3",
   "version": "3.9.2"
  }
 },
 "nbformat": 4,
 "nbformat_minor": 5
}
