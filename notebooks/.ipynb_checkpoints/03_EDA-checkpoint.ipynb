{
 "cells": [
  {
   "cell_type": "markdown",
   "id": "comfortable-solution",
   "metadata": {},
   "source": [
    "# Eploratory Data Analysis"
   ]
  },
  {
   "cell_type": "markdown",
   "id": "revolutionary-matthew",
   "metadata": {},
   "source": [
    "### This notebook accomplishes the following:\n",
    "\n",
    "\n",
    "---"
   ]
  },
  {
   "cell_type": "code",
   "execution_count": 2,
   "id": "checked-arthur",
   "metadata": {},
   "outputs": [],
   "source": [
    "# Imports\n",
    "import pandas as pd\n",
    "import numpy as np"
   ]
  },
  {
   "cell_type": "markdown",
   "id": "continuing-doctor",
   "metadata": {},
   "source": [
    "### Read in the data files"
   ]
  },
  {
   "cell_type": "code",
   "execution_count": 3,
   "id": "fitting-master",
   "metadata": {},
   "outputs": [],
   "source": [
    "text_df = pd.read_csv('../data/clean_dnd_zelda.csv')"
   ]
  },
  {
   "cell_type": "code",
   "execution_count": 5,
   "id": "equivalent-telling",
   "metadata": {},
   "outputs": [
    {
     "data": {
      "text/html": [
       "<div>\n",
       "<style scoped>\n",
       "    .dataframe tbody tr th:only-of-type {\n",
       "        vertical-align: middle;\n",
       "    }\n",
       "\n",
       "    .dataframe tbody tr th {\n",
       "        vertical-align: top;\n",
       "    }\n",
       "\n",
       "    .dataframe thead th {\n",
       "        text-align: right;\n",
       "    }\n",
       "</style>\n",
       "<table border=\"1\" class=\"dataframe\">\n",
       "  <thead>\n",
       "    <tr style=\"text-align: right;\">\n",
       "      <th></th>\n",
       "      <th>subreddit</th>\n",
       "      <th>title</th>\n",
       "      <th>selftext</th>\n",
       "    </tr>\n",
       "  </thead>\n",
       "  <tbody>\n",
       "    <tr>\n",
       "      <th>0</th>\n",
       "      <td>DMAcademy</td>\n",
       "      <td>Seeking seasoned DMs to be guests on interview...</td>\n",
       "      <td>**Edit (UPDATE): Thank you for the robust resp...</td>\n",
       "    </tr>\n",
       "    <tr>\n",
       "      <th>1</th>\n",
       "      <td>DMAcademy</td>\n",
       "      <td>TERRAIN, and Using it Effectively</td>\n",
       "      <td>TERRAIN, and using it Effectively – DM Tips  U...</td>\n",
       "    </tr>\n",
       "    <tr>\n",
       "      <th>2</th>\n",
       "      <td>DMAcademy</td>\n",
       "      <td>Know the exact location of something</td>\n",
       "      <td>The players are planning on dropping an evil a...</td>\n",
       "    </tr>\n",
       "    <tr>\n",
       "      <th>3</th>\n",
       "      <td>DMAcademy</td>\n",
       "      <td>How to run military basic as a session</td>\n",
       "      <td>I am running a campaign for all intents and pu...</td>\n",
       "    </tr>\n",
       "    <tr>\n",
       "      <th>4</th>\n",
       "      <td>DMAcademy</td>\n",
       "      <td>Best time to take breaks/how long they should be</td>\n",
       "      <td>Hey just a newbie DM .My sessions are usually ...</td>\n",
       "    </tr>\n",
       "    <tr>\n",
       "      <th>...</th>\n",
       "      <td>...</td>\n",
       "      <td>...</td>\n",
       "      <td>...</td>\n",
       "    </tr>\n",
       "    <tr>\n",
       "      <th>9991</th>\n",
       "      <td>truezelda</td>\n",
       "      <td>Should games such as Tri Force Heroes and Four...</td>\n",
       "      <td>The Zelda timeline is infamous for being convo...</td>\n",
       "    </tr>\n",
       "    <tr>\n",
       "      <th>9992</th>\n",
       "      <td>truezelda</td>\n",
       "      <td>Review score predictions for Skyward HD?</td>\n",
       "      <td>Title says it all. How will it fare?  With the...</td>\n",
       "    </tr>\n",
       "    <tr>\n",
       "      <th>9993</th>\n",
       "      <td>truezelda</td>\n",
       "      <td>Should I watch or play Majora’s Mask?</td>\n",
       "      <td>[deleted]</td>\n",
       "    </tr>\n",
       "    <tr>\n",
       "      <th>9994</th>\n",
       "      <td>truezelda</td>\n",
       "      <td>Can anyone help me find a normally priced zeld...</td>\n",
       "      <td>My daughter loves to play super smash bros and...</td>\n",
       "    </tr>\n",
       "    <tr>\n",
       "      <th>9995</th>\n",
       "      <td>truezelda</td>\n",
       "      <td>So, SSHD is only what we got on anniversary?</td>\n",
       "      <td>NaN</td>\n",
       "    </tr>\n",
       "  </tbody>\n",
       "</table>\n",
       "<p>9996 rows × 3 columns</p>\n",
       "</div>"
      ],
      "text/plain": [
       "      subreddit                                              title  \\\n",
       "0     DMAcademy  Seeking seasoned DMs to be guests on interview...   \n",
       "1     DMAcademy                  TERRAIN, and Using it Effectively   \n",
       "2     DMAcademy               Know the exact location of something   \n",
       "3     DMAcademy             How to run military basic as a session   \n",
       "4     DMAcademy   Best time to take breaks/how long they should be   \n",
       "...         ...                                                ...   \n",
       "9991  truezelda  Should games such as Tri Force Heroes and Four...   \n",
       "9992  truezelda           Review score predictions for Skyward HD?   \n",
       "9993  truezelda              Should I watch or play Majora’s Mask?   \n",
       "9994  truezelda  Can anyone help me find a normally priced zeld...   \n",
       "9995  truezelda       So, SSHD is only what we got on anniversary?   \n",
       "\n",
       "                                               selftext  \n",
       "0     **Edit (UPDATE): Thank you for the robust resp...  \n",
       "1     TERRAIN, and using it Effectively – DM Tips  U...  \n",
       "2     The players are planning on dropping an evil a...  \n",
       "3     I am running a campaign for all intents and pu...  \n",
       "4     Hey just a newbie DM .My sessions are usually ...  \n",
       "...                                                 ...  \n",
       "9991  The Zelda timeline is infamous for being convo...  \n",
       "9992  Title says it all. How will it fare?  With the...  \n",
       "9993                                          [deleted]  \n",
       "9994  My daughter loves to play super smash bros and...  \n",
       "9995                                                NaN  \n",
       "\n",
       "[9996 rows x 3 columns]"
      ]
     },
     "execution_count": 5,
     "metadata": {},
     "output_type": "execute_result"
    }
   ],
   "source": [
    "text_df"
   ]
  },
  {
   "cell_type": "markdown",
   "id": "emotional-passing",
   "metadata": {},
   "source": [
    "### Identify potential stopwords"
   ]
  },
  {
   "cell_type": "code",
   "execution_count": 35,
   "id": "legal-bottle",
   "metadata": {},
   "outputs": [],
   "source": [
    "import matplotlib.pyplot as plt\n",
    "from sklearn.feature_extraction.text import CountVectorizer"
   ]
  },
  {
   "cell_type": "code",
   "execution_count": 29,
   "id": "coral-campaign",
   "metadata": {},
   "outputs": [],
   "source": [
    "X = text_df['title'] + ' ' + text_df['selftext']"
   ]
  },
  {
   "cell_type": "code",
   "execution_count": 30,
   "id": "former-nelson",
   "metadata": {},
   "outputs": [],
   "source": [
    "cvec = CountVectorizer(stop_words='english')\n",
    "X = cvec.fit_transform(X)"
   ]
  },
  {
   "cell_type": "code",
   "execution_count": 31,
   "id": "loving-japanese",
   "metadata": {},
   "outputs": [
    {
     "data": {
      "text/plain": [
       "['ae',\n",
       " 'aeafdaceafeba',\n",
       " 'aec',\n",
       " 'aecfdcadcbfdbfe',\n",
       " 'aee',\n",
       " 'aeecvp',\n",
       " 'aeeh',\n",
       " 'aegis',\n",
       " 'aehkjicw',\n",
       " 'aelfric_']"
      ]
     },
     "execution_count": 31,
     "metadata": {},
     "output_type": "execute_result"
    }
   ],
   "source": [
    "cvec.get_feature_names()[1000:1010]"
   ]
  },
  {
   "cell_type": "code",
   "execution_count": 36,
   "id": "divine-antarctica",
   "metadata": {},
   "outputs": [
    {
     "data": {
      "image/png": "[encoded data removed]",
      "text/plain": [
       "<Figure size 864x864 with 1 Axes>"
      ]
     },
     "metadata": {
      "needs_background": "light"
     },
     "output_type": "display_data"
    }
   ],
   "source": [
    "X_df = pd.DataFrame(X.todense(),\n",
    "                         columns = cvec.get_feature_names())\n",
    "\n",
    "# plot top occuring words\n",
    "plt.figure(figsize=(12,12))\n",
    "X_df.sum().sort_values(ascending=False).head(25).plot(kind='barh');"
   ]
  },
  {
   "cell_type": "markdown",
   "id": "convenient-check",
   "metadata": {},
   "source": [
    "Game, players, time, and world are a few words that we might consider adding to our stopwords list. These kinds of words might be showing up a lot in each file. Consider checking them against each other. "
   ]
  },
  {
   "cell_type": "code",
   "execution_count": null,
   "id": "operating-stationery",
   "metadata": {},
   "outputs": [],
   "source": []
  },
  {
   "cell_type": "code",
   "execution_count": 8,
   "id": "overall-question",
   "metadata": {},
   "outputs": [],
   "source": [
    "letter_words_dict = {'s':[25333,10.6],\n",
    "'p':[24472,10.3],\n",
    "'c':[19851,8.37],\n",
    "'a':[16869,7.11],\n",
    "'u':[16520,6.97],\n",
    "'t':[12976,5.47],\n",
    "'m':[12503,5.27],\n",
    "'b':[11117,4.69],\n",
    "'d':[11107,4.68],\n",
    "'r':[9918,4.18],\n",
    "'h':[9105,3.84],\n",
    "'i':[8819,3.72],\n",
    "'e':[8748,3.69],\n",
    "'o':[7877,3.32],\n",
    "'f':[7152,3.01],\n",
    "'g':[6969,2.94],\n",
    "'n':[6758,2.85],\n",
    "'l':[6322,2.66],\n",
    "'w':[4074,1.71],\n",
    "'v':[3416,1.44],\n",
    "'k':[2234,0.94],\n",
    "'j':[1637,0.69],\n",
    "'q':[1179,0.49],\n",
    "'z':[963,0.40],\n",
    "'y':[680,0.28],\n",
    "'x':[384,0.16]}"
   ]
  },
  {
   "cell_type": "code",
   "execution_count": null,
   "id": "valued-heritage",
   "metadata": {},
   "outputs": [],
   "source": []
  }
 ],
 "metadata": {
  "kernelspec": {
   "display_name": "Python 3",
   "language": "python",
   "name": "python3"
  },
  "language_info": {
   "codemirror_mode": {
    "name": "ipython",
    "version": 3
   },
   "file_extension": ".py",
   "mimetype": "text/x-python",
   "name": "python",
   "nbconvert_exporter": "python",
   "pygments_lexer": "ipython3",
   "version": "3.9.2"
  }
 },
 "nbformat": 4,
 "nbformat_minor": 5
}
