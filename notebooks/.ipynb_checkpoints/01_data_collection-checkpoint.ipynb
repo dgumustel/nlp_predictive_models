{
 "cells": [
  {
   "cell_type": "markdown",
   "id": "manufactured-landscape",
   "metadata": {},
   "source": [
    "# Data Collection\n",
    "\n",
    "---"
   ]
  },
  {
   "cell_type": "markdown",
   "id": "roman-emphasis",
   "metadata": {},
   "source": [
    "### Project Introduction\n",
    "\n",
    "---"
   ]
  },
  {
   "cell_type": "markdown",
   "id": "other-retention",
   "metadata": {},
   "source": [
    "### Subreddit selection\n",
    "---"
   ]
  },
  {
   "cell_type": "code",
   "execution_count": 104,
   "id": "particular-pathology",
   "metadata": {},
   "outputs": [],
   "source": [
    "# Imports\n",
    "import re\n",
    "import requests\n",
    "import pandas as pd\n",
    "import matplotlib.pyplot as plt\n",
    "import time\n",
    "\n",
    "from sklearn.pipeline import Pipeline\n",
    "from sklearn.model_selection import train_test_split, cross_val_score, GridSearchCV\n",
    "from sklearn.naive_bayes import MultinomialNB, BernoulliNB\n",
    "from sklearn.linear_model import LogisticRegression\n",
    "from sklearn.metrics import confusion_matrix, ConfusionMatrixDisplay\n",
    "from sklearn.feature_extraction.text import CountVectorizer, TfidfVectorizer"
   ]
  },
  {
   "cell_type": "markdown",
   "id": "moral-juvenile",
   "metadata": {},
   "source": [
    "---\n",
    "### Using Pushshift's API to pull data from subreddits"
   ]
  },
  {
   "cell_type": "markdown",
   "id": "living-climate",
   "metadata": {},
   "source": [
    "I knew that I would be pulling data from multiple different subreddits for this project so I created a function to streamline data pull requests. \n",
    "\n",
    "You can read more about Pushshift's API on this [GitHub page](https://github.com/pushshift/api). There is also a [YouTube video](https://www.youtube.com/watch?v=AcrjEWsMi_E) walkthrough of setting up this API. "
   ]
  },
  {
   "cell_type": "code",
   "execution_count": 114,
   "id": "grateful-fundamental",
   "metadata": {},
   "outputs": [],
   "source": [
    "# Create a function to pull data a specified number of times, from a specified subreddit, at a specified time\n",
    "def get_posts(pull_type, iters, subreddit, desired_time):\n",
    "    \n",
    "    # Define reddit's URL for requests\n",
    "    url = 'https://api.pushshift.io/reddit/search/' + str(pull_type)\n",
    "        \n",
    "    # Create empty master dataframe to fill\n",
    "    master_df = pd.DataFrame()\n",
    "    \n",
    "    # Loop through specified number \n",
    "    for i in range(iters):\n",
    "        # Set API parameters\n",
    "        params = {\n",
    "        'subreddit': subreddit,\n",
    "        'size': 100,\n",
    "        'before':desired_time}\n",
    "        \n",
    "        # Pull data\n",
    "        res = requests.get(url, params)\n",
    "        data = res.json()\n",
    "        posts = data['data']\n",
    "        df = pd.DataFrame(posts)\n",
    "        \n",
    "        # Concatenate data to master dataframe\n",
    "        frames = [df, master_df]\n",
    "        master_df = pd.concat(frames, axis=0, ignore_index=True)\n",
    "        \n",
    "        # Get time of oldest post in this data\n",
    "        # This resets the API parameters so that you pull older posts every iteration\n",
    "        desired_time = df['created_utc'].min()\n",
    "        print(f'Completed {i+1} iterations, {iters-i-1} iterations remaining')\n",
    "        \n",
    "        # Time delay so you don't get banned by Pushshift\n",
    "        time.sleep(60)\n",
    "    \n",
    "    # Return dataframe containing all collected posts\n",
    "    return master_df"
   ]
  },
  {
   "cell_type": "markdown",
   "id": "shared-platform",
   "metadata": {},
   "source": [
    "---\n",
    "### Pulling data from subreddits\n",
    "\n",
    "I went down two different routes for this project: first, create a model that can predict whether a post came from subreddit A or subreddit B; second, create a model that can predict whether a post from one subreddit came from year A or year B. Thus, I pulled data from 3 different subreddits but did four total pulls: one from [r/DMAcademy](https://www.reddit.com/r/DMAcademy/), one from [r/truezelda](https://www.reddit.com/r/truezelda/), one from [r/PoliticalDiscussion](https://www.reddit.com/r/PoliticalDiscussion/) in the year 2012, and one from r/PoliticalDiscussion in the year 2020. Each pull totaled 5,000 subreddit posts (post title and main text only, no comments), except for year 2020 pull from r/PoliticalDiscussion. For whatever reason, this subreddit gave me an error when trying to pull the last 100 posts, so I conceded to only gathering 4,900 from this year. \n",
    "\n",
    "I chose 5,000 posts to ensure that my models will be well-informed. It was recommended that my models be trained on 2,000 posts from each subreddit as a **minimum**, but I know that posts can be removed/deleted online, so I pulled well over the minimum recommended number to ensure that I would have enough posts to work with. However, 10,000 total posts is a lot for my models to crunch, so maybe aim for 3,000 or 4,000 per subreddit next time."
   ]
  },
  {
   "cell_type": "markdown",
   "id": "computational-teddy",
   "metadata": {},
   "source": [
    "### **Warning**\n",
    "Do not run any of the cells below unless you have ~4 hours to spare."
   ]
  },
  {
   "cell_type": "markdown",
   "id": "timely-syria",
   "metadata": {},
   "source": [
    "To start, let's pull 5,000 posts from the DMAcademy subreddit and store it in a dataframe. Remember, the `get_posts` function pulls 100 posts per iteration, so passing it 50 will produce 50 * 100 posts, or 5,000! Also, I passed `int(time.time())` to my `get_posts` function to pull the 5,000 most recent posts at the time of writing. When we move on to the political discussion posts, you'll see me use a specific time called [Unix or Epoch time](https://en.wikipedia.org/wiki/Unix_time) (formatted as number of seconds since 00:00:00 Jan 1, 1970, an arbitrary date) to pull posts from a specific date and time in 2012 and 2020."
   ]
  },
  {
   "cell_type": "code",
   "execution_count": 6,
   "id": "traditional-butter",
   "metadata": {},
   "outputs": [],
   "source": [
    "# If you want to investigate the missing links without waiting 100 minutes to pull data, uncomment the two lines below and run this cell\n",
    "\n",
    "# dmacademy_df = pd.read_csv('../data/dmacademy_df.csv')\n",
    "# truezelda_df = pd.read_csv('../data/truezelda.csv')"
   ]
  },
  {
   "cell_type": "code",
   "execution_count": 33,
   "id": "sealed-stadium",
   "metadata": {},
   "outputs": [
    {
     "name": "stdout",
     "output_type": "stream",
     "text": [
      "Completed 1 iterations, 0 iterations remaining\n"
     ]
    }
   ],
   "source": [
    "dmacademy_df = get_posts('submission', 50, 'DMAcademy', int(time.time()))"
   ]
  },
  {
   "cell_type": "code",
   "execution_count": 13,
   "id": "satellite-spectacular",
   "metadata": {
    "tags": []
   },
   "outputs": [
    {
     "data": {
      "text/html": [
       "<div>\n",
       "<style scoped>\n",
       "    .dataframe tbody tr th:only-of-type {\n",
       "        vertical-align: middle;\n",
       "    }\n",
       "\n",
       "    .dataframe tbody tr th {\n",
       "        vertical-align: top;\n",
       "    }\n",
       "\n",
       "    .dataframe thead th {\n",
       "        text-align: right;\n",
       "    }\n",
       "</style>\n",
       "<table border=\"1\" class=\"dataframe\">\n",
       "  <thead>\n",
       "    <tr style=\"text-align: right;\">\n",
       "      <th></th>\n",
       "      <th>all_awardings</th>\n",
       "      <th>allow_live_comments</th>\n",
       "      <th>author</th>\n",
       "      <th>author_flair_css_class</th>\n",
       "      <th>author_flair_richtext</th>\n",
       "      <th>author_flair_text</th>\n",
       "      <th>author_flair_type</th>\n",
       "      <th>author_fullname</th>\n",
       "      <th>author_patreon_flair</th>\n",
       "      <th>author_premium</th>\n",
       "      <th>...</th>\n",
       "      <th>link_flair_css_class</th>\n",
       "      <th>post_hint</th>\n",
       "      <th>preview</th>\n",
       "      <th>author_flair_background_color</th>\n",
       "      <th>author_flair_text_color</th>\n",
       "      <th>removed_by_category</th>\n",
       "      <th>gilded</th>\n",
       "      <th>author_cakeday</th>\n",
       "      <th>suggested_sort</th>\n",
       "      <th>banned_by</th>\n",
       "    </tr>\n",
       "  </thead>\n",
       "  <tbody>\n",
       "    <tr>\n",
       "      <th>0</th>\n",
       "      <td>[]</td>\n",
       "      <td>False</td>\n",
       "      <td>Vashael</td>\n",
       "      <td>None</td>\n",
       "      <td>[]</td>\n",
       "      <td>None</td>\n",
       "      <td>text</td>\n",
       "      <td>t2_7p5eovfe</td>\n",
       "      <td>False</td>\n",
       "      <td>False</td>\n",
       "      <td>...</td>\n",
       "      <td>NaN</td>\n",
       "      <td>NaN</td>\n",
       "      <td>NaN</td>\n",
       "      <td>NaN</td>\n",
       "      <td>NaN</td>\n",
       "      <td>NaN</td>\n",
       "      <td>NaN</td>\n",
       "      <td>NaN</td>\n",
       "      <td>NaN</td>\n",
       "      <td>NaN</td>\n",
       "    </tr>\n",
       "    <tr>\n",
       "      <th>1</th>\n",
       "      <td>[]</td>\n",
       "      <td>False</td>\n",
       "      <td>Atarihero76</td>\n",
       "      <td>None</td>\n",
       "      <td>[]</td>\n",
       "      <td>None</td>\n",
       "      <td>text</td>\n",
       "      <td>t2_48oeurxu</td>\n",
       "      <td>False</td>\n",
       "      <td>False</td>\n",
       "      <td>...</td>\n",
       "      <td>Guide</td>\n",
       "      <td>self</td>\n",
       "      <td>{'enabled': False, 'images': [{'id': '9XSNOgfA...</td>\n",
       "      <td>NaN</td>\n",
       "      <td>NaN</td>\n",
       "      <td>NaN</td>\n",
       "      <td>NaN</td>\n",
       "      <td>NaN</td>\n",
       "      <td>NaN</td>\n",
       "      <td>NaN</td>\n",
       "    </tr>\n",
       "    <tr>\n",
       "      <th>2</th>\n",
       "      <td>[]</td>\n",
       "      <td>False</td>\n",
       "      <td>JethroBuldean</td>\n",
       "      <td>None</td>\n",
       "      <td>[]</td>\n",
       "      <td>None</td>\n",
       "      <td>text</td>\n",
       "      <td>t2_1plx2r4z</td>\n",
       "      <td>False</td>\n",
       "      <td>False</td>\n",
       "      <td>...</td>\n",
       "      <td>NaN</td>\n",
       "      <td>NaN</td>\n",
       "      <td>NaN</td>\n",
       "      <td>NaN</td>\n",
       "      <td>NaN</td>\n",
       "      <td>NaN</td>\n",
       "      <td>NaN</td>\n",
       "      <td>NaN</td>\n",
       "      <td>NaN</td>\n",
       "      <td>NaN</td>\n",
       "    </tr>\n",
       "    <tr>\n",
       "      <th>3</th>\n",
       "      <td>[]</td>\n",
       "      <td>False</td>\n",
       "      <td>Mechaaniac</td>\n",
       "      <td>None</td>\n",
       "      <td>[]</td>\n",
       "      <td>None</td>\n",
       "      <td>text</td>\n",
       "      <td>t2_a04c8tpe</td>\n",
       "      <td>False</td>\n",
       "      <td>False</td>\n",
       "      <td>...</td>\n",
       "      <td>NaN</td>\n",
       "      <td>NaN</td>\n",
       "      <td>NaN</td>\n",
       "      <td>NaN</td>\n",
       "      <td>NaN</td>\n",
       "      <td>NaN</td>\n",
       "      <td>NaN</td>\n",
       "      <td>NaN</td>\n",
       "      <td>NaN</td>\n",
       "      <td>NaN</td>\n",
       "    </tr>\n",
       "    <tr>\n",
       "      <th>4</th>\n",
       "      <td>[]</td>\n",
       "      <td>False</td>\n",
       "      <td>Hungerforhuman</td>\n",
       "      <td>None</td>\n",
       "      <td>[]</td>\n",
       "      <td>None</td>\n",
       "      <td>text</td>\n",
       "      <td>t2_a2ouksrx</td>\n",
       "      <td>False</td>\n",
       "      <td>False</td>\n",
       "      <td>...</td>\n",
       "      <td>NaN</td>\n",
       "      <td>NaN</td>\n",
       "      <td>NaN</td>\n",
       "      <td>NaN</td>\n",
       "      <td>NaN</td>\n",
       "      <td>NaN</td>\n",
       "      <td>NaN</td>\n",
       "      <td>NaN</td>\n",
       "      <td>NaN</td>\n",
       "      <td>NaN</td>\n",
       "    </tr>\n",
       "    <tr>\n",
       "      <th>...</th>\n",
       "      <td>...</td>\n",
       "      <td>...</td>\n",
       "      <td>...</td>\n",
       "      <td>...</td>\n",
       "      <td>...</td>\n",
       "      <td>...</td>\n",
       "      <td>...</td>\n",
       "      <td>...</td>\n",
       "      <td>...</td>\n",
       "      <td>...</td>\n",
       "      <td>...</td>\n",
       "      <td>...</td>\n",
       "      <td>...</td>\n",
       "      <td>...</td>\n",
       "      <td>...</td>\n",
       "      <td>...</td>\n",
       "      <td>...</td>\n",
       "      <td>...</td>\n",
       "      <td>...</td>\n",
       "      <td>...</td>\n",
       "      <td>...</td>\n",
       "    </tr>\n",
       "    <tr>\n",
       "      <th>4995</th>\n",
       "      <td>[]</td>\n",
       "      <td>False</td>\n",
       "      <td>AngelsJos</td>\n",
       "      <td>None</td>\n",
       "      <td>[]</td>\n",
       "      <td>None</td>\n",
       "      <td>text</td>\n",
       "      <td>t2_9571c28u</td>\n",
       "      <td>False</td>\n",
       "      <td>True</td>\n",
       "      <td>...</td>\n",
       "      <td>NaN</td>\n",
       "      <td>NaN</td>\n",
       "      <td>NaN</td>\n",
       "      <td>NaN</td>\n",
       "      <td>NaN</td>\n",
       "      <td>NaN</td>\n",
       "      <td>NaN</td>\n",
       "      <td>NaN</td>\n",
       "      <td>NaN</td>\n",
       "      <td>NaN</td>\n",
       "    </tr>\n",
       "    <tr>\n",
       "      <th>4996</th>\n",
       "      <td>[]</td>\n",
       "      <td>False</td>\n",
       "      <td>Light_of_Avalon</td>\n",
       "      <td>None</td>\n",
       "      <td>[]</td>\n",
       "      <td>None</td>\n",
       "      <td>text</td>\n",
       "      <td>t2_871qw</td>\n",
       "      <td>False</td>\n",
       "      <td>False</td>\n",
       "      <td>...</td>\n",
       "      <td>NaN</td>\n",
       "      <td>NaN</td>\n",
       "      <td>NaN</td>\n",
       "      <td>NaN</td>\n",
       "      <td>NaN</td>\n",
       "      <td>NaN</td>\n",
       "      <td>NaN</td>\n",
       "      <td>NaN</td>\n",
       "      <td>NaN</td>\n",
       "      <td>NaN</td>\n",
       "    </tr>\n",
       "    <tr>\n",
       "      <th>4997</th>\n",
       "      <td>[]</td>\n",
       "      <td>False</td>\n",
       "      <td>Randoff-Runemaker</td>\n",
       "      <td>None</td>\n",
       "      <td>[]</td>\n",
       "      <td>None</td>\n",
       "      <td>text</td>\n",
       "      <td>t2_ab1yxy0e</td>\n",
       "      <td>False</td>\n",
       "      <td>False</td>\n",
       "      <td>...</td>\n",
       "      <td>NaN</td>\n",
       "      <td>NaN</td>\n",
       "      <td>NaN</td>\n",
       "      <td>NaN</td>\n",
       "      <td>NaN</td>\n",
       "      <td>NaN</td>\n",
       "      <td>NaN</td>\n",
       "      <td>NaN</td>\n",
       "      <td>NaN</td>\n",
       "      <td>NaN</td>\n",
       "    </tr>\n",
       "    <tr>\n",
       "      <th>4998</th>\n",
       "      <td>[]</td>\n",
       "      <td>False</td>\n",
       "      <td>Shatyel</td>\n",
       "      <td>None</td>\n",
       "      <td>[]</td>\n",
       "      <td>None</td>\n",
       "      <td>text</td>\n",
       "      <td>t2_1v4sccw1</td>\n",
       "      <td>False</td>\n",
       "      <td>False</td>\n",
       "      <td>...</td>\n",
       "      <td>NaN</td>\n",
       "      <td>NaN</td>\n",
       "      <td>NaN</td>\n",
       "      <td>NaN</td>\n",
       "      <td>NaN</td>\n",
       "      <td>NaN</td>\n",
       "      <td>NaN</td>\n",
       "      <td>NaN</td>\n",
       "      <td>NaN</td>\n",
       "      <td>NaN</td>\n",
       "    </tr>\n",
       "    <tr>\n",
       "      <th>4999</th>\n",
       "      <td>[]</td>\n",
       "      <td>False</td>\n",
       "      <td>casualaudience</td>\n",
       "      <td>None</td>\n",
       "      <td>[]</td>\n",
       "      <td>None</td>\n",
       "      <td>text</td>\n",
       "      <td>t2_2jjmhv7b</td>\n",
       "      <td>False</td>\n",
       "      <td>False</td>\n",
       "      <td>...</td>\n",
       "      <td>NaN</td>\n",
       "      <td>NaN</td>\n",
       "      <td>NaN</td>\n",
       "      <td>NaN</td>\n",
       "      <td>NaN</td>\n",
       "      <td>NaN</td>\n",
       "      <td>NaN</td>\n",
       "      <td>NaN</td>\n",
       "      <td>NaN</td>\n",
       "      <td>NaN</td>\n",
       "    </tr>\n",
       "  </tbody>\n",
       "</table>\n",
       "<p>5000 rows × 70 columns</p>\n",
       "</div>"
      ],
      "text/plain": [
       "     all_awardings  allow_live_comments             author  \\\n",
       "0               []                False            Vashael   \n",
       "1               []                False        Atarihero76   \n",
       "2               []                False      JethroBuldean   \n",
       "3               []                False         Mechaaniac   \n",
       "4               []                False     Hungerforhuman   \n",
       "...            ...                  ...                ...   \n",
       "4995            []                False          AngelsJos   \n",
       "4996            []                False    Light_of_Avalon   \n",
       "4997            []                False  Randoff-Runemaker   \n",
       "4998            []                False            Shatyel   \n",
       "4999            []                False     casualaudience   \n",
       "\n",
       "     author_flair_css_class author_flair_richtext author_flair_text  \\\n",
       "0                      None                    []              None   \n",
       "1                      None                    []              None   \n",
       "2                      None                    []              None   \n",
       "3                      None                    []              None   \n",
       "4                      None                    []              None   \n",
       "...                     ...                   ...               ...   \n",
       "4995                   None                    []              None   \n",
       "4996                   None                    []              None   \n",
       "4997                   None                    []              None   \n",
       "4998                   None                    []              None   \n",
       "4999                   None                    []              None   \n",
       "\n",
       "     author_flair_type author_fullname author_patreon_flair author_premium  \\\n",
       "0                 text     t2_7p5eovfe                False          False   \n",
       "1                 text     t2_48oeurxu                False          False   \n",
       "2                 text     t2_1plx2r4z                False          False   \n",
       "3                 text     t2_a04c8tpe                False          False   \n",
       "4                 text     t2_a2ouksrx                False          False   \n",
       "...                ...             ...                  ...            ...   \n",
       "4995              text     t2_9571c28u                False           True   \n",
       "4996              text        t2_871qw                False          False   \n",
       "4997              text     t2_ab1yxy0e                False          False   \n",
       "4998              text     t2_1v4sccw1                False          False   \n",
       "4999              text     t2_2jjmhv7b                False          False   \n",
       "\n",
       "      ... link_flair_css_class  post_hint  \\\n",
       "0     ...                  NaN        NaN   \n",
       "1     ...                Guide       self   \n",
       "2     ...                  NaN        NaN   \n",
       "3     ...                  NaN        NaN   \n",
       "4     ...                  NaN        NaN   \n",
       "...   ...                  ...        ...   \n",
       "4995  ...                  NaN        NaN   \n",
       "4996  ...                  NaN        NaN   \n",
       "4997  ...                  NaN        NaN   \n",
       "4998  ...                  NaN        NaN   \n",
       "4999  ...                  NaN        NaN   \n",
       "\n",
       "                                                preview  \\\n",
       "0                                                   NaN   \n",
       "1     {'enabled': False, 'images': [{'id': '9XSNOgfA...   \n",
       "2                                                   NaN   \n",
       "3                                                   NaN   \n",
       "4                                                   NaN   \n",
       "...                                                 ...   \n",
       "4995                                                NaN   \n",
       "4996                                                NaN   \n",
       "4997                                                NaN   \n",
       "4998                                                NaN   \n",
       "4999                                                NaN   \n",
       "\n",
       "      author_flair_background_color author_flair_text_color  \\\n",
       "0                               NaN                     NaN   \n",
       "1                               NaN                     NaN   \n",
       "2                               NaN                     NaN   \n",
       "3                               NaN                     NaN   \n",
       "4                               NaN                     NaN   \n",
       "...                             ...                     ...   \n",
       "4995                            NaN                     NaN   \n",
       "4996                            NaN                     NaN   \n",
       "4997                            NaN                     NaN   \n",
       "4998                            NaN                     NaN   \n",
       "4999                            NaN                     NaN   \n",
       "\n",
       "      removed_by_category gilded author_cakeday suggested_sort  banned_by  \n",
       "0                     NaN    NaN            NaN            NaN        NaN  \n",
       "1                     NaN    NaN            NaN            NaN        NaN  \n",
       "2                     NaN    NaN            NaN            NaN        NaN  \n",
       "3                     NaN    NaN            NaN            NaN        NaN  \n",
       "4                     NaN    NaN            NaN            NaN        NaN  \n",
       "...                   ...    ...            ...            ...        ...  \n",
       "4995                  NaN    NaN            NaN            NaN        NaN  \n",
       "4996                  NaN    NaN            NaN            NaN        NaN  \n",
       "4997                  NaN    NaN            NaN            NaN        NaN  \n",
       "4998                  NaN    NaN            NaN            NaN        NaN  \n",
       "4999                  NaN    NaN            NaN            NaN        NaN  \n",
       "\n",
       "[5000 rows x 70 columns]"
      ]
     },
     "execution_count": 13,
     "metadata": {},
     "output_type": "execute_result"
    }
   ],
   "source": [
    "# Inspect the dataframe\n",
    "dmacademy_df"
   ]
  },
  {
   "cell_type": "code",
   "execution_count": 14,
   "id": "standing-czech",
   "metadata": {},
   "outputs": [
    {
     "data": {
      "text/plain": [
       "5000"
      ]
     },
     "execution_count": 14,
     "metadata": {},
     "output_type": "execute_result"
    }
   ],
   "source": [
    "dmacademy_df['full_link'].nunique()"
   ]
  },
  {
   "cell_type": "markdown",
   "id": "difficult-participation",
   "metadata": {},
   "source": [
    "The printout above shows us the number of **unique reddit links** contained in our dataframe. This tells us that we didn't pull any duplicate posts, hooray! \n",
    "\n",
    "This all looks good, so now we can pull posts from r/truezelda."
   ]
  },
  {
   "cell_type": "code",
   "execution_count": 16,
   "id": "excellent-purple",
   "metadata": {},
   "outputs": [
    {
     "name": "stdout",
     "output_type": "stream",
     "text": [
      "Completed 1 iterations, 49 iterations remaining\n",
      "Completed 2 iterations, 48 iterations remaining\n",
      "Completed 3 iterations, 47 iterations remaining\n",
      "Completed 4 iterations, 46 iterations remaining\n",
      "Completed 5 iterations, 45 iterations remaining\n",
      "Completed 6 iterations, 44 iterations remaining\n",
      "Completed 7 iterations, 43 iterations remaining\n",
      "Completed 8 iterations, 42 iterations remaining\n",
      "Completed 9 iterations, 41 iterations remaining\n",
      "Completed 10 iterations, 40 iterations remaining\n",
      "Completed 11 iterations, 39 iterations remaining\n",
      "Completed 12 iterations, 38 iterations remaining\n",
      "Completed 13 iterations, 37 iterations remaining\n",
      "Completed 14 iterations, 36 iterations remaining\n",
      "Completed 15 iterations, 35 iterations remaining\n",
      "Completed 16 iterations, 34 iterations remaining\n",
      "Completed 17 iterations, 33 iterations remaining\n",
      "Completed 18 iterations, 32 iterations remaining\n",
      "Completed 19 iterations, 31 iterations remaining\n",
      "Completed 20 iterations, 30 iterations remaining\n",
      "Completed 21 iterations, 29 iterations remaining\n",
      "Completed 22 iterations, 28 iterations remaining\n",
      "Completed 23 iterations, 27 iterations remaining\n",
      "Completed 24 iterations, 26 iterations remaining\n",
      "Completed 25 iterations, 25 iterations remaining\n",
      "Completed 26 iterations, 24 iterations remaining\n",
      "Completed 27 iterations, 23 iterations remaining\n",
      "Completed 28 iterations, 22 iterations remaining\n",
      "Completed 29 iterations, 21 iterations remaining\n",
      "Completed 30 iterations, 20 iterations remaining\n",
      "Completed 31 iterations, 19 iterations remaining\n",
      "Completed 32 iterations, 18 iterations remaining\n",
      "Completed 33 iterations, 17 iterations remaining\n",
      "Completed 34 iterations, 16 iterations remaining\n",
      "Completed 35 iterations, 15 iterations remaining\n",
      "Completed 36 iterations, 14 iterations remaining\n",
      "Completed 37 iterations, 13 iterations remaining\n",
      "Completed 38 iterations, 12 iterations remaining\n",
      "Completed 39 iterations, 11 iterations remaining\n",
      "Completed 40 iterations, 10 iterations remaining\n",
      "Completed 41 iterations, 9 iterations remaining\n",
      "Completed 42 iterations, 8 iterations remaining\n",
      "Completed 43 iterations, 7 iterations remaining\n",
      "Completed 44 iterations, 6 iterations remaining\n",
      "Completed 45 iterations, 5 iterations remaining\n",
      "Completed 46 iterations, 4 iterations remaining\n",
      "Completed 47 iterations, 3 iterations remaining\n",
      "Completed 48 iterations, 2 iterations remaining\n",
      "Completed 49 iterations, 1 iterations remaining\n",
      "Completed 50 iterations, 0 iterations remaining\n"
     ]
    }
   ],
   "source": [
    "truezelda_df = get_posts(50, 'truezelda', int(time.time()))"
   ]
  },
  {
   "cell_type": "code",
   "execution_count": 17,
   "id": "split-wallace",
   "metadata": {},
   "outputs": [
    {
     "data": {
      "text/html": [
       "<div>\n",
       "<style scoped>\n",
       "    .dataframe tbody tr th:only-of-type {\n",
       "        vertical-align: middle;\n",
       "    }\n",
       "\n",
       "    .dataframe tbody tr th {\n",
       "        vertical-align: top;\n",
       "    }\n",
       "\n",
       "    .dataframe thead th {\n",
       "        text-align: right;\n",
       "    }\n",
       "</style>\n",
       "<table border=\"1\" class=\"dataframe\">\n",
       "  <thead>\n",
       "    <tr style=\"text-align: right;\">\n",
       "      <th></th>\n",
       "      <th>author</th>\n",
       "      <th>author_flair_css_class</th>\n",
       "      <th>author_flair_text</th>\n",
       "      <th>brand_safe</th>\n",
       "      <th>can_mod_post</th>\n",
       "      <th>contest_mode</th>\n",
       "      <th>created_utc</th>\n",
       "      <th>domain</th>\n",
       "      <th>full_link</th>\n",
       "      <th>id</th>\n",
       "      <th>...</th>\n",
       "      <th>updated_utc</th>\n",
       "      <th>steward_reports</th>\n",
       "      <th>og_description</th>\n",
       "      <th>og_title</th>\n",
       "      <th>removed_by_category</th>\n",
       "      <th>removed_by</th>\n",
       "      <th>url_overridden_by_dest</th>\n",
       "      <th>link_flair_template_id</th>\n",
       "      <th>link_flair_text</th>\n",
       "      <th>poll_data</th>\n",
       "    </tr>\n",
       "  </thead>\n",
       "  <tbody>\n",
       "    <tr>\n",
       "      <th>0</th>\n",
       "      <td>xxx_mlgnoscope_xxx</td>\n",
       "      <td>None</td>\n",
       "      <td>None</td>\n",
       "      <td>True</td>\n",
       "      <td>False</td>\n",
       "      <td>False</td>\n",
       "      <td>1510504803</td>\n",
       "      <td>self.truezelda</td>\n",
       "      <td>https://www.reddit.com/r/truezelda/comments/7c...</td>\n",
       "      <td>7cge06</td>\n",
       "      <td>...</td>\n",
       "      <td>NaN</td>\n",
       "      <td>NaN</td>\n",
       "      <td>NaN</td>\n",
       "      <td>NaN</td>\n",
       "      <td>NaN</td>\n",
       "      <td>NaN</td>\n",
       "      <td>NaN</td>\n",
       "      <td>NaN</td>\n",
       "      <td>NaN</td>\n",
       "      <td>NaN</td>\n",
       "    </tr>\n",
       "    <tr>\n",
       "      <th>1</th>\n",
       "      <td>Ender_Skywalker</td>\n",
       "      <td>None</td>\n",
       "      <td>None</td>\n",
       "      <td>True</td>\n",
       "      <td>False</td>\n",
       "      <td>False</td>\n",
       "      <td>1510444647</td>\n",
       "      <td>self.truezelda</td>\n",
       "      <td>https://www.reddit.com/r/truezelda/comments/7c...</td>\n",
       "      <td>7cbzex</td>\n",
       "      <td>...</td>\n",
       "      <td>NaN</td>\n",
       "      <td>NaN</td>\n",
       "      <td>NaN</td>\n",
       "      <td>NaN</td>\n",
       "      <td>NaN</td>\n",
       "      <td>NaN</td>\n",
       "      <td>NaN</td>\n",
       "      <td>NaN</td>\n",
       "      <td>NaN</td>\n",
       "      <td>NaN</td>\n",
       "    </tr>\n",
       "    <tr>\n",
       "      <th>2</th>\n",
       "      <td>[deleted]</td>\n",
       "      <td>None</td>\n",
       "      <td>None</td>\n",
       "      <td>True</td>\n",
       "      <td>False</td>\n",
       "      <td>False</td>\n",
       "      <td>1510444560</td>\n",
       "      <td>self.truezelda</td>\n",
       "      <td>https://www.reddit.com/r/truezelda/comments/7c...</td>\n",
       "      <td>7cbz3u</td>\n",
       "      <td>...</td>\n",
       "      <td>NaN</td>\n",
       "      <td>NaN</td>\n",
       "      <td>NaN</td>\n",
       "      <td>NaN</td>\n",
       "      <td>NaN</td>\n",
       "      <td>NaN</td>\n",
       "      <td>NaN</td>\n",
       "      <td>NaN</td>\n",
       "      <td>NaN</td>\n",
       "      <td>NaN</td>\n",
       "    </tr>\n",
       "    <tr>\n",
       "      <th>3</th>\n",
       "      <td>bluestreakxp</td>\n",
       "      <td>None</td>\n",
       "      <td>None</td>\n",
       "      <td>True</td>\n",
       "      <td>False</td>\n",
       "      <td>False</td>\n",
       "      <td>1510275857</td>\n",
       "      <td>self.truezelda</td>\n",
       "      <td>https://www.reddit.com/r/truezelda/comments/7b...</td>\n",
       "      <td>7bxsop</td>\n",
       "      <td>...</td>\n",
       "      <td>NaN</td>\n",
       "      <td>NaN</td>\n",
       "      <td>NaN</td>\n",
       "      <td>NaN</td>\n",
       "      <td>NaN</td>\n",
       "      <td>NaN</td>\n",
       "      <td>NaN</td>\n",
       "      <td>NaN</td>\n",
       "      <td>NaN</td>\n",
       "      <td>NaN</td>\n",
       "    </tr>\n",
       "    <tr>\n",
       "      <th>4</th>\n",
       "      <td>Kholdstare93</td>\n",
       "      <td>None</td>\n",
       "      <td>None</td>\n",
       "      <td>True</td>\n",
       "      <td>False</td>\n",
       "      <td>False</td>\n",
       "      <td>1510270811</td>\n",
       "      <td>self.truezelda</td>\n",
       "      <td>https://www.reddit.com/r/truezelda/comments/7b...</td>\n",
       "      <td>7bxbp1</td>\n",
       "      <td>...</td>\n",
       "      <td>NaN</td>\n",
       "      <td>NaN</td>\n",
       "      <td>NaN</td>\n",
       "      <td>NaN</td>\n",
       "      <td>NaN</td>\n",
       "      <td>NaN</td>\n",
       "      <td>NaN</td>\n",
       "      <td>NaN</td>\n",
       "      <td>NaN</td>\n",
       "      <td>NaN</td>\n",
       "    </tr>\n",
       "    <tr>\n",
       "      <th>...</th>\n",
       "      <td>...</td>\n",
       "      <td>...</td>\n",
       "      <td>...</td>\n",
       "      <td>...</td>\n",
       "      <td>...</td>\n",
       "      <td>...</td>\n",
       "      <td>...</td>\n",
       "      <td>...</td>\n",
       "      <td>...</td>\n",
       "      <td>...</td>\n",
       "      <td>...</td>\n",
       "      <td>...</td>\n",
       "      <td>...</td>\n",
       "      <td>...</td>\n",
       "      <td>...</td>\n",
       "      <td>...</td>\n",
       "      <td>...</td>\n",
       "      <td>...</td>\n",
       "      <td>...</td>\n",
       "      <td>...</td>\n",
       "      <td>...</td>\n",
       "    </tr>\n",
       "    <tr>\n",
       "      <th>4991</th>\n",
       "      <td>lutyrannus</td>\n",
       "      <td>None</td>\n",
       "      <td>None</td>\n",
       "      <td>NaN</td>\n",
       "      <td>False</td>\n",
       "      <td>False</td>\n",
       "      <td>1614809046</td>\n",
       "      <td>self.truezelda</td>\n",
       "      <td>https://www.reddit.com/r/truezelda/comments/lx...</td>\n",
       "      <td>lx5kjs</td>\n",
       "      <td>...</td>\n",
       "      <td>NaN</td>\n",
       "      <td>NaN</td>\n",
       "      <td>NaN</td>\n",
       "      <td>NaN</td>\n",
       "      <td>NaN</td>\n",
       "      <td>NaN</td>\n",
       "      <td>NaN</td>\n",
       "      <td>64e0e3ac-d29d-11ea-a357-0e5060aaa7f3</td>\n",
       "      <td>Open Discussion</td>\n",
       "      <td>NaN</td>\n",
       "    </tr>\n",
       "    <tr>\n",
       "      <th>4992</th>\n",
       "      <td>novacav</td>\n",
       "      <td>None</td>\n",
       "      <td>None</td>\n",
       "      <td>NaN</td>\n",
       "      <td>False</td>\n",
       "      <td>False</td>\n",
       "      <td>1614794221</td>\n",
       "      <td>self.truezelda</td>\n",
       "      <td>https://www.reddit.com/r/truezelda/comments/lx...</td>\n",
       "      <td>lx01je</td>\n",
       "      <td>...</td>\n",
       "      <td>NaN</td>\n",
       "      <td>NaN</td>\n",
       "      <td>NaN</td>\n",
       "      <td>NaN</td>\n",
       "      <td>NaN</td>\n",
       "      <td>NaN</td>\n",
       "      <td>NaN</td>\n",
       "      <td>64e0e3ac-d29d-11ea-a357-0e5060aaa7f3</td>\n",
       "      <td>Open Discussion</td>\n",
       "      <td>NaN</td>\n",
       "    </tr>\n",
       "    <tr>\n",
       "      <th>4993</th>\n",
       "      <td>[deleted]</td>\n",
       "      <td>None</td>\n",
       "      <td>None</td>\n",
       "      <td>NaN</td>\n",
       "      <td>False</td>\n",
       "      <td>False</td>\n",
       "      <td>1614789322</td>\n",
       "      <td>self.truezelda</td>\n",
       "      <td>https://www.reddit.com/r/truezelda/comments/lw...</td>\n",
       "      <td>lwy2zq</td>\n",
       "      <td>...</td>\n",
       "      <td>NaN</td>\n",
       "      <td>NaN</td>\n",
       "      <td>NaN</td>\n",
       "      <td>NaN</td>\n",
       "      <td>deleted</td>\n",
       "      <td>NaN</td>\n",
       "      <td>NaN</td>\n",
       "      <td>7cfab9de-d5b0-11ea-86b5-0e8cdba62949</td>\n",
       "      <td>Question</td>\n",
       "      <td>NaN</td>\n",
       "    </tr>\n",
       "    <tr>\n",
       "      <th>4994</th>\n",
       "      <td>yuckygross</td>\n",
       "      <td>None</td>\n",
       "      <td>None</td>\n",
       "      <td>NaN</td>\n",
       "      <td>False</td>\n",
       "      <td>False</td>\n",
       "      <td>1614737483</td>\n",
       "      <td>self.truezelda</td>\n",
       "      <td>https://www.reddit.com/r/truezelda/comments/lw...</td>\n",
       "      <td>lwinf0</td>\n",
       "      <td>...</td>\n",
       "      <td>NaN</td>\n",
       "      <td>NaN</td>\n",
       "      <td>NaN</td>\n",
       "      <td>NaN</td>\n",
       "      <td>NaN</td>\n",
       "      <td>NaN</td>\n",
       "      <td>NaN</td>\n",
       "      <td>7cfab9de-d5b0-11ea-86b5-0e8cdba62949</td>\n",
       "      <td>Question</td>\n",
       "      <td>NaN</td>\n",
       "    </tr>\n",
       "    <tr>\n",
       "      <th>4995</th>\n",
       "      <td>[deleted]</td>\n",
       "      <td>None</td>\n",
       "      <td>None</td>\n",
       "      <td>NaN</td>\n",
       "      <td>False</td>\n",
       "      <td>False</td>\n",
       "      <td>1614737005</td>\n",
       "      <td>self.truezelda</td>\n",
       "      <td>https://www.reddit.com/r/truezelda/comments/lw...</td>\n",
       "      <td>lwii06</td>\n",
       "      <td>...</td>\n",
       "      <td>NaN</td>\n",
       "      <td>NaN</td>\n",
       "      <td>NaN</td>\n",
       "      <td>NaN</td>\n",
       "      <td>deleted</td>\n",
       "      <td>NaN</td>\n",
       "      <td>NaN</td>\n",
       "      <td>64e0e3ac-d29d-11ea-a357-0e5060aaa7f3</td>\n",
       "      <td>Open Discussion</td>\n",
       "      <td>NaN</td>\n",
       "    </tr>\n",
       "  </tbody>\n",
       "</table>\n",
       "<p>4996 rows × 85 columns</p>\n",
       "</div>"
      ],
      "text/plain": [
       "                  author author_flair_css_class author_flair_text brand_safe  \\\n",
       "0     xxx_mlgnoscope_xxx                   None              None       True   \n",
       "1        Ender_Skywalker                   None              None       True   \n",
       "2              [deleted]                   None              None       True   \n",
       "3           bluestreakxp                   None              None       True   \n",
       "4           Kholdstare93                   None              None       True   \n",
       "...                  ...                    ...               ...        ...   \n",
       "4991          lutyrannus                   None              None        NaN   \n",
       "4992             novacav                   None              None        NaN   \n",
       "4993           [deleted]                   None              None        NaN   \n",
       "4994          yuckygross                   None              None        NaN   \n",
       "4995           [deleted]                   None              None        NaN   \n",
       "\n",
       "     can_mod_post  contest_mode  created_utc          domain  \\\n",
       "0           False         False   1510504803  self.truezelda   \n",
       "1           False         False   1510444647  self.truezelda   \n",
       "2           False         False   1510444560  self.truezelda   \n",
       "3           False         False   1510275857  self.truezelda   \n",
       "4           False         False   1510270811  self.truezelda   \n",
       "...           ...           ...          ...             ...   \n",
       "4991        False         False   1614809046  self.truezelda   \n",
       "4992        False         False   1614794221  self.truezelda   \n",
       "4993        False         False   1614789322  self.truezelda   \n",
       "4994        False         False   1614737483  self.truezelda   \n",
       "4995        False         False   1614737005  self.truezelda   \n",
       "\n",
       "                                              full_link      id  ...  \\\n",
       "0     https://www.reddit.com/r/truezelda/comments/7c...  7cge06  ...   \n",
       "1     https://www.reddit.com/r/truezelda/comments/7c...  7cbzex  ...   \n",
       "2     https://www.reddit.com/r/truezelda/comments/7c...  7cbz3u  ...   \n",
       "3     https://www.reddit.com/r/truezelda/comments/7b...  7bxsop  ...   \n",
       "4     https://www.reddit.com/r/truezelda/comments/7b...  7bxbp1  ...   \n",
       "...                                                 ...     ...  ...   \n",
       "4991  https://www.reddit.com/r/truezelda/comments/lx...  lx5kjs  ...   \n",
       "4992  https://www.reddit.com/r/truezelda/comments/lx...  lx01je  ...   \n",
       "4993  https://www.reddit.com/r/truezelda/comments/lw...  lwy2zq  ...   \n",
       "4994  https://www.reddit.com/r/truezelda/comments/lw...  lwinf0  ...   \n",
       "4995  https://www.reddit.com/r/truezelda/comments/lw...  lwii06  ...   \n",
       "\n",
       "      updated_utc steward_reports  og_description  og_title  \\\n",
       "0             NaN             NaN             NaN       NaN   \n",
       "1             NaN             NaN             NaN       NaN   \n",
       "2             NaN             NaN             NaN       NaN   \n",
       "3             NaN             NaN             NaN       NaN   \n",
       "4             NaN             NaN             NaN       NaN   \n",
       "...           ...             ...             ...       ...   \n",
       "4991          NaN             NaN             NaN       NaN   \n",
       "4992          NaN             NaN             NaN       NaN   \n",
       "4993          NaN             NaN             NaN       NaN   \n",
       "4994          NaN             NaN             NaN       NaN   \n",
       "4995          NaN             NaN             NaN       NaN   \n",
       "\n",
       "      removed_by_category  removed_by  url_overridden_by_dest  \\\n",
       "0                     NaN         NaN                     NaN   \n",
       "1                     NaN         NaN                     NaN   \n",
       "2                     NaN         NaN                     NaN   \n",
       "3                     NaN         NaN                     NaN   \n",
       "4                     NaN         NaN                     NaN   \n",
       "...                   ...         ...                     ...   \n",
       "4991                  NaN         NaN                     NaN   \n",
       "4992                  NaN         NaN                     NaN   \n",
       "4993              deleted         NaN                     NaN   \n",
       "4994                  NaN         NaN                     NaN   \n",
       "4995              deleted         NaN                     NaN   \n",
       "\n",
       "                    link_flair_template_id  link_flair_text poll_data  \n",
       "0                                      NaN              NaN       NaN  \n",
       "1                                      NaN              NaN       NaN  \n",
       "2                                      NaN              NaN       NaN  \n",
       "3                                      NaN              NaN       NaN  \n",
       "4                                      NaN              NaN       NaN  \n",
       "...                                    ...              ...       ...  \n",
       "4991  64e0e3ac-d29d-11ea-a357-0e5060aaa7f3  Open Discussion       NaN  \n",
       "4992  64e0e3ac-d29d-11ea-a357-0e5060aaa7f3  Open Discussion       NaN  \n",
       "4993  7cfab9de-d5b0-11ea-86b5-0e8cdba62949         Question       NaN  \n",
       "4994  7cfab9de-d5b0-11ea-86b5-0e8cdba62949         Question       NaN  \n",
       "4995  64e0e3ac-d29d-11ea-a357-0e5060aaa7f3  Open Discussion       NaN  \n",
       "\n",
       "[4996 rows x 85 columns]"
      ]
     },
     "execution_count": 17,
     "metadata": {},
     "output_type": "execute_result"
    }
   ],
   "source": [
    "truezelda_df"
   ]
  },
  {
   "cell_type": "code",
   "execution_count": 5,
   "id": "formed-linux",
   "metadata": {},
   "outputs": [
    {
     "ename": "NameError",
     "evalue": "name 'truezelda_df' is not defined",
     "output_type": "error",
     "traceback": [
      "\u001b[1;31m---------------------------------------------------------------------------\u001b[0m",
      "\u001b[1;31mNameError\u001b[0m                                 Traceback (most recent call last)",
      "\u001b[1;32m<ipython-input-5-7511229f7b28>\u001b[0m in \u001b[0;36m<module>\u001b[1;34m\u001b[0m\n\u001b[1;32m----> 1\u001b[1;33m \u001b[0mtruezelda_df\u001b[0m\u001b[1;33m[\u001b[0m\u001b[1;34m'id'\u001b[0m\u001b[1;33m]\u001b[0m\u001b[1;33m.\u001b[0m\u001b[0mnunique\u001b[0m\u001b[1;33m(\u001b[0m\u001b[1;33m)\u001b[0m\u001b[1;33m\u001b[0m\u001b[1;33m\u001b[0m\u001b[0m\n\u001b[0m",
      "\u001b[1;31mNameError\u001b[0m: name 'truezelda_df' is not defined"
     ]
    }
   ],
   "source": [
    "truezelda_df['id'].nunique()"
   ]
  },
  {
   "cell_type": "code",
   "execution_count": null,
   "id": "disabled-collapse",
   "metadata": {},
   "outputs": [],
   "source": [
    "# Are the missing ids nulls?\n",
    "truezelda_df['id'].isnull().sum()\n",
    "# Nope! "
   ]
  },
  {
   "cell_type": "markdown",
   "id": "identical-aviation",
   "metadata": {},
   "source": [
    "For whatever reason, it looks like we may have pulled 4 duplicate posts. Since this is only .08% of our data from this subreddit, let's ignore it and use what we have."
   ]
  },
  {
   "cell_type": "markdown",
   "id": "exciting-highlight",
   "metadata": {},
   "source": [
    "---\n",
    "### Save data to .csv files\n",
    "Now that we've pulled the data needed for the first model, let's save it as `.csv`s."
   ]
  },
  {
   "cell_type": "code",
   "execution_count": 19,
   "id": "precise-surrey",
   "metadata": {},
   "outputs": [],
   "source": [
    "# Set index=False to avoid creating an unnecessary index column\n",
    "dmacademy_df.to_csv('../data/dmacademy.csv', index=False)\n",
    "truezelda_df.to_csv('../data/truezelda.csv', index=False)"
   ]
  },
  {
   "cell_type": "markdown",
   "id": "pending-postcard",
   "metadata": {},
   "source": [
    "---\n",
    "### Political discussion subreddit\n",
    "Now let's pull posts from r/PoliticalDiscussion. I'm pulling data from different years using an [Epoch time converter](https://www.epochconverter.com/). "
   ]
  },
  {
   "cell_type": "code",
   "execution_count": 123,
   "id": "inclusive-spank",
   "metadata": {},
   "outputs": [],
   "source": [
    "# Define reddit's URL for requests\n",
    "\n",
    "url = 'https://api.pushshift.io/reddit/search/' + 'comment'"
   ]
  },
  {
   "cell_type": "code",
   "execution_count": 124,
   "id": "practical-metro",
   "metadata": {},
   "outputs": [],
   "source": [
    "params = {\n",
    "'subreddit': 'PoliticalDiscussion',\n",
    "'size': 100,\n",
    "'before':1585630008}\n",
    "# Tuesday, March 31, 2020 4:46:48 AM\n",
    "# Pull data\n",
    "res = requests.get(url, params)\n",
    "data = res.json()\n",
    "posts = data['data']\n",
    "df = pd.DataFrame(posts)"
   ]
  },
  {
   "cell_type": "code",
   "execution_count": 125,
   "id": "significant-fireplace",
   "metadata": {},
   "outputs": [
    {
     "data": {
      "text/plain": [
       "200"
      ]
     },
     "execution_count": 125,
     "metadata": {},
     "output_type": "execute_result"
    }
   ],
   "source": [
    "res.status_code"
   ]
  },
  {
   "cell_type": "code",
   "execution_count": 109,
   "id": "bizarre-scroll",
   "metadata": {},
   "outputs": [
    {
     "data": {
      "text/plain": [
       "0                                              Prob not\n",
       "1     Yes the country would be better off if those s...\n",
       "2     [A reminder for everyone](https://www.reddit.c...\n",
       "3     I don’t see this pandemic as a solid argument ...\n",
       "4     Do you think America would be better off witho...\n",
       "                            ...                        \n",
       "95    Hello, /u/Gransanto102. Thanks for contributin...\n",
       "96    Hello, /u/SocialObserver3802. Thanks for contr...\n",
       "97    Hello, /u/SthenicFreeze. Thanks for contributi...\n",
       "98    What specifically didn’t you approve of? The o...\n",
       "99                                            [removed]\n",
       "Name: body, Length: 100, dtype: object"
      ]
     },
     "execution_count": 109,
     "metadata": {},
     "output_type": "execute_result"
    }
   ],
   "source": [
    "df['body']"
   ]
  },
  {
   "cell_type": "code",
   "execution_count": 110,
   "id": "adapted-ecology",
   "metadata": {},
   "outputs": [
    {
     "data": {
      "text/plain": [
       "0"
      ]
     },
     "execution_count": 110,
     "metadata": {},
     "output_type": "execute_result"
    }
   ],
   "source": [
    "df['body'].isnull().sum()"
   ]
  },
  {
   "cell_type": "code",
   "execution_count": 111,
   "id": "occupational-danger",
   "metadata": {},
   "outputs": [
    {
     "data": {
      "text/plain": [
       "7     [removed]\n",
       "55    [removed]\n",
       "81    [removed]\n",
       "99    [removed]\n",
       "Name: body, dtype: object"
      ]
     },
     "execution_count": 111,
     "metadata": {},
     "output_type": "execute_result"
    }
   ],
   "source": [
    "df.loc[df['body']=='[removed]']['body']"
   ]
  },
  {
   "cell_type": "code",
   "execution_count": 112,
   "id": "color-causing",
   "metadata": {},
   "outputs": [
    {
     "data": {
      "text/plain": [
       "39    Hello, /u/qikqu35t10n. Thanks for contributing...\n",
       "40    Hello, /u/loganalytics. Thanks for contributin...\n",
       "86    Hello, /u/makinggrace. Thanks for contributing...\n",
       "87    Hello, /u/cc_hk. Thanks for contributing! Unfo...\n",
       "94    Hello, /u/Realtalkdo3. Thanks for contributing...\n",
       "95    Hello, /u/Gransanto102. Thanks for contributin...\n",
       "96    Hello, /u/SocialObserver3802. Thanks for contr...\n",
       "97    Hello, /u/SthenicFreeze. Thanks for contributi...\n",
       "Name: body, dtype: object"
      ]
     },
     "execution_count": 112,
     "metadata": {},
     "output_type": "execute_result"
    }
   ],
   "source": [
    "df.loc[df['body'].str.contains('Hello, /u/')]['body']"
   ]
  },
  {
   "cell_type": "code",
   "execution_count": 129,
   "id": "latter-perry",
   "metadata": {},
   "outputs": [
    {
     "data": {
      "text/plain": [
       "1       [A reminder for everyone](https://www.reddit.c...\n",
       "3       [A reminder for everyone](https://www.reddit.c...\n",
       "19      [A reminder for everyone](https://www.reddit.c...\n",
       "42      [A reminder for everyone](https://www.reddit.c...\n",
       "45      [A reminder for everyone](https://www.reddit.c...\n",
       "                              ...                        \n",
       "4909    Your submission was automatically removed.\\n\\n...\n",
       "4947    [A reminder for everyone](https://www.reddit.c...\n",
       "4962    [A reminder for everyone](https://www.reddit.c...\n",
       "4989    [A reminder for everyone](https://www.reddit.c...\n",
       "4990    [A reminder for everyone](https://www.reddit.c...\n",
       "Name: body, Length: 271, dtype: object"
      ]
     },
     "execution_count": 129,
     "metadata": {},
     "output_type": "execute_result"
    }
   ],
   "source": [
    "poli_dis_2020_df.loc[poli_dis_2020_df['body'].str.contains('I am a bot')]['body']"
   ]
  },
  {
   "cell_type": "code",
   "execution_count": 113,
   "id": "static-console",
   "metadata": {},
   "outputs": [],
   "source": [
    "# If you want to investigate the missing links without waiting 100 minutes to pull data, uncomment the two lines below and run this cell\n",
    "\n",
    "# poli_dis_2012_df = pd.read_csv('../data/poli_dis_2012.csv')\n",
    "# poli_dis_2020_df = pd.read_csv('../data/poli_dis_2020.csv')"
   ]
  },
  {
   "cell_type": "code",
   "execution_count": 115,
   "id": "modern-representation",
   "metadata": {
    "tags": []
   },
   "outputs": [
    {
     "name": "stdout",
     "output_type": "stream",
     "text": [
      "Completed 1 iterations, 49 iterations remaining\n",
      "Completed 2 iterations, 48 iterations remaining\n",
      "Completed 3 iterations, 47 iterations remaining\n",
      "Completed 4 iterations, 46 iterations remaining\n",
      "Completed 5 iterations, 45 iterations remaining\n",
      "Completed 6 iterations, 44 iterations remaining\n",
      "Completed 7 iterations, 43 iterations remaining\n",
      "Completed 8 iterations, 42 iterations remaining\n",
      "Completed 9 iterations, 41 iterations remaining\n",
      "Completed 10 iterations, 40 iterations remaining\n",
      "Completed 11 iterations, 39 iterations remaining\n",
      "Completed 12 iterations, 38 iterations remaining\n",
      "Completed 13 iterations, 37 iterations remaining\n",
      "Completed 14 iterations, 36 iterations remaining\n",
      "Completed 15 iterations, 35 iterations remaining\n",
      "Completed 16 iterations, 34 iterations remaining\n",
      "Completed 17 iterations, 33 iterations remaining\n",
      "Completed 18 iterations, 32 iterations remaining\n",
      "Completed 19 iterations, 31 iterations remaining\n",
      "Completed 20 iterations, 30 iterations remaining\n",
      "Completed 21 iterations, 29 iterations remaining\n",
      "Completed 22 iterations, 28 iterations remaining\n",
      "Completed 23 iterations, 27 iterations remaining\n",
      "Completed 24 iterations, 26 iterations remaining\n",
      "Completed 25 iterations, 25 iterations remaining\n",
      "Completed 26 iterations, 24 iterations remaining\n",
      "Completed 27 iterations, 23 iterations remaining\n",
      "Completed 28 iterations, 22 iterations remaining\n",
      "Completed 29 iterations, 21 iterations remaining\n",
      "Completed 30 iterations, 20 iterations remaining\n",
      "Completed 31 iterations, 19 iterations remaining\n",
      "Completed 32 iterations, 18 iterations remaining\n",
      "Completed 33 iterations, 17 iterations remaining\n",
      "Completed 34 iterations, 16 iterations remaining\n",
      "Completed 35 iterations, 15 iterations remaining\n",
      "Completed 36 iterations, 14 iterations remaining\n",
      "Completed 37 iterations, 13 iterations remaining\n",
      "Completed 38 iterations, 12 iterations remaining\n",
      "Completed 39 iterations, 11 iterations remaining\n",
      "Completed 40 iterations, 10 iterations remaining\n",
      "Completed 41 iterations, 9 iterations remaining\n",
      "Completed 42 iterations, 8 iterations remaining\n",
      "Completed 43 iterations, 7 iterations remaining\n",
      "Completed 44 iterations, 6 iterations remaining\n",
      "Completed 45 iterations, 5 iterations remaining\n",
      "Completed 46 iterations, 4 iterations remaining\n",
      "Completed 47 iterations, 3 iterations remaining\n",
      "Completed 48 iterations, 2 iterations remaining\n",
      "Completed 49 iterations, 1 iterations remaining\n",
      "Completed 50 iterations, 0 iterations remaining\n"
     ]
    }
   ],
   "source": [
    "poli_dis_2012_df = get_posts('comment', 50 , 'PoliticalDiscussion', 1333169208) \n",
    "# this time is Saturday, March 31, 2012 4:46:48 AM\n",
    "# or Friday, March 30, 2012 9:46:48 PM GMT-07:00"
   ]
  },
  {
   "cell_type": "code",
   "execution_count": 116,
   "id": "amber-contrast",
   "metadata": {},
   "outputs": [
    {
     "data": {
      "text/plain": [
       "11      [deleted]\n",
       "34      [deleted]\n",
       "77      [deleted]\n",
       "83      [deleted]\n",
       "119     [deleted]\n",
       "          ...    \n",
       "4928    [deleted]\n",
       "4929    [deleted]\n",
       "4930    [deleted]\n",
       "4931    [deleted]\n",
       "4932    [deleted]\n",
       "Name: body, Length: 267, dtype: object"
      ]
     },
     "execution_count": 116,
     "metadata": {},
     "output_type": "execute_result"
    }
   ],
   "source": [
    "poli_dis_2012_df.loc[poli_dis_2012_df['body']=='[deleted]']['body']"
   ]
  },
  {
   "cell_type": "code",
   "execution_count": 117,
   "id": "further-reducing",
   "metadata": {},
   "outputs": [
    {
     "data": {
      "text/plain": [
       "Series([], Name: body, dtype: object)"
      ]
     },
     "execution_count": 117,
     "metadata": {},
     "output_type": "execute_result"
    }
   ],
   "source": [
    "poli_dis_2012_df.loc[poli_dis_2012_df['body']=='[removed]']['body']"
   ]
  },
  {
   "cell_type": "code",
   "execution_count": 118,
   "id": "viral-playlist",
   "metadata": {},
   "outputs": [
    {
     "data": {
      "text/plain": [
       "0"
      ]
     },
     "execution_count": 118,
     "metadata": {},
     "output_type": "execute_result"
    }
   ],
   "source": [
    "poli_dis_2012_df['body'].isnull().sum()"
   ]
  },
  {
   "cell_type": "code",
   "execution_count": 119,
   "id": "lucky-revelation",
   "metadata": {},
   "outputs": [
    {
     "data": {
      "text/plain": [
       "0                                              Prob not\n",
       "1     Yes the country would be better off if those s...\n",
       "2     [A reminder for everyone](https://www.reddit.c...\n",
       "3     I don’t see this pandemic as a solid argument ...\n",
       "4     Do you think America would be better off witho...\n",
       "                            ...                        \n",
       "95    Hello, /u/Gransanto102. Thanks for contributin...\n",
       "96    Hello, /u/SocialObserver3802. Thanks for contr...\n",
       "97    Hello, /u/SthenicFreeze. Thanks for contributi...\n",
       "98    What specifically didn’t you approve of? The o...\n",
       "99                                            [removed]\n",
       "Name: body, Length: 100, dtype: object"
      ]
     },
     "execution_count": 119,
     "metadata": {},
     "output_type": "execute_result"
    }
   ],
   "source": [
    "poli_dis_2020_df['body'][:100]"
   ]
  },
  {
   "cell_type": "code",
   "execution_count": 120,
   "id": "shared-jersey",
   "metadata": {},
   "outputs": [
    {
     "data": {
      "text/plain": [
       "4725"
      ]
     },
     "execution_count": 120,
     "metadata": {},
     "output_type": "execute_result"
    }
   ],
   "source": [
    "poli_dis_2012_df['body'].nunique()"
   ]
  },
  {
   "cell_type": "code",
   "execution_count": 126,
   "id": "accredited-pride",
   "metadata": {
    "tags": []
   },
   "outputs": [
    {
     "name": "stdout",
     "output_type": "stream",
     "text": [
      "Completed 1 iterations, 49 iterations remaining\n",
      "Completed 2 iterations, 48 iterations remaining\n",
      "Completed 3 iterations, 47 iterations remaining\n",
      "Completed 4 iterations, 46 iterations remaining\n",
      "Completed 5 iterations, 45 iterations remaining\n",
      "Completed 6 iterations, 44 iterations remaining\n",
      "Completed 7 iterations, 43 iterations remaining\n",
      "Completed 8 iterations, 42 iterations remaining\n",
      "Completed 9 iterations, 41 iterations remaining\n",
      "Completed 10 iterations, 40 iterations remaining\n",
      "Completed 11 iterations, 39 iterations remaining\n",
      "Completed 12 iterations, 38 iterations remaining\n",
      "Completed 13 iterations, 37 iterations remaining\n",
      "Completed 14 iterations, 36 iterations remaining\n",
      "Completed 15 iterations, 35 iterations remaining\n",
      "Completed 16 iterations, 34 iterations remaining\n",
      "Completed 17 iterations, 33 iterations remaining\n",
      "Completed 18 iterations, 32 iterations remaining\n",
      "Completed 19 iterations, 31 iterations remaining\n",
      "Completed 20 iterations, 30 iterations remaining\n",
      "Completed 21 iterations, 29 iterations remaining\n",
      "Completed 22 iterations, 28 iterations remaining\n",
      "Completed 23 iterations, 27 iterations remaining\n",
      "Completed 24 iterations, 26 iterations remaining\n",
      "Completed 25 iterations, 25 iterations remaining\n",
      "Completed 26 iterations, 24 iterations remaining\n",
      "Completed 27 iterations, 23 iterations remaining\n",
      "Completed 28 iterations, 22 iterations remaining\n",
      "Completed 29 iterations, 21 iterations remaining\n",
      "Completed 30 iterations, 20 iterations remaining\n",
      "Completed 31 iterations, 19 iterations remaining\n",
      "Completed 32 iterations, 18 iterations remaining\n",
      "Completed 33 iterations, 17 iterations remaining\n",
      "Completed 34 iterations, 16 iterations remaining\n",
      "Completed 35 iterations, 15 iterations remaining\n",
      "Completed 36 iterations, 14 iterations remaining\n",
      "Completed 37 iterations, 13 iterations remaining\n",
      "Completed 38 iterations, 12 iterations remaining\n",
      "Completed 39 iterations, 11 iterations remaining\n",
      "Completed 40 iterations, 10 iterations remaining\n",
      "Completed 41 iterations, 9 iterations remaining\n",
      "Completed 42 iterations, 8 iterations remaining\n",
      "Completed 43 iterations, 7 iterations remaining\n",
      "Completed 44 iterations, 6 iterations remaining\n",
      "Completed 45 iterations, 5 iterations remaining\n",
      "Completed 46 iterations, 4 iterations remaining\n",
      "Completed 47 iterations, 3 iterations remaining\n",
      "Completed 48 iterations, 2 iterations remaining\n",
      "Completed 49 iterations, 1 iterations remaining\n",
      "Completed 50 iterations, 0 iterations remaining\n"
     ]
    }
   ],
   "source": [
    "poli_dis_2020_df = get_posts('comment', 50, 'PoliticalDiscussion', 1585630008)\n",
    "# Tuesday, March 31, 2020 4:46:48 AM"
   ]
  },
  {
   "cell_type": "code",
   "execution_count": 127,
   "id": "rolled-juice",
   "metadata": {},
   "outputs": [
    {
     "data": {
      "text/plain": [
       "'Texas has changed because of California voters fleeing the state and its taxes. As urban population grows Texas is getting more purple.'"
      ]
     },
     "execution_count": 127,
     "metadata": {},
     "output_type": "execute_result"
    }
   ],
   "source": [
    "poli_dis_2020_df['body'][400]"
   ]
  },
  {
   "cell_type": "code",
   "execution_count": 128,
   "id": "metropolitan-wealth",
   "metadata": {},
   "outputs": [
    {
     "data": {
      "text/plain": [
       "37      Hello, /u/PMmeURsprintPROGRAMS. Thanks for con...\n",
       "38      Hello, /u/pleasedontbullyme_. Thanks for contr...\n",
       "39      Hello, /u/chickenman86. Thanks for contributin...\n",
       "40      Hello, /u/dumbirds. Thanks for contributing! U...\n",
       "67      Hello, /u/Theduder89. Thanks for contributing!...\n",
       "                              ...                        \n",
       "4987    Hello, /u/cc_hk. Thanks for contributing! Unfo...\n",
       "4994    Hello, /u/Realtalkdo3. Thanks for contributing...\n",
       "4995    Hello, /u/Gransanto102. Thanks for contributin...\n",
       "4996    Hello, /u/SocialObserver3802. Thanks for contr...\n",
       "4997    Hello, /u/SthenicFreeze. Thanks for contributi...\n",
       "Name: body, Length: 182, dtype: object"
      ]
     },
     "execution_count": 128,
     "metadata": {},
     "output_type": "execute_result"
    }
   ],
   "source": [
    "poli_dis_2020_df.loc[poli_dis_2020_df['body'].str.contains('Hello, /u/')]['body']"
   ]
  },
  {
   "cell_type": "code",
   "execution_count": 129,
   "id": "capital-gates",
   "metadata": {},
   "outputs": [
    {
     "data": {
      "text/plain": [
       "1       [A reminder for everyone](https://www.reddit.c...\n",
       "3       [A reminder for everyone](https://www.reddit.c...\n",
       "19      [A reminder for everyone](https://www.reddit.c...\n",
       "42      [A reminder for everyone](https://www.reddit.c...\n",
       "45      [A reminder for everyone](https://www.reddit.c...\n",
       "                              ...                        \n",
       "4909    Your submission was automatically removed.\\n\\n...\n",
       "4947    [A reminder for everyone](https://www.reddit.c...\n",
       "4962    [A reminder for everyone](https://www.reddit.c...\n",
       "4989    [A reminder for everyone](https://www.reddit.c...\n",
       "4990    [A reminder for everyone](https://www.reddit.c...\n",
       "Name: body, Length: 271, dtype: object"
      ]
     },
     "execution_count": 129,
     "metadata": {},
     "output_type": "execute_result"
    }
   ],
   "source": [
    "poli_dis_2020_df.loc[poli_dis_2020_df['body'].str.contains('I am a bot')]['body']"
   ]
  },
  {
   "cell_type": "code",
   "execution_count": 132,
   "id": "awful-surprise",
   "metadata": {},
   "outputs": [
    {
     "data": {
      "text/plain": [
       "219"
      ]
     },
     "execution_count": 132,
     "metadata": {},
     "output_type": "execute_result"
    }
   ],
   "source": [
    "poli_dis_2020_df.loc[poli_dis_2020_df['body']=='[removed]']['body'].count()"
   ]
  },
  {
   "cell_type": "code",
   "execution_count": 133,
   "id": "forty-ordering",
   "metadata": {},
   "outputs": [
    {
     "data": {
      "text/plain": [
       "19"
      ]
     },
     "execution_count": 133,
     "metadata": {},
     "output_type": "execute_result"
    }
   ],
   "source": [
    "poli_dis_2020_df.loc[poli_dis_2020_df['body']=='[deleted]']['body'].count()"
   ]
  },
  {
   "cell_type": "code",
   "execution_count": 134,
   "id": "artistic-jefferson",
   "metadata": {},
   "outputs": [],
   "source": [
    "poli_dis_2012_df['year'] = '2012'\n",
    "poli_dis_2020_df['year'] = '2020'"
   ]
  },
  {
   "cell_type": "code",
   "execution_count": 137,
   "id": "diagnostic-particle",
   "metadata": {},
   "outputs": [
    {
     "name": "stdout",
     "output_type": "stream",
     "text": [
      "5000\n",
      "5000\n"
     ]
    }
   ],
   "source": [
    "print(poli_dis_2012_df['id'].nunique())\n",
    "print(poli_dis_2020_df['id'].nunique())"
   ]
  },
  {
   "cell_type": "code",
   "execution_count": 138,
   "id": "olive-conservative",
   "metadata": {},
   "outputs": [
    {
     "name": "stdout",
     "output_type": "stream",
     "text": [
      "4448\n",
      "4725\n"
     ]
    }
   ],
   "source": [
    "print(poli_dis_2020_df['body'].nunique())\n",
    "print(poli_dis_2012_df['body'].nunique())"
   ]
  },
  {
   "cell_type": "code",
   "execution_count": 143,
   "id": "undefined-smoke",
   "metadata": {},
   "outputs": [
    {
     "name": "stdout",
     "output_type": "stream",
     "text": [
      "(5000, 23)\n",
      "(5000, 36)\n"
     ]
    }
   ],
   "source": [
    "print(poli_dis_2012_df.shape)\n",
    "print(poli_dis_2020_df.shape)"
   ]
  },
  {
   "cell_type": "markdown",
   "id": "after-refund",
   "metadata": {},
   "source": [
    "# talk about data here"
   ]
  },
  {
   "cell_type": "markdown",
   "id": "decreased-density",
   "metadata": {},
   "source": [
    "---\n",
    "### Save data to .csv files\n",
    "Now that we've pulled the data needed for the second model, let's save it as `.csv`s."
   ]
  },
  {
   "cell_type": "code",
   "execution_count": 145,
   "id": "composite-compression",
   "metadata": {},
   "outputs": [],
   "source": [
    "poli_dis_2012_df.to_csv('../data/poli_dis_2012.csv', index=False)\n",
    "poli_dis_2020_df.to_csv('../data/poli_dis_2020.csv', index=False)"
   ]
  },
  {
   "cell_type": "markdown",
   "id": "elect-algorithm",
   "metadata": {},
   "source": [
    "---\n"
   ]
  },
  {
   "cell_type": "markdown",
   "id": "uniform-redhead",
   "metadata": {},
   "source": [
    "### Pick up here!!!\n",
    "\n",
    "So far we've accomplished:\n",
    "* getting data - 200 subreddit posts so far (not comments)\n",
    "* count vectorizing the subreddit posts\n",
    "* passing data to TWO MODELS\n",
    "    * Bernoulli Naive Bayes model : when we have 0/1 variables.\n",
    "    * TFIDF multinomial naive bayes : when our variables are positive integers\n",
    "\n",
    "To do next:\n",
    "* get MORE DATA - source for pulling data on time delay: https://gist.github.com/tecoholic/1242694\n",
    "* get different types of data - try comments! try using titles alongside selftext! "
   ]
  },
  {
   "cell_type": "code",
   "execution_count": null,
   "id": "checked-portuguese",
   "metadata": {},
   "outputs": [],
   "source": []
  }
 ],
 "metadata": {
  "kernelspec": {
   "display_name": "Python 3",
   "language": "python",
   "name": "python3"
  },
  "language_info": {
   "codemirror_mode": {
    "name": "ipython",
    "version": 3
   },
   "file_extension": ".py",
   "mimetype": "text/x-python",
   "name": "python",
   "nbconvert_exporter": "python",
   "pygments_lexer": "ipython3",
   "version": "3.9.2"
  }
 },
 "nbformat": 4,
 "nbformat_minor": 5
}
