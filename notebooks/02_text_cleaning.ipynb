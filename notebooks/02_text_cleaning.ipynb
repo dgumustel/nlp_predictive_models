{
 "cells": [
  {
   "cell_type": "markdown",
   "id": "complete-childhood",
   "metadata": {},
   "source": [
    "# Text Cleaning\n",
    "---"
   ]
  },
  {
   "cell_type": "markdown",
   "id": "coupled-marathon",
   "metadata": {},
   "source": [
    "### This notebook accomplishes the following:\n",
    "\n",
    "\n",
    "---"
   ]
  },
  {
   "cell_type": "code",
   "execution_count": 1,
   "id": "noticed-shepherd",
   "metadata": {},
   "outputs": [],
   "source": [
    "# Imports\n",
    "import pandas as pd\n",
    "import numpy as np\n",
    "import re"
   ]
  },
  {
   "cell_type": "markdown",
   "id": "elder-murray",
   "metadata": {},
   "source": [
    "---\n",
    "### Read in the data files\n",
    "We can read in the `.csv`s we created in the first notebook. We're working with four datasets total, so we'll do each step in the cleaning process four times. I create a list of my dataframes to loop through to reduce clutter."
   ]
  },
  {
   "cell_type": "code",
   "execution_count": 2,
   "id": "christian-pepper",
   "metadata": {},
   "outputs": [],
   "source": [
    "dmacademy_df = pd.read_csv('../data/dmacademy.csv')\n",
    "truezelda_df = pd.read_csv('../data/truezelda.csv')\n",
    "poli_dis_2012_df = pd.read_csv('../data/poli_dis_2012.csv')\n",
    "poli_dis_2020_df = pd.read_csv('../data/poli_dis_2020.csv')"
   ]
  },
  {
   "cell_type": "markdown",
   "id": "devoted-professional",
   "metadata": {},
   "source": [
    "---\n",
    "### Check for removed or deleted posts\n",
    "\n",
    "One column that caught my eye in these dataframe is the `removed_by_category` column. Each row of this column was found to contain one of six unique values: 'reddit', 'moderator', 'author', 'deleted', 'automod_filtered', or a null value. Rows where this column contains anything other than a null are posts that have been removed from the subreddit. This means the selftext only contains the word 'removed' or 'deleted'. \n",
    "\n",
    "Let's see how many rows in each dataframe might be posts that have been removed or deleted."
   ]
  },
  {
   "cell_type": "code",
   "execution_count": 3,
   "id": "northern-imagination",
   "metadata": {},
   "outputs": [
    {
     "data": {
      "text/html": [
       "<div>\n",
       "<style scoped>\n",
       "    .dataframe tbody tr th:only-of-type {\n",
       "        vertical-align: middle;\n",
       "    }\n",
       "\n",
       "    .dataframe tbody tr th {\n",
       "        vertical-align: top;\n",
       "    }\n",
       "\n",
       "    .dataframe thead th {\n",
       "        text-align: right;\n",
       "    }\n",
       "</style>\n",
       "<table border=\"1\" class=\"dataframe\">\n",
       "  <thead>\n",
       "    <tr style=\"text-align: right;\">\n",
       "      <th></th>\n",
       "      <th>all_awardings</th>\n",
       "      <th>allow_live_comments</th>\n",
       "      <th>author</th>\n",
       "      <th>author_flair_css_class</th>\n",
       "      <th>author_flair_richtext</th>\n",
       "      <th>author_flair_text</th>\n",
       "      <th>author_flair_type</th>\n",
       "      <th>author_fullname</th>\n",
       "      <th>author_patreon_flair</th>\n",
       "      <th>author_premium</th>\n",
       "      <th>...</th>\n",
       "      <th>link_flair_css_class</th>\n",
       "      <th>post_hint</th>\n",
       "      <th>preview</th>\n",
       "      <th>author_flair_background_color</th>\n",
       "      <th>author_flair_text_color</th>\n",
       "      <th>removed_by_category</th>\n",
       "      <th>gilded</th>\n",
       "      <th>author_cakeday</th>\n",
       "      <th>suggested_sort</th>\n",
       "      <th>banned_by</th>\n",
       "    </tr>\n",
       "  </thead>\n",
       "  <tbody>\n",
       "    <tr>\n",
       "      <th>0</th>\n",
       "      <td>[]</td>\n",
       "      <td>False</td>\n",
       "      <td>Vashael</td>\n",
       "      <td>NaN</td>\n",
       "      <td>[]</td>\n",
       "      <td>NaN</td>\n",
       "      <td>text</td>\n",
       "      <td>t2_7p5eovfe</td>\n",
       "      <td>False</td>\n",
       "      <td>False</td>\n",
       "      <td>...</td>\n",
       "      <td>NaN</td>\n",
       "      <td>NaN</td>\n",
       "      <td>NaN</td>\n",
       "      <td>NaN</td>\n",
       "      <td>NaN</td>\n",
       "      <td>NaN</td>\n",
       "      <td>NaN</td>\n",
       "      <td>NaN</td>\n",
       "      <td>NaN</td>\n",
       "      <td>NaN</td>\n",
       "    </tr>\n",
       "    <tr>\n",
       "      <th>1</th>\n",
       "      <td>[]</td>\n",
       "      <td>False</td>\n",
       "      <td>Atarihero76</td>\n",
       "      <td>NaN</td>\n",
       "      <td>[]</td>\n",
       "      <td>NaN</td>\n",
       "      <td>text</td>\n",
       "      <td>t2_48oeurxu</td>\n",
       "      <td>False</td>\n",
       "      <td>False</td>\n",
       "      <td>...</td>\n",
       "      <td>Guide</td>\n",
       "      <td>self</td>\n",
       "      <td>{'enabled': False, 'images': [{'id': '9XSNOgfA...</td>\n",
       "      <td>NaN</td>\n",
       "      <td>NaN</td>\n",
       "      <td>NaN</td>\n",
       "      <td>NaN</td>\n",
       "      <td>NaN</td>\n",
       "      <td>NaN</td>\n",
       "      <td>NaN</td>\n",
       "    </tr>\n",
       "    <tr>\n",
       "      <th>2</th>\n",
       "      <td>[]</td>\n",
       "      <td>False</td>\n",
       "      <td>JethroBuldean</td>\n",
       "      <td>NaN</td>\n",
       "      <td>[]</td>\n",
       "      <td>NaN</td>\n",
       "      <td>text</td>\n",
       "      <td>t2_1plx2r4z</td>\n",
       "      <td>False</td>\n",
       "      <td>False</td>\n",
       "      <td>...</td>\n",
       "      <td>NaN</td>\n",
       "      <td>NaN</td>\n",
       "      <td>NaN</td>\n",
       "      <td>NaN</td>\n",
       "      <td>NaN</td>\n",
       "      <td>NaN</td>\n",
       "      <td>NaN</td>\n",
       "      <td>NaN</td>\n",
       "      <td>NaN</td>\n",
       "      <td>NaN</td>\n",
       "    </tr>\n",
       "    <tr>\n",
       "      <th>3</th>\n",
       "      <td>[]</td>\n",
       "      <td>False</td>\n",
       "      <td>Mechaaniac</td>\n",
       "      <td>NaN</td>\n",
       "      <td>[]</td>\n",
       "      <td>NaN</td>\n",
       "      <td>text</td>\n",
       "      <td>t2_a04c8tpe</td>\n",
       "      <td>False</td>\n",
       "      <td>False</td>\n",
       "      <td>...</td>\n",
       "      <td>NaN</td>\n",
       "      <td>NaN</td>\n",
       "      <td>NaN</td>\n",
       "      <td>NaN</td>\n",
       "      <td>NaN</td>\n",
       "      <td>NaN</td>\n",
       "      <td>NaN</td>\n",
       "      <td>NaN</td>\n",
       "      <td>NaN</td>\n",
       "      <td>NaN</td>\n",
       "    </tr>\n",
       "    <tr>\n",
       "      <th>4</th>\n",
       "      <td>[]</td>\n",
       "      <td>False</td>\n",
       "      <td>Hungerforhuman</td>\n",
       "      <td>NaN</td>\n",
       "      <td>[]</td>\n",
       "      <td>NaN</td>\n",
       "      <td>text</td>\n",
       "      <td>t2_a2ouksrx</td>\n",
       "      <td>False</td>\n",
       "      <td>False</td>\n",
       "      <td>...</td>\n",
       "      <td>NaN</td>\n",
       "      <td>NaN</td>\n",
       "      <td>NaN</td>\n",
       "      <td>NaN</td>\n",
       "      <td>NaN</td>\n",
       "      <td>NaN</td>\n",
       "      <td>NaN</td>\n",
       "      <td>NaN</td>\n",
       "      <td>NaN</td>\n",
       "      <td>NaN</td>\n",
       "    </tr>\n",
       "    <tr>\n",
       "      <th>...</th>\n",
       "      <td>...</td>\n",
       "      <td>...</td>\n",
       "      <td>...</td>\n",
       "      <td>...</td>\n",
       "      <td>...</td>\n",
       "      <td>...</td>\n",
       "      <td>...</td>\n",
       "      <td>...</td>\n",
       "      <td>...</td>\n",
       "      <td>...</td>\n",
       "      <td>...</td>\n",
       "      <td>...</td>\n",
       "      <td>...</td>\n",
       "      <td>...</td>\n",
       "      <td>...</td>\n",
       "      <td>...</td>\n",
       "      <td>...</td>\n",
       "      <td>...</td>\n",
       "      <td>...</td>\n",
       "      <td>...</td>\n",
       "      <td>...</td>\n",
       "    </tr>\n",
       "    <tr>\n",
       "      <th>4995</th>\n",
       "      <td>[]</td>\n",
       "      <td>False</td>\n",
       "      <td>AngelsJos</td>\n",
       "      <td>NaN</td>\n",
       "      <td>[]</td>\n",
       "      <td>NaN</td>\n",
       "      <td>text</td>\n",
       "      <td>t2_9571c28u</td>\n",
       "      <td>False</td>\n",
       "      <td>True</td>\n",
       "      <td>...</td>\n",
       "      <td>NaN</td>\n",
       "      <td>NaN</td>\n",
       "      <td>NaN</td>\n",
       "      <td>NaN</td>\n",
       "      <td>NaN</td>\n",
       "      <td>NaN</td>\n",
       "      <td>NaN</td>\n",
       "      <td>NaN</td>\n",
       "      <td>NaN</td>\n",
       "      <td>NaN</td>\n",
       "    </tr>\n",
       "    <tr>\n",
       "      <th>4996</th>\n",
       "      <td>[]</td>\n",
       "      <td>False</td>\n",
       "      <td>Light_of_Avalon</td>\n",
       "      <td>NaN</td>\n",
       "      <td>[]</td>\n",
       "      <td>NaN</td>\n",
       "      <td>text</td>\n",
       "      <td>t2_871qw</td>\n",
       "      <td>False</td>\n",
       "      <td>False</td>\n",
       "      <td>...</td>\n",
       "      <td>NaN</td>\n",
       "      <td>NaN</td>\n",
       "      <td>NaN</td>\n",
       "      <td>NaN</td>\n",
       "      <td>NaN</td>\n",
       "      <td>NaN</td>\n",
       "      <td>NaN</td>\n",
       "      <td>NaN</td>\n",
       "      <td>NaN</td>\n",
       "      <td>NaN</td>\n",
       "    </tr>\n",
       "    <tr>\n",
       "      <th>4997</th>\n",
       "      <td>[]</td>\n",
       "      <td>False</td>\n",
       "      <td>Randoff-Runemaker</td>\n",
       "      <td>NaN</td>\n",
       "      <td>[]</td>\n",
       "      <td>NaN</td>\n",
       "      <td>text</td>\n",
       "      <td>t2_ab1yxy0e</td>\n",
       "      <td>False</td>\n",
       "      <td>False</td>\n",
       "      <td>...</td>\n",
       "      <td>NaN</td>\n",
       "      <td>NaN</td>\n",
       "      <td>NaN</td>\n",
       "      <td>NaN</td>\n",
       "      <td>NaN</td>\n",
       "      <td>NaN</td>\n",
       "      <td>NaN</td>\n",
       "      <td>NaN</td>\n",
       "      <td>NaN</td>\n",
       "      <td>NaN</td>\n",
       "    </tr>\n",
       "    <tr>\n",
       "      <th>4998</th>\n",
       "      <td>[]</td>\n",
       "      <td>False</td>\n",
       "      <td>Shatyel</td>\n",
       "      <td>NaN</td>\n",
       "      <td>[]</td>\n",
       "      <td>NaN</td>\n",
       "      <td>text</td>\n",
       "      <td>t2_1v4sccw1</td>\n",
       "      <td>False</td>\n",
       "      <td>False</td>\n",
       "      <td>...</td>\n",
       "      <td>NaN</td>\n",
       "      <td>NaN</td>\n",
       "      <td>NaN</td>\n",
       "      <td>NaN</td>\n",
       "      <td>NaN</td>\n",
       "      <td>NaN</td>\n",
       "      <td>NaN</td>\n",
       "      <td>NaN</td>\n",
       "      <td>NaN</td>\n",
       "      <td>NaN</td>\n",
       "    </tr>\n",
       "    <tr>\n",
       "      <th>4999</th>\n",
       "      <td>[]</td>\n",
       "      <td>False</td>\n",
       "      <td>casualaudience</td>\n",
       "      <td>NaN</td>\n",
       "      <td>[]</td>\n",
       "      <td>NaN</td>\n",
       "      <td>text</td>\n",
       "      <td>t2_2jjmhv7b</td>\n",
       "      <td>False</td>\n",
       "      <td>False</td>\n",
       "      <td>...</td>\n",
       "      <td>NaN</td>\n",
       "      <td>NaN</td>\n",
       "      <td>NaN</td>\n",
       "      <td>NaN</td>\n",
       "      <td>NaN</td>\n",
       "      <td>NaN</td>\n",
       "      <td>NaN</td>\n",
       "      <td>NaN</td>\n",
       "      <td>NaN</td>\n",
       "      <td>NaN</td>\n",
       "    </tr>\n",
       "  </tbody>\n",
       "</table>\n",
       "<p>5000 rows × 70 columns</p>\n",
       "</div>"
      ],
      "text/plain": [
       "     all_awardings  allow_live_comments             author  \\\n",
       "0               []                False            Vashael   \n",
       "1               []                False        Atarihero76   \n",
       "2               []                False      JethroBuldean   \n",
       "3               []                False         Mechaaniac   \n",
       "4               []                False     Hungerforhuman   \n",
       "...            ...                  ...                ...   \n",
       "4995            []                False          AngelsJos   \n",
       "4996            []                False    Light_of_Avalon   \n",
       "4997            []                False  Randoff-Runemaker   \n",
       "4998            []                False            Shatyel   \n",
       "4999            []                False     casualaudience   \n",
       "\n",
       "     author_flair_css_class author_flair_richtext author_flair_text  \\\n",
       "0                       NaN                    []               NaN   \n",
       "1                       NaN                    []               NaN   \n",
       "2                       NaN                    []               NaN   \n",
       "3                       NaN                    []               NaN   \n",
       "4                       NaN                    []               NaN   \n",
       "...                     ...                   ...               ...   \n",
       "4995                    NaN                    []               NaN   \n",
       "4996                    NaN                    []               NaN   \n",
       "4997                    NaN                    []               NaN   \n",
       "4998                    NaN                    []               NaN   \n",
       "4999                    NaN                    []               NaN   \n",
       "\n",
       "     author_flair_type author_fullname author_patreon_flair author_premium  \\\n",
       "0                 text     t2_7p5eovfe                False          False   \n",
       "1                 text     t2_48oeurxu                False          False   \n",
       "2                 text     t2_1plx2r4z                False          False   \n",
       "3                 text     t2_a04c8tpe                False          False   \n",
       "4                 text     t2_a2ouksrx                False          False   \n",
       "...                ...             ...                  ...            ...   \n",
       "4995              text     t2_9571c28u                False           True   \n",
       "4996              text        t2_871qw                False          False   \n",
       "4997              text     t2_ab1yxy0e                False          False   \n",
       "4998              text     t2_1v4sccw1                False          False   \n",
       "4999              text     t2_2jjmhv7b                False          False   \n",
       "\n",
       "      ... link_flair_css_class  post_hint  \\\n",
       "0     ...                  NaN        NaN   \n",
       "1     ...                Guide       self   \n",
       "2     ...                  NaN        NaN   \n",
       "3     ...                  NaN        NaN   \n",
       "4     ...                  NaN        NaN   \n",
       "...   ...                  ...        ...   \n",
       "4995  ...                  NaN        NaN   \n",
       "4996  ...                  NaN        NaN   \n",
       "4997  ...                  NaN        NaN   \n",
       "4998  ...                  NaN        NaN   \n",
       "4999  ...                  NaN        NaN   \n",
       "\n",
       "                                                preview  \\\n",
       "0                                                   NaN   \n",
       "1     {'enabled': False, 'images': [{'id': '9XSNOgfA...   \n",
       "2                                                   NaN   \n",
       "3                                                   NaN   \n",
       "4                                                   NaN   \n",
       "...                                                 ...   \n",
       "4995                                                NaN   \n",
       "4996                                                NaN   \n",
       "4997                                                NaN   \n",
       "4998                                                NaN   \n",
       "4999                                                NaN   \n",
       "\n",
       "      author_flair_background_color author_flair_text_color  \\\n",
       "0                               NaN                     NaN   \n",
       "1                               NaN                     NaN   \n",
       "2                               NaN                     NaN   \n",
       "3                               NaN                     NaN   \n",
       "4                               NaN                     NaN   \n",
       "...                             ...                     ...   \n",
       "4995                            NaN                     NaN   \n",
       "4996                            NaN                     NaN   \n",
       "4997                            NaN                     NaN   \n",
       "4998                            NaN                     NaN   \n",
       "4999                            NaN                     NaN   \n",
       "\n",
       "      removed_by_category gilded author_cakeday suggested_sort  banned_by  \n",
       "0                     NaN    NaN            NaN            NaN        NaN  \n",
       "1                     NaN    NaN            NaN            NaN        NaN  \n",
       "2                     NaN    NaN            NaN            NaN        NaN  \n",
       "3                     NaN    NaN            NaN            NaN        NaN  \n",
       "4                     NaN    NaN            NaN            NaN        NaN  \n",
       "...                   ...    ...            ...            ...        ...  \n",
       "4995                  NaN    NaN            NaN            NaN        NaN  \n",
       "4996                  NaN    NaN            NaN            NaN        NaN  \n",
       "4997                  NaN    NaN            NaN            NaN        NaN  \n",
       "4998                  NaN    NaN            NaN            NaN        NaN  \n",
       "4999                  NaN    NaN            NaN            NaN        NaN  \n",
       "\n",
       "[5000 rows x 70 columns]"
      ]
     },
     "execution_count": 3,
     "metadata": {},
     "output_type": "execute_result"
    }
   ],
   "source": [
    "# Inspect one of our dataframes\n",
    "dmacademy_df"
   ]
  },
  {
   "cell_type": "code",
   "execution_count": 4,
   "id": "fifth-argentina",
   "metadata": {},
   "outputs": [],
   "source": [
    "dmacademy_df.rename(columns={'selftext': 'text'}, inplace=True)\n",
    "truezelda_df.rename(columns={'selftext': 'text'}, inplace=True)\n",
    "poli_dis_2012_df.rename(columns={'body': 'text'}, inplace=True)\n",
    "poli_dis_2020_df.rename(columns={'body': 'text'}, inplace=True)"
   ]
  },
  {
   "cell_type": "code",
   "execution_count": 5,
   "id": "initial-tonight",
   "metadata": {},
   "outputs": [
    {
     "name": "stdout",
     "output_type": "stream",
     "text": [
      "[nan 'deleted' 'moderator' 'reddit']\n",
      "['[deleted]' '[removed]' nan]\n",
      "\n",
      "\n",
      "[nan 'reddit' 'automod_filtered' 'deleted' 'moderator']\n",
      "['[removed]' '[deleted]' nan]\n",
      "\n",
      "\n"
     ]
    }
   ],
   "source": [
    "for df in [dmacademy_df, truezelda_df]:\n",
    "    print(df['removed_by_category'].unique())\n",
    "    print(df[df['removed_by_category'].notnull()]['text'].unique())\n",
    "    print('\\n')"
   ]
  },
  {
   "cell_type": "markdown",
   "id": "recovered-buyer",
   "metadata": {},
   "source": [
    "Based on this information, I decided to remove all rows where `selftext` or `body` is deleted, removed, or null. Unforunately, this means dropping hundreds of rows, but I intentionally pulled more data than I thought necessary to plan for this possibility. Changing both these columns to `text` to make it easier to iterate over later! \n",
    "\n",
    "Below, I print out examples of nulls, deleted, and removed posts in the DMAcademy data. All of these rows still have titles, but including the titles will give us the impression later that our classes are more balanced than they truly are, so I'd rather drop them, too."
   ]
  },
  {
   "cell_type": "code",
   "execution_count": 6,
   "id": "regulation-campaign",
   "metadata": {},
   "outputs": [
    {
     "data": {
      "text/html": [
       "<div>\n",
       "<style scoped>\n",
       "    .dataframe tbody tr th:only-of-type {\n",
       "        vertical-align: middle;\n",
       "    }\n",
       "\n",
       "    .dataframe tbody tr th {\n",
       "        vertical-align: top;\n",
       "    }\n",
       "\n",
       "    .dataframe thead th {\n",
       "        text-align: right;\n",
       "    }\n",
       "</style>\n",
       "<table border=\"1\" class=\"dataframe\">\n",
       "  <thead>\n",
       "    <tr style=\"text-align: right;\">\n",
       "      <th></th>\n",
       "      <th>text</th>\n",
       "      <th>title</th>\n",
       "      <th>removed_by_category</th>\n",
       "    </tr>\n",
       "  </thead>\n",
       "  <tbody>\n",
       "    <tr>\n",
       "      <th>775</th>\n",
       "      <td>NaN</td>\n",
       "      <td>Giving depth to your random encounters</td>\n",
       "      <td>deleted</td>\n",
       "    </tr>\n",
       "    <tr>\n",
       "      <th>937</th>\n",
       "      <td>NaN</td>\n",
       "      <td>New DM</td>\n",
       "      <td>deleted</td>\n",
       "    </tr>\n",
       "    <tr>\n",
       "      <th>3190</th>\n",
       "      <td>NaN</td>\n",
       "      <td>How should I balance low stake/high stake enco...</td>\n",
       "      <td>deleted</td>\n",
       "    </tr>\n",
       "    <tr>\n",
       "      <th>3318</th>\n",
       "      <td>NaN</td>\n",
       "      <td>Тhеrе is а Yоutubеr cаlled \"Lеon Farаdаy\" that...</td>\n",
       "      <td>deleted</td>\n",
       "    </tr>\n",
       "  </tbody>\n",
       "</table>\n",
       "</div>"
      ],
      "text/plain": [
       "     text                                              title  \\\n",
       "775   NaN             Giving depth to your random encounters   \n",
       "937   NaN                                             New DM   \n",
       "3190  NaN  How should I balance low stake/high stake enco...   \n",
       "3318  NaN  Тhеrе is а Yоutubеr cаlled \"Lеon Farаdаy\" that...   \n",
       "\n",
       "     removed_by_category  \n",
       "775              deleted  \n",
       "937              deleted  \n",
       "3190             deleted  \n",
       "3318             deleted  "
      ]
     },
     "execution_count": 6,
     "metadata": {},
     "output_type": "execute_result"
    }
   ],
   "source": [
    "dmacademy_df[dmacademy_df['text'].isnull()][['text','title','removed_by_category']].head()"
   ]
  },
  {
   "cell_type": "code",
   "execution_count": 7,
   "id": "abroad-involvement",
   "metadata": {},
   "outputs": [
    {
     "data": {
      "text/html": [
       "<div>\n",
       "<style scoped>\n",
       "    .dataframe tbody tr th:only-of-type {\n",
       "        vertical-align: middle;\n",
       "    }\n",
       "\n",
       "    .dataframe tbody tr th {\n",
       "        vertical-align: top;\n",
       "    }\n",
       "\n",
       "    .dataframe thead th {\n",
       "        text-align: right;\n",
       "    }\n",
       "</style>\n",
       "<table border=\"1\" class=\"dataframe\">\n",
       "  <thead>\n",
       "    <tr style=\"text-align: right;\">\n",
       "      <th></th>\n",
       "      <th>text</th>\n",
       "      <th>title</th>\n",
       "      <th>removed_by_category</th>\n",
       "    </tr>\n",
       "  </thead>\n",
       "  <tbody>\n",
       "    <tr>\n",
       "      <th>21</th>\n",
       "      <td>[deleted]</td>\n",
       "      <td>I need help can I ask some assistance.</td>\n",
       "      <td>deleted</td>\n",
       "    </tr>\n",
       "    <tr>\n",
       "      <th>38</th>\n",
       "      <td>[deleted]</td>\n",
       "      <td>What to do with an unhelpful player.</td>\n",
       "      <td>deleted</td>\n",
       "    </tr>\n",
       "    <tr>\n",
       "      <th>62</th>\n",
       "      <td>[deleted]</td>\n",
       "      <td>(popular question) Playing after LMoP for newb...</td>\n",
       "      <td>deleted</td>\n",
       "    </tr>\n",
       "    <tr>\n",
       "      <th>78</th>\n",
       "      <td>[deleted]</td>\n",
       "      <td>how should i go about this session if there I'...</td>\n",
       "      <td>deleted</td>\n",
       "    </tr>\n",
       "    <tr>\n",
       "      <th>81</th>\n",
       "      <td>[deleted]</td>\n",
       "      <td>Menacing music for Villains?</td>\n",
       "      <td>deleted</td>\n",
       "    </tr>\n",
       "  </tbody>\n",
       "</table>\n",
       "</div>"
      ],
      "text/plain": [
       "         text                                              title  \\\n",
       "21  [deleted]             I need help can I ask some assistance.   \n",
       "38  [deleted]               What to do with an unhelpful player.   \n",
       "62  [deleted]  (popular question) Playing after LMoP for newb...   \n",
       "78  [deleted]  how should i go about this session if there I'...   \n",
       "81  [deleted]                       Menacing music for Villains?   \n",
       "\n",
       "   removed_by_category  \n",
       "21             deleted  \n",
       "38             deleted  \n",
       "62             deleted  \n",
       "78             deleted  \n",
       "81             deleted  "
      ]
     },
     "execution_count": 7,
     "metadata": {},
     "output_type": "execute_result"
    }
   ],
   "source": [
    "dmacademy_df.loc[dmacademy_df['text']=='[deleted]'][['text','title','removed_by_category']].head()"
   ]
  },
  {
   "cell_type": "code",
   "execution_count": 8,
   "id": "plain-knight",
   "metadata": {},
   "outputs": [
    {
     "data": {
      "text/html": [
       "<div>\n",
       "<style scoped>\n",
       "    .dataframe tbody tr th:only-of-type {\n",
       "        vertical-align: middle;\n",
       "    }\n",
       "\n",
       "    .dataframe tbody tr th {\n",
       "        vertical-align: top;\n",
       "    }\n",
       "\n",
       "    .dataframe thead th {\n",
       "        text-align: right;\n",
       "    }\n",
       "</style>\n",
       "<table border=\"1\" class=\"dataframe\">\n",
       "  <thead>\n",
       "    <tr style=\"text-align: right;\">\n",
       "      <th></th>\n",
       "      <th>text</th>\n",
       "      <th>title</th>\n",
       "      <th>removed_by_category</th>\n",
       "    </tr>\n",
       "  </thead>\n",
       "  <tbody>\n",
       "    <tr>\n",
       "      <th>47</th>\n",
       "      <td>[removed]</td>\n",
       "      <td>Who is the Queen of Air and Darkness? What hap...</td>\n",
       "      <td>moderator</td>\n",
       "    </tr>\n",
       "    <tr>\n",
       "      <th>89</th>\n",
       "      <td>[removed]</td>\n",
       "      <td>A helpful video about how to design a balanced...</td>\n",
       "      <td>moderator</td>\n",
       "    </tr>\n",
       "    <tr>\n",
       "      <th>224</th>\n",
       "      <td>[removed]</td>\n",
       "      <td>Character backstory assist.</td>\n",
       "      <td>moderator</td>\n",
       "    </tr>\n",
       "    <tr>\n",
       "      <th>227</th>\n",
       "      <td>[removed]</td>\n",
       "      <td>New player to Dnd/ build help pls</td>\n",
       "      <td>moderator</td>\n",
       "    </tr>\n",
       "    <tr>\n",
       "      <th>241</th>\n",
       "      <td>[removed]</td>\n",
       "      <td>My friend asked me if I knew much about the Ba...</td>\n",
       "      <td>moderator</td>\n",
       "    </tr>\n",
       "  </tbody>\n",
       "</table>\n",
       "</div>"
      ],
      "text/plain": [
       "          text                                              title  \\\n",
       "47   [removed]  Who is the Queen of Air and Darkness? What hap...   \n",
       "89   [removed]  A helpful video about how to design a balanced...   \n",
       "224  [removed]                        Character backstory assist.   \n",
       "227  [removed]                  New player to Dnd/ build help pls   \n",
       "241  [removed]  My friend asked me if I knew much about the Ba...   \n",
       "\n",
       "    removed_by_category  \n",
       "47            moderator  \n",
       "89            moderator  \n",
       "224           moderator  \n",
       "227           moderator  \n",
       "241           moderator  "
      ]
     },
     "execution_count": 8,
     "metadata": {},
     "output_type": "execute_result"
    }
   ],
   "source": [
    "dmacademy_df.loc[dmacademy_df['text']=='[removed]'][['text','title','removed_by_category']].head()"
   ]
  },
  {
   "cell_type": "markdown",
   "id": "certified-publicity",
   "metadata": {},
   "source": [
    "First, let's see jut how many rows we'll be dropping from each dataframe."
   ]
  },
  {
   "cell_type": "code",
   "execution_count": 9,
   "id": "potential-greene",
   "metadata": {},
   "outputs": [],
   "source": [
    "df_names_list = ['dmacademy_df', 'truezelda_df', 'poli_dis_2012_df', 'poli_dis_2020_df']"
   ]
  },
  {
   "cell_type": "code",
   "execution_count": 10,
   "id": "piano-polish",
   "metadata": {},
   "outputs": [],
   "source": [
    "df_list = [dmacademy_df, truezelda_df, poli_dis_2012_df, poli_dis_2020_df]"
   ]
  },
  {
   "cell_type": "code",
   "execution_count": 11,
   "id": "answering-landscape",
   "metadata": {},
   "outputs": [
    {
     "name": "stdout",
     "output_type": "stream",
     "text": [
      "dmacademy_df contains 113 empty posts\n",
      "truezelda_df contains 884 empty posts\n",
      "poli_dis_2012_df contains 267 empty posts\n",
      "poli_dis_2020_df contains 238 empty posts\n"
     ]
    }
   ],
   "source": [
    "for i, dataframe in enumerate(df_list):    \n",
    "    # add up number of rows that contain 'deleted' or 'removed' \n",
    "    num_nulls = 0\n",
    "    num_nulls += len(dataframe.loc[(dataframe['text']=='[deleted]') | (dataframe['text']=='[removed]')])\n",
    "    num_nulls += dataframe['text'].isnull().sum()\n",
    "    \n",
    "    print(f'{df_names_list[i]} contains {num_nulls} empty posts')"
   ]
  },
  {
   "cell_type": "markdown",
   "id": "allied-vocabulary",
   "metadata": {},
   "source": [
    "---\n",
    "### Drop rows with removed, deleted, or null posts or comments\n",
    "\n",
    "Now that we feel confident we've identified all the empty posts, let's drop them."
   ]
  },
  {
   "cell_type": "code",
   "execution_count": 12,
   "id": "iraqi-cartoon",
   "metadata": {},
   "outputs": [],
   "source": [
    "for i, df in enumerate(df_list):\n",
    "    \n",
    "    # Drop rows where posts are nulls\n",
    "    df.dropna(axis=0, inplace=True, subset=['text'])\n",
    "\n",
    "    # Drop rows where posts were deleted\n",
    "    deleted_rows = df.loc[df['text']=='[deleted]'].index\n",
    "    df.drop(deleted_rows, inplace=True, axis=0)\n",
    "    \n",
    "    # Drop rows where posts were removed\n",
    "    removed_rows = df.loc[df['text']=='[removed]'].index\n",
    "    df.drop(removed_rows, inplace=True)"
   ]
  },
  {
   "cell_type": "code",
   "execution_count": 13,
   "id": "typical-senate",
   "metadata": {},
   "outputs": [
    {
     "name": "stdout",
     "output_type": "stream",
     "text": [
      "dmacademy_df contains 0 empty posts\n",
      "truezelda_df contains 0 empty posts\n",
      "poli_dis_2012_df contains 0 empty posts\n",
      "poli_dis_2020_df contains 0 empty posts\n"
     ]
    }
   ],
   "source": [
    "for i, dataframe in enumerate(df_list):    \n",
    "    # add up number of rows that contain 'deleted' or 'removed' \n",
    "    num_nulls = 0\n",
    "    num_nulls += len(dataframe.loc[(dataframe['text']=='[deleted]') | (dataframe['text']=='[removed]')])\n",
    "    num_nulls += dataframe['text'].isnull().sum()\n",
    "    \n",
    "    print(f'{df_names_list[i]} contains {num_nulls} empty posts')"
   ]
  },
  {
   "cell_type": "code",
   "execution_count": 14,
   "id": "civil-solomon",
   "metadata": {},
   "outputs": [
    {
     "name": "stdout",
     "output_type": "stream",
     "text": [
      "4887\n",
      "4112\n",
      "4733\n",
      "4762\n"
     ]
    }
   ],
   "source": [
    "for df in df_list:\n",
    "    print(len(df))"
   ]
  },
  {
   "cell_type": "markdown",
   "id": "persistent-precipitation",
   "metadata": {},
   "source": [
    "Our dataframes are significantly smaller now, but so much cleaner! Yay!"
   ]
  },
  {
   "cell_type": "markdown",
   "id": "decimal-barbados",
   "metadata": {},
   "source": [
    "---\n",
    "### Isolate the subreddit, title, and text columns \n",
    "After dropping empty posts, our dataframes still contain a lot of arbitrary data in all of those extra columns. Since this is a project on Natural Language Processing (NLP), I'm only going to use the title and main text (stored in the `title` and `text` columns, respectively) for every post. We can isolate these columns in new dataframes so that we aren't working with so much extraneous data."
   ]
  },
  {
   "cell_type": "code",
   "execution_count": 15,
   "id": "prescribed-curtis",
   "metadata": {},
   "outputs": [],
   "source": [
    "dmacademy_df = dmacademy_df[['subreddit', 'title', 'text']].copy()\n",
    "truezelda_df = truezelda_df[['subreddit', 'title', 'text']].copy()\n",
    "poli_dis_2012_df = poli_dis_2012_df[['subreddit', 'text']].copy()\n",
    "poli_dis_2020_df = poli_dis_2020_df[['subreddit', 'text']].copy()"
   ]
  },
  {
   "cell_type": "code",
   "execution_count": 16,
   "id": "elementary-reliance",
   "metadata": {},
   "outputs": [
    {
     "data": {
      "text/html": [
       "<div>\n",
       "<style scoped>\n",
       "    .dataframe tbody tr th:only-of-type {\n",
       "        vertical-align: middle;\n",
       "    }\n",
       "\n",
       "    .dataframe tbody tr th {\n",
       "        vertical-align: top;\n",
       "    }\n",
       "\n",
       "    .dataframe thead th {\n",
       "        text-align: right;\n",
       "    }\n",
       "</style>\n",
       "<table border=\"1\" class=\"dataframe\">\n",
       "  <thead>\n",
       "    <tr style=\"text-align: right;\">\n",
       "      <th></th>\n",
       "      <th>subreddit</th>\n",
       "      <th>title</th>\n",
       "      <th>text</th>\n",
       "    </tr>\n",
       "  </thead>\n",
       "  <tbody>\n",
       "    <tr>\n",
       "      <th>0</th>\n",
       "      <td>DMAcademy</td>\n",
       "      <td>Seeking seasoned DMs to be guests on interview...</td>\n",
       "      <td>**Edit (UPDATE): Thank you for the robust resp...</td>\n",
       "    </tr>\n",
       "    <tr>\n",
       "      <th>1</th>\n",
       "      <td>DMAcademy</td>\n",
       "      <td>TERRAIN, and Using it Effectively</td>\n",
       "      <td>TERRAIN, and using it Effectively – DM Tips\\n\\...</td>\n",
       "    </tr>\n",
       "    <tr>\n",
       "      <th>2</th>\n",
       "      <td>DMAcademy</td>\n",
       "      <td>Know the exact location of something</td>\n",
       "      <td>The players are planning on dropping an evil a...</td>\n",
       "    </tr>\n",
       "    <tr>\n",
       "      <th>3</th>\n",
       "      <td>DMAcademy</td>\n",
       "      <td>How to run military basic as a session</td>\n",
       "      <td>I am running a campaign for all intents and pu...</td>\n",
       "    </tr>\n",
       "    <tr>\n",
       "      <th>4</th>\n",
       "      <td>DMAcademy</td>\n",
       "      <td>Best time to take breaks/how long they should be</td>\n",
       "      <td>Hey just a newbie DM .My sessions are usually ...</td>\n",
       "    </tr>\n",
       "    <tr>\n",
       "      <th>...</th>\n",
       "      <td>...</td>\n",
       "      <td>...</td>\n",
       "      <td>...</td>\n",
       "    </tr>\n",
       "    <tr>\n",
       "      <th>4995</th>\n",
       "      <td>DMAcademy</td>\n",
       "      <td>🐟 Urgently need DM support to appropriately en...</td>\n",
       "      <td>Hi all, I am hoping for some advice please! I ...</td>\n",
       "    </tr>\n",
       "    <tr>\n",
       "      <th>4996</th>\n",
       "      <td>DMAcademy</td>\n",
       "      <td>Do we help with plot here?</td>\n",
       "      <td>Mouseketeers go away\\n\\nSo i’m stuck on a plot...</td>\n",
       "    </tr>\n",
       "    <tr>\n",
       "      <th>4997</th>\n",
       "      <td>DMAcademy</td>\n",
       "      <td>Where to go next? Open to suggestions.</td>\n",
       "      <td>I have my first group about to finish Lost Min...</td>\n",
       "    </tr>\n",
       "    <tr>\n",
       "      <th>4998</th>\n",
       "      <td>DMAcademy</td>\n",
       "      <td>NPCs - Playing against type</td>\n",
       "      <td>I'm pretty new to DMing and take very long to ...</td>\n",
       "    </tr>\n",
       "    <tr>\n",
       "      <th>4999</th>\n",
       "      <td>DMAcademy</td>\n",
       "      <td>Need Help World Building // Populating a Magic...</td>\n",
       "      <td>Hello!\\n\\nDragon Maidens if any of you are rea...</td>\n",
       "    </tr>\n",
       "  </tbody>\n",
       "</table>\n",
       "<p>4887 rows × 3 columns</p>\n",
       "</div>"
      ],
      "text/plain": [
       "      subreddit                                              title  \\\n",
       "0     DMAcademy  Seeking seasoned DMs to be guests on interview...   \n",
       "1     DMAcademy                  TERRAIN, and Using it Effectively   \n",
       "2     DMAcademy               Know the exact location of something   \n",
       "3     DMAcademy             How to run military basic as a session   \n",
       "4     DMAcademy   Best time to take breaks/how long they should be   \n",
       "...         ...                                                ...   \n",
       "4995  DMAcademy  🐟 Urgently need DM support to appropriately en...   \n",
       "4996  DMAcademy                         Do we help with plot here?   \n",
       "4997  DMAcademy             Where to go next? Open to suggestions.   \n",
       "4998  DMAcademy                        NPCs - Playing against type   \n",
       "4999  DMAcademy  Need Help World Building // Populating a Magic...   \n",
       "\n",
       "                                                   text  \n",
       "0     **Edit (UPDATE): Thank you for the robust resp...  \n",
       "1     TERRAIN, and using it Effectively – DM Tips\\n\\...  \n",
       "2     The players are planning on dropping an evil a...  \n",
       "3     I am running a campaign for all intents and pu...  \n",
       "4     Hey just a newbie DM .My sessions are usually ...  \n",
       "...                                                 ...  \n",
       "4995  Hi all, I am hoping for some advice please! I ...  \n",
       "4996  Mouseketeers go away\\n\\nSo i’m stuck on a plot...  \n",
       "4997  I have my first group about to finish Lost Min...  \n",
       "4998  I'm pretty new to DMing and take very long to ...  \n",
       "4999  Hello!\\n\\nDragon Maidens if any of you are rea...  \n",
       "\n",
       "[4887 rows x 3 columns]"
      ]
     },
     "execution_count": 16,
     "metadata": {},
     "output_type": "execute_result"
    }
   ],
   "source": [
    "dmacademy_df"
   ]
  },
  {
   "cell_type": "markdown",
   "id": "diverse-crest",
   "metadata": {},
   "source": [
    "---\n",
    "### Inspect text for odd characters\n",
    "\n",
    "There are a lot of funky characters and strings in our text that we might want to consider removing before we tokenize and vectorize our data for model fitting. This includes typical relics like `\\n` and `&amp;`, but there's also some unseemly strings like `#x200B;`, as well as a lot of YouTube links. Some of these might be filtered out under the hood in our models, but I'm not an expert in NLP classification models so I'm going to do a bit of cleaning myself, or else I won't be able to say with confidence that this text data was properly processed. However, since I'm not expert, there is probably something I've missed.\n",
    "\n",
    "First, let's print a few posts from a single dataframe to skim for funky strings."
   ]
  },
  {
   "cell_type": "code",
   "execution_count": 17,
   "id": "competitive-heritage",
   "metadata": {
    "tags": []
   },
   "outputs": [
    {
     "name": "stdout",
     "output_type": "stream",
     "text": [
      "TERRAIN, and using it Effectively – DM Tips\n",
      "\n",
      "Using terrain Effectively Video:\n",
      "\n",
      "[https://youtu.be/AnpNtWTIX2Q](https://youtu.be/AnpNtWTIX2Q)\n",
      "\n",
      "Hey folks, I’d like to share with you some advice, in video and written form, on the use of Terrain in your Tabletop RPGs.\n",
      "\n",
      "I see a lot of questions and suggestions on adding terrain to your combats and skill challenges, but just plopping down some environment features is not the end of the technique, it is the beginning. Here I will spell out definitions and techniques for how to actually go about making terrain that is effective and will add drama to your encounters/scenes.\n",
      "\n",
      "The official dictionary definition of TERRAIN is: a stretch of land, especially with regard to its physical features\n",
      "\n",
      "How that relates to DnD (and other RPG settings) in my mind, is to redefine Terrain as: Anything in a scene or setting that is not a creature, (but also sometimes a creature can be a terrain feature...).\n",
      "\n",
      "So Terrain in an RPG is not only the swamps, treetops, bushes, boulders, weather, it is anything and every physical thing in a scene, Think of it all connected. \n",
      "\n",
      "HAVE A PLAN! Don’t just make the terrain a backdrop, make it an active force in the encounter.\n",
      "\n",
      "There are 4 categories of Terrain, and some of them can overlap, but this gives you a good breakdown of options when creating Terrain and designing encounters: \n",
      "\n",
      "**Set Pieces**, like scenes from Indiana Jones, \n",
      "\n",
      "**Monster tactics and/or habitats they can exploit**, \n",
      "\n",
      "**Terrain that moves** (rivers, landslides, lava, wind), \n",
      "\n",
      "or even \n",
      "\n",
      "**Monsters that cause terrain changes**, throwing trees, carving swaths out of the ground, etc…\n",
      "\n",
      "A Set-piece is a pre-planned situation, scenario, and/or set-up, that will drastically change the landscape and danger once it triggers. Indiana Jones boulder, Fast and the Furious car scenes, falling bridges, explosions, pretty much all the action scenes in movies are based off set-pieces. Something will change the world in a way that makes the protagonist have to act quickly to avoid certain disaster, while trying to do something else.\n",
      "\n",
      "Examples of Set-pieces: [Shark vs Rowboat](https://www.youtube.com/watch?v=c-xQej68BfI), [Goblin Bridge](https://www.youtube.com/watch?v=r9rhPAS3r1U),  [Zombie Shark and Drow Escape](https://www.youtube.com/watch?v=goyXZOPW1qI)\n",
      "\n",
      "Monster Tactics that use terrain and their natural habitat/defenses. This is where you plan your environment and the creatures/enemies in it to their own advantage. Goblins know to attack then retreat behind walls for full cover, a chameleon stays in the trees to avoid detection, luring players into traps, or other pitfalls/kill-zones, or terrain the monster knows it can move better or fight better in.\n",
      "\n",
      "Examples of Monster Tactics using terrain: [Moose and Dryads,](https://www.youtube.com/watch?v=cCKulrLta8k) [Scorpion Pitfall](https://www.youtube.com/watch?v=GctMlSSwMlw), [MegOctopuss Cavern](https://www.youtube.com/watch?v=N40RIslV5vY)\n",
      "\n",
      "Moving Terrain can be classified as rivers/oceans, landslides, floods, earthquakes, basically anything that keeps the actual ground/water under them in constant motion. This type of terrain tends to work itself out, since it is organic and dangerous by its very nature. But it is still a good idea to have a plan and think of ways to use this environment. The river is moving quickly, so a simple skill challenge to cross, add in some swimming creatures and now you have a very dangerous situation that requires players to plan and really work out.\n",
      "\n",
      "Examples of Moving Terrain: [KoboGnolls at Sea](https://www.youtube.com/watch?v=JTAf58OYoUo), \n",
      "\n",
      "Sometimes it’s Monsters that create Terrain changes. Giants ripping up trees and throwing them, causing damage, and eventually cover/concealment. An Ankheg digging holes/tunnels under player’s feet, a massive leviathan causing a tidal wave. Etc… In these instances you can make the monster’s abilities/tactics tie into the environment to basically create an organic set-piece, caused by the actions of the creature. Fight a Red Dragon in a thick forest? One fire breath now makes a forest an inferno of danger.\n",
      "\n",
      "Some examples of Monsters that cause Terrain changes: [Troll Bridge](https://www.youtube.com/watch?v=cITJbEOqXXM), [Sandworm Plateau](https://www.youtube.com/watch?v=s9IHObatL2U), [Goblin Donkey Kong](https://www.youtube.com/watch?v=_zMte08VlQc)\n",
      "\n",
      "&amp;#x200B;\n",
      "\n",
      "I hope this helps some DMs with not only adding terrain but using it effectively in your own games. it doesn't take much to make a flat combat dynamic, you can use just 1 or multiple techniques from above, the simplest tweak to otherwise mundane combat can make a HUGE difference in fun and drama.\n"
     ]
    }
   ],
   "source": [
    "print(dmacademy_df['text'][1])"
   ]
  },
  {
   "cell_type": "markdown",
   "id": "inner-kenya",
   "metadata": {},
   "source": [
    "The post above showcases many of the examples I was describing before, including several YouTube links and one `&amp;#x200B;`. Let's use some regular expressions to replace these with empty strings."
   ]
  },
  {
   "cell_type": "code",
   "execution_count": 18,
   "id": "sublime-highland",
   "metadata": {},
   "outputs": [
    {
     "data": {
      "text/plain": [
       "'Because this man was part of an invading force. If Russia were occupying our country and all you\\'d already heard stories of torture and murder of innocents, had relatives kicked out of their houses while the military searched for people who weren\\'t there, and heard of entire towns blown up as part of a \"clearing exercise\", you wouldn\\'t blame the invading force instead of just the individual that killed your family?\\n\\nEdit: fixed a typo'"
      ]
     },
     "execution_count": 18,
     "metadata": {},
     "output_type": "execute_result"
    }
   ],
   "source": [
    "poli_dis_2012_df['text'][14]"
   ]
  },
  {
   "cell_type": "markdown",
   "id": "charming-cooperation",
   "metadata": {},
   "source": [
    "Here we have lots of \\n and \\t. "
   ]
  },
  {
   "cell_type": "markdown",
   "id": "emerging-premium",
   "metadata": {},
   "source": [
    "---\n",
    "### Remove links, digits, punctuation, and many other small things "
   ]
  },
  {
   "cell_type": "code",
   "execution_count": 19,
   "id": "alternative-amplifier",
   "metadata": {},
   "outputs": [],
   "source": [
    "# I still have a lot to learn about regular expression and string processing, \n",
    "# so I relied on my classmate Amir and instructor John Hazard to help me with this code!\n",
    "df_list = [dmacademy_df, truezelda_df, poli_dis_2012_df, poli_dis_2020_df]\n",
    "\n",
    "# Iterate over each dataframe\n",
    "for df in df_list:\n",
    "    \n",
    "    # remove links\n",
    "    # https://stackoverflow.com/questions/51994254/removing-url-from-a-column-in-pandas-dataframe/51994366\n",
    "    df.replace('http[s]?://(?:[a-zA-Z]|[0-9]|[$-_@.&+]|[!*\\(\\),]|(?:%[0-9a-fA-F][0-9a-fA-F]))+', ' ', regex=True, inplace=True)\n",
    "    \n",
    "    # remove digits, '&amp;', and forward slashes\n",
    "    # https://stackoverflow.com/questions/41719259/how-to-remove-numbers-from-string-terms-in-a-pandas-dataframe\n",
    "    df.replace('\\d+', '', regex=True, inplace=True) # help from Amir! \n",
    "    df.replace('&amp;', ' ', regex=True, inplace=True)\n",
    "    df.replace('/', ' ', regex=True, inplace=True)\n",
    "    \n",
    "    # remove new line characters\n",
    "    # https://gist.github.com/smram/d6ded3c9028272360eb65bcab564a18a\n",
    "    df.replace(to_replace=[r'\\\\t|\\\\n|\\\\r', '\\t|\\n|\\r'], value=[' ',' '], regex=True, inplace=True)\n",
    "    \n",
    "    # removes punctuation\n",
    "    # From Amir! \n",
    "    df.replace(r'[^a-zA-Z ]\\s?',' ',regex=True, inplace=True)"
   ]
  },
  {
   "cell_type": "code",
   "execution_count": 20,
   "id": "indonesian-memorabilia",
   "metadata": {
    "tags": []
   },
   "outputs": [
    {
     "name": "stdout",
     "output_type": "stream",
     "text": [
      "TERRAIN and using it Effectively  DM Tips  Using terrain Effectively Video     Hey folks I d like to share with you some advice in video and written form on the use of Terrain in your Tabletop RPGs  I see a lot of questions and suggestions on adding terrain to your combats and skill challenges but just plopping down some environment features is not the end of the technique it is the beginning Here I will spell out definitions and techniques for how to actually go about making terrain that is effective and will add drama to your encounters scenes  The official dictionary definition of TERRAIN is a stretch of land especially with regard to its physical features  How that relates to DnD  and other RPG settings in my mind is to redefine Terrain as Anything in a scene or setting that is not a creature  but also sometimes a creature can be a terrain feature      So Terrain in an RPG is not only the swamps treetops bushes boulders weather it is anything and every physical thing in a scene Think of it all connected   HAVE A PLAN Don t just make the terrain a backdrop make it an active force in the encounter  There are  categories of Terrain and some of them can overlap but this gives you a good breakdown of options when creating Terrain and designing encounters     Set Pieces   like scenes from Indiana Jones     Monster tactics and or habitats they can exploit       Terrain that moves   rivers landslides lava wind    or even     Monsters that cause terrain changes   throwing trees carving swaths out of the ground etc  A Set piece is a pre planned situation scenario and or set up that will drastically change the landscape and danger once it triggers Indiana Jones boulder Fast and the Furious car scenes falling bridges explosions pretty much all the action scenes in movies are based off set pieces Something will change the world in a way that makes the protagonist have to act quickly to avoid certain disaster while trying to do something else  Examples of Set pieces  Shark vs Rowboat    Goblin Bridge     Zombie Shark and Drow Escape    Monster Tactics that use terrain and their natural habitat defenses This is where you plan your environment and the creatures enemies in it to their own advantage Goblins know to attack then retreat behind walls for full cover a chameleon stays in the trees to avoid detection luring players into traps or other pitfalls kill zones or terrain the monster knows it can move better or fight better in  Examples of Monster Tactics using terrain  Moose and Dryads     Scorpion Pitfall    MegOctopuss Cavern    Moving Terrain can be classified as rivers oceans landslides floods earthquakes basically anything that keeps the actual ground water under them in constant motion This type of terrain tends to work itself out since it is organic and dangerous by its very nature But it is still a good idea to have a plan and think of ways to use this environment The river is moving quickly so a simple skill challenge to cross add in some swimming creatures and now you have a very dangerous situation that requires players to plan and really work out  Examples of Moving Terrain  KoboGnolls at Sea     Sometimes it s Monsters that create Terrain changes Giants ripping up trees and throwing them causing damage and eventually cover concealment An Ankheg digging holes tunnels under player s feet a massive leviathan causing a tidal wave Etc In these instances you can make the monster s abilities tactics tie into the environment to basically create an organic set piece caused by the actions of the creature Fight a Red Dragon in a thick forest One fire breath now makes a forest an inferno of danger  Some examples of Monsters that cause Terrain changes  Troll Bridge    Sandworm Plateau    Goblin Donkey Kong      xB  I hope this helps some DMs with not only adding terrain but using it effectively in your own games it doesn t take much to make a flat combat dynamic you can use just  or multiple techniques from above the simplest tweak to otherwise mundane combat can make a HUGE difference in fun and drama \n"
     ]
    }
   ],
   "source": [
    "print(dmacademy_df['text'][1])"
   ]
  },
  {
   "cell_type": "code",
   "execution_count": 21,
   "id": "electoral-athens",
   "metadata": {},
   "outputs": [
    {
     "data": {
      "text/plain": [
       "'Because this man was part of an invading force If Russia were occupying our country and all you d already heard stories of torture and murder of innocents had relatives kicked out of their houses while the military searched for people who weren t there and heard of entire towns blown up as part of a  clearing exercise  you wouldn t blame the invading force instead of just the individual that killed your family  Edit fixed a typo'"
      ]
     },
     "execution_count": 21,
     "metadata": {},
     "output_type": "execute_result"
    }
   ],
   "source": [
    "poli_dis_2012_df['text'][14]"
   ]
  },
  {
   "cell_type": "markdown",
   "id": "aging-silly",
   "metadata": {},
   "source": [
    "This may not be a perfect job but it looks MUCH better! "
   ]
  },
  {
   "cell_type": "markdown",
   "id": "welsh-context",
   "metadata": {},
   "source": [
    "---\n",
    "### Save processed data for modeling"
   ]
  },
  {
   "cell_type": "code",
   "execution_count": 23,
   "id": "plastic-string",
   "metadata": {},
   "outputs": [],
   "source": [
    "dmacademy_df.to_csv('../data/clean_dmacademy.csv', index=False)\n",
    "truezelda_df.to_csv('../data/clean_truezelda.csv', index=False)\n",
    "\n",
    "poli_dis_2012_df.to_csv('../data/clean_poli_dis_2012.csv', index=False)\n",
    "poli_dis_2020_df.to_csv('../data/clean_poli_dis_2020.csv', index=False)"
   ]
  },
  {
   "cell_type": "code",
   "execution_count": 24,
   "id": "dying-album",
   "metadata": {},
   "outputs": [
    {
     "data": {
      "text/plain": [
       "subreddit    0\n",
       "text         0\n",
       "dtype: int64"
      ]
     },
     "execution_count": 24,
     "metadata": {},
     "output_type": "execute_result"
    }
   ],
   "source": [
    "poli_dis_2012_df.isnull().sum()"
   ]
  },
  {
   "cell_type": "code",
   "execution_count": 25,
   "id": "rotary-tokyo",
   "metadata": {},
   "outputs": [
    {
     "data": {
      "text/plain": [
       "subreddit    0\n",
       "text         0\n",
       "dtype: int64"
      ]
     },
     "execution_count": 25,
     "metadata": {},
     "output_type": "execute_result"
    }
   ],
   "source": [
    "poli_dis_2020_df.isnull().sum()"
   ]
  },
  {
   "cell_type": "markdown",
   "id": "spiritual-grace",
   "metadata": {},
   "source": [
    "---\n",
    "### Map our target variable to integer values"
   ]
  },
  {
   "cell_type": "code",
   "execution_count": 22,
   "id": "suspected-warrant",
   "metadata": {},
   "outputs": [
    {
     "ename": "NameError",
     "evalue": "name 'text_df' is not defined",
     "output_type": "error",
     "traceback": [
      "\u001b[1;31m---------------------------------------------------------------------------\u001b[0m",
      "\u001b[1;31mNameError\u001b[0m                                 Traceback (most recent call last)",
      "\u001b[1;32m<ipython-input-22-364ff00f3b2d>\u001b[0m in \u001b[0;36m<module>\u001b[1;34m\u001b[0m\n\u001b[1;32m----> 1\u001b[1;33m \u001b[0mtext_df\u001b[0m\u001b[1;33m.\u001b[0m\u001b[0mdtypes\u001b[0m\u001b[1;33m\u001b[0m\u001b[1;33m\u001b[0m\u001b[0m\n\u001b[0m",
      "\u001b[1;31mNameError\u001b[0m: name 'text_df' is not defined"
     ]
    }
   ],
   "source": [
    "text_df.dtypes"
   ]
  },
  {
   "cell_type": "code",
   "execution_count": null,
   "id": "elegant-mailman",
   "metadata": {},
   "outputs": [],
   "source": [
    "text_df['subreddit']"
   ]
  },
  {
   "cell_type": "code",
   "execution_count": null,
   "id": "noted-medicare",
   "metadata": {},
   "outputs": [],
   "source": [
    "# this step is optional\n",
    "#text_df['subreddit'] = text_df['subreddit'].map({'truezelda':1,'DMAcademy':0})"
   ]
  },
  {
   "cell_type": "code",
   "execution_count": null,
   "id": "seven-earthquake",
   "metadata": {},
   "outputs": [],
   "source": [
    "text_df['subreddit']"
   ]
  },
  {
   "cell_type": "code",
   "execution_count": null,
   "id": "extensive-contact",
   "metadata": {},
   "outputs": [],
   "source": []
  },
  {
   "cell_type": "markdown",
   "id": "fossil-photograph",
   "metadata": {},
   "source": [
    "Now we're ready to move on to notebook 3, creating a model to predict which subreddit a post came from!"
   ]
  },
  {
   "cell_type": "code",
   "execution_count": null,
   "id": "advance-washer",
   "metadata": {},
   "outputs": [],
   "source": []
  }
 ],
 "metadata": {
  "kernelspec": {
   "display_name": "Python 3",
   "language": "python",
   "name": "python3"
  },
  "language_info": {
   "codemirror_mode": {
    "name": "ipython",
    "version": 3
   },
   "file_extension": ".py",
   "mimetype": "text/x-python",
   "name": "python",
   "nbconvert_exporter": "python",
   "pygments_lexer": "ipython3",
   "version": "3.9.2"
  }
 },
 "nbformat": 4,
 "nbformat_minor": 5
}
