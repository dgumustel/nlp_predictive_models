{
 "cells": [
  {
   "cell_type": "markdown",
   "id": "circular-vienna",
   "metadata": {},
   "source": [
    "# Text Cleaning\n",
    "---"
   ]
  },
  {
   "cell_type": "markdown",
   "id": "expensive-signal",
   "metadata": {},
   "source": [
    "### This notebook accomplishes the following:\n",
    "\n",
    "\n",
    "---"
   ]
  },
  {
   "cell_type": "code",
   "execution_count": 40,
   "id": "conditional-singing",
   "metadata": {},
   "outputs": [],
   "source": [
    "# Imports\n",
    "import pandas as pd\n",
    "import numpy as np"
   ]
  },
  {
   "cell_type": "markdown",
   "id": "educational-software",
   "metadata": {},
   "source": [
    "### Read in the data files"
   ]
  },
  {
   "cell_type": "code",
   "execution_count": 41,
   "id": "headed-jimmy",
   "metadata": {},
   "outputs": [],
   "source": [
    "dmacademy_df = pd.read_csv('../data/dmacademy.csv')\n",
    "truezelda_df = pd.read_csv('../data/truezelda.csv')"
   ]
  },
  {
   "cell_type": "code",
   "execution_count": 42,
   "id": "figured-violation",
   "metadata": {},
   "outputs": [
    {
     "data": {
      "text/plain": [
       "5000"
      ]
     },
     "execution_count": 42,
     "metadata": {},
     "output_type": "execute_result"
    }
   ],
   "source": [
    "dmacademy_df['full_link'].nunique()"
   ]
  },
  {
   "cell_type": "code",
   "execution_count": 43,
   "id": "common-railway",
   "metadata": {},
   "outputs": [
    {
     "data": {
      "text/plain": [
       "4996"
      ]
     },
     "execution_count": 43,
     "metadata": {},
     "output_type": "execute_result"
    }
   ],
   "source": [
    "truezelda_df['full_link'].nunique()"
   ]
  },
  {
   "cell_type": "code",
   "execution_count": 44,
   "id": "behind-johnson",
   "metadata": {},
   "outputs": [],
   "source": [
    "# frames = [dmacademy_df, truezelda_df]\n",
    "# master_df = pd.concat(frames)"
   ]
  },
  {
   "cell_type": "code",
   "execution_count": 45,
   "id": "sweet-bunny",
   "metadata": {},
   "outputs": [
    {
     "data": {
      "text/html": [
       "<div>\n",
       "<style scoped>\n",
       "    .dataframe tbody tr th:only-of-type {\n",
       "        vertical-align: middle;\n",
       "    }\n",
       "\n",
       "    .dataframe tbody tr th {\n",
       "        vertical-align: top;\n",
       "    }\n",
       "\n",
       "    .dataframe thead th {\n",
       "        text-align: right;\n",
       "    }\n",
       "</style>\n",
       "<table border=\"1\" class=\"dataframe\">\n",
       "  <thead>\n",
       "    <tr style=\"text-align: right;\">\n",
       "      <th></th>\n",
       "      <th>all_awardings</th>\n",
       "      <th>allow_live_comments</th>\n",
       "      <th>author</th>\n",
       "      <th>author_flair_css_class</th>\n",
       "      <th>author_flair_richtext</th>\n",
       "      <th>author_flair_text</th>\n",
       "      <th>author_flair_type</th>\n",
       "      <th>author_fullname</th>\n",
       "      <th>author_patreon_flair</th>\n",
       "      <th>author_premium</th>\n",
       "      <th>...</th>\n",
       "      <th>link_flair_css_class</th>\n",
       "      <th>post_hint</th>\n",
       "      <th>preview</th>\n",
       "      <th>author_flair_background_color</th>\n",
       "      <th>author_flair_text_color</th>\n",
       "      <th>removed_by_category</th>\n",
       "      <th>gilded</th>\n",
       "      <th>author_cakeday</th>\n",
       "      <th>suggested_sort</th>\n",
       "      <th>banned_by</th>\n",
       "    </tr>\n",
       "  </thead>\n",
       "  <tbody>\n",
       "    <tr>\n",
       "      <th>0</th>\n",
       "      <td>[]</td>\n",
       "      <td>False</td>\n",
       "      <td>Vashael</td>\n",
       "      <td>NaN</td>\n",
       "      <td>[]</td>\n",
       "      <td>NaN</td>\n",
       "      <td>text</td>\n",
       "      <td>t2_7p5eovfe</td>\n",
       "      <td>False</td>\n",
       "      <td>False</td>\n",
       "      <td>...</td>\n",
       "      <td>NaN</td>\n",
       "      <td>NaN</td>\n",
       "      <td>NaN</td>\n",
       "      <td>NaN</td>\n",
       "      <td>NaN</td>\n",
       "      <td>NaN</td>\n",
       "      <td>NaN</td>\n",
       "      <td>NaN</td>\n",
       "      <td>NaN</td>\n",
       "      <td>NaN</td>\n",
       "    </tr>\n",
       "    <tr>\n",
       "      <th>1</th>\n",
       "      <td>[]</td>\n",
       "      <td>False</td>\n",
       "      <td>Atarihero76</td>\n",
       "      <td>NaN</td>\n",
       "      <td>[]</td>\n",
       "      <td>NaN</td>\n",
       "      <td>text</td>\n",
       "      <td>t2_48oeurxu</td>\n",
       "      <td>False</td>\n",
       "      <td>False</td>\n",
       "      <td>...</td>\n",
       "      <td>Guide</td>\n",
       "      <td>self</td>\n",
       "      <td>{'enabled': False, 'images': [{'id': '9XSNOgfA...</td>\n",
       "      <td>NaN</td>\n",
       "      <td>NaN</td>\n",
       "      <td>NaN</td>\n",
       "      <td>NaN</td>\n",
       "      <td>NaN</td>\n",
       "      <td>NaN</td>\n",
       "      <td>NaN</td>\n",
       "    </tr>\n",
       "    <tr>\n",
       "      <th>2</th>\n",
       "      <td>[]</td>\n",
       "      <td>False</td>\n",
       "      <td>JethroBuldean</td>\n",
       "      <td>NaN</td>\n",
       "      <td>[]</td>\n",
       "      <td>NaN</td>\n",
       "      <td>text</td>\n",
       "      <td>t2_1plx2r4z</td>\n",
       "      <td>False</td>\n",
       "      <td>False</td>\n",
       "      <td>...</td>\n",
       "      <td>NaN</td>\n",
       "      <td>NaN</td>\n",
       "      <td>NaN</td>\n",
       "      <td>NaN</td>\n",
       "      <td>NaN</td>\n",
       "      <td>NaN</td>\n",
       "      <td>NaN</td>\n",
       "      <td>NaN</td>\n",
       "      <td>NaN</td>\n",
       "      <td>NaN</td>\n",
       "    </tr>\n",
       "    <tr>\n",
       "      <th>3</th>\n",
       "      <td>[]</td>\n",
       "      <td>False</td>\n",
       "      <td>Mechaaniac</td>\n",
       "      <td>NaN</td>\n",
       "      <td>[]</td>\n",
       "      <td>NaN</td>\n",
       "      <td>text</td>\n",
       "      <td>t2_a04c8tpe</td>\n",
       "      <td>False</td>\n",
       "      <td>False</td>\n",
       "      <td>...</td>\n",
       "      <td>NaN</td>\n",
       "      <td>NaN</td>\n",
       "      <td>NaN</td>\n",
       "      <td>NaN</td>\n",
       "      <td>NaN</td>\n",
       "      <td>NaN</td>\n",
       "      <td>NaN</td>\n",
       "      <td>NaN</td>\n",
       "      <td>NaN</td>\n",
       "      <td>NaN</td>\n",
       "    </tr>\n",
       "    <tr>\n",
       "      <th>4</th>\n",
       "      <td>[]</td>\n",
       "      <td>False</td>\n",
       "      <td>Hungerforhuman</td>\n",
       "      <td>NaN</td>\n",
       "      <td>[]</td>\n",
       "      <td>NaN</td>\n",
       "      <td>text</td>\n",
       "      <td>t2_a2ouksrx</td>\n",
       "      <td>False</td>\n",
       "      <td>False</td>\n",
       "      <td>...</td>\n",
       "      <td>NaN</td>\n",
       "      <td>NaN</td>\n",
       "      <td>NaN</td>\n",
       "      <td>NaN</td>\n",
       "      <td>NaN</td>\n",
       "      <td>NaN</td>\n",
       "      <td>NaN</td>\n",
       "      <td>NaN</td>\n",
       "      <td>NaN</td>\n",
       "      <td>NaN</td>\n",
       "    </tr>\n",
       "    <tr>\n",
       "      <th>...</th>\n",
       "      <td>...</td>\n",
       "      <td>...</td>\n",
       "      <td>...</td>\n",
       "      <td>...</td>\n",
       "      <td>...</td>\n",
       "      <td>...</td>\n",
       "      <td>...</td>\n",
       "      <td>...</td>\n",
       "      <td>...</td>\n",
       "      <td>...</td>\n",
       "      <td>...</td>\n",
       "      <td>...</td>\n",
       "      <td>...</td>\n",
       "      <td>...</td>\n",
       "      <td>...</td>\n",
       "      <td>...</td>\n",
       "      <td>...</td>\n",
       "      <td>...</td>\n",
       "      <td>...</td>\n",
       "      <td>...</td>\n",
       "      <td>...</td>\n",
       "    </tr>\n",
       "    <tr>\n",
       "      <th>4995</th>\n",
       "      <td>[]</td>\n",
       "      <td>False</td>\n",
       "      <td>AngelsJos</td>\n",
       "      <td>NaN</td>\n",
       "      <td>[]</td>\n",
       "      <td>NaN</td>\n",
       "      <td>text</td>\n",
       "      <td>t2_9571c28u</td>\n",
       "      <td>False</td>\n",
       "      <td>True</td>\n",
       "      <td>...</td>\n",
       "      <td>NaN</td>\n",
       "      <td>NaN</td>\n",
       "      <td>NaN</td>\n",
       "      <td>NaN</td>\n",
       "      <td>NaN</td>\n",
       "      <td>NaN</td>\n",
       "      <td>NaN</td>\n",
       "      <td>NaN</td>\n",
       "      <td>NaN</td>\n",
       "      <td>NaN</td>\n",
       "    </tr>\n",
       "    <tr>\n",
       "      <th>4996</th>\n",
       "      <td>[]</td>\n",
       "      <td>False</td>\n",
       "      <td>Light_of_Avalon</td>\n",
       "      <td>NaN</td>\n",
       "      <td>[]</td>\n",
       "      <td>NaN</td>\n",
       "      <td>text</td>\n",
       "      <td>t2_871qw</td>\n",
       "      <td>False</td>\n",
       "      <td>False</td>\n",
       "      <td>...</td>\n",
       "      <td>NaN</td>\n",
       "      <td>NaN</td>\n",
       "      <td>NaN</td>\n",
       "      <td>NaN</td>\n",
       "      <td>NaN</td>\n",
       "      <td>NaN</td>\n",
       "      <td>NaN</td>\n",
       "      <td>NaN</td>\n",
       "      <td>NaN</td>\n",
       "      <td>NaN</td>\n",
       "    </tr>\n",
       "    <tr>\n",
       "      <th>4997</th>\n",
       "      <td>[]</td>\n",
       "      <td>False</td>\n",
       "      <td>Randoff-Runemaker</td>\n",
       "      <td>NaN</td>\n",
       "      <td>[]</td>\n",
       "      <td>NaN</td>\n",
       "      <td>text</td>\n",
       "      <td>t2_ab1yxy0e</td>\n",
       "      <td>False</td>\n",
       "      <td>False</td>\n",
       "      <td>...</td>\n",
       "      <td>NaN</td>\n",
       "      <td>NaN</td>\n",
       "      <td>NaN</td>\n",
       "      <td>NaN</td>\n",
       "      <td>NaN</td>\n",
       "      <td>NaN</td>\n",
       "      <td>NaN</td>\n",
       "      <td>NaN</td>\n",
       "      <td>NaN</td>\n",
       "      <td>NaN</td>\n",
       "    </tr>\n",
       "    <tr>\n",
       "      <th>4998</th>\n",
       "      <td>[]</td>\n",
       "      <td>False</td>\n",
       "      <td>Shatyel</td>\n",
       "      <td>NaN</td>\n",
       "      <td>[]</td>\n",
       "      <td>NaN</td>\n",
       "      <td>text</td>\n",
       "      <td>t2_1v4sccw1</td>\n",
       "      <td>False</td>\n",
       "      <td>False</td>\n",
       "      <td>...</td>\n",
       "      <td>NaN</td>\n",
       "      <td>NaN</td>\n",
       "      <td>NaN</td>\n",
       "      <td>NaN</td>\n",
       "      <td>NaN</td>\n",
       "      <td>NaN</td>\n",
       "      <td>NaN</td>\n",
       "      <td>NaN</td>\n",
       "      <td>NaN</td>\n",
       "      <td>NaN</td>\n",
       "    </tr>\n",
       "    <tr>\n",
       "      <th>4999</th>\n",
       "      <td>[]</td>\n",
       "      <td>False</td>\n",
       "      <td>casualaudience</td>\n",
       "      <td>NaN</td>\n",
       "      <td>[]</td>\n",
       "      <td>NaN</td>\n",
       "      <td>text</td>\n",
       "      <td>t2_2jjmhv7b</td>\n",
       "      <td>False</td>\n",
       "      <td>False</td>\n",
       "      <td>...</td>\n",
       "      <td>NaN</td>\n",
       "      <td>NaN</td>\n",
       "      <td>NaN</td>\n",
       "      <td>NaN</td>\n",
       "      <td>NaN</td>\n",
       "      <td>NaN</td>\n",
       "      <td>NaN</td>\n",
       "      <td>NaN</td>\n",
       "      <td>NaN</td>\n",
       "      <td>NaN</td>\n",
       "    </tr>\n",
       "  </tbody>\n",
       "</table>\n",
       "<p>5000 rows × 70 columns</p>\n",
       "</div>"
      ],
      "text/plain": [
       "     all_awardings  allow_live_comments             author  \\\n",
       "0               []                False            Vashael   \n",
       "1               []                False        Atarihero76   \n",
       "2               []                False      JethroBuldean   \n",
       "3               []                False         Mechaaniac   \n",
       "4               []                False     Hungerforhuman   \n",
       "...            ...                  ...                ...   \n",
       "4995            []                False          AngelsJos   \n",
       "4996            []                False    Light_of_Avalon   \n",
       "4997            []                False  Randoff-Runemaker   \n",
       "4998            []                False            Shatyel   \n",
       "4999            []                False     casualaudience   \n",
       "\n",
       "     author_flair_css_class author_flair_richtext author_flair_text  \\\n",
       "0                       NaN                    []               NaN   \n",
       "1                       NaN                    []               NaN   \n",
       "2                       NaN                    []               NaN   \n",
       "3                       NaN                    []               NaN   \n",
       "4                       NaN                    []               NaN   \n",
       "...                     ...                   ...               ...   \n",
       "4995                    NaN                    []               NaN   \n",
       "4996                    NaN                    []               NaN   \n",
       "4997                    NaN                    []               NaN   \n",
       "4998                    NaN                    []               NaN   \n",
       "4999                    NaN                    []               NaN   \n",
       "\n",
       "     author_flair_type author_fullname author_patreon_flair author_premium  \\\n",
       "0                 text     t2_7p5eovfe                False          False   \n",
       "1                 text     t2_48oeurxu                False          False   \n",
       "2                 text     t2_1plx2r4z                False          False   \n",
       "3                 text     t2_a04c8tpe                False          False   \n",
       "4                 text     t2_a2ouksrx                False          False   \n",
       "...                ...             ...                  ...            ...   \n",
       "4995              text     t2_9571c28u                False           True   \n",
       "4996              text        t2_871qw                False          False   \n",
       "4997              text     t2_ab1yxy0e                False          False   \n",
       "4998              text     t2_1v4sccw1                False          False   \n",
       "4999              text     t2_2jjmhv7b                False          False   \n",
       "\n",
       "      ... link_flair_css_class  post_hint  \\\n",
       "0     ...                  NaN        NaN   \n",
       "1     ...                Guide       self   \n",
       "2     ...                  NaN        NaN   \n",
       "3     ...                  NaN        NaN   \n",
       "4     ...                  NaN        NaN   \n",
       "...   ...                  ...        ...   \n",
       "4995  ...                  NaN        NaN   \n",
       "4996  ...                  NaN        NaN   \n",
       "4997  ...                  NaN        NaN   \n",
       "4998  ...                  NaN        NaN   \n",
       "4999  ...                  NaN        NaN   \n",
       "\n",
       "                                                preview  \\\n",
       "0                                                   NaN   \n",
       "1     {'enabled': False, 'images': [{'id': '9XSNOgfA...   \n",
       "2                                                   NaN   \n",
       "3                                                   NaN   \n",
       "4                                                   NaN   \n",
       "...                                                 ...   \n",
       "4995                                                NaN   \n",
       "4996                                                NaN   \n",
       "4997                                                NaN   \n",
       "4998                                                NaN   \n",
       "4999                                                NaN   \n",
       "\n",
       "      author_flair_background_color author_flair_text_color  \\\n",
       "0                               NaN                     NaN   \n",
       "1                               NaN                     NaN   \n",
       "2                               NaN                     NaN   \n",
       "3                               NaN                     NaN   \n",
       "4                               NaN                     NaN   \n",
       "...                             ...                     ...   \n",
       "4995                            NaN                     NaN   \n",
       "4996                            NaN                     NaN   \n",
       "4997                            NaN                     NaN   \n",
       "4998                            NaN                     NaN   \n",
       "4999                            NaN                     NaN   \n",
       "\n",
       "      removed_by_category gilded author_cakeday suggested_sort  banned_by  \n",
       "0                     NaN    NaN            NaN            NaN        NaN  \n",
       "1                     NaN    NaN            NaN            NaN        NaN  \n",
       "2                     NaN    NaN            NaN            NaN        NaN  \n",
       "3                     NaN    NaN            NaN            NaN        NaN  \n",
       "4                     NaN    NaN            NaN            NaN        NaN  \n",
       "...                   ...    ...            ...            ...        ...  \n",
       "4995                  NaN    NaN            NaN            NaN        NaN  \n",
       "4996                  NaN    NaN            NaN            NaN        NaN  \n",
       "4997                  NaN    NaN            NaN            NaN        NaN  \n",
       "4998                  NaN    NaN            NaN            NaN        NaN  \n",
       "4999                  NaN    NaN            NaN            NaN        NaN  \n",
       "\n",
       "[5000 rows x 70 columns]"
      ]
     },
     "execution_count": 45,
     "metadata": {},
     "output_type": "execute_result"
    }
   ],
   "source": [
    "dmacademy_df"
   ]
  },
  {
   "cell_type": "markdown",
   "id": "three-italian",
   "metadata": {},
   "source": [
    "### Isolate the subreddit, title, and selftext columns in a new dataframe"
   ]
  },
  {
   "cell_type": "code",
   "execution_count": 47,
   "id": "friendly-diana",
   "metadata": {},
   "outputs": [],
   "source": [
    "dmacademy_text_df = dmacademy_df[['subreddit', 'title', 'selftext']].copy()"
   ]
  },
  {
   "cell_type": "code",
   "execution_count": 52,
   "id": "prime-seventh",
   "metadata": {
    "tags": []
   },
   "outputs": [
    {
     "name": "stdout",
     "output_type": "stream",
     "text": [
      "**Edit (UPDATE): Thank you for the robust response! I've had some great applications so far and I'm hyped for the conversations we will have. I am currently going through interview applications and preparing to send out follow-ups. Thanks for your patience.**\n",
      "\n",
      "Hello, seasoned dungeon masters!\n",
      "\n",
      "I'm Nick, the host of an upcoming GM interview podcast, and I want to talk with you on my show! Isn't it about time your epic campaign gets shared with the TTRPG community?\n",
      "\n",
      "I want you, the non-celebrity GM (or hidden GM, if you will), to share your stories and wisdom with the community. I think we, as a community, have something to learn from your experience behind the GM screen.\n",
      "\n",
      "What makes this podcast really fun is that we'll be getting your wisdom out there to other GMs just like you. This is the outlet you've been waiting for to talk about the campaign you poured your heart and soul into. I know how painful it is to keep all the cool secrets of your campaign and hidden lore from your PCs. My heart is always telling me to spill the beans, even when my mind knows better. So, instead of bottling up all your cool secrets for months or years, let's share them with our listeners!\n",
      "\n",
      "Before you apply, please make sure you have:\n",
      "\n",
      "a successful and interesting campaign you want to talk about\n",
      "\n",
      "a decent mic or headset\n",
      "\n",
      "a desire to share your creation with our community\n",
      "\n",
      "Please message me if you want to book an interview. You can also submit an interview app on the subreddit /r/HiddenGMsPodcast or click the \"Apply for an interview\" button on the website: HiddenGMsPodcast.com\n",
      "\n",
      "Thanks for your time, Nick\n"
     ]
    }
   ],
   "source": [
    "for row in dm_text_df['selftext'][:1]:\n",
    "    print(row)"
   ]
  },
  {
   "cell_type": "markdown",
   "id": "infinite-tension",
   "metadata": {},
   "source": [
    "### Remove digits, punctuation, and other small things "
   ]
  },
  {
   "cell_type": "code",
   "execution_count": 39,
   "id": "dimensional-amazon",
   "metadata": {},
   "outputs": [
    {
     "name": "stderr",
     "output_type": "stream",
     "text": [
      "<ipython-input-39-407c045b23e8>:3: FutureWarning: The default value of regex will change from True to False in a future version.\n",
      "  dm_text_df['selftext'] = dm_text_df['selftext'].str.replace('\\d+', '') # help from Amir!\n",
      "<ipython-input-39-407c045b23e8>:5: FutureWarning: The default value of regex will change from True to False in a future version.\n",
      "  dm_text_df['selftext'] = dm_text_df['selftext'].str.replace('\\(https:\\/\\/www.youtube.com\\/watch\\?v=...........\\)', '')\n"
     ]
    }
   ],
   "source": [
    "# https://stackoverflow.com/questions/41719259/how-to-remove-numbers-from-string-terms-in-a-pandas-dataframe\n",
    "import re\n",
    "dm_text_df['selftext'] = dm_text_df['selftext'].str.replace('\\d+', '') # help from Amir! \n",
    "dm_text_df['selftext'] = dm_text_df['selftext'].str.replace('&amp;', '') # could replace with 'and'\n",
    "dm_text_df['selftext'] = dm_text_df['selftext'].str.replace('\\(https:\\/\\/www.youtube.com\\/watch\\?v=...........\\)', '')\n",
    "#https://stackoverflow.com/questions/44227748/removing-newlines-from-messy-strings-in-pandas-dataframe-cells\n",
    "dm_text_df.replace(to_replace=[r\"\\\\t|\\\\n|\\\\r\", \"\\t|\\n|\\r\"], value=[\" \",\" \"], regex=True, inplace=True) \n",
    "\n",
    "\n",
    "#text_df['selftext'] = text_df['selftext'].str.replace(r'^https?:\\/\\/.*[\\r\\n]*', '')\n",
    "\n",
    "# String alphaOnly = input.replaceAll(\"[^a-zA-Z]+\",\"\");\n",
    "# String alphaAndDigits = input.replaceAll(\"[^a-zA-Z0-9]+\",\"\");\n",
    "\n",
    "# https://stackoverflow.com/questions/11331982/how-to-remove-any-url-within-a-string-in-python/11332580\n",
    "\n",
    "#text = re.sub(r'^https?:\\/\\/.*[\\r\\n]*', '', text, flags=re.MULTILINE)"
   ]
  },
  {
   "cell_type": "code",
   "execution_count": 10,
   "id": "interpreted-difficulty",
   "metadata": {
    "collapsed": true,
    "jupyter": {
     "outputs_hidden": true
    },
    "tags": []
   },
   "outputs": [
    {
     "name": "stdout",
     "output_type": "stream",
     "text": [
      "**Edit (UPDATE): Thank you for the robust response! I've had some great applications so far and I'm hyped for the conversations we will have. I am currently going through interview applications and preparing to send out follow-ups. Thanks for your patience.**  Hello, seasoned dungeon masters!  I'm Nick, the host of an upcoming GM interview podcast, and I want to talk with you on my show! Isn't it about time your epic campaign gets shared with the TTRPG community?  I want you, the non-celebrity GM (or hidden GM, if you will), to share your stories and wisdom with the community. I think we, as a community, have something to learn from your experience behind the GM screen.  What makes this podcast really fun is that we'll be getting your wisdom out there to other GMs just like you. This is the outlet you've been waiting for to talk about the campaign you poured your heart and soul into. I know how painful it is to keep all the cool secrets of your campaign and hidden lore from your PCs. My heart is always telling me to spill the beans, even when my mind knows better. So, instead of bottling up all your cool secrets for months or years, let's share them with our listeners!  Before you apply, please make sure you have:  a successful and interesting campaign you want to talk about  a decent mic or headset  a desire to share your creation with our community  Please message me if you want to book an interview. You can also submit an interview app on the subreddit /r/HiddenGMsPodcast or click the \"Apply for an interview\" button on the website: HiddenGMsPodcast.com  Thanks for your time, Nick\n",
      "TERRAIN, and using it Effectively – DM Tips  Using terrain Effectively Video:  [https://youtu.be/AnpNtWTIXQ](https://youtu.be/AnpNtWTIXQ)  Hey folks, I’d like to share with you some advice, in video and written form, on the use of Terrain in your Tabletop RPGs.  I see a lot of questions and suggestions on adding terrain to your combats and skill challenges, but just plopping down some environment features is not the end of the technique, it is the beginning. Here I will spell out definitions and techniques for how to actually go about making terrain that is effective and will add drama to your encounters/scenes.  The official dictionary definition of TERRAIN is: a stretch of land, especially with regard to its physical features  How that relates to DnD (and other RPG settings) in my mind, is to redefine Terrain as: Anything in a scene or setting that is not a creature, (but also sometimes a creature can be a terrain feature...).  So Terrain in an RPG is not only the swamps, treetops, bushes, boulders, weather, it is anything and every physical thing in a scene, Think of it all connected.   HAVE A PLAN! Don’t just make the terrain a backdrop, make it an active force in the encounter.  There are  categories of Terrain, and some of them can overlap, but this gives you a good breakdown of options when creating Terrain and designing encounters:   **Set Pieces**, like scenes from Indiana Jones,   **Monster tactics and/or habitats they can exploit**,   **Terrain that moves** (rivers, landslides, lava, wind),   or even   **Monsters that cause terrain changes**, throwing trees, carving swaths out of the ground, etc…  A Set-piece is a pre-planned situation, scenario, and/or set-up, that will drastically change the landscape and danger once it triggers. Indiana Jones boulder, Fast and the Furious car scenes, falling bridges, explosions, pretty much all the action scenes in movies are based off set-pieces. Something will change the world in a way that makes the protagonist have to act quickly to avoid certain disaster, while trying to do something else.  Examples of Set-pieces: [Shark vs Rowboat](https://www.youtube.com/watch?v=c-xQejBfI), [Goblin Bridge](https://www.youtube.com/watch?v=rrhPASrU),  [Zombie Shark and Drow Escape](https://www.youtube.com/watch?v=goyXZOPWqI)  Monster Tactics that use terrain and their natural habitat/defenses. This is where you plan your environment and the creatures/enemies in it to their own advantage. Goblins know to attack then retreat behind walls for full cover, a chameleon stays in the trees to avoid detection, luring players into traps, or other pitfalls/kill-zones, or terrain the monster knows it can move better or fight better in.  Examples of Monster Tactics using terrain: [Moose and Dryads,](https://www.youtube.com/watch?v=cCKulrLtak) [Scorpion Pitfall], [MegOctopuss Cavern](https://www.youtube.com/watch?v=NRIslVvY)  Moving Terrain can be classified as rivers/oceans, landslides, floods, earthquakes, basically anything that keeps the actual ground/water under them in constant motion. This type of terrain tends to work itself out, since it is organic and dangerous by its very nature. But it is still a good idea to have a plan and think of ways to use this environment. The river is moving quickly, so a simple skill challenge to cross, add in some swimming creatures and now you have a very dangerous situation that requires players to plan and really work out.  Examples of Moving Terrain: [KoboGnolls at Sea](https://www.youtube.com/watch?v=JTAfOYoUo),   Sometimes it’s Monsters that create Terrain changes. Giants ripping up trees and throwing them, causing damage, and eventually cover/concealment. An Ankheg digging holes/tunnels under player’s feet, a massive leviathan causing a tidal wave. Etc… In these instances you can make the monster’s abilities/tactics tie into the environment to basically create an organic set-piece, caused by the actions of the creature. Fight a Red Dragon in a thick forest? One fire breath now makes a forest an inferno of danger.  Some examples of Monsters that cause Terrain changes: [Troll Bridge], [Sandworm Plateau](https://www.youtube.com/watch?v=sIHObatLU), [Goblin Donkey Kong](https://www.youtube.com/watch?v=_zMteVlQc)  #xB;  I hope this helps some DMs with not only adding terrain but using it effectively in your own games. it doesn't take much to make a flat combat dynamic, you can use just  or multiple techniques from above, the simplest tweak to otherwise mundane combat can make a HUGE difference in fun and drama.\n",
      "The players are planning on dropping an evil artefact contained in a lead box into the middle of the ocean, but one player is still wanting it as it provides information in exchange for information. If the player took Keen Mind feat, would they know exactly where is was dumped, RAW? Or would another feat or help them know where it was?\n",
      "I am running a campaign for all intents and purposes is fantasy ww and want to run basic training as the first session as an intro and a way to get to know the party and others they'll be fighting along side. I have a few ideas of how to do but need some inspiration.\n",
      "Hey just a newbie DM .My sessions are usually - hours long .When would be the time to take breaks and how long should they be ?\n"
     ]
    }
   ],
   "source": [
    "for row in text_df['selftext'][:5]:\n",
    "    print(row)"
   ]
  },
  {
   "cell_type": "code",
   "execution_count": 11,
   "id": "bound-spending",
   "metadata": {},
   "outputs": [
    {
     "data": {
      "text/plain": [
       "9899"
      ]
     },
     "execution_count": 11,
     "metadata": {},
     "output_type": "execute_result"
    }
   ],
   "source": [
    "text_df['title'].nunique()"
   ]
  },
  {
   "cell_type": "code",
   "execution_count": 12,
   "id": "colonial-federation",
   "metadata": {},
   "outputs": [
    {
     "data": {
      "text/plain": [
       "8942"
      ]
     },
     "execution_count": 12,
     "metadata": {},
     "output_type": "execute_result"
    }
   ],
   "source": [
    "text_df['selftext'].nunique()"
   ]
  },
  {
   "cell_type": "markdown",
   "id": "induced-morning",
   "metadata": {},
   "source": [
    "### Check for null values\n",
    "Some posts are title-only, meaning the selftext column contains a null value. We don't want to pass any nulls to our models, so we can replace nulls with empty strings. \n",
    "\n",
    "Again, this is why it's important that we chose text-heavy subreddits in our data collection. If we chose subreddits where most posts contained images or links to other websites, then we would have more null values and less text, leading to our models being less informed. I'm comfortable with the small amount of null values here, so I don't need to change to a more text-rich subreddit. "
   ]
  },
  {
   "cell_type": "code",
   "execution_count": 13,
   "id": "offshore-valuable",
   "metadata": {},
   "outputs": [
    {
     "data": {
      "text/plain": [
       "subreddit      0\n",
       "title          0\n",
       "selftext     211\n",
       "dtype: int64"
      ]
     },
     "execution_count": 13,
     "metadata": {},
     "output_type": "execute_result"
    }
   ],
   "source": [
    "text_df.isnull().sum()"
   ]
  },
  {
   "cell_type": "markdown",
   "id": "scheduled-unknown",
   "metadata": {},
   "source": [
    "We can even see which of our subreddits contains most of the nulls. It turns out that almost all of them are in the true zelda subreddit, which means this subreddit will be slightly less represented in our model, but the difference is so slight that it won't have a significant impact on model performance."
   ]
  },
  {
   "cell_type": "code",
   "execution_count": 14,
   "id": "confidential-hypothesis",
   "metadata": {},
   "outputs": [
    {
     "data": {
      "text/plain": [
       "4"
      ]
     },
     "execution_count": 14,
     "metadata": {},
     "output_type": "execute_result"
    }
   ],
   "source": [
    "# see how many nulls were from which subreddits\n",
    "dmacademy_df['selftext'].isnull().sum()"
   ]
  },
  {
   "cell_type": "code",
   "execution_count": 15,
   "id": "banner-sacramento",
   "metadata": {},
   "outputs": [
    {
     "data": {
      "text/plain": [
       "207"
      ]
     },
     "execution_count": 15,
     "metadata": {},
     "output_type": "execute_result"
    }
   ],
   "source": [
    "truezelda_df['selftext'].isnull().sum()"
   ]
  },
  {
   "cell_type": "markdown",
   "id": "departmental-robinson",
   "metadata": {},
   "source": [
    "Our classes will be slightly imbalanced if we drop these nulls, but it's only a few percent difference so I'm willing to accept it. However, if we replace these nulls now they'll be turned back into nulls when we pull this cleaned data into the modeling notebooks, so nulls will have to be replaced in each modeling notebook."
   ]
  },
  {
   "cell_type": "markdown",
   "id": "hungarian-joyce",
   "metadata": {},
   "source": [
    "Finally, replace those nulls with empty strings."
   ]
  },
  {
   "cell_type": "code",
   "execution_count": 16,
   "id": "incorporate-general",
   "metadata": {},
   "outputs": [],
   "source": [
    "text_df.replace(np.nan, \"\", regex=True, inplace=True)"
   ]
  },
  {
   "cell_type": "code",
   "execution_count": 17,
   "id": "greater-knife",
   "metadata": {},
   "outputs": [
    {
     "data": {
      "text/plain": [
       "subreddit    0\n",
       "title        0\n",
       "selftext     0\n",
       "dtype: int64"
      ]
     },
     "execution_count": 17,
     "metadata": {},
     "output_type": "execute_result"
    }
   ],
   "source": [
    "text_df.isnull().sum()"
   ]
  },
  {
   "cell_type": "markdown",
   "id": "legitimate-philosophy",
   "metadata": {},
   "source": [
    "### Map our target variable to integer values"
   ]
  },
  {
   "cell_type": "code",
   "execution_count": 18,
   "id": "confirmed-diesel",
   "metadata": {},
   "outputs": [
    {
     "data": {
      "text/plain": [
       "subreddit    object\n",
       "title        object\n",
       "selftext     object\n",
       "dtype: object"
      ]
     },
     "execution_count": 18,
     "metadata": {},
     "output_type": "execute_result"
    }
   ],
   "source": [
    "text_df.dtypes"
   ]
  },
  {
   "cell_type": "code",
   "execution_count": 19,
   "id": "coordinate-general",
   "metadata": {},
   "outputs": [
    {
     "data": {
      "text/plain": [
       "0       DMAcademy\n",
       "1       DMAcademy\n",
       "2       DMAcademy\n",
       "3       DMAcademy\n",
       "4       DMAcademy\n",
       "          ...    \n",
       "4991    truezelda\n",
       "4992    truezelda\n",
       "4993    truezelda\n",
       "4994    truezelda\n",
       "4995    truezelda\n",
       "Name: subreddit, Length: 9996, dtype: object"
      ]
     },
     "execution_count": 19,
     "metadata": {},
     "output_type": "execute_result"
    }
   ],
   "source": [
    "text_df['subreddit']"
   ]
  },
  {
   "cell_type": "code",
   "execution_count": 20,
   "id": "vocal-advocate",
   "metadata": {},
   "outputs": [],
   "source": [
    "# this step is optional\n",
    "#text_df['subreddit'] = text_df['subreddit'].map({'truezelda':1,'DMAcademy':0})"
   ]
  },
  {
   "cell_type": "code",
   "execution_count": 21,
   "id": "material-sperm",
   "metadata": {},
   "outputs": [
    {
     "data": {
      "text/plain": [
       "0       DMAcademy\n",
       "1       DMAcademy\n",
       "2       DMAcademy\n",
       "3       DMAcademy\n",
       "4       DMAcademy\n",
       "          ...    \n",
       "4991    truezelda\n",
       "4992    truezelda\n",
       "4993    truezelda\n",
       "4994    truezelda\n",
       "4995    truezelda\n",
       "Name: subreddit, Length: 9996, dtype: object"
      ]
     },
     "execution_count": 21,
     "metadata": {},
     "output_type": "execute_result"
    }
   ],
   "source": [
    "text_df['subreddit']"
   ]
  },
  {
   "cell_type": "code",
   "execution_count": 22,
   "id": "killing-contribution",
   "metadata": {
    "collapsed": true,
    "jupyter": {
     "outputs_hidden": true
    },
    "tags": []
   },
   "outputs": [
    {
     "data": {
      "text/html": [
       "<div>\n",
       "<style scoped>\n",
       "    .dataframe tbody tr th:only-of-type {\n",
       "        vertical-align: middle;\n",
       "    }\n",
       "\n",
       "    .dataframe tbody tr th {\n",
       "        vertical-align: top;\n",
       "    }\n",
       "\n",
       "    .dataframe thead th {\n",
       "        text-align: right;\n",
       "    }\n",
       "</style>\n",
       "<table border=\"1\" class=\"dataframe\">\n",
       "  <thead>\n",
       "    <tr style=\"text-align: right;\">\n",
       "      <th></th>\n",
       "      <th>subreddit</th>\n",
       "      <th>title</th>\n",
       "      <th>selftext</th>\n",
       "    </tr>\n",
       "  </thead>\n",
       "  <tbody>\n",
       "    <tr>\n",
       "      <th>0</th>\n",
       "      <td>DMAcademy</td>\n",
       "      <td>Seeking seasoned DMs to be guests on interview...</td>\n",
       "      <td>**Edit (UPDATE): Thank you for the robust resp...</td>\n",
       "    </tr>\n",
       "    <tr>\n",
       "      <th>1</th>\n",
       "      <td>DMAcademy</td>\n",
       "      <td>TERRAIN, and Using it Effectively</td>\n",
       "      <td>TERRAIN, and using it Effectively – DM Tips  U...</td>\n",
       "    </tr>\n",
       "    <tr>\n",
       "      <th>2</th>\n",
       "      <td>DMAcademy</td>\n",
       "      <td>Know the exact location of something</td>\n",
       "      <td>The players are planning on dropping an evil a...</td>\n",
       "    </tr>\n",
       "    <tr>\n",
       "      <th>3</th>\n",
       "      <td>DMAcademy</td>\n",
       "      <td>How to run military basic as a session</td>\n",
       "      <td>I am running a campaign for all intents and pu...</td>\n",
       "    </tr>\n",
       "    <tr>\n",
       "      <th>4</th>\n",
       "      <td>DMAcademy</td>\n",
       "      <td>Best time to take breaks/how long they should be</td>\n",
       "      <td>Hey just a newbie DM .My sessions are usually ...</td>\n",
       "    </tr>\n",
       "    <tr>\n",
       "      <th>...</th>\n",
       "      <td>...</td>\n",
       "      <td>...</td>\n",
       "      <td>...</td>\n",
       "    </tr>\n",
       "    <tr>\n",
       "      <th>4991</th>\n",
       "      <td>truezelda</td>\n",
       "      <td>Should games such as Tri Force Heroes and Four...</td>\n",
       "      <td>The Zelda timeline is infamous for being convo...</td>\n",
       "    </tr>\n",
       "    <tr>\n",
       "      <th>4992</th>\n",
       "      <td>truezelda</td>\n",
       "      <td>Review score predictions for Skyward HD?</td>\n",
       "      <td>Title says it all. How will it fare?  With the...</td>\n",
       "    </tr>\n",
       "    <tr>\n",
       "      <th>4993</th>\n",
       "      <td>truezelda</td>\n",
       "      <td>Should I watch or play Majora’s Mask?</td>\n",
       "      <td>[deleted]</td>\n",
       "    </tr>\n",
       "    <tr>\n",
       "      <th>4994</th>\n",
       "      <td>truezelda</td>\n",
       "      <td>Can anyone help me find a normally priced zeld...</td>\n",
       "      <td>My daughter loves to play super smash bros and...</td>\n",
       "    </tr>\n",
       "    <tr>\n",
       "      <th>4995</th>\n",
       "      <td>truezelda</td>\n",
       "      <td>So, SSHD is only what we got on anniversary?</td>\n",
       "      <td></td>\n",
       "    </tr>\n",
       "  </tbody>\n",
       "</table>\n",
       "<p>9996 rows × 3 columns</p>\n",
       "</div>"
      ],
      "text/plain": [
       "      subreddit                                              title  \\\n",
       "0     DMAcademy  Seeking seasoned DMs to be guests on interview...   \n",
       "1     DMAcademy                  TERRAIN, and Using it Effectively   \n",
       "2     DMAcademy               Know the exact location of something   \n",
       "3     DMAcademy             How to run military basic as a session   \n",
       "4     DMAcademy   Best time to take breaks/how long they should be   \n",
       "...         ...                                                ...   \n",
       "4991  truezelda  Should games such as Tri Force Heroes and Four...   \n",
       "4992  truezelda           Review score predictions for Skyward HD?   \n",
       "4993  truezelda              Should I watch or play Majora’s Mask?   \n",
       "4994  truezelda  Can anyone help me find a normally priced zeld...   \n",
       "4995  truezelda       So, SSHD is only what we got on anniversary?   \n",
       "\n",
       "                                               selftext  \n",
       "0     **Edit (UPDATE): Thank you for the robust resp...  \n",
       "1     TERRAIN, and using it Effectively – DM Tips  U...  \n",
       "2     The players are planning on dropping an evil a...  \n",
       "3     I am running a campaign for all intents and pu...  \n",
       "4     Hey just a newbie DM .My sessions are usually ...  \n",
       "...                                                 ...  \n",
       "4991  The Zelda timeline is infamous for being convo...  \n",
       "4992  Title says it all. How will it fare?  With the...  \n",
       "4993                                          [deleted]  \n",
       "4994  My daughter loves to play super smash bros and...  \n",
       "4995                                                     \n",
       "\n",
       "[9996 rows x 3 columns]"
      ]
     },
     "execution_count": 22,
     "metadata": {},
     "output_type": "execute_result"
    }
   ],
   "source": [
    "text_df"
   ]
  },
  {
   "cell_type": "code",
   "execution_count": null,
   "id": "surgical-profit",
   "metadata": {},
   "outputs": [],
   "source": []
  },
  {
   "cell_type": "markdown",
   "id": "occupational-conclusion",
   "metadata": {},
   "source": [
    "### Save processed data for modeling"
   ]
  },
  {
   "cell_type": "code",
   "execution_count": 23,
   "id": "complex-detector",
   "metadata": {},
   "outputs": [],
   "source": [
    "text_df.to_csv('../data/clean_dnd_zelda.csv', index=False)"
   ]
  },
  {
   "cell_type": "markdown",
   "id": "mathematical-plant",
   "metadata": {},
   "source": [
    "Now we're ready to move on to notebook 3, creating a model to predict which subreddit a post came from!"
   ]
  },
  {
   "cell_type": "code",
   "execution_count": 24,
   "id": "hairy-proposal",
   "metadata": {},
   "outputs": [
    {
     "data": {
      "text/plain": [
       "subreddit    0\n",
       "title        0\n",
       "selftext     0\n",
       "dtype: int64"
      ]
     },
     "execution_count": 24,
     "metadata": {},
     "output_type": "execute_result"
    }
   ],
   "source": [
    "text_df.isnull().sum()"
   ]
  },
  {
   "cell_type": "code",
   "execution_count": null,
   "id": "intellectual-leather",
   "metadata": {},
   "outputs": [],
   "source": []
  }
 ],
 "metadata": {
  "kernelspec": {
   "display_name": "Python 3",
   "language": "python",
   "name": "python3"
  },
  "language_info": {
   "codemirror_mode": {
    "name": "ipython",
    "version": 3
   },
   "file_extension": ".py",
   "mimetype": "text/x-python",
   "name": "python",
   "nbconvert_exporter": "python",
   "pygments_lexer": "ipython3",
   "version": "3.9.2"
  }
 },
 "nbformat": 4,
 "nbformat_minor": 5
}
