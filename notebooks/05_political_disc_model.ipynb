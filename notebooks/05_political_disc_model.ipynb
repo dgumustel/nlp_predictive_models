{
 "cells": [
  {
   "cell_type": "markdown",
   "id": "chinese-singer",
   "metadata": {},
   "source": [
    "# Predicting What Year a Subreddit Post Came From\n",
    "---"
   ]
  },
  {
   "cell_type": "markdown",
   "id": "pleased-increase",
   "metadata": {},
   "source": [
    "### This notebook accomplishes the following:\n",
    "---"
   ]
  },
  {
   "cell_type": "markdown",
   "id": "alternative-north",
   "metadata": {},
   "source": [
    "Here we're playing with time!!! "
   ]
  },
  {
   "cell_type": "code",
   "execution_count": 1,
   "id": "architectural-funeral",
   "metadata": {},
   "outputs": [],
   "source": [
    "import numpy as np\n",
    "import time\n",
    "import pandas as pd\n",
    "import nltk\n",
    "\n",
    "from sklearn.pipeline import Pipeline\n",
    "from sklearn.model_selection import train_test_split, GridSearchCV\n",
    "from sklearn.naive_bayes import MultinomialNB, BernoulliNB\n",
    "from sklearn.metrics import confusion_matrix, ConfusionMatrixDisplay\n",
    "from sklearn.feature_extraction.text import CountVectorizer, TfidfVectorizer\n",
    "from nltk.stem import WordNetLemmatizer\n",
    "from nltk.tokenize import sent_tokenize, word_tokenize, RegexpTokenizer\n",
    "from nltk.stem.porter import PorterStemmer"
   ]
  },
  {
   "cell_type": "code",
   "execution_count": 2,
   "id": "supreme-processor",
   "metadata": {},
   "outputs": [],
   "source": [
    "poli_2012_df = pd.read_csv('../data/poli_dis_2012.csv')\n",
    "poli_2020_df = pd.read_csv('../data/poli_dis_2020.csv')"
   ]
  },
  {
   "cell_type": "code",
   "execution_count": 3,
   "id": "formal-chancellor",
   "metadata": {},
   "outputs": [
    {
     "data": {
      "text/plain": [
       "Index(['author', 'author_flair_css_class', 'author_flair_text', 'created_utc',\n",
       "       'domain', 'full_link', 'id', 'is_self', 'media_embed', 'num_comments',\n",
       "       'over_18', 'permalink', 'score', 'selftext', 'subreddit',\n",
       "       'subreddit_id', 'thumbnail', 'title', 'url', 'author_created_utc',\n",
       "       'author_fullname', 'edited', 'distinguished', 'year'],\n",
       "      dtype='object')"
      ]
     },
     "execution_count": 3,
     "metadata": {},
     "output_type": "execute_result"
    }
   ],
   "source": [
    "poli_2012_df.columns"
   ]
  },
  {
   "cell_type": "code",
   "execution_count": 4,
   "id": "future-masters",
   "metadata": {},
   "outputs": [
    {
     "data": {
      "text/plain": [
       "4882"
      ]
     },
     "execution_count": 4,
     "metadata": {},
     "output_type": "execute_result"
    }
   ],
   "source": [
    "poli_2012_df['id'].nunique()"
   ]
  },
  {
   "cell_type": "code",
   "execution_count": 5,
   "id": "august-blank",
   "metadata": {},
   "outputs": [
    {
     "data": {
      "text/plain": [
       "0                                                     NaN\n",
       "1       I used to consider myself a conservative until...\n",
       "2       So what happens then? Raise the debt ceiling a...\n",
       "3       ...Last year I mismanaged my funds and this ye...\n",
       "4       Acccording to the Washington Post: \\n\\n80 mill...\n",
       "                              ...                        \n",
       "4877                                                  NaN\n",
       "4878    I find it interesting that the media has reall...\n",
       "4879    Here's an infographic giving a short backgroun...\n",
       "4880    Radically. As in \"roots\", every radical will s...\n",
       "4881    &gt; In Pennsylvania, the Republican-dominated...\n",
       "Name: selftext, Length: 4882, dtype: object"
      ]
     },
     "execution_count": 5,
     "metadata": {},
     "output_type": "execute_result"
    }
   ],
   "source": [
    "poli_2012_df['selftext']"
   ]
  },
  {
   "cell_type": "code",
   "execution_count": 6,
   "id": "agricultural-decline",
   "metadata": {},
   "outputs": [
    {
     "data": {
      "text/plain": [
       "5000"
      ]
     },
     "execution_count": 6,
     "metadata": {},
     "output_type": "execute_result"
    }
   ],
   "source": [
    "poli_2020_df['id'].nunique()"
   ]
  },
  {
   "cell_type": "code",
   "execution_count": 7,
   "id": "second-puzzle",
   "metadata": {},
   "outputs": [],
   "source": [
    "frames = [poli_2012_df, poli_2020_df]\n",
    "master_df = pd.concat(frames)"
   ]
  },
  {
   "cell_type": "code",
   "execution_count": 8,
   "id": "finnish-samba",
   "metadata": {},
   "outputs": [
    {
     "data": {
      "text/html": [
       "<div>\n",
       "<style scoped>\n",
       "    .dataframe tbody tr th:only-of-type {\n",
       "        vertical-align: middle;\n",
       "    }\n",
       "\n",
       "    .dataframe tbody tr th {\n",
       "        vertical-align: top;\n",
       "    }\n",
       "\n",
       "    .dataframe thead th {\n",
       "        text-align: right;\n",
       "    }\n",
       "</style>\n",
       "<table border=\"1\" class=\"dataframe\">\n",
       "  <thead>\n",
       "    <tr style=\"text-align: right;\">\n",
       "      <th></th>\n",
       "      <th>author</th>\n",
       "      <th>author_flair_css_class</th>\n",
       "      <th>author_flair_text</th>\n",
       "      <th>created_utc</th>\n",
       "      <th>domain</th>\n",
       "      <th>full_link</th>\n",
       "      <th>id</th>\n",
       "      <th>is_self</th>\n",
       "      <th>media_embed</th>\n",
       "      <th>num_comments</th>\n",
       "      <th>...</th>\n",
       "      <th>link_flair_template_id</th>\n",
       "      <th>link_flair_text</th>\n",
       "      <th>post_hint</th>\n",
       "      <th>preview</th>\n",
       "      <th>author_flair_background_color</th>\n",
       "      <th>author_flair_text_color</th>\n",
       "      <th>author_cakeday</th>\n",
       "      <th>banned_by</th>\n",
       "      <th>suggested_sort</th>\n",
       "      <th>author_flair_template_id</th>\n",
       "    </tr>\n",
       "  </thead>\n",
       "  <tbody>\n",
       "    <tr>\n",
       "      <th>0</th>\n",
       "      <td>[deleted]</td>\n",
       "      <td>NaN</td>\n",
       "      <td>NaN</td>\n",
       "      <td>1311796165</td>\n",
       "      <td>self.PoliticalDiscussion</td>\n",
       "      <td>https://www.reddit.com/r/PoliticalDiscussion/c...</td>\n",
       "      <td>j1g7n</td>\n",
       "      <td>True</td>\n",
       "      <td>{}</td>\n",
       "      <td>5</td>\n",
       "      <td>...</td>\n",
       "      <td>NaN</td>\n",
       "      <td>NaN</td>\n",
       "      <td>NaN</td>\n",
       "      <td>NaN</td>\n",
       "      <td>NaN</td>\n",
       "      <td>NaN</td>\n",
       "      <td>NaN</td>\n",
       "      <td>NaN</td>\n",
       "      <td>NaN</td>\n",
       "      <td>NaN</td>\n",
       "    </tr>\n",
       "    <tr>\n",
       "      <th>1</th>\n",
       "      <td>PareidoliaX</td>\n",
       "      <td>NaN</td>\n",
       "      <td>NaN</td>\n",
       "      <td>1311795743</td>\n",
       "      <td>self.PoliticalDiscussion</td>\n",
       "      <td>https://www.reddit.com/r/PoliticalDiscussion/c...</td>\n",
       "      <td>j1fzj</td>\n",
       "      <td>True</td>\n",
       "      <td>{}</td>\n",
       "      <td>34</td>\n",
       "      <td>...</td>\n",
       "      <td>NaN</td>\n",
       "      <td>NaN</td>\n",
       "      <td>NaN</td>\n",
       "      <td>NaN</td>\n",
       "      <td>NaN</td>\n",
       "      <td>NaN</td>\n",
       "      <td>NaN</td>\n",
       "      <td>NaN</td>\n",
       "      <td>NaN</td>\n",
       "      <td>NaN</td>\n",
       "    </tr>\n",
       "    <tr>\n",
       "      <th>2</th>\n",
       "      <td>qerq</td>\n",
       "      <td>NaN</td>\n",
       "      <td>NaN</td>\n",
       "      <td>1311793404</td>\n",
       "      <td>self.PoliticalDiscussion</td>\n",
       "      <td>https://www.reddit.com/r/PoliticalDiscussion/c...</td>\n",
       "      <td>j1en6</td>\n",
       "      <td>True</td>\n",
       "      <td>{}</td>\n",
       "      <td>14</td>\n",
       "      <td>...</td>\n",
       "      <td>NaN</td>\n",
       "      <td>NaN</td>\n",
       "      <td>NaN</td>\n",
       "      <td>NaN</td>\n",
       "      <td>NaN</td>\n",
       "      <td>NaN</td>\n",
       "      <td>NaN</td>\n",
       "      <td>NaN</td>\n",
       "      <td>NaN</td>\n",
       "      <td>NaN</td>\n",
       "    </tr>\n",
       "    <tr>\n",
       "      <th>3</th>\n",
       "      <td>shamusoconner</td>\n",
       "      <td>NaN</td>\n",
       "      <td>NaN</td>\n",
       "      <td>1311792541</td>\n",
       "      <td>self.PoliticalDiscussion</td>\n",
       "      <td>https://www.reddit.com/r/PoliticalDiscussion/c...</td>\n",
       "      <td>j1e83</td>\n",
       "      <td>True</td>\n",
       "      <td>{}</td>\n",
       "      <td>2</td>\n",
       "      <td>...</td>\n",
       "      <td>NaN</td>\n",
       "      <td>NaN</td>\n",
       "      <td>NaN</td>\n",
       "      <td>NaN</td>\n",
       "      <td>NaN</td>\n",
       "      <td>NaN</td>\n",
       "      <td>NaN</td>\n",
       "      <td>NaN</td>\n",
       "      <td>NaN</td>\n",
       "      <td>NaN</td>\n",
       "    </tr>\n",
       "    <tr>\n",
       "      <th>4</th>\n",
       "      <td>[deleted]</td>\n",
       "      <td>NaN</td>\n",
       "      <td>NaN</td>\n",
       "      <td>1311791793</td>\n",
       "      <td>self.PoliticalDiscussion</td>\n",
       "      <td>https://www.reddit.com/r/PoliticalDiscussion/c...</td>\n",
       "      <td>j1dtr</td>\n",
       "      <td>True</td>\n",
       "      <td>{}</td>\n",
       "      <td>3</td>\n",
       "      <td>...</td>\n",
       "      <td>NaN</td>\n",
       "      <td>NaN</td>\n",
       "      <td>NaN</td>\n",
       "      <td>NaN</td>\n",
       "      <td>NaN</td>\n",
       "      <td>NaN</td>\n",
       "      <td>NaN</td>\n",
       "      <td>NaN</td>\n",
       "      <td>NaN</td>\n",
       "      <td>NaN</td>\n",
       "    </tr>\n",
       "    <tr>\n",
       "      <th>...</th>\n",
       "      <td>...</td>\n",
       "      <td>...</td>\n",
       "      <td>...</td>\n",
       "      <td>...</td>\n",
       "      <td>...</td>\n",
       "      <td>...</td>\n",
       "      <td>...</td>\n",
       "      <td>...</td>\n",
       "      <td>...</td>\n",
       "      <td>...</td>\n",
       "      <td>...</td>\n",
       "      <td>...</td>\n",
       "      <td>...</td>\n",
       "      <td>...</td>\n",
       "      <td>...</td>\n",
       "      <td>...</td>\n",
       "      <td>...</td>\n",
       "      <td>...</td>\n",
       "      <td>...</td>\n",
       "      <td>...</td>\n",
       "      <td>...</td>\n",
       "    </tr>\n",
       "    <tr>\n",
       "      <th>4995</th>\n",
       "      <td>WaterzGrace</td>\n",
       "      <td>NaN</td>\n",
       "      <td>NaN</td>\n",
       "      <td>1585331139</td>\n",
       "      <td>self.PoliticalDiscussion</td>\n",
       "      <td>https://www.reddit.com/r/PoliticalDiscussion/c...</td>\n",
       "      <td>fq1n07</td>\n",
       "      <td>True</td>\n",
       "      <td>NaN</td>\n",
       "      <td>3</td>\n",
       "      <td>...</td>\n",
       "      <td>969bd296-4091-11e6-8da9-0ef2cf42ad11</td>\n",
       "      <td>US Elections</td>\n",
       "      <td>NaN</td>\n",
       "      <td>NaN</td>\n",
       "      <td>NaN</td>\n",
       "      <td>NaN</td>\n",
       "      <td>NaN</td>\n",
       "      <td>NaN</td>\n",
       "      <td>confidence</td>\n",
       "      <td>NaN</td>\n",
       "    </tr>\n",
       "    <tr>\n",
       "      <th>4996</th>\n",
       "      <td>curious_thoughts_uk</td>\n",
       "      <td>NaN</td>\n",
       "      <td>NaN</td>\n",
       "      <td>1585330878</td>\n",
       "      <td>self.PoliticalDiscussion</td>\n",
       "      <td>https://www.reddit.com/r/PoliticalDiscussion/c...</td>\n",
       "      <td>fq1jqd</td>\n",
       "      <td>True</td>\n",
       "      <td>NaN</td>\n",
       "      <td>3</td>\n",
       "      <td>...</td>\n",
       "      <td>8ba3f5de-4092-11e6-b8ce-0ee96c7aff3d</td>\n",
       "      <td>US Politics</td>\n",
       "      <td>NaN</td>\n",
       "      <td>NaN</td>\n",
       "      <td>NaN</td>\n",
       "      <td>NaN</td>\n",
       "      <td>NaN</td>\n",
       "      <td>NaN</td>\n",
       "      <td>confidence</td>\n",
       "      <td>NaN</td>\n",
       "    </tr>\n",
       "    <tr>\n",
       "      <th>4997</th>\n",
       "      <td>patrick-thegamerdad</td>\n",
       "      <td>NaN</td>\n",
       "      <td>NaN</td>\n",
       "      <td>1585330173</td>\n",
       "      <td>self.PoliticalDiscussion</td>\n",
       "      <td>https://www.reddit.com/r/PoliticalDiscussion/c...</td>\n",
       "      <td>fq1azc</td>\n",
       "      <td>True</td>\n",
       "      <td>NaN</td>\n",
       "      <td>0</td>\n",
       "      <td>...</td>\n",
       "      <td>969bd296-4091-11e6-8da9-0ef2cf42ad11</td>\n",
       "      <td>US Elections</td>\n",
       "      <td>NaN</td>\n",
       "      <td>NaN</td>\n",
       "      <td>NaN</td>\n",
       "      <td>NaN</td>\n",
       "      <td>NaN</td>\n",
       "      <td>NaN</td>\n",
       "      <td>confidence</td>\n",
       "      <td>NaN</td>\n",
       "    </tr>\n",
       "    <tr>\n",
       "      <th>4998</th>\n",
       "      <td>steelbaxton</td>\n",
       "      <td>NaN</td>\n",
       "      <td>NaN</td>\n",
       "      <td>1585329457</td>\n",
       "      <td>self.PoliticalDiscussion</td>\n",
       "      <td>https://www.reddit.com/r/PoliticalDiscussion/c...</td>\n",
       "      <td>fq1263</td>\n",
       "      <td>True</td>\n",
       "      <td>NaN</td>\n",
       "      <td>1</td>\n",
       "      <td>...</td>\n",
       "      <td>8ba3f5de-4092-11e6-b8ce-0ee96c7aff3d</td>\n",
       "      <td>US Politics</td>\n",
       "      <td>NaN</td>\n",
       "      <td>NaN</td>\n",
       "      <td>NaN</td>\n",
       "      <td>NaN</td>\n",
       "      <td>NaN</td>\n",
       "      <td>NaN</td>\n",
       "      <td>confidence</td>\n",
       "      <td>NaN</td>\n",
       "    </tr>\n",
       "    <tr>\n",
       "      <th>4999</th>\n",
       "      <td>ImmodestPolitician</td>\n",
       "      <td>NaN</td>\n",
       "      <td>NaN</td>\n",
       "      <td>1585329315</td>\n",
       "      <td>self.PoliticalDiscussion</td>\n",
       "      <td>https://www.reddit.com/r/PoliticalDiscussion/c...</td>\n",
       "      <td>fq10h9</td>\n",
       "      <td>True</td>\n",
       "      <td>NaN</td>\n",
       "      <td>2</td>\n",
       "      <td>...</td>\n",
       "      <td>8ba3f5de-4092-11e6-b8ce-0ee96c7aff3d</td>\n",
       "      <td>US Politics</td>\n",
       "      <td>NaN</td>\n",
       "      <td>NaN</td>\n",
       "      <td>NaN</td>\n",
       "      <td>NaN</td>\n",
       "      <td>NaN</td>\n",
       "      <td>NaN</td>\n",
       "      <td>confidence</td>\n",
       "      <td>NaN</td>\n",
       "    </tr>\n",
       "  </tbody>\n",
       "</table>\n",
       "<p>9882 rows × 73 columns</p>\n",
       "</div>"
      ],
      "text/plain": [
       "                   author  author_flair_css_class author_flair_text  \\\n",
       "0               [deleted]                     NaN               NaN   \n",
       "1             PareidoliaX                     NaN               NaN   \n",
       "2                    qerq                     NaN               NaN   \n",
       "3           shamusoconner                     NaN               NaN   \n",
       "4               [deleted]                     NaN               NaN   \n",
       "...                   ...                     ...               ...   \n",
       "4995          WaterzGrace                     NaN               NaN   \n",
       "4996  curious_thoughts_uk                     NaN               NaN   \n",
       "4997  patrick-thegamerdad                     NaN               NaN   \n",
       "4998          steelbaxton                     NaN               NaN   \n",
       "4999   ImmodestPolitician                     NaN               NaN   \n",
       "\n",
       "      created_utc                    domain  \\\n",
       "0      1311796165  self.PoliticalDiscussion   \n",
       "1      1311795743  self.PoliticalDiscussion   \n",
       "2      1311793404  self.PoliticalDiscussion   \n",
       "3      1311792541  self.PoliticalDiscussion   \n",
       "4      1311791793  self.PoliticalDiscussion   \n",
       "...           ...                       ...   \n",
       "4995   1585331139  self.PoliticalDiscussion   \n",
       "4996   1585330878  self.PoliticalDiscussion   \n",
       "4997   1585330173  self.PoliticalDiscussion   \n",
       "4998   1585329457  self.PoliticalDiscussion   \n",
       "4999   1585329315  self.PoliticalDiscussion   \n",
       "\n",
       "                                              full_link      id  is_self  \\\n",
       "0     https://www.reddit.com/r/PoliticalDiscussion/c...   j1g7n     True   \n",
       "1     https://www.reddit.com/r/PoliticalDiscussion/c...   j1fzj     True   \n",
       "2     https://www.reddit.com/r/PoliticalDiscussion/c...   j1en6     True   \n",
       "3     https://www.reddit.com/r/PoliticalDiscussion/c...   j1e83     True   \n",
       "4     https://www.reddit.com/r/PoliticalDiscussion/c...   j1dtr     True   \n",
       "...                                                 ...     ...      ...   \n",
       "4995  https://www.reddit.com/r/PoliticalDiscussion/c...  fq1n07     True   \n",
       "4996  https://www.reddit.com/r/PoliticalDiscussion/c...  fq1jqd     True   \n",
       "4997  https://www.reddit.com/r/PoliticalDiscussion/c...  fq1azc     True   \n",
       "4998  https://www.reddit.com/r/PoliticalDiscussion/c...  fq1263     True   \n",
       "4999  https://www.reddit.com/r/PoliticalDiscussion/c...  fq10h9     True   \n",
       "\n",
       "     media_embed  num_comments  ...                link_flair_template_id  \\\n",
       "0             {}             5  ...                                   NaN   \n",
       "1             {}            34  ...                                   NaN   \n",
       "2             {}            14  ...                                   NaN   \n",
       "3             {}             2  ...                                   NaN   \n",
       "4             {}             3  ...                                   NaN   \n",
       "...          ...           ...  ...                                   ...   \n",
       "4995         NaN             3  ...  969bd296-4091-11e6-8da9-0ef2cf42ad11   \n",
       "4996         NaN             3  ...  8ba3f5de-4092-11e6-b8ce-0ee96c7aff3d   \n",
       "4997         NaN             0  ...  969bd296-4091-11e6-8da9-0ef2cf42ad11   \n",
       "4998         NaN             1  ...  8ba3f5de-4092-11e6-b8ce-0ee96c7aff3d   \n",
       "4999         NaN             2  ...  8ba3f5de-4092-11e6-b8ce-0ee96c7aff3d   \n",
       "\n",
       "     link_flair_text  post_hint preview author_flair_background_color  \\\n",
       "0                NaN        NaN     NaN                           NaN   \n",
       "1                NaN        NaN     NaN                           NaN   \n",
       "2                NaN        NaN     NaN                           NaN   \n",
       "3                NaN        NaN     NaN                           NaN   \n",
       "4                NaN        NaN     NaN                           NaN   \n",
       "...              ...        ...     ...                           ...   \n",
       "4995    US Elections        NaN     NaN                           NaN   \n",
       "4996     US Politics        NaN     NaN                           NaN   \n",
       "4997    US Elections        NaN     NaN                           NaN   \n",
       "4998     US Politics        NaN     NaN                           NaN   \n",
       "4999     US Politics        NaN     NaN                           NaN   \n",
       "\n",
       "     author_flair_text_color author_cakeday banned_by suggested_sort  \\\n",
       "0                        NaN            NaN       NaN            NaN   \n",
       "1                        NaN            NaN       NaN            NaN   \n",
       "2                        NaN            NaN       NaN            NaN   \n",
       "3                        NaN            NaN       NaN            NaN   \n",
       "4                        NaN            NaN       NaN            NaN   \n",
       "...                      ...            ...       ...            ...   \n",
       "4995                     NaN            NaN       NaN     confidence   \n",
       "4996                     NaN            NaN       NaN     confidence   \n",
       "4997                     NaN            NaN       NaN     confidence   \n",
       "4998                     NaN            NaN       NaN     confidence   \n",
       "4999                     NaN            NaN       NaN     confidence   \n",
       "\n",
       "      author_flair_template_id  \n",
       "0                          NaN  \n",
       "1                          NaN  \n",
       "2                          NaN  \n",
       "3                          NaN  \n",
       "4                          NaN  \n",
       "...                        ...  \n",
       "4995                       NaN  \n",
       "4996                       NaN  \n",
       "4997                       NaN  \n",
       "4998                       NaN  \n",
       "4999                       NaN  \n",
       "\n",
       "[9882 rows x 73 columns]"
      ]
     },
     "execution_count": 8,
     "metadata": {},
     "output_type": "execute_result"
    }
   ],
   "source": [
    "master_df"
   ]
  },
  {
   "cell_type": "code",
   "execution_count": 9,
   "id": "selected-tension",
   "metadata": {},
   "outputs": [],
   "source": [
    "text_df = master_df[['year', 'selftext']].copy()"
   ]
  },
  {
   "cell_type": "code",
   "execution_count": 10,
   "id": "taken-opposition",
   "metadata": {},
   "outputs": [
    {
     "data": {
      "text/plain": [
       "4151"
      ]
     },
     "execution_count": 10,
     "metadata": {},
     "output_type": "execute_result"
    }
   ],
   "source": [
    "text_df['selftext'].nunique()"
   ]
  },
  {
   "cell_type": "code",
   "execution_count": 11,
   "id": "happy-image",
   "metadata": {},
   "outputs": [
    {
     "data": {
      "text/plain": [
       "year          0\n",
       "selftext    714\n",
       "dtype: int64"
      ]
     },
     "execution_count": 11,
     "metadata": {},
     "output_type": "execute_result"
    }
   ],
   "source": [
    "text_df.isnull().sum()"
   ]
  },
  {
   "cell_type": "code",
   "execution_count": 13,
   "id": "unique-walter",
   "metadata": {},
   "outputs": [],
   "source": [
    "text_df.replace(np.nan, \"\", regex=True, inplace=True)"
   ]
  },
  {
   "cell_type": "code",
   "execution_count": 14,
   "id": "virtual-design",
   "metadata": {},
   "outputs": [
    {
     "data": {
      "text/plain": [
       "year        0\n",
       "selftext    0\n",
       "dtype: int64"
      ]
     },
     "execution_count": 14,
     "metadata": {},
     "output_type": "execute_result"
    }
   ],
   "source": [
    "text_df.isnull().sum()"
   ]
  },
  {
   "cell_type": "markdown",
   "id": "clean-aside",
   "metadata": {},
   "source": [
    "Finally, replace those nulls with empty strings."
   ]
  },
  {
   "cell_type": "code",
   "execution_count": 15,
   "id": "normal-faculty",
   "metadata": {},
   "outputs": [
    {
     "data": {
      "text/plain": [
       "0       2012\n",
       "1       2012\n",
       "2       2012\n",
       "3       2012\n",
       "4       2012\n",
       "        ... \n",
       "4995    2020\n",
       "4996    2020\n",
       "4997    2020\n",
       "4998    2020\n",
       "4999    2020\n",
       "Name: year, Length: 9882, dtype: int64"
      ]
     },
     "execution_count": 15,
     "metadata": {},
     "output_type": "execute_result"
    }
   ],
   "source": [
    "master_df['year']"
   ]
  },
  {
   "cell_type": "code",
   "execution_count": 16,
   "id": "connected-horizon",
   "metadata": {},
   "outputs": [],
   "source": [
    "#text_df['year'] = text_df['year'].map({2010:1,2020:0})"
   ]
  },
  {
   "cell_type": "code",
   "execution_count": 17,
   "id": "acute-sampling",
   "metadata": {},
   "outputs": [
    {
     "data": {
      "text/plain": [
       "2020    0.50597\n",
       "2012    0.49403\n",
       "Name: year, dtype: float64"
      ]
     },
     "execution_count": 17,
     "metadata": {},
     "output_type": "execute_result"
    }
   ],
   "source": [
    "text_df['year'].value_counts(normalize=True)"
   ]
  },
  {
   "cell_type": "code",
   "execution_count": 18,
   "id": "backed-depth",
   "metadata": {},
   "outputs": [
    {
     "data": {
      "text/plain": [
       "0                                                     \n",
       "1    I used to consider myself a conservative until...\n",
       "2    So what happens then? Raise the debt ceiling a...\n",
       "3    ...Last year I mismanaged my funds and this ye...\n",
       "4    Acccording to the Washington Post: \\n\\n80 mill...\n",
       "Name: selftext, dtype: object"
      ]
     },
     "execution_count": 18,
     "metadata": {},
     "output_type": "execute_result"
    }
   ],
   "source": [
    "text_df['selftext'][:5]"
   ]
  },
  {
   "cell_type": "code",
   "execution_count": 19,
   "id": "heated-alpha",
   "metadata": {},
   "outputs": [],
   "source": [
    "# lemmatizer = WordNetLemmatizer()\n",
    "stemmer = PorterStemmer()\n",
    "\n",
    "def stem_stuff(line):\n",
    "    tokenizer = RegexpTokenizer(r'\\w+')\n",
    "    line_tokens = tokenizer.tokenize(line.lower())\n",
    "    stemmy = [stemmer.stem(word) for word in line_tokens]\n",
    "    return stemmy"
   ]
  },
  {
   "cell_type": "code",
   "execution_count": 20,
   "id": "strategic-dressing",
   "metadata": {},
   "outputs": [
    {
     "data": {
      "text/plain": [
       "year        0\n",
       "selftext    0\n",
       "dtype: int64"
      ]
     },
     "execution_count": 20,
     "metadata": {},
     "output_type": "execute_result"
    }
   ],
   "source": [
    "text_df.isnull().sum()"
   ]
  },
  {
   "cell_type": "code",
   "execution_count": 21,
   "id": "driving-suspect",
   "metadata": {},
   "outputs": [],
   "source": [
    "text_df['selftext'] = text_df['selftext'].map(stem_stuff)\n",
    "text_df['selftext'] = text_df['selftext'].apply(', '.join)"
   ]
  },
  {
   "cell_type": "code",
   "execution_count": 22,
   "id": "presidential-indonesia",
   "metadata": {},
   "outputs": [
    {
     "data": {
      "text/plain": [
       "0                                                     \n",
       "1    i, use, to, consid, myself, a, conserv, until,...\n",
       "2    so, what, happen, then, rais, the, debt, ceil,...\n",
       "3    last, year, i, mismanag, my, fund, and, thi, y...\n",
       "4    acccord, to, the, washington, post, 80, millio...\n",
       "Name: selftext, dtype: object"
      ]
     },
     "execution_count": 22,
     "metadata": {},
     "output_type": "execute_result"
    }
   ],
   "source": [
    "text_df['selftext'][:5]"
   ]
  },
  {
   "cell_type": "code",
   "execution_count": 23,
   "id": "adaptive-joyce",
   "metadata": {},
   "outputs": [],
   "source": [
    "X = text_df['selftext']\n",
    "y = text_df['year']"
   ]
  },
  {
   "cell_type": "code",
   "execution_count": 24,
   "id": "advance-brief",
   "metadata": {},
   "outputs": [],
   "source": [
    "X_train, X_test, y_train, y_test = train_test_split(X, y, \n",
    "                                                    random_state = 42, \n",
    "                                                    stratify = y)"
   ]
  },
  {
   "cell_type": "code",
   "execution_count": 25,
   "id": "floppy-hamilton",
   "metadata": {},
   "outputs": [
    {
     "data": {
      "text/plain": [
       "2878                                                remov\n",
       "2550    at, the, end, of, the, debat, they, went, to, ...\n",
       "3395    if, you, ve, spoken, to, a, republican, in, th...\n",
       "3390                                                remov\n",
       "525                                                 remov\n",
       "                              ...                        \n",
       "2344                                                remov\n",
       "2       so, what, happen, then, rais, the, debt, ceil,...\n",
       "1417    and, evid, to, whi, michel, bachman, would, do...\n",
       "1316                                                remov\n",
       "3505    i, hear, a, lot, of, the, republican, presiden...\n",
       "Name: selftext, Length: 7411, dtype: object"
      ]
     },
     "execution_count": 25,
     "metadata": {},
     "output_type": "execute_result"
    }
   ],
   "source": [
    "X_train"
   ]
  },
  {
   "cell_type": "markdown",
   "id": "previous-knife",
   "metadata": {},
   "source": [
    "### Combine GridSearchCV and Bernoulli Naive Bayes model"
   ]
  },
  {
   "cell_type": "code",
   "execution_count": 45,
   "id": "fancy-lying",
   "metadata": {},
   "outputs": [],
   "source": [
    "pipe = Pipeline([\n",
    "    ('cvec', CountVectorizer(stop_words='english')),\n",
    "    ('nb', BernoulliNB())\n",
    "])"
   ]
  },
  {
   "cell_type": "code",
   "execution_count": 46,
   "id": "acceptable-romania",
   "metadata": {},
   "outputs": [],
   "source": [
    "pipe_params = {\n",
    "    #'cvec__max_features':[2000, 3000, 4000, 5000],\n",
    "    #'cvec__min_df':[2, 3],\n",
    "    #'cvec__max_df':[.9, .95],\n",
    "    #'cvec__ngram_range':[(1, 1), (1, 2)]\n",
    "}"
   ]
  },
  {
   "cell_type": "code",
   "execution_count": 47,
   "id": "advanced-frame",
   "metadata": {},
   "outputs": [],
   "source": [
    "gs = GridSearchCV(pipe, param_grid = pipe_params, cv = 5)"
   ]
  },
  {
   "cell_type": "code",
   "execution_count": 48,
   "id": "talented-waste",
   "metadata": {},
   "outputs": [
    {
     "data": {
      "text/plain": [
       "2878                                                remov\n",
       "2550    at, the, end, of, the, debat, they, went, to, ...\n",
       "3395    if, you, ve, spoken, to, a, republican, in, th...\n",
       "3390                                                remov\n",
       "525                                                 remov\n",
       "                              ...                        \n",
       "2344                                                remov\n",
       "2       so, what, happen, then, rais, the, debt, ceil,...\n",
       "1417    and, evid, to, whi, michel, bachman, would, do...\n",
       "1316                                                remov\n",
       "3505    i, hear, a, lot, of, the, republican, presiden...\n",
       "Name: selftext, Length: 7411, dtype: object"
      ]
     },
     "execution_count": 48,
     "metadata": {},
     "output_type": "execute_result"
    }
   ],
   "source": [
    "X_train"
   ]
  },
  {
   "cell_type": "code",
   "execution_count": 49,
   "id": "manual-cinema",
   "metadata": {
    "tags": []
   },
   "outputs": [
    {
     "name": "stdout",
     "output_type": "stream",
     "text": [
      "0.8583180681097421\n",
      "{}\n",
      "train accuracy: 0.8638510322493591\n",
      "test accuracy: 0.8514771347632537\n"
     ]
    }
   ],
   "source": [
    "gs.fit(X_train, y_train)\n",
    "\n",
    "print(gs.best_score_)\n",
    "print(gs.best_params_)\n",
    "\n",
    "print('train accuracy:', gs.score(X_train, y_train))\n",
    "print('test accuracy:', gs.score(X_test, y_test))"
   ]
  },
  {
   "cell_type": "code",
   "execution_count": 50,
   "id": "widespread-knitting",
   "metadata": {},
   "outputs": [
    {
     "data": {
      "text/plain": [
       "pandas.core.series.Series"
      ]
     },
     "execution_count": 50,
     "metadata": {},
     "output_type": "execute_result"
    }
   ],
   "source": [
    "type(X_test)"
   ]
  },
  {
   "cell_type": "code",
   "execution_count": 51,
   "id": "physical-newton",
   "metadata": {
    "tags": []
   },
   "outputs": [],
   "source": [
    "preds = gs.predict(X_test)"
   ]
  },
  {
   "cell_type": "code",
   "execution_count": 52,
   "id": "naval-arrest",
   "metadata": {},
   "outputs": [
    {
     "data": {
      "image/png": "[encoded data removed]",
      "text/plain": [
       "<Figure size 432x288 with 2 Axes>"
      ]
     },
     "metadata": {
      "needs_background": "light"
     },
     "output_type": "display_data"
    }
   ],
   "source": [
    "cm = confusion_matrix(y_test, preds)\n",
    "tn, fp, fn, tp = cm.ravel()\n",
    "\n",
    "ConfusionMatrixDisplay(cm).plot();"
   ]
  },
  {
   "cell_type": "code",
   "execution_count": 53,
   "id": "anticipated-civilian",
   "metadata": {},
   "outputs": [
    {
     "data": {
      "text/html": [
       "<div>\n",
       "<style scoped>\n",
       "    .dataframe tbody tr th:only-of-type {\n",
       "        vertical-align: middle;\n",
       "    }\n",
       "\n",
       "    .dataframe tbody tr th {\n",
       "        vertical-align: top;\n",
       "    }\n",
       "\n",
       "    .dataframe thead th {\n",
       "        text-align: right;\n",
       "    }\n",
       "</style>\n",
       "<table border=\"1\" class=\"dataframe\">\n",
       "  <thead>\n",
       "    <tr style=\"text-align: right;\">\n",
       "      <th></th>\n",
       "      <th>year</th>\n",
       "      <th>selftext</th>\n",
       "    </tr>\n",
       "  </thead>\n",
       "  <tbody>\n",
       "    <tr>\n",
       "      <th>0</th>\n",
       "      <td>2012</td>\n",
       "      <td></td>\n",
       "    </tr>\n",
       "    <tr>\n",
       "      <th>1</th>\n",
       "      <td>2012</td>\n",
       "      <td>i, use, to, consid, myself, a, conserv, until,...</td>\n",
       "    </tr>\n",
       "    <tr>\n",
       "      <th>2</th>\n",
       "      <td>2012</td>\n",
       "      <td>so, what, happen, then, rais, the, debt, ceil,...</td>\n",
       "    </tr>\n",
       "    <tr>\n",
       "      <th>3</th>\n",
       "      <td>2012</td>\n",
       "      <td>last, year, i, mismanag, my, fund, and, thi, y...</td>\n",
       "    </tr>\n",
       "    <tr>\n",
       "      <th>4</th>\n",
       "      <td>2012</td>\n",
       "      <td>acccord, to, the, washington, post, 80, millio...</td>\n",
       "    </tr>\n",
       "    <tr>\n",
       "      <th>...</th>\n",
       "      <td>...</td>\n",
       "      <td>...</td>\n",
       "    </tr>\n",
       "    <tr>\n",
       "      <th>4995</th>\n",
       "      <td>2020</td>\n",
       "      <td>remov</td>\n",
       "    </tr>\n",
       "    <tr>\n",
       "      <th>4996</th>\n",
       "      <td>2020</td>\n",
       "      <td>remov</td>\n",
       "    </tr>\n",
       "    <tr>\n",
       "      <th>4997</th>\n",
       "      <td>2020</td>\n",
       "      <td>remov</td>\n",
       "    </tr>\n",
       "    <tr>\n",
       "      <th>4998</th>\n",
       "      <td>2020</td>\n",
       "      <td>remov</td>\n",
       "    </tr>\n",
       "    <tr>\n",
       "      <th>4999</th>\n",
       "      <td>2020</td>\n",
       "      <td>remov</td>\n",
       "    </tr>\n",
       "  </tbody>\n",
       "</table>\n",
       "<p>9882 rows × 2 columns</p>\n",
       "</div>"
      ],
      "text/plain": [
       "      year                                           selftext\n",
       "0     2012                                                   \n",
       "1     2012  i, use, to, consid, myself, a, conserv, until,...\n",
       "2     2012  so, what, happen, then, rais, the, debt, ceil,...\n",
       "3     2012  last, year, i, mismanag, my, fund, and, thi, y...\n",
       "4     2012  acccord, to, the, washington, post, 80, millio...\n",
       "...    ...                                                ...\n",
       "4995  2020                                              remov\n",
       "4996  2020                                              remov\n",
       "4997  2020                                              remov\n",
       "4998  2020                                              remov\n",
       "4999  2020                                              remov\n",
       "\n",
       "[9882 rows x 2 columns]"
      ]
     },
     "execution_count": 53,
     "metadata": {},
     "output_type": "execute_result"
    }
   ],
   "source": [
    "text_df"
   ]
  },
  {
   "cell_type": "code",
   "execution_count": 54,
   "id": "liquid-eating",
   "metadata": {},
   "outputs": [
    {
     "name": "stdout",
     "output_type": "stream",
     "text": [
      "specificity: 0.7067977067977068\n"
     ]
    }
   ],
   "source": [
    "specificity = tn / (tn + fp)\n",
    "print('specificity:', specificity)"
   ]
  },
  {
   "cell_type": "markdown",
   "id": "ordered-separation",
   "metadata": {},
   "source": [
    "### TFIDF Vectorizer"
   ]
  },
  {
   "cell_type": "code",
   "execution_count": 55,
   "id": "instrumental-election",
   "metadata": {},
   "outputs": [],
   "source": [
    "tvec = TfidfVectorizer()"
   ]
  },
  {
   "cell_type": "code",
   "execution_count": 56,
   "id": "hollywood-excuse",
   "metadata": {},
   "outputs": [],
   "source": [
    "X_train_df = pd.DataFrame(tvec.fit_transform(X_train).todense(),\n",
    "                         columns = tvec.get_feature_names())"
   ]
  },
  {
   "cell_type": "code",
   "execution_count": 57,
   "id": "waiting-addiction",
   "metadata": {},
   "outputs": [
    {
     "data": {
      "text/plain": [
       "<AxesSubplot:>"
      ]
     },
     "execution_count": 57,
     "metadata": {},
     "output_type": "execute_result"
    },
    {
     "data": {
      "image/png": "[encoded data removed]",
      "text/plain": [
       "<Figure size 432x288 with 1 Axes>"
      ]
     },
     "metadata": {
      "needs_background": "light"
     },
     "output_type": "display_data"
    }
   ],
   "source": [
    "X_train_df.sum().sort_values(ascending=False).head(10).plot(kind='barh')"
   ]
  },
  {
   "cell_type": "code",
   "execution_count": 58,
   "id": "aware-aurora",
   "metadata": {},
   "outputs": [
    {
     "data": {
      "text/plain": [
       "<AxesSubplot:>"
      ]
     },
     "execution_count": 58,
     "metadata": {},
     "output_type": "execute_result"
    },
    {
     "data": {
      "image/png": "[encoded data removed]",
      "text/plain": [
       "<Figure size 432x288 with 1 Axes>"
      ]
     },
     "metadata": {
      "needs_background": "light"
     },
     "output_type": "display_data"
    }
   ],
   "source": [
    "X_train_df.sum().sort_values(ascending=True).head(10).plot(kind='barh')"
   ]
  },
  {
   "cell_type": "code",
   "execution_count": 59,
   "id": "increased-private",
   "metadata": {},
   "outputs": [],
   "source": [
    "pipe_tvec = Pipeline([\n",
    "    ('tvec', TfidfVectorizer(stop_words='english')),\n",
    "    ('nb', MultinomialNB())\n",
    "])"
   ]
  },
  {
   "cell_type": "code",
   "execution_count": 60,
   "id": "falling-european",
   "metadata": {},
   "outputs": [],
   "source": [
    "pipe_tvec_params = {\n",
    "    #'tvec__max_features': [2000, 3000, 4000, 5000],\n",
    "    #'tvec__stop_words': [None, 'english'],\n",
    "    #'tvec__ngram_range': [(1, 1), (1, 2)]\n",
    "}"
   ]
  },
  {
   "cell_type": "code",
   "execution_count": 61,
   "id": "computational-defensive",
   "metadata": {},
   "outputs": [],
   "source": [
    "gs_tvec = GridSearchCV(pipe_tvec, param_grid = pipe_tvec_params, cv=5)"
   ]
  },
  {
   "cell_type": "code",
   "execution_count": 62,
   "id": "continental-society",
   "metadata": {},
   "outputs": [
    {
     "data": {
      "text/plain": [
       "GridSearchCV(cv=5,\n",
       "             estimator=Pipeline(steps=[('tvec',\n",
       "                                        TfidfVectorizer(stop_words='english')),\n",
       "                                       ('nb', MultinomialNB())]),\n",
       "             param_grid={})"
      ]
     },
     "execution_count": 62,
     "metadata": {},
     "output_type": "execute_result"
    }
   ],
   "source": [
    "gs_tvec.fit(X_train, y_train)"
   ]
  },
  {
   "cell_type": "code",
   "execution_count": 63,
   "id": "running-civilian",
   "metadata": {},
   "outputs": [
    {
     "data": {
      "text/plain": [
       "{}"
      ]
     },
     "execution_count": 63,
     "metadata": {},
     "output_type": "execute_result"
    }
   ],
   "source": [
    "gs_tvec.best_params_"
   ]
  },
  {
   "cell_type": "code",
   "execution_count": 64,
   "id": "incoming-recorder",
   "metadata": {},
   "outputs": [
    {
     "data": {
      "text/plain": [
       "0.9230873026582108"
      ]
     },
     "execution_count": 64,
     "metadata": {},
     "output_type": "execute_result"
    }
   ],
   "source": [
    "gs_tvec.score(X_train, y_train)"
   ]
  },
  {
   "cell_type": "code",
   "execution_count": 65,
   "id": "raising-density",
   "metadata": {},
   "outputs": [
    {
     "data": {
      "text/plain": [
       "0.915418858761635"
      ]
     },
     "execution_count": 65,
     "metadata": {},
     "output_type": "execute_result"
    }
   ],
   "source": [
    "gs_tvec.score(X_test, y_test)"
   ]
  },
  {
   "cell_type": "code",
   "execution_count": 68,
   "id": "external-killing",
   "metadata": {},
   "outputs": [
    {
     "data": {
      "text/plain": [
       "190                                                      \n",
       "558                                                 remov\n",
       "4261    make, sure, to, say, what, year, you, were, bo...\n",
       "1089                                                remov\n",
       "2762    i, m, not, tri, to, be, fun, sucker, or, anyth...\n",
       "                              ...                        \n",
       "2391                                                remov\n",
       "875     i, m, a, liber, progress, and, i, don, t, shi,...\n",
       "3584    note, when, i, say, liber, and, conserv, i, am...\n",
       "3297                                                     \n",
       "4575                                                remov\n",
       "Name: selftext, Length: 2471, dtype: object"
      ]
     },
     "execution_count": 68,
     "metadata": {},
     "output_type": "execute_result"
    }
   ],
   "source": [
    "X_test"
   ]
  },
  {
   "cell_type": "code",
   "execution_count": 66,
   "id": "featured-victory",
   "metadata": {},
   "outputs": [
    {
     "data": {
      "text/plain": [
       "0.8370188370188371"
      ]
     },
     "execution_count": 66,
     "metadata": {},
     "output_type": "execute_result"
    }
   ],
   "source": [
    "preds_tvec = gs_tvec.predict(X_test)\n",
    "\n",
    "cm = confusion_matrix(y_test, preds_tvec)\n",
    "tn, fp, fn, tp = cm.ravel()\n",
    "\n",
    "specificity = tn / (tn + fp)\n",
    "specificity"
   ]
  },
  {
   "cell_type": "code",
   "execution_count": 67,
   "id": "valid-excitement",
   "metadata": {},
   "outputs": [
    {
     "data": {
      "image/png": "[encoded data removed]",
      "text/plain": [
       "<Figure size 432x288 with 2 Axes>"
      ]
     },
     "metadata": {
      "needs_background": "light"
     },
     "output_type": "display_data"
    }
   ],
   "source": [
    "ConfusionMatrixDisplay(cm).plot();"
   ]
  },
  {
   "cell_type": "code",
   "execution_count": null,
   "id": "growing-pitch",
   "metadata": {},
   "outputs": [],
   "source": []
  },
  {
   "cell_type": "code",
   "execution_count": null,
   "id": "transparent-experiment",
   "metadata": {},
   "outputs": [],
   "source": []
  }
 ],
 "metadata": {
  "kernelspec": {
   "display_name": "Python 3",
   "language": "python",
   "name": "python3"
  },
  "language_info": {
   "codemirror_mode": {
    "name": "ipython",
    "version": 3
   },
   "file_extension": ".py",
   "mimetype": "text/x-python",
   "name": "python",
   "nbconvert_exporter": "python",
   "pygments_lexer": "ipython3",
   "version": "3.9.2"
  }
 },
 "nbformat": 4,
 "nbformat_minor": 5
}
